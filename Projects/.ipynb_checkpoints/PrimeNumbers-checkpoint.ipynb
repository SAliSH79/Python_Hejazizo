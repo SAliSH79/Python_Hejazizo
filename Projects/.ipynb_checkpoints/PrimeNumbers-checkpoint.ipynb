{
 "cells": [
  {
   "cell_type": "code",
   "execution_count": 92,
   "id": "64aa4dd6-829f-4343-abb2-99be9370baf2",
   "metadata": {},
   "outputs": [],
   "source": [
    "def is_prime(a):\n",
    "    for i in range(2,(a//2) + 1,1):\n",
    "        if a % i == 0:\n",
    "            return False\n",
    "    return True"
   ]
  },
  {
   "cell_type": "code",
   "execution_count": 93,
   "id": "01bdae4f-957e-48dc-bf6a-e4b9b5ce2339",
   "metadata": {},
   "outputs": [
    {
     "data": {
      "text/plain": [
       "True"
      ]
     },
     "execution_count": 93,
     "metadata": {},
     "output_type": "execute_result"
    }
   ],
   "source": [
    "is_prime(2)"
   ]
  },
  {
   "cell_type": "code",
   "execution_count": 95,
   "id": "4a8cea90-c7c4-4441-bf7a-44c524168eb2",
   "metadata": {},
   "outputs": [
    {
     "name": "stdout",
     "output_type": "stream",
     "text": [
      "1 2 3 5 7 11 13 17 19 23 29 31 37 41 43 47 53 59 61 67 71 73 79 83 89 97 "
     ]
    }
   ],
   "source": [
    "L = [number for number in range(1,101,1) if is_prime(number) == True]\n",
    "for l in L:\n",
    "    print(l,end=' ')"
   ]
  },
  {
   "cell_type": "code",
   "execution_count": 96,
   "id": "c460a127-43d9-4224-a638-95d9dd895b1b",
   "metadata": {},
   "outputs": [],
   "source": [
    "s = [1, 2, 3, 5, 7, 11, 13, 17, 19, 23,\n",
    "29, 31, 37, 41, 43, 47, 53, 59, 61,\n",
    "67, 71, 73, 79, 83, 89, 97]"
   ]
  },
  {
   "cell_type": "code",
   "execution_count": 98,
   "id": "4a68cb6c-6015-4996-a96d-bf5aafb41326",
   "metadata": {},
   "outputs": [
    {
     "data": {
      "text/plain": [
       "True"
      ]
     },
     "execution_count": 98,
     "metadata": {},
     "output_type": "execute_result"
    }
   ],
   "source": [
    "bool(s == L)"
   ]
  },
  {
   "cell_type": "code",
   "execution_count": 99,
   "id": "bf13a9a2-604a-4126-88cc-307c45248802",
   "metadata": {},
   "outputs": [
    {
     "data": {
      "text/plain": [
       "True"
      ]
     },
     "execution_count": 99,
     "metadata": {},
     "output_type": "execute_result"
    }
   ],
   "source": [
    "s == L"
   ]
  }
 ],
 "metadata": {
  "kernelspec": {
   "display_name": "Python 3 (ipykernel)",
   "language": "python",
   "name": "python3"
  },
  "language_info": {
   "codemirror_mode": {
    "name": "ipython",
    "version": 3
   },
   "file_extension": ".py",
   "mimetype": "text/x-python",
   "name": "python",
   "nbconvert_exporter": "python",
   "pygments_lexer": "ipython3",
   "version": "3.10.8"
  }
 },
 "nbformat": 4,
 "nbformat_minor": 5
}
