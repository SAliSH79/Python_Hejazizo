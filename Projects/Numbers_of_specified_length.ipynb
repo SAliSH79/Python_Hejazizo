{
 "cells": [
  {
   "cell_type": "code",
   "execution_count": 3,
   "id": "fe0ca524-7887-4142-84a5-8d425bfd8033",
   "metadata": {},
   "outputs": [
    {
     "data": {
      "text/plain": [
       "[3.14, 1.618, 6.626068]"
      ]
     },
     "execution_count": 3,
     "metadata": {},
     "output_type": "execute_result"
    }
   ],
   "source": [
    "# Write your code here\n",
    "N1 = [3.14,\n",
    "1.618,\n",
    "6.626068]\n",
    "N1"
   ]
  },
  {
   "cell_type": "code",
   "execution_count": 15,
   "id": "4463981f-354d-4b6c-a39c-221743016b92",
   "metadata": {},
   "outputs": [
    {
     "name": "stdout",
     "output_type": "stream",
     "text": [
      "3.140000\n",
      "1.618000\n",
      "6.626068\n"
     ]
    }
   ],
   "source": [
    "for i in range(len(N1)):\n",
    "    print(f\"{N1[i]:0.6f}\")"
   ]
  },
  {
   "cell_type": "code",
   "execution_count": 10,
   "id": "2a197fc7-e3d1-4231-be64-65b0da7b6e94",
   "metadata": {},
   "outputs": [
    {
     "name": "stdout",
     "output_type": "stream",
     "text": [
      "The number 3.1415 has 5 digits.\n"
     ]
    }
   ],
   "source": [
    "def count_digits(number):\n",
    "    \"\"\"Counts the number of digits in a float, excluding the decimal point and sign.\n",
    "\n",
    "      Args:\n",
    "        number: A float number.\n",
    "\n",
    "      Returns:\n",
    "        The number of digits in the number.\n",
    "    \"\"\"\n",
    "\n",
    "    # Remove the decimal point and sign (if present)\n",
    "    number_str = str(number).replace(\".\", \"\").replace(\"-\", \"\")\n",
    "\n",
    "    # Count the number of digits\n",
    "    return len(number_str)\n",
    "\n",
    "# Example usage\n",
    "number = 3.1415\n",
    "number_of_digits = count_digits(number)\n",
    "print(f\"The number {number} has {number_of_digits} digits.\")"
   ]
  },
  {
   "cell_type": "code",
   "execution_count": null,
   "id": "62d74c01-e41e-4909-97ac-11b82427dbe1",
   "metadata": {},
   "outputs": [],
   "source": []
  }
 ],
 "metadata": {
  "kernelspec": {
   "display_name": "Python 3 (ipykernel)",
   "language": "python",
   "name": "python3"
  },
  "language_info": {
   "codemirror_mode": {
    "name": "ipython",
    "version": 3
   },
   "file_extension": ".py",
   "mimetype": "text/x-python",
   "name": "python",
   "nbconvert_exporter": "python",
   "pygments_lexer": "ipython3",
   "version": "3.10.8"
  }
 },
 "nbformat": 4,
 "nbformat_minor": 5
}
