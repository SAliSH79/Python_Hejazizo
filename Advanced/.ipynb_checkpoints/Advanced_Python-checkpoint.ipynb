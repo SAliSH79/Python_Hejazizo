{
 "cells": [
  {
   "cell_type": "markdown",
   "id": "22a086a1-48f9-46b3-ac7c-6484aace4a97",
   "metadata": {},
   "source": [
    "# Advanced Python Programming "
   ]
  },
  {
   "cell_type": "markdown",
   "id": "b461185c-b7ca-4f68-be82-5b23cf09ecf7",
   "metadata": {},
   "source": [
    "## Namespaces"
   ]
  },
  {
   "cell_type": "markdown",
   "id": "bd826f93-5afe-4c22-b673-f663245a3536",
   "metadata": {},
   "source": [
    "### 1.The Built-in Namespaces"
   ]
  },
  {
   "cell_type": "code",
   "execution_count": 4,
   "id": "dd761cea-47e1-42d4-a249-8eb0288c357d",
   "metadata": {},
   "outputs": [],
   "source": [
    "import builtins #Importing a module"
   ]
  },
  {
   "cell_type": "code",
   "execution_count": 2,
   "id": "ddcb58c9-4ab5-4d0b-807d-6a11e22fc55b",
   "metadata": {},
   "outputs": [],
   "source": [
    "#dir(builtins) #All the Built-in, already existing functions and namespaces"
   ]
  },
  {
   "cell_type": "markdown",
   "id": "6767de81-29fe-4a36-9236-aba5206c3362",
   "metadata": {},
   "source": [
    "### 2.Global"
   ]
  },
  {
   "cell_type": "code",
   "execution_count": 1,
   "id": "9dab38fe-fec2-4f31-baef-3a92b8a2b5a5",
   "metadata": {},
   "outputs": [],
   "source": [
    "x = 2\n",
    "#globals()"
   ]
  },
  {
   "cell_type": "markdown",
   "id": "fa6d1d6e-e872-4390-8bec-29a26efc01d9",
   "metadata": {},
   "source": [
    "### Local and Enclosing"
   ]
  },
  {
   "cell_type": "code",
   "execution_count": 22,
   "id": "0e49330c-fa76-478f-9c92-97a7e606c24b",
   "metadata": {},
   "outputs": [],
   "source": [
    "def f():\n",
    "    x = 2 #Enclosing\n",
    "    print('Enclosing x is',x)\n",
    "    def g():\n",
    "        x = 1.2 #Local\n",
    "        print('Local x is',x)\n",
    "    g()"
   ]
  },
  {
   "cell_type": "code",
   "execution_count": 23,
   "id": "1855974a-4bdf-4a3d-b3ed-84259b0e13a4",
   "metadata": {},
   "outputs": [
    {
     "name": "stdout",
     "output_type": "stream",
     "text": [
      "Global x is ['a', 1.5]\n",
      "Enclosing x is 2\n",
      "Local x is 1.2\n"
     ]
    }
   ],
   "source": [
    "x = ['a',1.5] # X is global\n",
    "print('Global x is',x)\n",
    "f()"
   ]
  },
  {
   "cell_type": "markdown",
   "id": "7692fcf6-38aa-40e9-ae83-c03e2d6644ce",
   "metadata": {},
   "source": [
    "## Python Interpreter Uses the LEGB rule to look for the missing or wanted 'x'"
   ]
  },
  {
   "cell_type": "code",
   "execution_count": 12,
   "id": "f594b5f0-fde4-4d2b-ba1d-f87fde0625ba",
   "metadata": {},
   "outputs": [
    {
     "name": "stdout",
     "output_type": "stream",
     "text": [
      "2 \n",
      " <class 'dict'>\n"
     ]
    }
   ],
   "source": [
    "x = 2 #value\n",
    "print( globals()['x'], \"\\n\", #keyword\n",
    "type(globals()) )"
   ]
  },
  {
   "cell_type": "code",
   "execution_count": 28,
   "id": "72566e30-8296-4ea1-976c-00a4182543f2",
   "metadata": {},
   "outputs": [
    {
     "name": "stdout",
     "output_type": "stream",
     "text": [
      "3 \n",
      " <class 'dict'>\n",
      "3\n",
      "done\n"
     ]
    }
   ],
   "source": [
    "def g():\n",
    "    \"\"\"\n",
    "    A function to distinguish between local and global variables\n",
    "    \"\"\"\n",
    "    x = 3 #value\n",
    "    print( locals()['x'], \"\\n\", #keyword\n",
    "    type(locals()) )\n",
    "    locals()['x'] = '1' #It is Immutable due to presenting a Copy of the dictionary to Referencing to it\n",
    "    print(locals()['x'])\n",
    "    return 'done'\n",
    "print(g())"
   ]
  },
  {
   "cell_type": "markdown",
   "id": "6a23d8a4-af8c-47d2-bba2-7768600b21b6",
   "metadata": {},
   "source": [
    "## Object Oriented Programming"
   ]
  },
  {
   "cell_type": "code",
   "execution_count": 12,
   "id": "a927d500-5bb0-4328-90cc-e64973b9eb40",
   "metadata": {},
   "outputs": [],
   "source": [
    "class PeopleOfIran:\n",
    "    pass"
   ]
  },
  {
   "cell_type": "code",
   "execution_count": 13,
   "id": "d3bc37e4-46df-44ab-9d86-4a113bed48b1",
   "metadata": {},
   "outputs": [
    {
     "data": {
      "text/plain": [
       "<__main__.PeopleOfIran at 0x7faeda59a1d0>"
      ]
     },
     "execution_count": 13,
     "metadata": {},
     "output_type": "execute_result"
    }
   ],
   "source": [
    "ali = PeopleOfIran()\n",
    "ali"
   ]
  },
  {
   "cell_type": "code",
   "execution_count": 115,
   "id": "e6a1c45d-d374-4eed-a24a-60bf13ded619",
   "metadata": {},
   "outputs": [],
   "source": [
    "class PeopleOfIran:\n",
    "    nationality = \"Iran\" # Common feature or attribute of all the PeopleOfIran Objects\n",
    "    #Class attributes\n",
    "    \n",
    "    def __init__(self, fname, lname, age, location):\n",
    "        #Instance attributes\n",
    "        \n",
    "        self.fn = fname\n",
    "        self.ln = lname\n",
    "        self.age = age\n",
    "        self.loc = location\n",
    "        \n",
    "    def description(self, text):\n",
    "        print(f\"Hi I am {self.fn} {self.ln} from {self.nationality} born in {text}\")\n",
    "        #Instance Methods\n",
    "        \n",
    "    def __str__(self):\n",
    "        #Dunder Methods\n",
    "        return f\"Hi I am {self.fn} {self.age} years old, from {self.nationality};\" \n",
    "    #Now printing an Object is more readable for users"
   ]
  },
  {
   "cell_type": "code",
   "execution_count": 116,
   "id": "06c9170e-e355-4e08-b5e4-ff71b3aa66d7",
   "metadata": {},
   "outputs": [],
   "source": [
    "Ali = PeopleOfIran('Ali', 'Hos', 23, 'Tehran')\n",
    "\n",
    "#Instnace of PeopleOfIran Class"
   ]
  },
  {
   "cell_type": "code",
   "execution_count": 117,
   "id": "f0d8b5f8-01a2-4d42-9267-3a32751ffe03",
   "metadata": {},
   "outputs": [
    {
     "data": {
      "text/plain": [
       "<__main__.PeopleOfIran at 0x7faeda5b67d0>"
      ]
     },
     "execution_count": 117,
     "metadata": {},
     "output_type": "execute_result"
    }
   ],
   "source": [
    "Ali"
   ]
  },
  {
   "cell_type": "code",
   "execution_count": 118,
   "id": "4ab90ed8-b30c-4114-85c8-c155a44fdf09",
   "metadata": {},
   "outputs": [
    {
     "data": {
      "text/plain": [
       "23"
      ]
     },
     "execution_count": 118,
     "metadata": {},
     "output_type": "execute_result"
    }
   ],
   "source": [
    "Ali.age"
   ]
  },
  {
   "cell_type": "code",
   "execution_count": 119,
   "id": "b1bc2a9a-fe2c-48c7-9031-0fa2c15ffb4f",
   "metadata": {},
   "outputs": [
    {
     "data": {
      "text/plain": [
       "'Hos'"
      ]
     },
     "execution_count": 119,
     "metadata": {},
     "output_type": "execute_result"
    }
   ],
   "source": [
    "Ali.ln"
   ]
  },
  {
   "cell_type": "code",
   "execution_count": 120,
   "id": "844ff687-0cad-463f-8294-d10560d13ad3",
   "metadata": {},
   "outputs": [
    {
     "data": {
      "text/plain": [
       "'Iran'"
      ]
     },
     "execution_count": 120,
     "metadata": {},
     "output_type": "execute_result"
    }
   ],
   "source": [
    "Ali.nationality"
   ]
  },
  {
   "cell_type": "markdown",
   "id": "567220fb-53ef-4740-afaa-b701f14ce973",
   "metadata": {},
   "source": [
    "##### Attributes are Mutable"
   ]
  },
  {
   "cell_type": "code",
   "execution_count": 121,
   "id": "08c85b65-67d7-484a-81f0-e94cac953b0f",
   "metadata": {},
   "outputs": [],
   "source": [
    "Ali.age = 22"
   ]
  },
  {
   "cell_type": "code",
   "execution_count": 122,
   "id": "cf7d4f92-c77c-486c-9d6f-a48d59c5a01a",
   "metadata": {},
   "outputs": [
    {
     "data": {
      "text/plain": [
       "22"
      ]
     },
     "execution_count": 122,
     "metadata": {},
     "output_type": "execute_result"
    }
   ],
   "source": [
    "Ali.age"
   ]
  },
  {
   "cell_type": "code",
   "execution_count": 123,
   "id": "14cf1a97-607f-419d-a403-04b9d5bd1161",
   "metadata": {},
   "outputs": [
    {
     "name": "stdout",
     "output_type": "stream",
     "text": [
      "Hi I am Ali Hos from Iran born in June\n"
     ]
    }
   ],
   "source": [
    "Ali.description('June') #Declerative"
   ]
  },
  {
   "cell_type": "code",
   "execution_count": 124,
   "id": "aa855280-f345-4b90-97ac-a7da01b75525",
   "metadata": {},
   "outputs": [
    {
     "name": "stdout",
     "output_type": "stream",
     "text": [
      "Hi I am Ali 22 years old, from Iran;\n"
     ]
    }
   ],
   "source": [
    "print(Ali)"
   ]
  },
  {
   "cell_type": "code",
   "execution_count": 126,
   "id": "e995de8b-8211-4923-9d64-0bc6bc9de81c",
   "metadata": {},
   "outputs": [
    {
     "name": "stdout",
     "output_type": "stream",
     "text": [
      "Hi I am Ali Hos from Iran born in june\n"
     ]
    }
   ],
   "source": [
    "PeopleOfIran.description(Ali,'june') #Imperative"
   ]
  },
  {
   "cell_type": "markdown",
   "id": "f370ea76-a1a5-49e8-954c-7a142bc1a4d3",
   "metadata": {},
   "source": [
    "## Inheritance"
   ]
  },
  {
   "cell_type": "code",
   "execution_count": 5,
   "id": "3bfbad84-223b-44d8-a890-cd0778986d7f",
   "metadata": {},
   "outputs": [],
   "source": [
    "class Cars():\n",
    "    \n",
    "    NumOfWheels = 4\n",
    "    #Class Attributes\n",
    "    def __init__(self, color, brand):\n",
    "        self.color = color\n",
    "        self.brand = brand\n",
    "    #Instance Attributes\n",
    "    def Speedometer(self):\n",
    "        v = input(\"Enter the Maximum speed\")\n",
    "        print(f'{self.brand} can drive with the {v} km/h')\n",
    "    #Instance Methods"
   ]
  },
  {
   "cell_type": "code",
   "execution_count": 2,
   "id": "c3b69473-f337-4e60-b165-9b98758c071e",
   "metadata": {},
   "outputs": [],
   "source": [
    "Ali = Cars('red','Benz')"
   ]
  },
  {
   "cell_type": "code",
   "execution_count": 3,
   "id": "9b593dc1-bb65-427d-9162-4ab3875adf46",
   "metadata": {},
   "outputs": [
    {
     "data": {
      "text/plain": [
       "<__main__.Cars at 0x7fa068a76c20>"
      ]
     },
     "execution_count": 3,
     "metadata": {},
     "output_type": "execute_result"
    }
   ],
   "source": [
    "Ali"
   ]
  },
  {
   "cell_type": "code",
   "execution_count": 4,
   "id": "ad093875-4cc6-483c-bc27-3fde1be52224",
   "metadata": {},
   "outputs": [
    {
     "data": {
      "text/plain": [
       "'red'"
      ]
     },
     "execution_count": 4,
     "metadata": {},
     "output_type": "execute_result"
    }
   ],
   "source": [
    "Ali.color"
   ]
  },
  {
   "cell_type": "code",
   "execution_count": 5,
   "id": "f6711601-451e-481e-80de-8862f0a74ba9",
   "metadata": {},
   "outputs": [
    {
     "data": {
      "text/plain": [
       "'Benz'"
      ]
     },
     "execution_count": 5,
     "metadata": {},
     "output_type": "execute_result"
    }
   ],
   "source": [
    "Ali.brand"
   ]
  },
  {
   "cell_type": "code",
   "execution_count": 6,
   "id": "0d3737e7-3588-4101-8e8e-d23666ffb55a",
   "metadata": {},
   "outputs": [
    {
     "name": "stdin",
     "output_type": "stream",
     "text": [
      "Enter the Maximum speed 234\n"
     ]
    },
    {
     "name": "stdout",
     "output_type": "stream",
     "text": [
      "Benz can drive with the 234 km/h\n"
     ]
    }
   ],
   "source": [
    "Ali.Speedometer()"
   ]
  },
  {
   "cell_type": "code",
   "execution_count": 6,
   "id": "0343eb38-a5cf-486a-851f-b14d2b84e947",
   "metadata": {},
   "outputs": [],
   "source": [
    "#Inheritance\n",
    "class BMW(Cars):\n",
    "    #pass #They are identical\n",
    "    def volume(self):\n",
    "        raise AttributeError('Cars has No Atrribute named volume')\n",
    "    def __init__(self,color,brand):   \n",
    "        super().__init__(color,brand) "
   ]
  },
  {
   "cell_type": "code",
   "execution_count": 8,
   "id": "a4cc853b-3676-4f0a-83c2-76f11189b63a",
   "metadata": {},
   "outputs": [
    {
     "data": {
      "text/plain": [
       "'BMW'"
      ]
     },
     "execution_count": 8,
     "metadata": {},
     "output_type": "execute_result"
    }
   ],
   "source": [
    "Be = BMW('blue','BMW')\n",
    "Be.brand"
   ]
  },
  {
   "cell_type": "code",
   "execution_count": 9,
   "id": "f7e51ce8-0f20-4412-b747-c66f1d46ca19",
   "metadata": {},
   "outputs": [
    {
     "name": "stdin",
     "output_type": "stream",
     "text": [
      "Enter the Maximum speed 234\n"
     ]
    },
    {
     "name": "stdout",
     "output_type": "stream",
     "text": [
      "BMW can drive with the 234 km/h\n"
     ]
    }
   ],
   "source": [
    "Be.Speedometer()"
   ]
  },
  {
   "cell_type": "markdown",
   "id": "881606f8-88fe-4e4b-93ea-ccc890c38fa9",
   "metadata": {},
   "source": [
    "### Super Function Calls the Base(Parental) Class From the  \"Child Class\""
   ]
  },
  {
   "cell_type": "code",
   "execution_count": 10,
   "id": "7a4027da-525b-40df-9fb7-7628d72742b4",
   "metadata": {},
   "outputs": [
    {
     "data": {
      "text/plain": [
       "<super: __main__.BMW, <__main__.BMW at 0x7f78401ddc00>>"
      ]
     },
     "execution_count": 10,
     "metadata": {},
     "output_type": "execute_result"
    }
   ],
   "source": [
    "super(BMW, Be) #The name you use as the first argument, must be the child class"
   ]
  },
  {
   "cell_type": "code",
   "execution_count": 30,
   "id": "845aa26d-1cc0-45c1-a90e-28f0b701fda9",
   "metadata": {},
   "outputs": [
    {
     "data": {
      "text/plain": [
       "<bound method Cars.__init__ of <__main__.BMW object at 0x7fa0641137f0>>"
      ]
     },
     "execution_count": 30,
     "metadata": {},
     "output_type": "execute_result"
    }
   ],
   "source": [
    "super(BMW, Be).__init__"
   ]
  },
  {
   "cell_type": "code",
   "execution_count": 34,
   "id": "26acd77d-61af-4afd-b373-8c706046f393",
   "metadata": {},
   "outputs": [
    {
     "ename": "AttributeError",
     "evalue": "Cars has No Atrribute named volume",
     "output_type": "error",
     "traceback": [
      "\u001b[0;31m---------------------------------------------------------------------------\u001b[0m",
      "\u001b[0;31mAttributeError\u001b[0m                            Traceback (most recent call last)",
      "Cell \u001b[0;32mIn [34], line 1\u001b[0m\n\u001b[0;32m----> 1\u001b[0m \u001b[43mBe\u001b[49m\u001b[38;5;241;43m.\u001b[39;49m\u001b[43mvolume\u001b[49m\u001b[43m(\u001b[49m\u001b[43m)\u001b[49m\n",
      "Cell \u001b[0;32mIn [32], line 5\u001b[0m, in \u001b[0;36mBMW.volume\u001b[0;34m(self)\u001b[0m\n\u001b[1;32m      4\u001b[0m \u001b[38;5;28;01mdef\u001b[39;00m \u001b[38;5;21mvolume\u001b[39m(\u001b[38;5;28mself\u001b[39m):\n\u001b[0;32m----> 5\u001b[0m     \u001b[38;5;28;01mraise\u001b[39;00m \u001b[38;5;167;01mAttributeError\u001b[39;00m(\u001b[38;5;124m'\u001b[39m\u001b[38;5;124mCars has No Atrribute named volume\u001b[39m\u001b[38;5;124m'\u001b[39m)\n",
      "\u001b[0;31mAttributeError\u001b[0m: Cars has No Atrribute named volume"
     ]
    }
   ],
   "source": [
    "Be.volume()"
   ]
  },
  {
   "cell_type": "code",
   "execution_count": 27,
   "id": "4d131c36-5211-4f7d-953d-6ae6bca93210",
   "metadata": {},
   "outputs": [],
   "source": [
    "class Shape:\n",
    "    \n",
    "    def __init__(self, color = None):\n",
    "        self.color = color\n",
    "    #Instance attributes"
   ]
  },
  {
   "cell_type": "code",
   "execution_count": 59,
   "id": "c09890e2-870f-4f40-a9cc-29c0f3e7fc23",
   "metadata": {},
   "outputs": [],
   "source": [
    "class Circle(Shape):\n",
    "    \n",
    "    def __init__(self, radius, color = None):\n",
    "        super().__init__(color)\n",
    "        self.radius = radius\n",
    "    \n",
    "    def perimiter(self):\n",
    "        return 3.1413 * self.radius * 2"
   ]
  },
  {
   "cell_type": "code",
   "execution_count": 29,
   "id": "908e7385-45c7-4e32-a0de-07340605ebe4",
   "metadata": {},
   "outputs": [],
   "source": [
    "C = Circle(2,'black')"
   ]
  },
  {
   "cell_type": "code",
   "execution_count": 30,
   "id": "e66d1922-fc48-443e-bbab-544dcf6e9516",
   "metadata": {},
   "outputs": [
    {
     "data": {
      "text/plain": [
       "12.5652"
      ]
     },
     "execution_count": 30,
     "metadata": {},
     "output_type": "execute_result"
    }
   ],
   "source": [
    "C.perimiter()"
   ]
  },
  {
   "cell_type": "code",
   "execution_count": 31,
   "id": "af1f3a1a-8a13-4e05-ab0f-4e4dbbaba8e6",
   "metadata": {},
   "outputs": [
    {
     "data": {
      "text/plain": [
       "'black'"
      ]
     },
     "execution_count": 31,
     "metadata": {},
     "output_type": "execute_result"
    }
   ],
   "source": [
    "C.color"
   ]
  },
  {
   "cell_type": "code",
   "execution_count": 66,
   "id": "40641f82-301f-4d36-8f26-ba75950c419a",
   "metadata": {},
   "outputs": [],
   "source": [
    "class Rectangle(Shape):\n",
    "    \n",
    "    def __init__(self, length, width, color = None):\n",
    "        super().__init__(color)\n",
    "        self.length = length\n",
    "        self.width = width\n",
    "\n",
    "        \n",
    "    def perimiter(self):\n",
    "        return (self.width + self.length) * 2"
   ]
  },
  {
   "cell_type": "code",
   "execution_count": 67,
   "id": "5d157100-1109-4f59-aebe-be68edb1044d",
   "metadata": {},
   "outputs": [],
   "source": [
    "R = Rectangle(3,2,'red')"
   ]
  },
  {
   "cell_type": "code",
   "execution_count": 68,
   "id": "b60456f7-8a4e-448a-a3d6-9cbdeeed3237",
   "metadata": {},
   "outputs": [
    {
     "data": {
      "text/plain": [
       "'red'"
      ]
     },
     "execution_count": 68,
     "metadata": {},
     "output_type": "execute_result"
    }
   ],
   "source": [
    "R.color"
   ]
  },
  {
   "cell_type": "code",
   "execution_count": 69,
   "id": "cbb8ed2e-8afe-445c-a73f-5e4c6e6f2b41",
   "metadata": {},
   "outputs": [
    {
     "data": {
      "text/plain": [
       "10"
      ]
     },
     "execution_count": 69,
     "metadata": {},
     "output_type": "execute_result"
    }
   ],
   "source": [
    "R.perimiter()"
   ]
  },
  {
   "cell_type": "code",
   "execution_count": 62,
   "id": "ada8c240-7faf-4ce0-86c6-cdef920417fc",
   "metadata": {},
   "outputs": [],
   "source": [
    "class Square(Rectangle):\n",
    "    \n",
    "    def __init__(self, length, color = None):\n",
    "        super().__init__(length, length, color)"
   ]
  },
  {
   "cell_type": "code",
   "execution_count": 63,
   "id": "43cc965b-b908-46be-aa54-9fa74cfc00ab",
   "metadata": {},
   "outputs": [],
   "source": [
    "S = Square(3)"
   ]
  },
  {
   "cell_type": "code",
   "execution_count": 64,
   "id": "dc22a47c-23d3-4c57-b4c9-23a3a99829bf",
   "metadata": {},
   "outputs": [
    {
     "data": {
      "text/plain": [
       "12"
      ]
     },
     "execution_count": 64,
     "metadata": {},
     "output_type": "execute_result"
    }
   ],
   "source": [
    "S.perimiter()"
   ]
  },
  {
   "cell_type": "code",
   "execution_count": 65,
   "id": "eb7f10fb-f48b-42ae-859c-929337926464",
   "metadata": {},
   "outputs": [],
   "source": [
    "S.color"
   ]
  },
  {
   "cell_type": "markdown",
   "id": "8f36ba2c-1e12-4e79-a9b6-744d952dd38f",
   "metadata": {},
   "source": [
    "### Isinstance\n",
    "### Issubclass"
   ]
  },
  {
   "cell_type": "code",
   "execution_count": 70,
   "id": "6d47f8ae-352e-434e-ad58-706adfdad0ed",
   "metadata": {},
   "outputs": [
    {
     "data": {
      "text/plain": [
       "True"
      ]
     },
     "execution_count": 70,
     "metadata": {},
     "output_type": "execute_result"
    }
   ],
   "source": [
    "isinstance(S, Square)"
   ]
  },
  {
   "cell_type": "code",
   "execution_count": 71,
   "id": "f3935e10-8ab3-4dcf-8e48-bf665c41311e",
   "metadata": {},
   "outputs": [
    {
     "data": {
      "text/plain": [
       "False"
      ]
     },
     "execution_count": 71,
     "metadata": {},
     "output_type": "execute_result"
    }
   ],
   "source": [
    "isinstance(S,Rectangle)"
   ]
  },
  {
   "cell_type": "code",
   "execution_count": 72,
   "id": "e879554f-7f03-4b36-959c-275417533ed2",
   "metadata": {},
   "outputs": [
    {
     "data": {
      "text/plain": [
       "False"
      ]
     },
     "execution_count": 72,
     "metadata": {},
     "output_type": "execute_result"
    }
   ],
   "source": [
    "issubclass(Rectangle, Circle)"
   ]
  },
  {
   "cell_type": "markdown",
   "id": "5f14cb15-eb61-4392-a5a4-bee0bcf15f21",
   "metadata": {},
   "source": [
    "## Overriding Methods"
   ]
  },
  {
   "cell_type": "code",
   "execution_count": 53,
   "id": "24ccd6b0-27a6-460c-9bc4-42eabca8ecf9",
   "metadata": {},
   "outputs": [],
   "source": [
    "class Cart:\n",
    "    def __init__(self, *args):\n",
    "        self.items = args\n",
    "        \n",
    "    def __len__(self):\n",
    "        return len(self.items)\n",
    "    \n",
    "    def __add__(self, other):\n",
    "        if type(other) != self.__class__:\n",
    "            raise TypeError(f\"Unsupported operand type for class {self.__class__} and class '{other}'\")\n",
    "        new = self.items + other.items #Tuple\n",
    "        return Cart(*new) #Cart class\n",
    "        \n",
    "    def __getitem__(self,key): #key also means that you can input a range of indices\n",
    "        return self.items[key]"
   ]
  },
  {
   "cell_type": "code",
   "execution_count": 54,
   "id": "ccf1bd5c-2f8e-452d-adb9-1b309f1aac80",
   "metadata": {},
   "outputs": [],
   "source": [
    "c = Cart(\"a\", 'b')"
   ]
  },
  {
   "cell_type": "code",
   "execution_count": 55,
   "id": "89fdde78-0201-4f8a-9aa8-25ad21ad74df",
   "metadata": {},
   "outputs": [
    {
     "data": {
      "text/plain": [
       "('a', 'b')"
      ]
     },
     "execution_count": 55,
     "metadata": {},
     "output_type": "execute_result"
    }
   ],
   "source": [
    "c.items"
   ]
  },
  {
   "cell_type": "code",
   "execution_count": 56,
   "id": "4c5f601a-afe6-4062-b28c-b2505b6f73f1",
   "metadata": {},
   "outputs": [],
   "source": [
    "b = Cart(1,2)"
   ]
  },
  {
   "cell_type": "code",
   "execution_count": 57,
   "id": "d5eea5b5-2229-4099-b09d-9fe36fe157ce",
   "metadata": {},
   "outputs": [
    {
     "data": {
      "text/plain": [
       "(1, 2)"
      ]
     },
     "execution_count": 57,
     "metadata": {},
     "output_type": "execute_result"
    }
   ],
   "source": [
    "b.items"
   ]
  },
  {
   "cell_type": "code",
   "execution_count": 58,
   "id": "5b5bcee8-dce5-402b-96b0-6dc288ecd581",
   "metadata": {},
   "outputs": [],
   "source": [
    "a = b + c"
   ]
  },
  {
   "cell_type": "code",
   "execution_count": 59,
   "id": "f9fc2c6d-a8bf-47c5-a429-3806e7fab72d",
   "metadata": {},
   "outputs": [
    {
     "data": {
      "text/plain": [
       "(1, 2, 'a', 'b')"
      ]
     },
     "execution_count": 59,
     "metadata": {},
     "output_type": "execute_result"
    }
   ],
   "source": [
    "a.items"
   ]
  },
  {
   "cell_type": "code",
   "execution_count": 60,
   "id": "72692d11-dfc9-4515-a807-fc21adc67944",
   "metadata": {},
   "outputs": [
    {
     "data": {
      "text/plain": [
       "1"
      ]
     },
     "execution_count": 60,
     "metadata": {},
     "output_type": "execute_result"
    }
   ],
   "source": [
    "a[0]"
   ]
  },
  {
   "cell_type": "code",
   "execution_count": 61,
   "id": "97469e38-6f77-4810-aae6-5ece9bc9eef5",
   "metadata": {},
   "outputs": [
    {
     "ename": "TypeError",
     "evalue": "Unsupported operand type for class <class '__main__.Cart'> and class '2.4'",
     "output_type": "error",
     "traceback": [
      "\u001b[0;31m---------------------------------------------------------------------------\u001b[0m",
      "\u001b[0;31mTypeError\u001b[0m                                 Traceback (most recent call last)",
      "Cell \u001b[0;32mIn [61], line 1\u001b[0m\n\u001b[0;32m----> 1\u001b[0m d \u001b[38;5;241m=\u001b[39m \u001b[43mc\u001b[49m\u001b[43m \u001b[49m\u001b[38;5;241;43m+\u001b[39;49m\u001b[43m \u001b[49m\u001b[38;5;241;43m2.4\u001b[39;49m\n",
      "Cell \u001b[0;32mIn [53], line 10\u001b[0m, in \u001b[0;36mCart.__add__\u001b[0;34m(self, other)\u001b[0m\n\u001b[1;32m      8\u001b[0m \u001b[38;5;28;01mdef\u001b[39;00m \u001b[38;5;21m__add__\u001b[39m(\u001b[38;5;28mself\u001b[39m, other):\n\u001b[1;32m      9\u001b[0m     \u001b[38;5;28;01mif\u001b[39;00m \u001b[38;5;28mtype\u001b[39m(other) \u001b[38;5;241m!=\u001b[39m \u001b[38;5;28mself\u001b[39m\u001b[38;5;241m.\u001b[39m\u001b[38;5;18m__class__\u001b[39m:\n\u001b[0;32m---> 10\u001b[0m         \u001b[38;5;28;01mraise\u001b[39;00m \u001b[38;5;167;01mTypeError\u001b[39;00m(\u001b[38;5;124mf\u001b[39m\u001b[38;5;124m\"\u001b[39m\u001b[38;5;124mUnsupported operand type for class \u001b[39m\u001b[38;5;132;01m{\u001b[39;00m\u001b[38;5;28mself\u001b[39m\u001b[38;5;241m.\u001b[39m\u001b[38;5;18m__class__\u001b[39m\u001b[38;5;132;01m}\u001b[39;00m\u001b[38;5;124m and class \u001b[39m\u001b[38;5;124m'\u001b[39m\u001b[38;5;132;01m{\u001b[39;00mother\u001b[38;5;132;01m}\u001b[39;00m\u001b[38;5;124m'\u001b[39m\u001b[38;5;124m\"\u001b[39m)\n\u001b[1;32m     11\u001b[0m     new \u001b[38;5;241m=\u001b[39m \u001b[38;5;28mself\u001b[39m\u001b[38;5;241m.\u001b[39mitems \u001b[38;5;241m+\u001b[39m other\u001b[38;5;241m.\u001b[39mitems \u001b[38;5;66;03m#Tuple\u001b[39;00m\n\u001b[1;32m     12\u001b[0m     \u001b[38;5;28;01mreturn\u001b[39;00m Cart(\u001b[38;5;241m*\u001b[39mnew)\n",
      "\u001b[0;31mTypeError\u001b[0m: Unsupported operand type for class <class '__main__.Cart'> and class '2.4'"
     ]
    }
   ],
   "source": [
    "d = c + 2.4"
   ]
  },
  {
   "cell_type": "code",
   "execution_count": 62,
   "id": "02af1b02-1bc4-4c26-a7fe-75904c344616",
   "metadata": {},
   "outputs": [],
   "source": [
    "class Human():\n",
    "    pass"
   ]
  },
  {
   "cell_type": "code",
   "execution_count": 63,
   "id": "01f0ab60-1dbb-4e28-8392-5fe3984e68ac",
   "metadata": {},
   "outputs": [
    {
     "data": {
      "text/plain": [
       "['__class__',\n",
       " '__delattr__',\n",
       " '__dict__',\n",
       " '__dir__',\n",
       " '__doc__',\n",
       " '__eq__',\n",
       " '__format__',\n",
       " '__ge__',\n",
       " '__getattribute__',\n",
       " '__gt__',\n",
       " '__hash__',\n",
       " '__init__',\n",
       " '__init_subclass__',\n",
       " '__le__',\n",
       " '__lt__',\n",
       " '__module__',\n",
       " '__ne__',\n",
       " '__new__',\n",
       " '__reduce__',\n",
       " '__reduce_ex__',\n",
       " '__repr__',\n",
       " '__setattr__',\n",
       " '__sizeof__',\n",
       " '__str__',\n",
       " '__subclasshook__',\n",
       " '__weakref__']"
      ]
     },
     "execution_count": 63,
     "metadata": {},
     "output_type": "execute_result"
    }
   ],
   "source": [
    "dir(Human)"
   ]
  },
  {
   "cell_type": "code",
   "execution_count": 64,
   "id": "988d63a0-2fc1-4d25-b88e-54b5b6aef519",
   "metadata": {},
   "outputs": [
    {
     "data": {
      "text/plain": [
       "['__abstractmethods__',\n",
       " '__annotations__',\n",
       " '__base__',\n",
       " '__bases__',\n",
       " '__basicsize__',\n",
       " '__call__',\n",
       " '__class__',\n",
       " '__delattr__',\n",
       " '__dict__',\n",
       " '__dictoffset__',\n",
       " '__dir__',\n",
       " '__doc__',\n",
       " '__eq__',\n",
       " '__flags__',\n",
       " '__format__',\n",
       " '__ge__',\n",
       " '__getattribute__',\n",
       " '__gt__',\n",
       " '__hash__',\n",
       " '__init__',\n",
       " '__init_subclass__',\n",
       " '__instancecheck__',\n",
       " '__itemsize__',\n",
       " '__le__',\n",
       " '__lt__',\n",
       " '__module__',\n",
       " '__mro__',\n",
       " '__name__',\n",
       " '__ne__',\n",
       " '__new__',\n",
       " '__or__',\n",
       " '__prepare__',\n",
       " '__qualname__',\n",
       " '__reduce__',\n",
       " '__reduce_ex__',\n",
       " '__repr__',\n",
       " '__ror__',\n",
       " '__setattr__',\n",
       " '__sizeof__',\n",
       " '__str__',\n",
       " '__subclasscheck__',\n",
       " '__subclasses__',\n",
       " '__subclasshook__',\n",
       " '__text_signature__',\n",
       " '__weakrefoffset__',\n",
       " 'mro']"
      ]
     },
     "execution_count": 64,
     "metadata": {},
     "output_type": "execute_result"
    }
   ],
   "source": [
    "dir(type)"
   ]
  },
  {
   "cell_type": "code",
   "execution_count": 66,
   "id": "18e2b70c-64bb-4df1-b7ac-c9ce7bdd0ff7",
   "metadata": {},
   "outputs": [
    {
     "data": {
      "text/plain": [
       "False"
      ]
     },
     "execution_count": 66,
     "metadata": {},
     "output_type": "execute_result"
    }
   ],
   "source": [
    "dir(type) == dir(Human)\n",
    "# Human is just an instance of Type, not an inherit"
   ]
  },
  {
   "cell_type": "markdown",
   "id": "7b95fa62-82a6-4d91-83f3-7d7e88b680ae",
   "metadata": {},
   "source": [
    "## Data Type Methods and Attributes"
   ]
  },
  {
   "cell_type": "code",
   "execution_count": 68,
   "id": "0fbf6e8b-5aeb-43b1-bdb9-19e1f9d9d34f",
   "metadata": {},
   "outputs": [
    {
     "data": {
      "text/plain": [
       "(2-0.25j)"
      ]
     },
     "execution_count": 68,
     "metadata": {},
     "output_type": "execute_result"
    }
   ],
   "source": [
    "comp_num = 2 + 1/4j\n",
    "comp_num"
   ]
  },
  {
   "cell_type": "code",
   "execution_count": 69,
   "id": "48268772-2e2b-405b-96f2-f2077cf7b8f0",
   "metadata": {},
   "outputs": [
    {
     "data": {
      "text/plain": [
       "['__abs__',\n",
       " '__add__',\n",
       " '__bool__',\n",
       " '__class__',\n",
       " '__delattr__',\n",
       " '__dir__',\n",
       " '__doc__',\n",
       " '__eq__',\n",
       " '__format__',\n",
       " '__ge__',\n",
       " '__getattribute__',\n",
       " '__getnewargs__',\n",
       " '__gt__',\n",
       " '__hash__',\n",
       " '__init__',\n",
       " '__init_subclass__',\n",
       " '__le__',\n",
       " '__lt__',\n",
       " '__mul__',\n",
       " '__ne__',\n",
       " '__neg__',\n",
       " '__new__',\n",
       " '__pos__',\n",
       " '__pow__',\n",
       " '__radd__',\n",
       " '__reduce__',\n",
       " '__reduce_ex__',\n",
       " '__repr__',\n",
       " '__rmul__',\n",
       " '__rpow__',\n",
       " '__rsub__',\n",
       " '__rtruediv__',\n",
       " '__setattr__',\n",
       " '__sizeof__',\n",
       " '__str__',\n",
       " '__sub__',\n",
       " '__subclasshook__',\n",
       " '__truediv__',\n",
       " 'conjugate',\n",
       " 'imag',\n",
       " 'real']"
      ]
     },
     "execution_count": 69,
     "metadata": {},
     "output_type": "execute_result"
    }
   ],
   "source": [
    "dir(comp_num)"
   ]
  },
  {
   "cell_type": "code",
   "execution_count": 74,
   "id": "60d54c0b-b87a-4307-8f63-a9f53a1022e4",
   "metadata": {},
   "outputs": [
    {
     "data": {
      "text/plain": [
       "<function complex.__sizeof__()>"
      ]
     },
     "execution_count": 74,
     "metadata": {},
     "output_type": "execute_result"
    }
   ],
   "source": [
    "comp_num.__sizeof__"
   ]
  },
  {
   "cell_type": "code",
   "execution_count": 75,
   "id": "c7ad3ad5-7d89-4666-b961-9aa4bf25084d",
   "metadata": {},
   "outputs": [
    {
     "data": {
      "text/plain": [
       "<method-wrapper '__abs__' of complex object at 0x7f43a01a88f0>"
      ]
     },
     "execution_count": 75,
     "metadata": {},
     "output_type": "execute_result"
    }
   ],
   "source": [
    "comp_num.__abs__"
   ]
  },
  {
   "cell_type": "code",
   "execution_count": 76,
   "id": "37f99da8-0814-4da9-a92d-a723d4d60eec",
   "metadata": {},
   "outputs": [
    {
     "data": {
      "text/plain": [
       "-0.25"
      ]
     },
     "execution_count": 76,
     "metadata": {},
     "output_type": "execute_result"
    }
   ],
   "source": [
    "comp_num.imag"
   ]
  },
  {
   "cell_type": "code",
   "execution_count": 1,
   "id": "fa5a552d-0235-468a-a475-a1a584f90b30",
   "metadata": {},
   "outputs": [
    {
     "data": {
      "text/plain": [
       "['www.varzesh3.com']"
      ]
     },
     "execution_count": 1,
     "metadata": {},
     "output_type": "execute_result"
    }
   ],
   "source": [
    "\"www.varzesh3.com\".split()"
   ]
  },
  {
   "cell_type": "code",
   "execution_count": 3,
   "id": "9d8ee9d2-68c2-43a1-a6c9-44dd41ac5733",
   "metadata": {},
   "outputs": [
    {
     "data": {
      "text/plain": [
       "['www', 'varzesh3', 'com']"
      ]
     },
     "execution_count": 3,
     "metadata": {},
     "output_type": "execute_result"
    }
   ],
   "source": [
    "\"www.varzesh3.com\".split('.')"
   ]
  },
  {
   "cell_type": "code",
   "execution_count": 6,
   "id": "a78a8e67-d7a5-4fcd-880b-d2048afb1672",
   "metadata": {},
   "outputs": [
    {
     "data": {
      "text/plain": [
       "['www.varzesh3', 'com']"
      ]
     },
     "execution_count": 6,
     "metadata": {},
     "output_type": "execute_result"
    }
   ],
   "source": [
    "\"www.varzesh3.com\".rsplit('.', maxsplit = 1)"
   ]
  },
  {
   "cell_type": "code",
   "execution_count": 8,
   "id": "61d5267a-dc96-404f-8892-9ed6fa821758",
   "metadata": {},
   "outputs": [
    {
     "data": {
      "text/plain": [
       "['__add__',\n",
       " '__class__',\n",
       " '__contains__',\n",
       " '__delattr__',\n",
       " '__dir__',\n",
       " '__doc__',\n",
       " '__eq__',\n",
       " '__format__',\n",
       " '__ge__',\n",
       " '__getattribute__',\n",
       " '__getitem__',\n",
       " '__getnewargs__',\n",
       " '__gt__',\n",
       " '__hash__',\n",
       " '__init__',\n",
       " '__init_subclass__',\n",
       " '__iter__',\n",
       " '__le__',\n",
       " '__len__',\n",
       " '__lt__',\n",
       " '__mod__',\n",
       " '__mul__',\n",
       " '__ne__',\n",
       " '__new__',\n",
       " '__reduce__',\n",
       " '__reduce_ex__',\n",
       " '__repr__',\n",
       " '__rmod__',\n",
       " '__rmul__',\n",
       " '__setattr__',\n",
       " '__sizeof__',\n",
       " '__str__',\n",
       " '__subclasshook__',\n",
       " 'capitalize',\n",
       " 'casefold',\n",
       " 'center',\n",
       " 'count',\n",
       " 'encode',\n",
       " 'endswith',\n",
       " 'expandtabs',\n",
       " 'find',\n",
       " 'format',\n",
       " 'format_map',\n",
       " 'index',\n",
       " 'isalnum',\n",
       " 'isalpha',\n",
       " 'isascii',\n",
       " 'isdecimal',\n",
       " 'isdigit',\n",
       " 'isidentifier',\n",
       " 'islower',\n",
       " 'isnumeric',\n",
       " 'isprintable',\n",
       " 'isspace',\n",
       " 'istitle',\n",
       " 'isupper',\n",
       " 'join',\n",
       " 'ljust',\n",
       " 'lower',\n",
       " 'lstrip',\n",
       " 'maketrans',\n",
       " 'partition',\n",
       " 'removeprefix',\n",
       " 'removesuffix',\n",
       " 'replace',\n",
       " 'rfind',\n",
       " 'rindex',\n",
       " 'rjust',\n",
       " 'rpartition',\n",
       " 'rsplit',\n",
       " 'rstrip',\n",
       " 'split',\n",
       " 'splitlines',\n",
       " 'startswith',\n",
       " 'strip',\n",
       " 'swapcase',\n",
       " 'title',\n",
       " 'translate',\n",
       " 'upper',\n",
       " 'zfill']"
      ]
     },
     "execution_count": 8,
     "metadata": {},
     "output_type": "execute_result"
    }
   ],
   "source": [
    "a = \"www.varzesh3.com\"\n",
    "dir(a)"
   ]
  },
  {
   "cell_type": "code",
   "execution_count": 9,
   "id": "f486c20b-038f-489b-8369-bde025e88fdc",
   "metadata": {},
   "outputs": [
    {
     "data": {
      "text/plain": [
       "'Www.Varzesh3.Com'"
      ]
     },
     "execution_count": 9,
     "metadata": {},
     "output_type": "execute_result"
    }
   ],
   "source": [
    "a.title()"
   ]
  },
  {
   "cell_type": "code",
   "execution_count": 10,
   "id": "ec1a20f6-2f0c-4bc5-b60e-2375d9a59666",
   "metadata": {},
   "outputs": [
    {
     "data": {
      "text/plain": [
       "'WWW.VARZESH3.COM'"
      ]
     },
     "execution_count": 10,
     "metadata": {},
     "output_type": "execute_result"
    }
   ],
   "source": [
    "a.upper()"
   ]
  },
  {
   "cell_type": "code",
   "execution_count": 13,
   "id": "4c650c12-5f77-4d2e-9d24-168457d7dc61",
   "metadata": {},
   "outputs": [
    {
     "data": {
      "text/plain": [
       "('www.varzesh3', '.', 'com')"
      ]
     },
     "execution_count": 13,
     "metadata": {},
     "output_type": "execute_result"
    }
   ],
   "source": [
    "a.rpartition('.')"
   ]
  },
  {
   "cell_type": "code",
   "execution_count": 15,
   "id": "818ad656-b595-4729-b5b7-d71dc92181bc",
   "metadata": {},
   "outputs": [
    {
     "data": {
      "text/plain": [
       "False"
      ]
     },
     "execution_count": 15,
     "metadata": {},
     "output_type": "execute_result"
    }
   ],
   "source": [
    "a.isalpha()"
   ]
  },
  {
   "cell_type": "code",
   "execution_count": 17,
   "id": "f186bd13-0156-4cc0-8aae-a600961bae6d",
   "metadata": {},
   "outputs": [],
   "source": [
    "d = {\n",
    "    'A' : 23,\n",
    "    'B' : 34.5,\n",
    "    'C' : 48\n",
    "}"
   ]
  },
  {
   "cell_type": "code",
   "execution_count": 18,
   "id": "12efe8c9-5c4d-48ea-9fe4-2c2627444e43",
   "metadata": {},
   "outputs": [
    {
     "data": {
      "text/plain": [
       "{'A': 23, 'B': 34.5, 'C': 48}"
      ]
     },
     "execution_count": 18,
     "metadata": {},
     "output_type": "execute_result"
    }
   ],
   "source": [
    "d"
   ]
  },
  {
   "cell_type": "code",
   "execution_count": 19,
   "id": "21e3cf26-88ac-4998-a282-cb99be1f7580",
   "metadata": {},
   "outputs": [
    {
     "data": {
      "text/plain": [
       "'Do not exist in the dictionary'"
      ]
     },
     "execution_count": 19,
     "metadata": {},
     "output_type": "execute_result"
    }
   ],
   "source": [
    "d.get('D', 'Do not exist in the dictionary') #Check and return the Error for not existing"
   ]
  },
  {
   "cell_type": "code",
   "execution_count": null,
   "id": "9802f600-24f3-4349-bd44-91a5fb16c843",
   "metadata": {},
   "outputs": [],
   "source": []
  }
 ],
 "metadata": {
  "kernelspec": {
   "display_name": "Python 3 (ipykernel)",
   "language": "python",
   "name": "python3"
  },
  "language_info": {
   "codemirror_mode": {
    "name": "ipython",
    "version": 3
   },
   "file_extension": ".py",
   "mimetype": "text/x-python",
   "name": "python",
   "nbconvert_exporter": "python",
   "pygments_lexer": "ipython3",
   "version": "3.10.8"
  }
 },
 "nbformat": 4,
 "nbformat_minor": 5
}
