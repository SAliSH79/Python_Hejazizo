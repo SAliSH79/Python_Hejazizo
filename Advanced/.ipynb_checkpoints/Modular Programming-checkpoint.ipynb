{
 "cells": [
  {
   "cell_type": "code",
   "execution_count": 1,
   "id": "79c99590-48da-4da9-88d4-b55e28f894e8",
   "metadata": {},
   "outputs": [],
   "source": [
    "import main"
   ]
  },
  {
   "cell_type": "code",
   "execution_count": 2,
   "id": "0017d4ab-afe8-418f-aba6-1601fa6c2121",
   "metadata": {},
   "outputs": [
    {
     "data": {
      "text/plain": [
       "module"
      ]
     },
     "execution_count": 2,
     "metadata": {},
     "output_type": "execute_result"
    }
   ],
   "source": [
    "type(main)"
   ]
  },
  {
   "cell_type": "code",
   "execution_count": 3,
   "id": "7af6e8b6-60e8-4d43-ad1b-5934a917e732",
   "metadata": {},
   "outputs": [
    {
     "data": {
      "text/plain": [
       "'3.14'"
      ]
     },
     "execution_count": 3,
     "metadata": {},
     "output_type": "execute_result"
    }
   ],
   "source": [
    "main.printf(3.14)"
   ]
  },
  {
   "cell_type": "code",
   "execution_count": 4,
   "id": "79f6c75f-0511-44b8-8735-3756e5f1c29e",
   "metadata": {},
   "outputs": [
    {
     "data": {
      "text/plain": [
       "array([1, 2, 3])"
      ]
     },
     "execution_count": 4,
     "metadata": {},
     "output_type": "execute_result"
    }
   ],
   "source": [
    "main.a1"
   ]
  },
  {
   "cell_type": "code",
   "execution_count": 5,
   "id": "cb874942-64b6-449c-8ed5-9fbdda48f21a",
   "metadata": {},
   "outputs": [
    {
     "data": {
      "text/plain": [
       "['__builtins__',\n",
       " '__cached__',\n",
       " '__doc__',\n",
       " '__file__',\n",
       " '__loader__',\n",
       " '__name__',\n",
       " '__package__',\n",
       " '__spec__',\n",
       " 'a1',\n",
       " 'np',\n",
       " 'printf']"
      ]
     },
     "execution_count": 5,
     "metadata": {},
     "output_type": "execute_result"
    }
   ],
   "source": [
    "dir(main)"
   ]
  },
  {
   "cell_type": "code",
   "execution_count": null,
   "id": "28f538bf-f8c9-4f1c-b016-07b7cf5ddda4",
   "metadata": {},
   "outputs": [],
   "source": []
  }
 ],
 "metadata": {
  "kernelspec": {
   "display_name": "Python 3 (ipykernel)",
   "language": "python",
   "name": "python3"
  },
  "language_info": {
   "codemirror_mode": {
    "name": "ipython",
    "version": 3
   },
   "file_extension": ".py",
   "mimetype": "text/x-python",
   "name": "python",
   "nbconvert_exporter": "python",
   "pygments_lexer": "ipython3",
   "version": "3.10.8"
  }
 },
 "nbformat": 4,
 "nbformat_minor": 5
}
