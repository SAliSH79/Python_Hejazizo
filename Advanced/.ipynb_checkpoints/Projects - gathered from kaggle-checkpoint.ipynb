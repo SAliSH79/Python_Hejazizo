{
 "cells": [
  {
   "cell_type": "markdown",
   "id": "08109272-7596-40d7-9f28-89f40eec2339",
   "metadata": {},
   "source": [
    "# Acronym Gernerator"
   ]
  },
  {
   "cell_type": "code",
   "execution_count": null,
   "id": "2af82586-34df-410d-a718-b2630cf0348c",
   "metadata": {},
   "outputs": [],
   "source": [
    "user_input = str(input(\"Enter a Phrase: \"))\n",
    "text = user_input.split()\n",
    "#print(text)\n",
    "a = \" \"\n",
    "for i in text:\n",
    "    a = a+str(i[0]).upper()\n",
    "    #print(a)\n",
    "print(a)"
   ]
  },
  {
   "cell_type": "markdown",
   "id": "dc63680c-fb4c-4a0c-adde-3bedefe7b43d",
   "metadata": {},
   "source": [
    "# BMI Calculator:"
   ]
  },
  {
   "cell_type": "code",
   "execution_count": 1,
   "id": "04ff76f7-52f0-499b-b33d-44bdde3a3d8c",
   "metadata": {},
   "outputs": [
    {
     "name": "stdout",
     "output_type": "stream",
     "text": [
      "\n",
      "\n",
      "BMI or Body Mass Index, is a measure to describe how healthy a person is based on his/her weight and height\n"
     ]
    }
   ],
   "source": [
    "from IPython.display import Image\n",
    "\n",
    "# Display image from a file\n",
    "Image(filename='BMI-chart.jpg')\n",
    "print(\"\\n\")\n",
    "print(\"BMI or Body Mass Index, is a measure to describe how healthy a person is based on his/her weight and height\")"
   ]
  },
  {
   "cell_type": "code",
   "execution_count": 4,
   "id": "5d3109d0-f274-4f72-a551-8cc3049a9fb6",
   "metadata": {},
   "outputs": [
    {
     "name": "stdin",
     "output_type": "stream",
     "text": [
      "Enter your weight please to nearest 1 kg: 69\n",
      "Enter your height please to the nearest 0.1 cm: 171\n"
     ]
    },
    {
     "name": "stdout",
     "output_type": "stream",
     "text": [
      "His/Her height in meters is 1.71 m\n",
      "His/Her BMI is 23.59700420642249\n",
      "\n",
      "\n",
      "He has a healthy weight\n"
     ]
    }
   ],
   "source": [
    "weight = float(input(\"Enter your weight please to nearest 1 kg:\"))\n",
    "height= float(input(\"Enter your height please to the nearest 0.1 cm:\"))\n",
    "height = height / 100\n",
    "print(f'His/Her height in meters is {height} m')\n",
    "BMI = weight / (height**2)\n",
    "print(f'His/Her BMI is {BMI}')\n",
    "print(\"\\n\")\n",
    "if BMI < 18.50:\n",
    "    print(\"He is underweight\")\n",
    "elif 18.51 < BMI < 24.99:\n",
    "    print(\"He has a healthy weight\")\n",
    "elif 25 < BMI < 29.99:\n",
    "    print(\"He is overweight\")\n",
    "elif 30 < BMI < 39.99:\n",
    "    print(\"He is Obese\")\n",
    "elif 40 < BMI:\n",
    "    print(\"Extremely Obese\")\n"
   ]
  },
  {
   "cell_type": "code",
   "execution_count": null,
   "id": "45d0db96-c6be-477c-83f2-e5bf10e8ff60",
   "metadata": {},
   "outputs": [],
   "source": []
  }
 ],
 "metadata": {
  "kernelspec": {
   "display_name": "Python 3 (ipykernel)",
   "language": "python",
   "name": "python3"
  },
  "language_info": {
   "codemirror_mode": {
    "name": "ipython",
    "version": 3
   },
   "file_extension": ".py",
   "mimetype": "text/x-python",
   "name": "python",
   "nbconvert_exporter": "python",
   "pygments_lexer": "ipython3",
   "version": "3.10.8"
  }
 },
 "nbformat": 4,
 "nbformat_minor": 5
}
