{
 "cells": [
  {
   "cell_type": "markdown",
   "id": "0fe9575f-e7fe-4101-857c-24cb0e1a39ea",
   "metadata": {
    "tags": []
   },
   "source": [
    "# Scikit Learn"
   ]
  },
  {
   "cell_type": "markdown",
   "id": "24573a70-285e-458c-90ed-f202f0281db2",
   "metadata": {},
   "source": [
    "## 1-Regression"
   ]
  },
  {
   "cell_type": "markdown",
   "id": "2b14e673-5168-4749-b8ea-b6d471eb25fc",
   "metadata": {},
   "source": [
    "### 1-1 Linear Models"
   ]
  },
  {
   "cell_type": "code",
   "execution_count": 8,
   "id": "fdcf5444-ba7f-49c0-8408-c74cffc71c1a",
   "metadata": {},
   "outputs": [],
   "source": [
    "from sklearn import linear_model\n",
    "reg = linear_model.LinearRegression()"
   ]
  },
  {
   "cell_type": "code",
   "execution_count": 11,
   "id": "7b3518ae-4b09-429c-b47d-38dc7af5f126",
   "metadata": {},
   "outputs": [
    {
     "data": {
      "text/plain": [
       "sklearn.linear_model._base.LinearRegression"
      ]
     },
     "execution_count": 11,
     "metadata": {},
     "output_type": "execute_result"
    }
   ],
   "source": [
    "type(reg)"
   ]
  },
  {
   "cell_type": "markdown",
   "id": "cd734371-4d63-4a2d-9b4f-7e8186517dee",
   "metadata": {},
   "source": [
    "### 1.1.2 Ridge Regression"
   ]
  },
  {
   "cell_type": "code",
   "execution_count": null,
   "id": "53a3ca91-7160-4734-a2b0-055f05267848",
   "metadata": {},
   "outputs": [],
   "source": []
  }
 ],
 "metadata": {
  "kernelspec": {
   "display_name": "Python 3 (ipykernel)",
   "language": "python",
   "name": "python3"
  },
  "language_info": {
   "codemirror_mode": {
    "name": "ipython",
    "version": 3
   },
   "file_extension": ".py",
   "mimetype": "text/x-python",
   "name": "python",
   "nbconvert_exporter": "python",
   "pygments_lexer": "ipython3",
   "version": "3.10.8"
  }
 },
 "nbformat": 4,
 "nbformat_minor": 5
}
