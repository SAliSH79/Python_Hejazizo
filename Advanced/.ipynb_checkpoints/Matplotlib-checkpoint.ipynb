{
 "cells": [
  {
   "cell_type": "markdown",
   "id": "e4a2a7a1-a8c0-4432-982d-8339208d81dd",
   "metadata": {},
   "source": [
    "# Matplotlib Library"
   ]
  },
  {
   "cell_type": "code",
   "execution_count": 10,
   "id": "b321afab-8d3d-45a3-ac45-9a5072c91e9a",
   "metadata": {},
   "outputs": [
    {
     "name": "stdout",
     "output_type": "stream",
     "text": [
      "3.6.2\n"
     ]
    }
   ],
   "source": [
    "import matplotlib.pyplot as plt #pyplot submodule consists approximatley 75% of Matplotlib\n",
    "print(matplotlib.__version__)"
   ]
  },
  {
   "cell_type": "code",
   "execution_count": 7,
   "id": "129b39a7-a85f-499e-8b34-886dc710ff88",
   "metadata": {},
   "outputs": [],
   "source": [
    "import numpy as np"
   ]
  },
  {
   "cell_type": "code",
   "execution_count": 9,
   "id": "345c2e20-6b6a-4cdf-b2be-db9e82826c70",
   "metadata": {},
   "outputs": [
    {
     "data": {
      "image/png": "[encoded data removed]",
      "text/plain": [
       "<Figure size 640x480 with 1 Axes>"
      ]
     },
     "metadata": {},
     "output_type": "display_data"
    }
   ],
   "source": [
    "x = np.array([1, 2.4, 3, 4, 2.3, 5, 6])\n",
    "y = np.array([1, 2, 3, 4, 6, 8, 10])\n",
    "\n",
    "plt.plot(x,y, '*')\n",
    "plt.show()"
   ]
  },
  {
   "cell_type": "code",
   "execution_count": null,
   "id": "c35bbec3-0f55-4a39-aa64-dc066129506d",
   "metadata": {},
   "outputs": [],
   "source": []
  }
 ],
 "metadata": {
  "kernelspec": {
   "display_name": "Python 3 (ipykernel)",
   "language": "python",
   "name": "python3"
  },
  "language_info": {
   "codemirror_mode": {
    "name": "ipython",
    "version": 3
   },
   "file_extension": ".py",
   "mimetype": "text/x-python",
   "name": "python",
   "nbconvert_exporter": "python",
   "pygments_lexer": "ipython3",
   "version": "3.10.8"
  }
 },
 "nbformat": 4,
 "nbformat_minor": 5
}
