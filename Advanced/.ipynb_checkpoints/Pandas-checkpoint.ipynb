{
 "cells": [
  {
   "cell_type": "markdown",
   "id": "ff4b5a18-ae98-4322-922d-9514463ed83e",
   "metadata": {},
   "source": [
    "### Pandas is usally used for Data Analysis"
   ]
  },
  {
   "cell_type": "code",
   "execution_count": 1,
   "id": "655a8d93-1da6-4334-88b7-2b3feff09519",
   "metadata": {},
   "outputs": [
    {
     "data": {
      "text/plain": [
       "'1.5.2'"
      ]
     },
     "execution_count": 1,
     "metadata": {},
     "output_type": "execute_result"
    }
   ],
   "source": [
    "import pandas as pd\n",
    "pd.__version__"
   ]
  },
  {
   "cell_type": "code",
   "execution_count": 4,
   "id": "365b1c36-1bd7-4e5f-8a4d-c70c1f7899be",
   "metadata": {},
   "outputs": [
    {
     "name": "stdout",
     "output_type": "stream",
     "text": [
      "0    1.0\n",
      "1    2.0\n",
      "2    3.5\n",
      "dtype: float64\n"
     ]
    }
   ],
   "source": [
    "a = [1, 2, 3.5]\n",
    "my_data = pd.Series(a)\n",
    "my_data\n",
    "print(my_data)"
   ]
  },
  {
   "cell_type": "code",
   "execution_count": 5,
   "id": "5397c9d9-e2c7-489c-8682-56df8efb9533",
   "metadata": {},
   "outputs": [],
   "source": [
    "### Index argument to assign our desirable labels"
   ]
  },
  {
   "cell_type": "code",
   "execution_count": 7,
   "id": "55155ce8-ba50-4b5c-911e-237e267028eb",
   "metadata": {},
   "outputs": [
    {
     "name": "stdout",
     "output_type": "stream",
     "text": [
      "0.1    1.0\n",
      "0.2    2.0\n",
      "0.3    3.5\n",
      "dtype: float64\n"
     ]
    }
   ],
   "source": [
    "my_data2 = pd.Series(a, index = [0.1, 0.2, 0.3], copy = True)\n",
    "print(my_data2)"
   ]
  },
  {
   "cell_type": "markdown",
   "id": "e2f73881-e551-4abd-af16-18a78f47c7db",
   "metadata": {},
   "source": [
    "### Key/Value Objects"
   ]
  },
  {
   "cell_type": "code",
   "execution_count": null,
   "id": "7b60ee9e-3ad0-413b-9a44-1d961f360a16",
   "metadata": {},
   "outputs": [],
   "source": []
  }
 ],
 "metadata": {
  "kernelspec": {
   "display_name": "Python 3 (ipykernel)",
   "language": "python",
   "name": "python3"
  },
  "language_info": {
   "codemirror_mode": {
    "name": "ipython",
    "version": 3
   },
   "file_extension": ".py",
   "mimetype": "text/x-python",
   "name": "python",
   "nbconvert_exporter": "python",
   "pygments_lexer": "ipython3",
   "version": "3.10.8"
  }
 },
 "nbformat": 4,
 "nbformat_minor": 5
}
