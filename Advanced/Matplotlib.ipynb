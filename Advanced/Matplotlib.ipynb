{
 "cells": [
  {
   "cell_type": "markdown",
   "id": "e4a2a7a1-a8c0-4432-982d-8339208d81dd",
   "metadata": {},
   "source": [
    "# Matplotlib Library"
   ]
  },
  {
   "cell_type": "code",
   "execution_count": null,
   "id": "12ec7d27-39f4-4b01-9ea4-9577096ddeae",
   "metadata": {},
   "outputs": [],
   "source": []
  }
 ],
 "metadata": {
  "kernelspec": {
   "display_name": "Python 3 (ipykernel)",
   "language": "python",
   "name": "python3"
  },
  "language_info": {
   "codemirror_mode": {
    "name": "ipython",
    "version": 3
   },
   "file_extension": ".py",
   "mimetype": "text/x-python",
   "name": "python",
   "nbconvert_exporter": "python",
   "pygments_lexer": "ipython3",
   "version": "3.10.8"
  }
 },
 "nbformat": 4,
 "nbformat_minor": 5
}
