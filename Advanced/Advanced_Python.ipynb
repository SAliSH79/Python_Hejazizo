{
 "cells": [
  {
   "cell_type": "markdown",
   "id": "22a086a1-48f9-46b3-ac7c-6484aace4a97",
   "metadata": {},
   "source": [
    "# Advanced Python Programming "
   ]
  },
  {
   "cell_type": "markdown",
   "id": "b461185c-b7ca-4f68-be82-5b23cf09ecf7",
   "metadata": {},
   "source": [
    "## Namespaces"
   ]
  },
  {
   "cell_type": "markdown",
   "id": "bd826f93-5afe-4c22-b673-f663245a3536",
   "metadata": {},
   "source": [
    "### 1.The Built-in Namespaces"
   ]
  },
  {
   "cell_type": "code",
   "execution_count": 4,
   "id": "dd761cea-47e1-42d4-a249-8eb0288c357d",
   "metadata": {},
   "outputs": [],
   "source": [
    "import builtins #Importing a module"
   ]
  },
  {
   "cell_type": "code",
   "execution_count": 2,
   "id": "ddcb58c9-4ab5-4d0b-807d-6a11e22fc55b",
   "metadata": {},
   "outputs": [],
   "source": [
    "#dir(builtins) #All the Built-in, already existing functions and namespaces"
   ]
  },
  {
   "cell_type": "markdown",
   "id": "6767de81-29fe-4a36-9236-aba5206c3362",
   "metadata": {},
   "source": [
    "### 2.Global"
   ]
  },
  {
   "cell_type": "code",
   "execution_count": 1,
   "id": "9dab38fe-fec2-4f31-baef-3a92b8a2b5a5",
   "metadata": {},
   "outputs": [],
   "source": [
    "x = 2\n",
    "#globals()"
   ]
  },
  {
   "cell_type": "markdown",
   "id": "fa6d1d6e-e872-4390-8bec-29a26efc01d9",
   "metadata": {},
   "source": [
    "### Local and Enclosing"
   ]
  },
  {
   "cell_type": "code",
   "execution_count": 22,
   "id": "0e49330c-fa76-478f-9c92-97a7e606c24b",
   "metadata": {},
   "outputs": [],
   "source": [
    "def f():\n",
    "    x = 2 #Enclosing\n",
    "    print('Enclosing x is',x)\n",
    "    def g():\n",
    "        x = 1.2 #Local\n",
    "        print('Local x is',x)\n",
    "    g()"
   ]
  },
  {
   "cell_type": "code",
   "execution_count": 23,
   "id": "1855974a-4bdf-4a3d-b3ed-84259b0e13a4",
   "metadata": {},
   "outputs": [
    {
     "name": "stdout",
     "output_type": "stream",
     "text": [
      "Global x is ['a', 1.5]\n",
      "Enclosing x is 2\n",
      "Local x is 1.2\n"
     ]
    }
   ],
   "source": [
    "x = ['a',1.5] # X is global\n",
    "print('Global x is',x)\n",
    "f()"
   ]
  },
  {
   "cell_type": "markdown",
   "id": "7692fcf6-38aa-40e9-ae83-c03e2d6644ce",
   "metadata": {},
   "source": [
    "## Python Interpreter Uses the LEGB rule to look for the missing or wanted 'x'"
   ]
  },
  {
   "cell_type": "code",
   "execution_count": 12,
   "id": "f594b5f0-fde4-4d2b-ba1d-f87fde0625ba",
   "metadata": {},
   "outputs": [
    {
     "name": "stdout",
     "output_type": "stream",
     "text": [
      "2 \n",
      " <class 'dict'>\n"
     ]
    }
   ],
   "source": [
    "x = 2 #value\n",
    "print( globals()['x'], \"\\n\", #keyword\n",
    "type(globals()) )"
   ]
  },
  {
   "cell_type": "code",
   "execution_count": 28,
   "id": "72566e30-8296-4ea1-976c-00a4182543f2",
   "metadata": {},
   "outputs": [
    {
     "name": "stdout",
     "output_type": "stream",
     "text": [
      "3 \n",
      " <class 'dict'>\n",
      "3\n",
      "done\n"
     ]
    }
   ],
   "source": [
    "def g():\n",
    "    \"\"\"\n",
    "    A function to distinguish between local and global variables\n",
    "    \"\"\"\n",
    "    x = 3 #value\n",
    "    print( locals()['x'], \"\\n\", #keyword\n",
    "    type(locals()) )\n",
    "    locals()['x'] = '1' #It is Immutable due to presenting a Copy of the dictionary to Referencing to it\n",
    "    print(locals()['x'])\n",
    "    return 'done'\n",
    "print(g())"
   ]
  },
  {
   "cell_type": "markdown",
   "id": "6a23d8a4-af8c-47d2-bba2-7768600b21b6",
   "metadata": {},
   "source": [
    "## Object Oriented Programming"
   ]
  },
  {
   "cell_type": "code",
   "execution_count": 12,
   "id": "a927d500-5bb0-4328-90cc-e64973b9eb40",
   "metadata": {},
   "outputs": [],
   "source": [
    "class PeopleOfIran:\n",
    "    pass"
   ]
  },
  {
   "cell_type": "code",
   "execution_count": 13,
   "id": "d3bc37e4-46df-44ab-9d86-4a113bed48b1",
   "metadata": {},
   "outputs": [
    {
     "data": {
      "text/plain": [
       "<__main__.PeopleOfIran at 0x7faeda59a1d0>"
      ]
     },
     "execution_count": 13,
     "metadata": {},
     "output_type": "execute_result"
    }
   ],
   "source": [
    "ali = PeopleOfIran()\n",
    "ali"
   ]
  },
  {
   "cell_type": "code",
   "execution_count": 115,
   "id": "e6a1c45d-d374-4eed-a24a-60bf13ded619",
   "metadata": {},
   "outputs": [],
   "source": [
    "class PeopleOfIran:\n",
    "    nationality = \"Iran\" # Common feature or attribute of all the PeopleOfIran Objects\n",
    "    #Class attributes\n",
    "    \n",
    "    def __init__(self, fname, lname, age, location):\n",
    "        #Instance attributes\n",
    "        \n",
    "        self.fn = fname\n",
    "        self.ln = lname\n",
    "        self.age = age\n",
    "        self.loc = location\n",
    "        \n",
    "    def description(self, text):\n",
    "        print(f\"Hi I am {self.fn} {self.ln} from {self.nationality} born in {text}\")\n",
    "        #Instance Methods\n",
    "        \n",
    "    def __str__(self):\n",
    "        #Dunder Methods\n",
    "        return f\"Hi I am {self.fn} {self.age} years old, from {self.nationality};\" \n",
    "    #Now printing an Object is more readable for users"
   ]
  },
  {
   "cell_type": "code",
   "execution_count": 116,
   "id": "06c9170e-e355-4e08-b5e4-ff71b3aa66d7",
   "metadata": {},
   "outputs": [],
   "source": [
    "Ali = PeopleOfIran('Ali', 'Hos', 23, 'Tehran')\n",
    "\n",
    "#Instnace of PeopleOfIran Class"
   ]
  },
  {
   "cell_type": "code",
   "execution_count": 117,
   "id": "f0d8b5f8-01a2-4d42-9267-3a32751ffe03",
   "metadata": {},
   "outputs": [
    {
     "data": {
      "text/plain": [
       "<__main__.PeopleOfIran at 0x7faeda5b67d0>"
      ]
     },
     "execution_count": 117,
     "metadata": {},
     "output_type": "execute_result"
    }
   ],
   "source": [
    "Ali"
   ]
  },
  {
   "cell_type": "code",
   "execution_count": 118,
   "id": "4ab90ed8-b30c-4114-85c8-c155a44fdf09",
   "metadata": {},
   "outputs": [
    {
     "data": {
      "text/plain": [
       "23"
      ]
     },
     "execution_count": 118,
     "metadata": {},
     "output_type": "execute_result"
    }
   ],
   "source": [
    "Ali.age"
   ]
  },
  {
   "cell_type": "code",
   "execution_count": 119,
   "id": "b1bc2a9a-fe2c-48c7-9031-0fa2c15ffb4f",
   "metadata": {},
   "outputs": [
    {
     "data": {
      "text/plain": [
       "'Hos'"
      ]
     },
     "execution_count": 119,
     "metadata": {},
     "output_type": "execute_result"
    }
   ],
   "source": [
    "Ali.ln"
   ]
  },
  {
   "cell_type": "code",
   "execution_count": 120,
   "id": "844ff687-0cad-463f-8294-d10560d13ad3",
   "metadata": {},
   "outputs": [
    {
     "data": {
      "text/plain": [
       "'Iran'"
      ]
     },
     "execution_count": 120,
     "metadata": {},
     "output_type": "execute_result"
    }
   ],
   "source": [
    "Ali.nationality"
   ]
  },
  {
   "cell_type": "markdown",
   "id": "567220fb-53ef-4740-afaa-b701f14ce973",
   "metadata": {},
   "source": [
    "##### Attributes are Mutable"
   ]
  },
  {
   "cell_type": "code",
   "execution_count": 121,
   "id": "08c85b65-67d7-484a-81f0-e94cac953b0f",
   "metadata": {},
   "outputs": [],
   "source": [
    "Ali.age = 22"
   ]
  },
  {
   "cell_type": "code",
   "execution_count": 122,
   "id": "cf7d4f92-c77c-486c-9d6f-a48d59c5a01a",
   "metadata": {},
   "outputs": [
    {
     "data": {
      "text/plain": [
       "22"
      ]
     },
     "execution_count": 122,
     "metadata": {},
     "output_type": "execute_result"
    }
   ],
   "source": [
    "Ali.age"
   ]
  },
  {
   "cell_type": "code",
   "execution_count": 123,
   "id": "14cf1a97-607f-419d-a403-04b9d5bd1161",
   "metadata": {},
   "outputs": [
    {
     "name": "stdout",
     "output_type": "stream",
     "text": [
      "Hi I am Ali Hos from Iran born in June\n"
     ]
    }
   ],
   "source": [
    "Ali.description('June') #Declerative"
   ]
  },
  {
   "cell_type": "code",
   "execution_count": 124,
   "id": "aa855280-f345-4b90-97ac-a7da01b75525",
   "metadata": {},
   "outputs": [
    {
     "name": "stdout",
     "output_type": "stream",
     "text": [
      "Hi I am Ali 22 years old, from Iran;\n"
     ]
    }
   ],
   "source": [
    "print(Ali)"
   ]
  },
  {
   "cell_type": "code",
   "execution_count": 126,
   "id": "e995de8b-8211-4923-9d64-0bc6bc9de81c",
   "metadata": {},
   "outputs": [
    {
     "name": "stdout",
     "output_type": "stream",
     "text": [
      "Hi I am Ali Hos from Iran born in june\n"
     ]
    }
   ],
   "source": [
    "PeopleOfIran.description(Ali,'june') #Imperative"
   ]
  },
  {
   "cell_type": "markdown",
   "id": "f370ea76-a1a5-49e8-954c-7a142bc1a4d3",
   "metadata": {},
   "source": [
    "## Inheritance"
   ]
  },
  {
   "cell_type": "code",
   "execution_count": 36,
   "id": "3bfbad84-223b-44d8-a890-cd0778986d7f",
   "metadata": {},
   "outputs": [],
   "source": [
    "class Cars():\n",
    "    \n",
    "    NumOfWheels = 4\n",
    "    #Class Attributes\n",
    "    def __init__(self, color, brand):\n",
    "        self.color = color\n",
    "        self.brand = brand\n",
    "    #Instance Attributes\n",
    "    def Speedometer(self):\n",
    "        v = input(\"Enter the Maximum speed\")\n",
    "        print(f'{self.brand} can drive with the {v} km/h')\n",
    "    #Instance Methods"
   ]
  },
  {
   "cell_type": "code",
   "execution_count": 37,
   "id": "c3b69473-f337-4e60-b165-9b98758c071e",
   "metadata": {},
   "outputs": [],
   "source": [
    "Ali = Cars('red','Benz')"
   ]
  },
  {
   "cell_type": "code",
   "execution_count": 38,
   "id": "9b593dc1-bb65-427d-9162-4ab3875adf46",
   "metadata": {},
   "outputs": [
    {
     "data": {
      "text/plain": [
       "<__main__.Cars at 0x7f41bc46cf70>"
      ]
     },
     "execution_count": 38,
     "metadata": {},
     "output_type": "execute_result"
    }
   ],
   "source": [
    "Ali"
   ]
  },
  {
   "cell_type": "code",
   "execution_count": 39,
   "id": "ad093875-4cc6-483c-bc27-3fde1be52224",
   "metadata": {},
   "outputs": [
    {
     "data": {
      "text/plain": [
       "'red'"
      ]
     },
     "execution_count": 39,
     "metadata": {},
     "output_type": "execute_result"
    }
   ],
   "source": [
    "Ali.color"
   ]
  },
  {
   "cell_type": "code",
   "execution_count": 40,
   "id": "f6711601-451e-481e-80de-8862f0a74ba9",
   "metadata": {},
   "outputs": [
    {
     "data": {
      "text/plain": [
       "'Benz'"
      ]
     },
     "execution_count": 40,
     "metadata": {},
     "output_type": "execute_result"
    }
   ],
   "source": [
    "Ali.brand"
   ]
  },
  {
   "cell_type": "code",
   "execution_count": 42,
   "id": "0d3737e7-3588-4101-8e8e-d23666ffb55a",
   "metadata": {},
   "outputs": [
    {
     "name": "stdin",
     "output_type": "stream",
     "text": [
      "Enter the Maximum speed 330\n"
     ]
    },
    {
     "name": "stdout",
     "output_type": "stream",
     "text": [
      "Benz can drive with the 330 km/h\n"
     ]
    }
   ],
   "source": [
    "Ali.Speedometer()"
   ]
  },
  {
   "cell_type": "code",
   "execution_count": 80,
   "id": "0343eb38-a5cf-486a-851f-b14d2b84e947",
   "metadata": {},
   "outputs": [],
   "source": [
    "#Inheritance\n",
    "class BMW(Cars):\n",
    "    #pass #They are identical\n",
    "    def __init__(self,color,brand):   \n",
    "        super(BMW, self).__init__(color,brand) #The name you use as the first argument, must be the child class"
   ]
  },
  {
   "cell_type": "code",
   "execution_count": 81,
   "id": "a4cc853b-3676-4f0a-83c2-76f11189b63a",
   "metadata": {},
   "outputs": [
    {
     "data": {
      "text/plain": [
       "'BMW'"
      ]
     },
     "execution_count": 81,
     "metadata": {},
     "output_type": "execute_result"
    }
   ],
   "source": [
    "Be = BMW('blue','BMW')\n",
    "Be.brand"
   ]
  },
  {
   "cell_type": "code",
   "execution_count": 82,
   "id": "f7e51ce8-0f20-4412-b747-c66f1d46ca19",
   "metadata": {},
   "outputs": [
    {
     "name": "stdin",
     "output_type": "stream",
     "text": [
      "Enter the Maximum speed 234\n"
     ]
    },
    {
     "name": "stdout",
     "output_type": "stream",
     "text": [
      "BMW can drive with the 234 km/h\n"
     ]
    }
   ],
   "source": [
    "Re.Speedometer()"
   ]
  },
  {
   "cell_type": "markdown",
   "id": "881606f8-88fe-4e4b-93ea-ccc890c38fa9",
   "metadata": {},
   "source": [
    "### Super Function that Calls the Base(Parental) Class\n",
    "### From the  \"Child Class\""
   ]
  },
  {
   "cell_type": "code",
   "execution_count": 64,
   "id": "7a4027da-525b-40df-9fb7-7628d72742b4",
   "metadata": {},
   "outputs": [
    {
     "data": {
      "text/plain": [
       "<super: __main__.BMW, <__main__.BMW at 0x7f41bc6c5990>>"
      ]
     },
     "execution_count": 64,
     "metadata": {},
     "output_type": "execute_result"
    }
   ],
   "source": [
    "super(BMW, Re) "
   ]
  },
  {
   "cell_type": "code",
   "execution_count": 68,
   "id": "845aa26d-1cc0-45c1-a90e-28f0b701fda9",
   "metadata": {},
   "outputs": [
    {
     "data": {
      "text/plain": [
       "<bound method Cars.__init__ of <__main__.BMW object at 0x7f41bc6c5990>>"
      ]
     },
     "execution_count": 68,
     "metadata": {},
     "output_type": "execute_result"
    }
   ],
   "source": [
    "super(BMW, Re).__init__"
   ]
  },
  {
   "cell_type": "code",
   "execution_count": null,
   "id": "26acd77d-61af-4afd-b373-8c706046f393",
   "metadata": {},
   "outputs": [],
   "source": []
  }
 ],
 "metadata": {
  "kernelspec": {
   "display_name": "Python 3 (ipykernel)",
   "language": "python",
   "name": "python3"
  },
  "language_info": {
   "codemirror_mode": {
    "name": "ipython",
    "version": 3
   },
   "file_extension": ".py",
   "mimetype": "text/x-python",
   "name": "python",
   "nbconvert_exporter": "python",
   "pygments_lexer": "ipython3",
   "version": "3.10.8"
  }
 },
 "nbformat": 4,
 "nbformat_minor": 5
}
