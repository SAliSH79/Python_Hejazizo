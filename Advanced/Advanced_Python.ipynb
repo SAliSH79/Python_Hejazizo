{
 "cells": [
  {
   "cell_type": "markdown",
   "id": "22a086a1-48f9-46b3-ac7c-6484aace4a97",
   "metadata": {},
   "source": [
    "# Advanced Python Programming "
   ]
  },
  {
   "cell_type": "markdown",
   "id": "b461185c-b7ca-4f68-be82-5b23cf09ecf7",
   "metadata": {},
   "source": [
    "## Namespaces"
   ]
  },
  {
   "cell_type": "markdown",
   "id": "bd826f93-5afe-4c22-b673-f663245a3536",
   "metadata": {},
   "source": [
    "### 1.The Built-in Namespaces"
   ]
  },
  {
   "cell_type": "code",
   "execution_count": 4,
   "id": "dd761cea-47e1-42d4-a249-8eb0288c357d",
   "metadata": {},
   "outputs": [],
   "source": [
    "import builtins #Importing a module"
   ]
  },
  {
   "cell_type": "code",
   "execution_count": 2,
   "id": "ddcb58c9-4ab5-4d0b-807d-6a11e22fc55b",
   "metadata": {},
   "outputs": [],
   "source": [
    "#dir(builtins) #All the Built-in, already existing functions and namespaces"
   ]
  },
  {
   "cell_type": "markdown",
   "id": "6767de81-29fe-4a36-9236-aba5206c3362",
   "metadata": {},
   "source": [
    "### 2.Global"
   ]
  },
  {
   "cell_type": "code",
   "execution_count": 1,
   "id": "9dab38fe-fec2-4f31-baef-3a92b8a2b5a5",
   "metadata": {},
   "outputs": [],
   "source": [
    "x = 2\n",
    "#globals()"
   ]
  },
  {
   "cell_type": "markdown",
   "id": "fa6d1d6e-e872-4390-8bec-29a26efc01d9",
   "metadata": {},
   "source": [
    "### Local and Enclosing"
   ]
  },
  {
   "cell_type": "code",
   "execution_count": 22,
   "id": "0e49330c-fa76-478f-9c92-97a7e606c24b",
   "metadata": {},
   "outputs": [],
   "source": [
    "def f():\n",
    "    x = 2 #Enclosing\n",
    "    print('Enclosing x is',x)\n",
    "    def g():\n",
    "        x = 1.2 #Local\n",
    "        print('Local x is',x)\n",
    "    g()"
   ]
  },
  {
   "cell_type": "code",
   "execution_count": 23,
   "id": "1855974a-4bdf-4a3d-b3ed-84259b0e13a4",
   "metadata": {},
   "outputs": [
    {
     "name": "stdout",
     "output_type": "stream",
     "text": [
      "Global x is ['a', 1.5]\n",
      "Enclosing x is 2\n",
      "Local x is 1.2\n"
     ]
    }
   ],
   "source": [
    "x = ['a',1.5] # X is global\n",
    "print('Global x is',x)\n",
    "f()"
   ]
  },
  {
   "cell_type": "markdown",
   "id": "7692fcf6-38aa-40e9-ae83-c03e2d6644ce",
   "metadata": {},
   "source": [
    "## Python Interpreter Uses the LEGB rule to look for the missing or wanted 'x'"
   ]
  },
  {
   "cell_type": "code",
   "execution_count": 12,
   "id": "f594b5f0-fde4-4d2b-ba1d-f87fde0625ba",
   "metadata": {},
   "outputs": [
    {
     "name": "stdout",
     "output_type": "stream",
     "text": [
      "2 \n",
      " <class 'dict'>\n"
     ]
    }
   ],
   "source": [
    "x = 2 #value\n",
    "print( globals()['x'], \"\\n\", #keyword\n",
    "type(globals()) )"
   ]
  },
  {
   "cell_type": "code",
   "execution_count": 28,
   "id": "72566e30-8296-4ea1-976c-00a4182543f2",
   "metadata": {},
   "outputs": [
    {
     "name": "stdout",
     "output_type": "stream",
     "text": [
      "3 \n",
      " <class 'dict'>\n",
      "3\n",
      "done\n"
     ]
    }
   ],
   "source": [
    "def g():\n",
    "    \"\"\"\n",
    "    A function to distinguish between local and global variables\n",
    "    \"\"\"\n",
    "    x = 3 #value\n",
    "    print( locals()['x'], \"\\n\", #keyword\n",
    "    type(locals()) )\n",
    "    locals()['x'] = '1' #It is Immutable due to presenting a Copy of the dictionary to Referencing to it\n",
    "    print(locals()['x'])\n",
    "    return 'done'\n",
    "print(g())"
   ]
  },
  {
   "cell_type": "markdown",
   "id": "6a23d8a4-af8c-47d2-bba2-7768600b21b6",
   "metadata": {},
   "source": [
    "## Object Oriented Programming"
   ]
  },
  {
   "cell_type": "code",
   "execution_count": 12,
   "id": "a927d500-5bb0-4328-90cc-e64973b9eb40",
   "metadata": {},
   "outputs": [],
   "source": [
    "class PeopleOfIran:\n",
    "    pass"
   ]
  },
  {
   "cell_type": "code",
   "execution_count": 13,
   "id": "d3bc37e4-46df-44ab-9d86-4a113bed48b1",
   "metadata": {},
   "outputs": [
    {
     "data": {
      "text/plain": [
       "<__main__.PeopleOfIran at 0x7faeda59a1d0>"
      ]
     },
     "execution_count": 13,
     "metadata": {},
     "output_type": "execute_result"
    }
   ],
   "source": [
    "ali = PeopleOfIran()\n",
    "ali"
   ]
  },
  {
   "cell_type": "code",
   "execution_count": 14,
   "id": "e6a1c45d-d374-4eed-a24a-60bf13ded619",
   "metadata": {},
   "outputs": [],
   "source": [
    "class PeopleOfIran:\n",
    "    def __init__(self, fname, lname, age, location):\n",
    "        self.fn = fname\n",
    "        self.ln = lname\n",
    "        self.age = age\n",
    "        self.loc = location"
   ]
  },
  {
   "cell_type": "code",
   "execution_count": 16,
   "id": "06c9170e-e355-4e08-b5e4-ff71b3aa66d7",
   "metadata": {},
   "outputs": [],
   "source": [
    "Ali = PeopleOfIran('Ali', 'Hos', 23, 'Tehran')"
   ]
  },
  {
   "cell_type": "code",
   "execution_count": 17,
   "id": "f0d8b5f8-01a2-4d42-9267-3a32751ffe03",
   "metadata": {},
   "outputs": [
    {
     "data": {
      "text/plain": [
       "<__main__.PeopleOfIran at 0x7faeda7aeb60>"
      ]
     },
     "execution_count": 17,
     "metadata": {},
     "output_type": "execute_result"
    }
   ],
   "source": [
    "Ali"
   ]
  },
  {
   "cell_type": "code",
   "execution_count": 22,
   "id": "4ab90ed8-b30c-4114-85c8-c155a44fdf09",
   "metadata": {},
   "outputs": [
    {
     "data": {
      "text/plain": [
       "23"
      ]
     },
     "execution_count": 22,
     "metadata": {},
     "output_type": "execute_result"
    }
   ],
   "source": [
    "Ali.age"
   ]
  },
  {
   "cell_type": "code",
   "execution_count": 23,
   "id": "b1bc2a9a-fe2c-48c7-9031-0fa2c15ffb4f",
   "metadata": {},
   "outputs": [
    {
     "data": {
      "text/plain": [
       "'Hos'"
      ]
     },
     "execution_count": 23,
     "metadata": {},
     "output_type": "execute_result"
    }
   ],
   "source": [
    "Ali.ln"
   ]
  },
  {
   "cell_type": "code",
   "execution_count": null,
   "id": "844ff687-0cad-463f-8294-d10560d13ad3",
   "metadata": {},
   "outputs": [],
   "source": []
  }
 ],
 "metadata": {
  "kernelspec": {
   "display_name": "Python 3 (ipykernel)",
   "language": "python",
   "name": "python3"
  },
  "language_info": {
   "codemirror_mode": {
    "name": "ipython",
    "version": 3
   },
   "file_extension": ".py",
   "mimetype": "text/x-python",
   "name": "python",
   "nbconvert_exporter": "python",
   "pygments_lexer": "ipython3",
   "version": "3.10.8"
  }
 },
 "nbformat": 4,
 "nbformat_minor": 5
}
