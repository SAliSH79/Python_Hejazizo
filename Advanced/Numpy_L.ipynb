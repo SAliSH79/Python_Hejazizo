{
 "cells": [
  {
   "cell_type": "code",
   "execution_count": 3,
   "id": "05776f9b-0118-49c7-a524-1ac7c3981972",
   "metadata": {},
   "outputs": [],
   "source": [
    "import numpy as np"
   ]
  },
  {
   "cell_type": "code",
   "execution_count": 3,
   "id": "e25502ee-1bc3-4585-a6f1-888a85cb829d",
   "metadata": {},
   "outputs": [
    {
     "data": {
      "text/plain": [
       "array([1. , 2.5, 4. ])"
      ]
     },
     "execution_count": 3,
     "metadata": {},
     "output_type": "execute_result"
    }
   ],
   "source": [
    "array = np.array((1, 2.5, 4))\n",
    "array"
   ]
  },
  {
   "cell_type": "code",
   "execution_count": 4,
   "id": "8a0070a8-04f3-4723-ac97-5fcbcd5d1e88",
   "metadata": {},
   "outputs": [
    {
     "name": "stdout",
     "output_type": "stream",
     "text": [
      "[1.  2.5 4. ]\n"
     ]
    }
   ],
   "source": [
    "print(array)"
   ]
  },
  {
   "cell_type": "code",
   "execution_count": 5,
   "id": "b64b86c4-b00c-4b81-9de4-16195215f969",
   "metadata": {},
   "outputs": [
    {
     "name": "stdout",
     "output_type": "stream",
     "text": [
      "<class 'numpy.ndarray'>\n"
     ]
    }
   ],
   "source": [
    "print(type(array))"
   ]
  },
  {
   "cell_type": "markdown",
   "id": "3f241373-d0c7-427c-9036-0e2c73c9d70f",
   "metadata": {},
   "source": [
    "#### Dimension in Arrays"
   ]
  },
  {
   "cell_type": "markdown",
   "id": "77576cd0-732f-425f-8d60-1769a478116b",
   "metadata": {},
   "source": [
    "##### 0, 1, 2, 3-D arrays"
   ]
  },
  {
   "cell_type": "code",
   "execution_count": 6,
   "id": "ba2652f6-f1f9-42d2-9cd8-bd0326f35c63",
   "metadata": {},
   "outputs": [
    {
     "name": "stdout",
     "output_type": "stream",
     "text": [
      "42\n",
      "<class 'numpy.ndarray'>\n"
     ]
    }
   ],
   "source": [
    "array = np.array(42)\n",
    "print(array)\n",
    "print(type(array))"
   ]
  },
  {
   "cell_type": "code",
   "execution_count": 7,
   "id": "63884b0e-b8d5-4486-9fb4-07b9a2aac287",
   "metadata": {},
   "outputs": [
    {
     "data": {
      "text/plain": [
       "0"
      ]
     },
     "execution_count": 7,
     "metadata": {},
     "output_type": "execute_result"
    }
   ],
   "source": [
    "array.ndim"
   ]
  },
  {
   "cell_type": "code",
   "execution_count": 8,
   "id": "9be0ad88-7a8d-4828-b0a0-61a74f3ee961",
   "metadata": {},
   "outputs": [
    {
     "name": "stdout",
     "output_type": "stream",
     "text": [
      "[[[42.   21.  ]\n",
      "  [14.    7.  ]]\n",
      "\n",
      " [[ 3.5   1.75]\n",
      "  [ 0.    1.  ]]]\n",
      "<class 'numpy.ndarray'>\n",
      "3\n"
     ]
    }
   ],
   "source": [
    "array1 = np.array([[[42, 21], [14, 7]], [[3.5, 1.75], [0, 1]]]) #3-D array\n",
    "print(array1)\n",
    "print(type(array1))\n",
    "print(array1.ndim)"
   ]
  },
  {
   "cell_type": "code",
   "execution_count": 9,
   "id": "9ba20afb-7b2b-474a-8033-4c5a085aba56",
   "metadata": {},
   "outputs": [
    {
     "name": "stdout",
     "output_type": "stream",
     "text": [
      "[[[1 2 3]]]\n"
     ]
    }
   ],
   "source": [
    "array = np.array([1,2,3], ndmin = 3)\n",
    "print(array)"
   ]
  },
  {
   "cell_type": "markdown",
   "id": "fdb228ba-a778-4960-b176-99a72c408bb3",
   "metadata": {},
   "source": [
    "### Array Indexing"
   ]
  },
  {
   "cell_type": "code",
   "execution_count": 10,
   "id": "e99f1bb0-560a-4185-a608-e0858f3fecb2",
   "metadata": {},
   "outputs": [
    {
     "data": {
      "text/plain": [
       "array([[42., 21.],\n",
       "       [14.,  7.]])"
      ]
     },
     "execution_count": 10,
     "metadata": {},
     "output_type": "execute_result"
    }
   ],
   "source": [
    "array1[0]"
   ]
  },
  {
   "cell_type": "code",
   "execution_count": 11,
   "id": "525f23d8-31fe-44bf-9ca0-4016f9aadccc",
   "metadata": {},
   "outputs": [
    {
     "data": {
      "text/plain": [
       "array([42., 21.])"
      ]
     },
     "execution_count": 11,
     "metadata": {},
     "output_type": "execute_result"
    }
   ],
   "source": [
    "array1[0][0]"
   ]
  },
  {
   "cell_type": "code",
   "execution_count": 12,
   "id": "c2014734-be88-49e2-95b8-4c5dacacccef",
   "metadata": {},
   "outputs": [
    {
     "data": {
      "text/plain": [
       "42.0"
      ]
     },
     "execution_count": 12,
     "metadata": {},
     "output_type": "execute_result"
    }
   ],
   "source": [
    "array1[0][0][0]"
   ]
  },
  {
   "cell_type": "code",
   "execution_count": 13,
   "id": "9024eca8-3296-4ba8-bb09-2872f8cfff23",
   "metadata": {},
   "outputs": [
    {
     "name": "stdout",
     "output_type": "stream",
     "text": [
      "Second element in Array 1 is 21.0\n"
     ]
    }
   ],
   "source": [
    "print(f\"Second element in Array 1 is {array1[0,0,1]}\")"
   ]
  },
  {
   "cell_type": "code",
   "execution_count": 14,
   "id": "817020cb-6b4c-4a50-b095-ca2ecc2a9938",
   "metadata": {},
   "outputs": [
    {
     "name": "stdout",
     "output_type": "stream",
     "text": [
      "Second element in Array 1 is 21.0\n",
      "first element in Array 1 is 42.0\n"
     ]
    }
   ],
   "source": [
    "print(f\"Second element in Array 1 is {array1[0,0,-1]}\")\n",
    "print(f\"first element in Array 1 is {array1[0,0,-2]}\") #Negative Indexing"
   ]
  },
  {
   "cell_type": "markdown",
   "id": "ef614624-1f55-457f-b04a-03be5d25dff3",
   "metadata": {},
   "source": [
    "#### NumPy Array Slicing\n"
   ]
  },
  {
   "cell_type": "code",
   "execution_count": 21,
   "id": "08a9cafe-3d27-41f7-9d9b-7e56b20470cc",
   "metadata": {},
   "outputs": [
    {
     "name": "stdout",
     "output_type": "stream",
     "text": [
      "1\n",
      "[ 1.  3.  6.  8. 11.]\n"
     ]
    }
   ],
   "source": [
    "a2 = np.array([1,2,3,4.5,6,7,8,9,11,12])\n",
    "print(a2.ndim)\n",
    "print(a2[::2])"
   ]
  },
  {
   "cell_type": "code",
   "execution_count": 27,
   "id": "8b6e09b6-6c9c-4c4d-9af2-56ca0369362e",
   "metadata": {},
   "outputs": [
    {
     "name": "stdout",
     "output_type": "stream",
     "text": [
      "[ 6.  7.  8.  9. 11.]\n"
     ]
    }
   ],
   "source": [
    "print(a2[-6:-1])"
   ]
  },
  {
   "cell_type": "code",
   "execution_count": 68,
   "id": "e702a9eb-8c9a-436a-868b-a45707cd8e6d",
   "metadata": {},
   "outputs": [
    {
     "name": "stdout",
     "output_type": "stream",
     "text": [
      "42.0\n",
      "14.0\n"
     ]
    }
   ],
   "source": [
    "print(array1[0][0][0])\n",
    "print(array1[0][1][0])"
   ]
  },
  {
   "cell_type": "markdown",
   "id": "94ea3d29-7cb1-4e4f-9d16-a0d86143b329",
   "metadata": {},
   "source": [
    "### Data Types in Numpy"
   ]
  },
  {
   "cell_type": "code",
   "execution_count": 77,
   "id": "6fcb3f46-39f1-4eb5-bb05-923e5ffc4bd7",
   "metadata": {},
   "outputs": [
    {
     "name": "stdout",
     "output_type": "stream",
     "text": [
      "[b'1' b'2' b'3' b'4']\n"
     ]
    }
   ],
   "source": [
    "Arr2 = np.array([1,2,3,4], dtype = 'S')\n",
    "print(Arr2)"
   ]
  },
  {
   "cell_type": "code",
   "execution_count": 78,
   "id": "55825f1b-1fbd-49b1-9390-fb32f1624c2c",
   "metadata": {},
   "outputs": [
    {
     "name": "stdout",
     "output_type": "stream",
     "text": [
      "[1. 2. 3. 4.]\n"
     ]
    }
   ],
   "source": [
    "Arr2 = np.array([1,2,3,4], dtype = 'f')\n",
    "print(Arr2)"
   ]
  },
  {
   "cell_type": "code",
   "execution_count": 79,
   "id": "7f6867d2-9023-4de9-85e0-3c70a9755a9e",
   "metadata": {},
   "outputs": [
    {
     "data": {
      "text/plain": [
       "array([1.2, 3.4, 5. , 6.5], dtype=float32)"
      ]
     },
     "execution_count": 79,
     "metadata": {},
     "output_type": "execute_result"
    }
   ],
   "source": [
    "Arr3 = np.array([1.2, 3.4, 5., 6.5], dtype = 'f')\n",
    "Arr3"
   ]
  },
  {
   "cell_type": "code",
   "execution_count": 81,
   "id": "a97f1c42-894f-4de6-aba9-7704d55650ae",
   "metadata": {},
   "outputs": [
    {
     "data": {
      "text/plain": [
       "array([ True,  True,  True,  True])"
      ]
     },
     "execution_count": 81,
     "metadata": {},
     "output_type": "execute_result"
    }
   ],
   "source": [
    "arraynew = Arr3.astype(bool)\n",
    "arraynew"
   ]
  },
  {
   "cell_type": "markdown",
   "id": "68473495-4256-43cb-8f43-4dca195a4f55",
   "metadata": {},
   "source": [
    "### Array (Re)Shapes"
   ]
  },
  {
   "cell_type": "code",
   "execution_count": 84,
   "id": "9f349e11-8f99-4abd-ae90-02da9e08f781",
   "metadata": {},
   "outputs": [
    {
     "data": {
      "text/plain": [
       "(4,)"
      ]
     },
     "execution_count": 84,
     "metadata": {},
     "output_type": "execute_result"
    }
   ],
   "source": [
    "Arr3.shape"
   ]
  },
  {
   "cell_type": "code",
   "execution_count": 85,
   "id": "d9727380-cf2d-4a59-85cc-3e1c130ecb67",
   "metadata": {},
   "outputs": [
    {
     "data": {
      "text/plain": [
       "array([[1.2, 3.4],\n",
       "       [5. , 6.5]], dtype=float32)"
      ]
     },
     "execution_count": 85,
     "metadata": {},
     "output_type": "execute_result"
    }
   ],
   "source": [
    "Arr3.reshape(2,2)"
   ]
  },
  {
   "cell_type": "code",
   "execution_count": 86,
   "id": "6d6af105-f427-4f6f-85ed-813a778e4001",
   "metadata": {},
   "outputs": [
    {
     "name": "stdout",
     "output_type": "stream",
     "text": [
      "[1 2 3 4 5 6]\n"
     ]
    }
   ],
   "source": [
    "arr = np.array([[1, 2, 3], [4, 5, 6]])\n",
    "newarr = arr.reshape(-1)\n",
    "print(newarr)"
   ]
  },
  {
   "cell_type": "markdown",
   "id": "f0d6ca5e-714d-4b14-b102-b6b96ebf48b4",
   "metadata": {},
   "source": [
    "### Iterating"
   ]
  },
  {
   "cell_type": "code",
   "execution_count": 4,
   "id": "bcf78640-6351-4d6c-9279-7a6ef1b9b0d4",
   "metadata": {},
   "outputs": [],
   "source": [
    "arr = np.array([[1,2,3],[4,5,6]])"
   ]
  },
  {
   "cell_type": "code",
   "execution_count": 5,
   "id": "435e7a77-fc18-462f-afd4-584122877bc5",
   "metadata": {},
   "outputs": [
    {
     "name": "stdout",
     "output_type": "stream",
     "text": [
      "[1 2 3]\n",
      "[4 5 6]\n"
     ]
    }
   ],
   "source": [
    "for i in arr:\n",
    "    print(i)"
   ]
  },
  {
   "cell_type": "code",
   "execution_count": 6,
   "id": "ee9ac1e5-27de-4e90-b4af-f8e6b322958c",
   "metadata": {},
   "outputs": [
    {
     "name": "stdout",
     "output_type": "stream",
     "text": [
      "1\n",
      "2\n",
      "3\n",
      "4\n",
      "5\n",
      "6\n"
     ]
    }
   ],
   "source": [
    "for i in arr:\n",
    "    for j in i:\n",
    "        print(j)"
   ]
  },
  {
   "cell_type": "code",
   "execution_count": 9,
   "id": "987c8780-4521-4b5b-9fd7-d948c219b072",
   "metadata": {},
   "outputs": [
    {
     "name": "stdout",
     "output_type": "stream",
     "text": [
      "1\n",
      "2\n",
      "3\n",
      "4\n",
      "5\n",
      "6\n"
     ]
    }
   ],
   "source": [
    "for i in np.nditer(arr):\n",
    "    print(i)"
   ]
  },
  {
   "cell_type": "code",
   "execution_count": 15,
   "id": "888c7058-346e-4df4-a029-0e394f2a914e",
   "metadata": {},
   "outputs": [
    {
     "name": "stdout",
     "output_type": "stream",
     "text": [
      "b'1'\n",
      "b'2'\n",
      "b'3'\n",
      "b'4'\n",
      "b'5'\n",
      "b'6'\n"
     ]
    }
   ],
   "source": [
    "for i in np.nditer(arr, flags = ['buffered'], op_dtypes = 'S'):\n",
    "    print(i)"
   ]
  },
  {
   "cell_type": "code",
   "execution_count": 16,
   "id": "d8d31313-b27d-4fa3-83a1-012c44e100f3",
   "metadata": {},
   "outputs": [
    {
     "name": "stdout",
     "output_type": "stream",
     "text": [
      "(0, 0) 1\n",
      "(0, 1) 2\n",
      "(0, 2) 3\n",
      "(1, 0) 4\n",
      "(1, 1) 5\n",
      "(1, 2) 6\n"
     ]
    }
   ],
   "source": [
    "for idx, x in np.ndenumerate(arr):\n",
    "     print(idx, x)"
   ]
  },
  {
   "cell_type": "code",
   "execution_count": 17,
   "id": "05f4ce1f-22f3-4bdf-ba76-96f89c87c4a2",
   "metadata": {},
   "outputs": [
    {
     "data": {
      "text/plain": [
       "2"
      ]
     },
     "execution_count": 17,
     "metadata": {},
     "output_type": "execute_result"
    }
   ],
   "source": [
    "arr[0][1]"
   ]
  },
  {
   "cell_type": "code",
   "execution_count": 25,
   "id": "ba802579-6bdb-4a4e-a787-5b1c8a29f10d",
   "metadata": {},
   "outputs": [
    {
     "name": "stdout",
     "output_type": "stream",
     "text": [
      "[ True  True  True  True  True  True]\n"
     ]
    }
   ],
   "source": [
    "arr1 = np.array([1, 2, 3])\n",
    "arr2 = np.array([4, 5, 6])\n",
    "arr = np.concatenate((arr1, arr2))\n",
    "arR = np.hstack((arr1,arr2))\n",
    "print(arr == arR)"
   ]
  },
  {
   "cell_type": "code",
   "execution_count": 28,
   "id": "7d2978bb-ea0a-4081-97cc-13aa80b3984d",
   "metadata": {},
   "outputs": [
    {
     "name": "stdout",
     "output_type": "stream",
     "text": [
      "[[1 2 3]\n",
      " [4 5 6]]\n",
      "\n",
      "\n",
      "[[[1 4]\n",
      "  [2 5]\n",
      "  [3 6]]]\n"
     ]
    }
   ],
   "source": [
    "print(np.vstack((arr1,arr2)))\n",
    "print(\"\\n\")\n",
    "print(np.dstack((arr1,arr2)))"
   ]
  },
  {
   "cell_type": "code",
   "execution_count": 32,
   "id": "3b7ceea6-2e2b-472d-a78f-c803b9769ee2",
   "metadata": {},
   "outputs": [
    {
     "name": "stdout",
     "output_type": "stream",
     "text": [
      "<class 'list'>\n"
     ]
    }
   ],
   "source": [
    "print(type(np.array_split(arr, 3))) # Spiliting arrays into any desired-length array"
   ]
  },
  {
   "cell_type": "markdown",
   "id": "74553024-f664-4ceb-b62e-7955802d2cb4",
   "metadata": {},
   "source": [
    "### Array Search"
   ]
  },
  {
   "cell_type": "code",
   "execution_count": 1,
   "id": "eb55e822-0e17-4f8a-9b10-c35182a57fc6",
   "metadata": {},
   "outputs": [
    {
     "data": {
      "text/plain": [
       "array([1, 2, 3, 4, 5, 6, 7])"
      ]
     },
     "execution_count": 1,
     "metadata": {},
     "output_type": "execute_result"
    }
   ],
   "source": [
    "import numpy as np\n",
    "ar1 = np.array([1,2,3,4,5,6,7])\n",
    "ar1"
   ]
  },
  {
   "cell_type": "code",
   "execution_count": 3,
   "id": "3c53fbe1-5086-45cf-9e58-c72fd211686d",
   "metadata": {},
   "outputs": [
    {
     "data": {
      "text/plain": [
       "(array([1]),)"
      ]
     },
     "execution_count": 3,
     "metadata": {},
     "output_type": "execute_result"
    }
   ],
   "source": [
    "x = np.where(ar1 == 2) # Return the indexes\n",
    "x"
   ]
  },
  {
   "cell_type": "markdown",
   "id": "0cbd5091-7586-4a19-ae84-4f89f47eb2cb",
   "metadata": {
    "tags": []
   },
   "source": [
    "### Array Sorting"
   ]
  },
  {
   "cell_type": "code",
   "execution_count": 4,
   "id": "cdbcbcf3-a3f4-4686-a34f-96feb7415f08",
   "metadata": {},
   "outputs": [
    {
     "name": "stdout",
     "output_type": "stream",
     "text": [
      "['apple' 'banana' 'cherry']\n"
     ]
    }
   ],
   "source": [
    "arr = np.array(['banana', 'cherry', 'apple'])\n",
    "print(np.sort(arr)) #Returning a copy f that array"
   ]
  },
  {
   "cell_type": "markdown",
   "id": "71e335b9-42e5-4f18-b3d7-4fd4a090c4de",
   "metadata": {},
   "source": [
    "## The copy SHOULD NOT be affected by the changes made to the original array."
   ]
  },
  {
   "cell_type": "markdown",
   "id": "7658db0f-01db-4aaf-b526-cc83dd6a795e",
   "metadata": {},
   "source": [
    "#### Filter"
   ]
  },
  {
   "cell_type": "code",
   "execution_count": 7,
   "id": "f458dad0-526e-4881-bcae-03a8bd4320bd",
   "metadata": {},
   "outputs": [
    {
     "name": "stdout",
     "output_type": "stream",
     "text": [
      "[2, 4, 6]\n"
     ]
    }
   ],
   "source": [
    "filtered_arr = []\n",
    "for i in ar1:\n",
    "    if i %2 == 0:\n",
    "        filtered_arr.append(i)\n",
    "    else:\n",
    "        continue\n",
    "print(filtered_arr)"
   ]
  },
  {
   "cell_type": "code",
   "execution_count": 12,
   "id": "8814ae49-1deb-4734-a959-1e78a47fe0c8",
   "metadata": {},
   "outputs": [
    {
     "data": {
      "text/plain": [
       "array([6, 7])"
      ]
     },
     "execution_count": 12,
     "metadata": {},
     "output_type": "execute_result"
    }
   ],
   "source": [
    "fil_arr = ar1 > 5 #Return an array of booleans\n",
    "n = ar1[fil_arr]\n",
    "n"
   ]
  },
  {
   "cell_type": "markdown",
   "id": "ff93d72b-ce4f-488d-849b-c91d11f9183c",
   "metadata": {},
   "source": [
    "## Random numbers"
   ]
  },
  {
   "cell_type": "markdown",
   "id": "a908618c-196f-4aa3-a2c8-c11e278a187f",
   "metadata": {},
   "source": [
    "#### Random numbers generated through a generation algorithm are called pseudo random."
   ]
  },
  {
   "cell_type": "code",
   "execution_count": 1,
   "id": "e77cbe2b-8086-43f2-98c1-9c23c81d9342",
   "metadata": {},
   "outputs": [
    {
     "name": "stdout",
     "output_type": "stream",
     "text": [
      "[[87 16 39 95]\n",
      " [15 97 42 20]\n",
      " [80 85 56 28]\n",
      " [11 87  1 62]\n",
      " [12 93 62 92]]\n",
      "[[0.05412303 0.68399253 0.48906029]\n",
      " [0.97869159 0.58158524 0.70029917]\n",
      " [0.73326269 0.33159544 0.83220935]]\n"
     ]
    }
   ],
   "source": [
    "from numpy import random\n",
    "x1 = random.randint(100, size=(5,4)) #Integer\n",
    "x2 = random.rand(3,3) #Random Float numbers between 0 to 1\n",
    "\n",
    "print(x1)\n",
    "print(x2)"
   ]
  },
  {
   "cell_type": "code",
   "execution_count": 2,
   "id": "9c48af40-b53b-4d7f-860b-587037a9f834",
   "metadata": {},
   "outputs": [
    {
     "name": "stdout",
     "output_type": "stream",
     "text": [
      "[['2' '3.5']\n",
      " ['aa' '2']\n",
      " ['2' '4.75']]\n"
     ]
    }
   ],
   "source": [
    "x = random.choice([2, 3.5, 4.75, 'aa'], size=(3, 2))\n",
    "print(x)"
   ]
  },
  {
   "cell_type": "markdown",
   "id": "515a7380-6d76-46fa-a99c-aa7a5ff7d4f2",
   "metadata": {},
   "source": [
    "#### Random Data Distribution"
   ]
  },
  {
   "cell_type": "code",
   "execution_count": 4,
   "id": "3f7d39af-8c6e-4f38-8eb7-44b58fc15836",
   "metadata": {},
   "outputs": [
    {
     "name": "stdout",
     "output_type": "stream",
     "text": [
      "[[5 7 7 7 1]\n",
      " [5 7 5 5 1]\n",
      " [3 1 7 1 5]\n",
      " [5 7 5 5 5]]\n"
     ]
    }
   ],
   "source": [
    "x = random.choice([1, 3, 5, 7, 9], size = (4,5), p=[0.1, 0.2, 0.4, 0.3, 0.0])\n",
    "print(x)"
   ]
  },
  {
   "cell_type": "code",
   "execution_count": 13,
   "id": "d09b441a-de67-4632-aa07-33f986712a9c",
   "metadata": {},
   "outputs": [
    {
     "name": "stdout",
     "output_type": "stream",
     "text": [
      "[1 9 8 9 3 9 1 4 5 9]\n"
     ]
    }
   ],
   "source": [
    "import numpy as np\n",
    "x = random.randint(10, size = (10))\n",
    "print(x)"
   ]
  },
  {
   "cell_type": "code",
   "execution_count": 14,
   "id": "ebe56680-532f-45e9-9db7-92cf0e1db21a",
   "metadata": {},
   "outputs": [
    {
     "data": {
      "text/plain": [
       "array([3, 9, 9, 8, 1, 9, 5, 4, 9, 1])"
      ]
     },
     "execution_count": 14,
     "metadata": {},
     "output_type": "execute_result"
    }
   ],
   "source": [
    "random.permutation(x)"
   ]
  },
  {
   "cell_type": "code",
   "execution_count": 15,
   "id": "31793b08-18cf-4f7f-97ed-1dfbe29482d5",
   "metadata": {},
   "outputs": [
    {
     "data": {
      "text/plain": [
       "array([9, 5, 1, 9, 3, 9, 8, 4, 9, 1])"
      ]
     },
     "execution_count": 15,
     "metadata": {},
     "output_type": "execute_result"
    }
   ],
   "source": [
    "random.permutation(x)"
   ]
  },
  {
   "cell_type": "code",
   "execution_count": 21,
   "id": "1f41a32c-781a-449c-8144-de28882319e1",
   "metadata": {},
   "outputs": [
    {
     "name": "stdout",
     "output_type": "stream",
     "text": [
      "[4 8 3 1 5 9 9 9 9 1]\n",
      "[8 1 4 5 9 9 3 1 9 9]\n",
      "[9 8 1 5 4 3 9 9 1 9]\n"
     ]
    }
   ],
   "source": [
    "for i in range(3):\n",
    "    random.shuffle(x)\n",
    "    print(x)"
   ]
  },
  {
   "cell_type": "markdown",
   "id": "2b8019a6-9bed-4ac3-8fc5-2646e6af84a0",
   "metadata": {},
   "source": [
    "### Seaborn"
   ]
  },
  {
   "cell_type": "code",
   "execution_count": 11,
   "id": "d529bb04-7809-4e37-ae25-6bed75c6fed6",
   "metadata": {},
   "outputs": [
    {
     "data": {
      "image/png": "[encoded data removed]",
      "text/plain": [
       "<Figure size 500x500 with 1 Axes>"
      ]
     },
     "metadata": {},
     "output_type": "display_data"
    }
   ],
   "source": [
    "import seaborn as sns\n",
    "import matplotlib as plt\n",
    "import numpy as np\n",
    "\n",
    "a = np.array([1, 2.5, 3.144, 5, 7])\n",
    "g = sns.displot(a)\n",
    "\n",
    "g.fig.show()"
   ]
  },
  {
   "cell_type": "markdown",
   "id": "ce59165e-3876-41c5-8f24-34150e70f90f",
   "metadata": {},
   "source": [
    "### Normal Gaussian Distribution"
   ]
  },
  {
   "cell_type": "code",
   "execution_count": 12,
   "id": "25470164-d104-48bc-b591-724152d8acdc",
   "metadata": {},
   "outputs": [
    {
     "name": "stdout",
     "output_type": "stream",
     "text": [
      "[[  5.77466731 -18.81565416]\n",
      " [ -8.63400487  49.10098262]\n",
      " [ -0.58774211  15.37943459]\n",
      " [-33.8259801   -9.36405548]\n",
      " [ 43.97892519   5.8439923 ]]\n"
     ]
    }
   ],
   "source": [
    "from numpy import random\n",
    "\n",
    "x = random.normal(loc = 1, scale = 23, size = (5,2))\n",
    "print(x)"
   ]
  },
  {
   "cell_type": "code",
   "execution_count": 13,
   "id": "08671cb8-e7b9-435f-8e6d-9d5f9736f857",
   "metadata": {},
   "outputs": [
    {
     "data": {
      "image/png": "[encoded data removed]",
      "text/plain": [
       "<Figure size 558.875x500 with 1 Axes>"
      ]
     },
     "metadata": {},
     "output_type": "display_data"
    }
   ],
   "source": [
    "b = sns.displot(x, kind='kde')\n",
    "b.fig.show()"
   ]
  },
  {
   "cell_type": "markdown",
   "id": "e8617b1c-05d4-4375-9d44-fd723352752d",
   "metadata": {},
   "source": [
    "## Binomial Distribution"
   ]
  },
  {
   "cell_type": "code",
   "execution_count": 14,
   "id": "6e74b880-063f-4f4b-b600-7c626cec6fd3",
   "metadata": {},
   "outputs": [],
   "source": [
    "%matplotlib inline"
   ]
  },
  {
   "cell_type": "code",
   "execution_count": null,
   "id": "0c9ca6fa-7806-4949-86d4-7a94b9b4bb26",
   "metadata": {},
   "outputs": [],
   "source": []
  }
 ],
 "metadata": {
  "kernelspec": {
   "display_name": "Python 3 (ipykernel)",
   "language": "python",
   "name": "python3"
  },
  "language_info": {
   "codemirror_mode": {
    "name": "ipython",
    "version": 3
   },
   "file_extension": ".py",
   "mimetype": "text/x-python",
   "name": "python",
   "nbconvert_exporter": "python",
   "pygments_lexer": "ipython3",
   "version": "3.10.8"
  }
 },
 "nbformat": 4,
 "nbformat_minor": 5
}
