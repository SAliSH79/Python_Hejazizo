{
 "cells": [
  {
   "cell_type": "code",
   "execution_count": 1,
   "id": "05776f9b-0118-49c7-a524-1ac7c3981972",
   "metadata": {},
   "outputs": [],
   "source": [
    "import numpy as np"
   ]
  },
  {
   "cell_type": "code",
   "execution_count": 2,
   "id": "e25502ee-1bc3-4585-a6f1-888a85cb829d",
   "metadata": {},
   "outputs": [
    {
     "data": {
      "text/plain": [
       "array([1. , 2.5, 4. ])"
      ]
     },
     "execution_count": 2,
     "metadata": {},
     "output_type": "execute_result"
    }
   ],
   "source": [
    "array = np.array((1, 2.5, 4))\n",
    "array"
   ]
  },
  {
   "cell_type": "code",
   "execution_count": 3,
   "id": "8a0070a8-04f3-4723-ac97-5fcbcd5d1e88",
   "metadata": {},
   "outputs": [
    {
     "name": "stdout",
     "output_type": "stream",
     "text": [
      "[1.  2.5 4. ]\n"
     ]
    }
   ],
   "source": [
    "print(array)"
   ]
  },
  {
   "cell_type": "code",
   "execution_count": 4,
   "id": "b64b86c4-b00c-4b81-9de4-16195215f969",
   "metadata": {},
   "outputs": [
    {
     "name": "stdout",
     "output_type": "stream",
     "text": [
      "<class 'numpy.ndarray'>\n"
     ]
    }
   ],
   "source": [
    "print(type(array))"
   ]
  },
  {
   "cell_type": "markdown",
   "id": "3f241373-d0c7-427c-9036-0e2c73c9d70f",
   "metadata": {},
   "source": [
    "#### Dimension in Arrays"
   ]
  },
  {
   "cell_type": "markdown",
   "id": "77576cd0-732f-425f-8d60-1769a478116b",
   "metadata": {},
   "source": [
    "##### 0, 1, 2, 3-D arrays"
   ]
  },
  {
   "cell_type": "code",
   "execution_count": 6,
   "id": "ba2652f6-f1f9-42d2-9cd8-bd0326f35c63",
   "metadata": {},
   "outputs": [
    {
     "name": "stdout",
     "output_type": "stream",
     "text": [
      "42\n",
      "<class 'numpy.ndarray'>\n"
     ]
    }
   ],
   "source": [
    "array = np.array(42)\n",
    "print(array)\n",
    "print(type(array))"
   ]
  },
  {
   "cell_type": "code",
   "execution_count": 7,
   "id": "63884b0e-b8d5-4486-9fb4-07b9a2aac287",
   "metadata": {},
   "outputs": [
    {
     "data": {
      "text/plain": [
       "0"
      ]
     },
     "execution_count": 7,
     "metadata": {},
     "output_type": "execute_result"
    }
   ],
   "source": [
    "array.ndim"
   ]
  },
  {
   "cell_type": "code",
   "execution_count": 20,
   "id": "9be0ad88-7a8d-4828-b0a0-61a74f3ee961",
   "metadata": {},
   "outputs": [
    {
     "name": "stdout",
     "output_type": "stream",
     "text": [
      "[[[42.   21.  ]\n",
      "  [14.    7.  ]]\n",
      "\n",
      " [[ 3.5   1.75]\n",
      "  [ 0.    1.  ]]]\n",
      "<class 'numpy.ndarray'>\n",
      "3\n"
     ]
    }
   ],
   "source": [
    "array = np.array([[[42, 21], [14, 7]], [[3.5, 1.75], [0, 1]]]) #3-D array\n",
    "print(array)\n",
    "print(type(array))\n",
    "print(array.ndim)"
   ]
  },
  {
   "cell_type": "code",
   "execution_count": 21,
   "id": "9ba20afb-7b2b-474a-8033-4c5a085aba56",
   "metadata": {},
   "outputs": [
    {
     "name": "stdout",
     "output_type": "stream",
     "text": [
      "[[[1 2 3]]]\n"
     ]
    }
   ],
   "source": [
    "array = np.array([1,2,3], ndmin = 3)\n",
    "print(array)"
   ]
  },
  {
   "cell_type": "code",
   "execution_count": null,
   "id": "ff9bd353-d513-419b-8294-fb11b6234c38",
   "metadata": {},
   "outputs": [],
   "source": []
  },
  {
   "cell_type": "code",
   "execution_count": null,
   "id": "e99f1bb0-560a-4185-a608-e0858f3fecb2",
   "metadata": {},
   "outputs": [],
   "source": []
  }
 ],
 "metadata": {
  "kernelspec": {
   "display_name": "Python 3 (ipykernel)",
   "language": "python",
   "name": "python3"
  },
  "language_info": {
   "codemirror_mode": {
    "name": "ipython",
    "version": 3
   },
   "file_extension": ".py",
   "mimetype": "text/x-python",
   "name": "python",
   "nbconvert_exporter": "python",
   "pygments_lexer": "ipython3",
   "version": "3.10.8"
  }
 },
 "nbformat": 4,
 "nbformat_minor": 5
}
