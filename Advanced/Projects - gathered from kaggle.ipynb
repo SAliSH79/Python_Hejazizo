{
 "cells": [
  {
   "cell_type": "markdown",
   "id": "08109272-7596-40d7-9f28-89f40eec2339",
   "metadata": {},
   "source": [
    "# Acronym Gernerator"
   ]
  },
  {
   "cell_type": "code",
   "execution_count": 1,
   "id": "2af82586-34df-410d-a718-b2630cf0348c",
   "metadata": {},
   "outputs": [
    {
     "name": "stdin",
     "output_type": "stream",
     "text": [
      "Enter a Phrase:  A home for Me\n"
     ]
    },
    {
     "name": "stdout",
     "output_type": "stream",
     "text": [
      " AHFM\n"
     ]
    }
   ],
   "source": [
    "user_input = str(input(\"Enter a Phrase: \"))\n",
    "text = user_input.split()\n",
    "a = \" \"\n",
    "for i in text:\n",
    "    a = a+str(i[0]).upper()\n",
    "print(a)"
   ]
  },
  {
   "cell_type": "markdown",
   "id": "dc63680c-fb4c-4a0c-adde-3bedefe7b43d",
   "metadata": {},
   "source": [
    "# BMI Calculator:"
   ]
  },
  {
   "cell_type": "code",
   "execution_count": null,
   "id": "42b55f5d-d659-40ff-9892-0d3d02252c66",
   "metadata": {},
   "outputs": [],
   "source": []
  }
 ],
 "metadata": {
  "kernelspec": {
   "display_name": "Python 3 (ipykernel)",
   "language": "python",
   "name": "python3"
  },
  "language_info": {
   "codemirror_mode": {
    "name": "ipython",
    "version": 3
   },
   "file_extension": ".py",
   "mimetype": "text/x-python",
   "name": "python",
   "nbconvert_exporter": "python",
   "pygments_lexer": "ipython3",
   "version": "3.10.8"
  }
 },
 "nbformat": 4,
 "nbformat_minor": 5
}
