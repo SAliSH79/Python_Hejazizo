{
 "cells": [
  {
   "cell_type": "markdown",
   "id": "aa2fe46c-ef79-45e8-81fc-6a6eeab3a54c",
   "metadata": {},
   "source": [
    "## Fibonacci Series"
   ]
  },
  {
   "cell_type": "code",
   "execution_count": 1,
   "id": "4b6f3a1d-8f59-4c0a-a07d-b6eefcb969fd",
   "metadata": {},
   "outputs": [
    {
     "name": "stdin",
     "output_type": "stream",
     "text": [
      "Enter the number of steps you wish to see: 11\n"
     ]
    },
    {
     "name": "stdout",
     "output_type": "stream",
     "text": [
      "We are at the 0th level of this sequence, while the sequence itself is [0, 1]\n",
      "We are at the 1th level of this sequence, while the sequence itself is [0, 1]\n",
      "We are at the 2th level of this sequence, while the sequence itself is [0, 1, 1]\n",
      "We are at the 3th level of this sequence, while the sequence itself is [0, 1, 1, 2]\n",
      "We are at the 4th level of this sequence, while the sequence itself is [0, 1, 1, 2, 3]\n",
      "We are at the 5th level of this sequence, while the sequence itself is [0, 1, 1, 2, 3, 5]\n",
      "We are at the 6th level of this sequence, while the sequence itself is [0, 1, 1, 2, 3, 5, 8]\n",
      "We are at the 7th level of this sequence, while the sequence itself is [0, 1, 1, 2, 3, 5, 8, 13]\n",
      "We are at the 8th level of this sequence, while the sequence itself is [0, 1, 1, 2, 3, 5, 8, 13, 21]\n",
      "We are at the 9th level of this sequence, while the sequence itself is [0, 1, 1, 2, 3, 5, 8, 13, 21, 34]\n",
      "We are at the 10th level of this sequence, while the sequence itself is [0, 1, 1, 2, 3, 5, 8, 13, 21, 34, 55]\n",
      "We are at the 11th level of this sequence, while the sequence itself is [0, 1, 1, 2, 3, 5, 8, 13, 21, 34, 55, 89]\n"
     ]
    }
   ],
   "source": [
    "n = int(input('Enter the number of steps you wish to see:'))\n",
    "x = [0,1]\n",
    "i = 0\n",
    "y = 0\n",
    "while i <= n:\n",
    "    print(f'We are at the {i}th level of this sequence, while the sequence itself is {x}',end='\\n')\n",
    "    if i >= 1:\n",
    "        y = x[i] + x[i-1]\n",
    "        x.append(y)\n",
    "    i+=1"
   ]
  },
  {
   "cell_type": "code",
   "execution_count": null,
   "id": "f388b905-634c-4a6f-8870-4f987090d89d",
   "metadata": {},
   "outputs": [],
   "source": []
  }
 ],
 "metadata": {
  "kernelspec": {
   "display_name": "Python 3 (ipykernel)",
   "language": "python",
   "name": "python3"
  },
  "language_info": {
   "codemirror_mode": {
    "name": "ipython",
    "version": 3
   },
   "file_extension": ".py",
   "mimetype": "text/x-python",
   "name": "python",
   "nbconvert_exporter": "python",
   "pygments_lexer": "ipython3",
   "version": "3.10.8"
  }
 },
 "nbformat": 4,
 "nbformat_minor": 5
}
