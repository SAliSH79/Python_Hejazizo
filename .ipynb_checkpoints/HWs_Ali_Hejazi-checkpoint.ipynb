{
 "cells": [
  {
   "cell_type": "markdown",
   "id": "c19994a2-d7d3-411e-be73-59bae974fc49",
   "metadata": {},
   "source": [
    "## Homeworks"
   ]
  },
  {
   "cell_type": "markdown",
   "id": "9307edee-7e76-4d74-ba56-a56ed02f2419",
   "metadata": {},
   "source": [
    "### Sets HW"
   ]
  },
  {
   "cell_type": "markdown",
   "id": "05e75943-ac1f-4ef5-b7fe-e490cb7b8cb9",
   "metadata": {},
   "source": [
    "#### Set operations\n"
   ]
  },
  {
   "cell_type": "code",
   "execution_count": 2,
   "id": "a9983d9f-a301-4a01-b6bc-86f30b5a9055",
   "metadata": {},
   "outputs": [],
   "source": [
    "import numpy as np"
   ]
  },
  {
   "cell_type": "code",
   "execution_count": 13,
   "id": "2353d3e7-a20e-48a1-b641-9f1e8d90043b",
   "metadata": {},
   "outputs": [],
   "source": [
    "n = np.linspace(1,10,10,dtype=int)"
   ]
  },
  {
   "cell_type": "code",
   "execution_count": 24,
   "id": "b3e5f8b5-b57a-49ba-8526-934d69809e91",
   "metadata": {},
   "outputs": [],
   "source": [
    "x = set()\n",
    "for i in n:\n",
    "    x.add(3*i)"
   ]
  },
  {
   "cell_type": "code",
   "execution_count": 25,
   "id": "bf804d12-cf0d-4d98-aac0-3402ccb4a518",
   "metadata": {},
   "outputs": [],
   "source": [
    "y = set()\n",
    "for i in n:\n",
    "    y.add(5*i)"
   ]
  },
  {
   "cell_type": "code",
   "execution_count": 38,
   "id": "a1697705-edad-4fd7-a1e0-f24166bd6314",
   "metadata": {},
   "outputs": [
    {
     "data": {
      "text/plain": [
       "{3, 6, 9, 12, 15, 18, 21, 24, 27, 30}"
      ]
     },
     "execution_count": 38,
     "metadata": {},
     "output_type": "execute_result"
    }
   ],
   "source": [
    "x"
   ]
  },
  {
   "cell_type": "code",
   "execution_count": 39,
   "id": "1d3c05b5-f6e3-434c-86a6-d93ad5773e4a",
   "metadata": {},
   "outputs": [
    {
     "data": {
      "text/plain": [
       "{5, 10, 15, 20, 25, 30, 35, 40, 45, 50}"
      ]
     },
     "execution_count": 39,
     "metadata": {},
     "output_type": "execute_result"
    }
   ],
   "source": [
    "y"
   ]
  },
  {
   "cell_type": "code",
   "execution_count": 40,
   "id": "71ba8dc7-a9ec-475c-b85c-707284188096",
   "metadata": {},
   "outputs": [
    {
     "data": {
      "text/plain": [
       "' Multiples of 3 and 5 are {30, 15} using & syntax.'"
      ]
     },
     "execution_count": 40,
     "metadata": {},
     "output_type": "execute_result"
    }
   ],
   "source": [
    "z1 = x & y\n",
    "f\" Multiples of 3 and 5 are {z1} using & syntax.\""
   ]
  },
  {
   "cell_type": "code",
   "execution_count": 41,
   "id": "7be08929-1cca-4802-a170-9d6bea5448ec",
   "metadata": {},
   "outputs": [],
   "source": [
    "z2 = x.intersection(y)"
   ]
  },
  {
   "cell_type": "code",
   "execution_count": 42,
   "id": "e906ae8d-53b6-4dee-826c-c6f3bc8347da",
   "metadata": {},
   "outputs": [
    {
     "data": {
      "text/plain": [
       "' Multiples of 3 and 5 are {30, 15} using set.intersection syntax.'"
      ]
     },
     "execution_count": 42,
     "metadata": {},
     "output_type": "execute_result"
    }
   ],
   "source": [
    "f\" Multiples of 3 and 5 are {z2} using set.intersection syntax.\""
   ]
  },
  {
   "cell_type": "code",
   "execution_count": 43,
   "id": "d41753df-5422-4c99-a450-1a1004e7d58a",
   "metadata": {},
   "outputs": [
    {
     "name": "stdout",
     "output_type": "stream",
     "text": [
      "{35, 5, 40, 10, 45, 50, 20, 25}\n"
     ]
    }
   ],
   "source": [
    "z3 = y.difference(x)\n",
    "print(z3)"
   ]
  },
  {
   "cell_type": "code",
   "execution_count": 44,
   "id": "fba77612-5b59-43e4-874b-2a8fab7c5528",
   "metadata": {},
   "outputs": [
    {
     "name": "stdout",
     "output_type": "stream",
     "text": [
      "{3, 6, 9, 12, 18, 21, 24, 27}\n"
     ]
    }
   ],
   "source": [
    "z4 = x.difference(y)\n",
    "print(z4)"
   ]
  },
  {
   "cell_type": "code",
   "execution_count": 46,
   "id": "deb62347-ff71-4e91-b7e2-cff7b901a9ef",
   "metadata": {},
   "outputs": [
    {
     "name": "stdout",
     "output_type": "stream",
     "text": [
      "{3, 35, 5, 6, 40, 9, 10, 12, 45, 15, 18, 50, 20, 21, 24, 25, 27, 30}\n"
     ]
    }
   ],
   "source": [
    "Z_f = z4.union(z3,z2)\n",
    "print(Z_f)"
   ]
  },
  {
   "cell_type": "markdown",
   "id": "0390f0f9-17c1-4ab9-8b7d-f3efb495ccdf",
   "metadata": {},
   "source": [
    "## Dictionary get() method 1"
   ]
  },
  {
   "cell_type": "code",
   "execution_count": 1,
   "id": "b532ac29-9a61-4f6c-a550-b2954885fb34",
   "metadata": {},
   "outputs": [
    {
     "data": {
      "text/plain": [
       "'Zal'"
      ]
     },
     "execution_count": 1,
     "metadata": {},
     "output_type": "execute_result"
    }
   ],
   "source": [
    "rostam_data = {\n",
    "    \"name\": \"Rostam\",\n",
    "    \"nationality\": \"Turanian\",\n",
    "    \"father\": \"Zal\" ,\n",
    "    \"mother\": \"Rudaabeh\",\n",
    "    \"spouse\": \"Tahmineh\",\n",
    "    \"grandfather\": \"Sam\",\n",
    "    \"delivery\": \"C-Section\",\n",
    "    \"POB\": \"Zabol\",\n",
    "    \"POD\" : \"Kabul\"\n",
    "    }\n",
    "rostam_data.get('father')"
   ]
  },
  {
   "cell_type": "code",
   "execution_count": 3,
   "id": "44aeb68a-fc25-4f9d-ad40-cc70d7aacac2",
   "metadata": {},
   "outputs": [],
   "source": [
    "Type_Of_Birth=rostam_data.get('delivery')"
   ]
  },
  {
   "cell_type": "code",
   "execution_count": 4,
   "id": "2e6675e5-b613-4f65-bfac-e2da353640e1",
   "metadata": {},
   "outputs": [
    {
     "data": {
      "text/plain": [
       "'Type of Rostam`s birth surgery is C-Section'"
      ]
     },
     "execution_count": 4,
     "metadata": {},
     "output_type": "execute_result"
    }
   ],
   "source": [
    "f\"Type of Rostam`s birth surgery is {Type_Of_Birth}\""
   ]
  },
  {
   "cell_type": "markdown",
   "id": "41fad7d6-b255-494a-9bff-7c524baf0af7",
   "metadata": {},
   "source": [
    "## Quick Swap"
   ]
  },
  {
   "cell_type": "code",
   "execution_count": 1,
   "id": "784c3bd5-8493-4224-b974-ee5c4487e071",
   "metadata": {},
   "outputs": [],
   "source": [
    "input_1 = 3\n",
    "input_2 = 4"
   ]
  },
  {
   "cell_type": "code",
   "execution_count": 2,
   "id": "e8fff2b5-3555-4b1a-81a8-d4b3d7d789f4",
   "metadata": {},
   "outputs": [],
   "source": [
    "input_1, input_2 = input_2, input_1"
   ]
  },
  {
   "cell_type": "code",
   "execution_count": 3,
   "id": "f077bbf0-ebc0-450c-b63f-52f3eeeb95f7",
   "metadata": {},
   "outputs": [
    {
     "data": {
      "text/plain": [
       "4"
      ]
     },
     "execution_count": 3,
     "metadata": {},
     "output_type": "execute_result"
    }
   ],
   "source": [
    "input_1"
   ]
  },
  {
   "cell_type": "code",
   "execution_count": 4,
   "id": "563ce7f6-eff2-4ba6-9853-df560d1bc24d",
   "metadata": {},
   "outputs": [
    {
     "data": {
      "text/plain": [
       "3"
      ]
     },
     "execution_count": 4,
     "metadata": {},
     "output_type": "execute_result"
    }
   ],
   "source": [
    "input_2"
   ]
  },
  {
   "cell_type": "code",
   "execution_count": null,
   "id": "f5ff03f1-a49d-4c3d-aef3-7894e3aca05c",
   "metadata": {},
   "outputs": [],
   "source": []
  }
 ],
 "metadata": {
  "kernelspec": {
   "display_name": "Python 3 (ipykernel)",
   "language": "python",
   "name": "python3"
  },
  "language_info": {
   "codemirror_mode": {
    "name": "ipython",
    "version": 3
   },
   "file_extension": ".py",
   "mimetype": "text/x-python",
   "name": "python",
   "nbconvert_exporter": "python",
   "pygments_lexer": "ipython3",
   "version": "3.10.8"
  }
 },
 "nbformat": 4,
 "nbformat_minor": 5
}
