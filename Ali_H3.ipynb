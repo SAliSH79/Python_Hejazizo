{
 "cells": [
  {
   "cell_type": "markdown",
   "id": "55903ee3-7f8d-49b8-84e1-1c0f2d6c39f4",
   "metadata": {},
   "source": [
    "### Lexical Resources of Python Language"
   ]
  },
  {
   "cell_type": "code",
   "execution_count": 6,
   "id": "887faf66-4158-48d1-8723-bbcae26b1faa",
   "metadata": {},
   "outputs": [],
   "source": [
    "a = [\n",
    "    [\n",
    "        [1,2,3],\n",
    "        \"Ali\",\n",
    "        123.5\n",
    "    ],\n",
    "    {\n",
    "        \"a\" : 20,\n",
    "        \"Reza\" : ['ali','negar','saman'],\n",
    "        23 : 34.5\n",
    "    }\n",
    "]"
   ]
  },
  {
   "cell_type": "code",
   "execution_count": 7,
   "id": "a0ade8ac-8bcf-463a-bc34-4897dfe4dd2c",
   "metadata": {},
   "outputs": [
    {
     "data": {
      "text/plain": [
       "[[[1, 2, 3], 'Ali', 123.5],\n",
       " {'a': 20, 'Reza': ['ali', 'negar', 'saman'], 23: 34.5}]"
      ]
     },
     "execution_count": 7,
     "metadata": {},
     "output_type": "execute_result"
    }
   ],
   "source": [
    "a"
   ]
  },
  {
   "cell_type": "code",
   "execution_count": 8,
   "id": "bac013b0-4e79-4e37-ab5c-9201407c0e76",
   "metadata": {},
   "outputs": [],
   "source": [
    "s = \\\n",
    "123"
   ]
  },
  {
   "cell_type": "code",
   "execution_count": 9,
   "id": "de5d9340-e781-4fcb-b8b4-ca88bd7afdb7",
   "metadata": {},
   "outputs": [
    {
     "data": {
      "text/plain": [
       "123"
      ]
     },
     "execution_count": 9,
     "metadata": {},
     "output_type": "execute_result"
    }
   ],
   "source": [
    "s"
   ]
  },
  {
   "cell_type": "code",
   "execution_count": 12,
   "id": "15d6018b-dcb3-4659-a03f-c955249542db",
   "metadata": {},
   "outputs": [],
   "source": [
    "s = 'Ha \\\n",
    "R'"
   ]
  },
  {
   "cell_type": "code",
   "execution_count": 13,
   "id": "3c8bc630-883b-4f98-a78b-b0561cbd01ef",
   "metadata": {},
   "outputs": [
    {
     "data": {
      "text/plain": [
       "'Ha R'"
      ]
     },
     "execution_count": 13,
     "metadata": {},
     "output_type": "execute_result"
    }
   ],
   "source": [
    "s"
   ]
  },
  {
   "cell_type": "code",
   "execution_count": 12,
   "id": "7c5ef84c-e83e-4287-80e7-e95a44373d5b",
   "metadata": {},
   "outputs": [],
   "source": [
    "x, y, z = 1, 3, \"5\""
   ]
  },
  {
   "cell_type": "code",
   "execution_count": 13,
   "id": "06d4bf0e-1306-4af2-a455-f1eeabb9414f",
   "metadata": {},
   "outputs": [
    {
     "data": {
      "text/plain": [
       "(1, 3, '5')"
      ]
     },
     "execution_count": 13,
     "metadata": {},
     "output_type": "execute_result"
    }
   ],
   "source": [
    "x, y, z"
   ]
  },
  {
   "cell_type": "markdown",
   "id": "78da4c4c-3ed5-4e27-9c41-4542e0bcd58b",
   "metadata": {},
   "source": [
    "## Coding Practice"
   ]
  },
  {
   "cell_type": "code",
   "execution_count": 1,
   "id": "51bb06a8-6ad1-41d6-98b0-ff4e2c03cdfa",
   "metadata": {},
   "outputs": [
    {
     "name": "stdout",
     "output_type": "stream",
     "text": [
      "2\n"
     ]
    }
   ],
   "source": [
    "a = 2\n",
    "print(a)"
   ]
  },
  {
   "cell_type": "code",
   "execution_count": 5,
   "id": "e29c8988-f604-4a98-8d62-aaa313f53e9e",
   "metadata": {},
   "outputs": [
    {
     "data": {
      "text/plain": [
       "[2, 'b', 'c', 'd', 2, 3.57]"
      ]
     },
     "execution_count": 5,
     "metadata": {},
     "output_type": "execute_result"
    }
   ],
   "source": [
    "L = [a, \"b\", \"c\", \"d\", 2, 3.57]\n",
    "L"
   ]
  },
  {
   "cell_type": "code",
   "execution_count": 8,
   "id": "f87556ad-a3f3-4fac-a6b3-916ae4bd3087",
   "metadata": {},
   "outputs": [
    {
     "data": {
      "text/plain": [
       "(2, 3.57, 'd')"
      ]
     },
     "execution_count": 8,
     "metadata": {},
     "output_type": "execute_result"
    }
   ],
   "source": [
    "L[0] ,L[-1] ,L[3]"
   ]
  },
  {
   "cell_type": "code",
   "execution_count": 9,
   "id": "f080ed76-4e5c-434c-978d-5c6139caeda0",
   "metadata": {},
   "outputs": [
    {
     "data": {
      "text/plain": [
       "False"
      ]
     },
     "execution_count": 9,
     "metadata": {},
     "output_type": "execute_result"
    }
   ],
   "source": [
    "isinstance(9.5, int)"
   ]
  },
  {
   "cell_type": "code",
   "execution_count": 11,
   "id": "de0e721f-3407-43a8-835b-dbea5c47a54e",
   "metadata": {},
   "outputs": [
    {
     "data": {
      "text/plain": [
       "False"
      ]
     },
     "execution_count": 11,
     "metadata": {},
     "output_type": "execute_result"
    }
   ],
   "source": [
    "isinstance(\"a\", list)"
   ]
  },
  {
   "cell_type": "code",
   "execution_count": null,
   "id": "b26bd948-37dc-454e-8065-ffaeb3e46196",
   "metadata": {},
   "outputs": [],
   "source": []
  }
 ],
 "metadata": {
  "kernelspec": {
   "display_name": "Python 3 (ipykernel)",
   "language": "python",
   "name": "python3"
  },
  "language_info": {
   "codemirror_mode": {
    "name": "ipython",
    "version": 3
   },
   "file_extension": ".py",
   "mimetype": "text/x-python",
   "name": "python",
   "nbconvert_exporter": "python",
   "pygments_lexer": "ipython3",
   "version": "3.10.8"
  }
 },
 "nbformat": 4,
 "nbformat_minor": 5
}
