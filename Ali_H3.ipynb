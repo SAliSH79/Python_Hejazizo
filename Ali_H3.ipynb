{
 "cells": [
  {
   "cell_type": "markdown",
   "id": "55903ee3-7f8d-49b8-84e1-1c0f2d6c39f4",
   "metadata": {},
   "source": [
    "### Lexical Resources of Python Language"
   ]
  },
  {
   "cell_type": "code",
   "execution_count": 1,
   "id": "887faf66-4158-48d1-8723-bbcae26b1faa",
   "metadata": {},
   "outputs": [],
   "source": [
    "a = [\n",
    "    [\n",
    "        [1,2,3],\n",
    "        \"Ali\",\n",
    "        123.5\n",
    "    ],\n",
    "    {\n",
    "        \"a\" : 20,\n",
    "        \"Reza\" : ['ali',23,'saman'],\n",
    "        23 : 34.5\n",
    "    }\n",
    "]"
   ]
  },
  {
   "cell_type": "code",
   "execution_count": 2,
   "id": "a0ade8ac-8bcf-463a-bc34-4897dfe4dd2c",
   "metadata": {},
   "outputs": [
    {
     "data": {
      "text/plain": [
       "[[[1, 2, 3], 'Ali', 123.5], {'a': 20, 'Reza': ['ali', 23, 'saman'], 23: 34.5}]"
      ]
     },
     "execution_count": 2,
     "metadata": {},
     "output_type": "execute_result"
    }
   ],
   "source": [
    "a"
   ]
  },
  {
   "cell_type": "code",
   "execution_count": 3,
   "id": "bac013b0-4e79-4e37-ab5c-9201407c0e76",
   "metadata": {},
   "outputs": [],
   "source": [
    "s = \\\n",
    "123"
   ]
  },
  {
   "cell_type": "code",
   "execution_count": 4,
   "id": "de5d9340-e781-4fcb-b8b4-ca88bd7afdb7",
   "metadata": {},
   "outputs": [
    {
     "data": {
      "text/plain": [
       "123"
      ]
     },
     "execution_count": 4,
     "metadata": {},
     "output_type": "execute_result"
    }
   ],
   "source": [
    "s"
   ]
  },
  {
   "cell_type": "code",
   "execution_count": 5,
   "id": "15d6018b-dcb3-4659-a03f-c955249542db",
   "metadata": {},
   "outputs": [],
   "source": [
    "s = 'Ha \\\n",
    "R'"
   ]
  },
  {
   "cell_type": "code",
   "execution_count": 6,
   "id": "3c8bc630-883b-4f98-a78b-b0561cbd01ef",
   "metadata": {},
   "outputs": [
    {
     "data": {
      "text/plain": [
       "'Ha R'"
      ]
     },
     "execution_count": 6,
     "metadata": {},
     "output_type": "execute_result"
    }
   ],
   "source": [
    "s"
   ]
  },
  {
   "cell_type": "code",
   "execution_count": 7,
   "id": "7c5ef84c-e83e-4287-80e7-e95a44373d5b",
   "metadata": {},
   "outputs": [],
   "source": [
    "x, y, z = 1, 3, \"5\""
   ]
  },
  {
   "cell_type": "code",
   "execution_count": 8,
   "id": "06d4bf0e-1306-4af2-a455-f1eeabb9414f",
   "metadata": {},
   "outputs": [
    {
     "data": {
      "text/plain": [
       "(1, 3, '5')"
      ]
     },
     "execution_count": 8,
     "metadata": {},
     "output_type": "execute_result"
    }
   ],
   "source": [
    "x, y, z"
   ]
  },
  {
   "cell_type": "markdown",
   "id": "78da4c4c-3ed5-4e27-9c41-4542e0bcd58b",
   "metadata": {},
   "source": [
    "## Coding Practice"
   ]
  },
  {
   "cell_type": "code",
   "execution_count": 9,
   "id": "51bb06a8-6ad1-41d6-98b0-ff4e2c03cdfa",
   "metadata": {},
   "outputs": [
    {
     "name": "stdout",
     "output_type": "stream",
     "text": [
      "2\n"
     ]
    }
   ],
   "source": [
    "a = 2\n",
    "print(a)"
   ]
  },
  {
   "cell_type": "code",
   "execution_count": 10,
   "id": "e29c8988-f604-4a98-8d62-aaa313f53e9e",
   "metadata": {},
   "outputs": [
    {
     "data": {
      "text/plain": [
       "[2, 'b', 'c', 'd', 2, 3.57]"
      ]
     },
     "execution_count": 10,
     "metadata": {},
     "output_type": "execute_result"
    }
   ],
   "source": [
    "L = [a, \"b\", \"c\", \"d\", 2, 3.57]\n",
    "L"
   ]
  },
  {
   "cell_type": "code",
   "execution_count": 11,
   "id": "f87556ad-a3f3-4fac-a6b3-916ae4bd3087",
   "metadata": {},
   "outputs": [
    {
     "data": {
      "text/plain": [
       "(2, 3.57, 'd')"
      ]
     },
     "execution_count": 11,
     "metadata": {},
     "output_type": "execute_result"
    }
   ],
   "source": [
    "L[0] ,L[-1] ,L[3]"
   ]
  },
  {
   "cell_type": "code",
   "execution_count": 12,
   "id": "f080ed76-4e5c-434c-978d-5c6139caeda0",
   "metadata": {},
   "outputs": [
    {
     "data": {
      "text/plain": [
       "False"
      ]
     },
     "execution_count": 12,
     "metadata": {},
     "output_type": "execute_result"
    }
   ],
   "source": [
    "isinstance(9.5, int)"
   ]
  },
  {
   "cell_type": "code",
   "execution_count": 13,
   "id": "de0e721f-3407-43a8-835b-dbea5c47a54e",
   "metadata": {},
   "outputs": [
    {
     "data": {
      "text/plain": [
       "False"
      ]
     },
     "execution_count": 13,
     "metadata": {},
     "output_type": "execute_result"
    }
   ],
   "source": [
    "isinstance(\"a\", list)"
   ]
  },
  {
   "cell_type": "code",
   "execution_count": 5,
   "id": "b26bd948-37dc-454e-8065-ffaeb3e46196",
   "metadata": {},
   "outputs": [
    {
     "data": {
      "text/plain": [
       "'hafez'"
      ]
     },
     "execution_count": 5,
     "metadata": {},
     "output_type": "execute_result"
    }
   ],
   "source": [
    "persian_poets ={\n",
    "    1:'saadi',\n",
    "    2:'frough',\n",
    "    3:'hafez',\n",
    "    4:'parvin',\n",
    "    5:'saeb'\n",
    "}\n",
    "persian_poets_wo_hafez = persian_poets[3]\n",
    "persian_poets.pop(3)"
   ]
  },
  {
   "cell_type": "code",
   "execution_count": 6,
   "id": "25994d6a-573d-45bb-95e3-ef8645dc8cee",
   "metadata": {},
   "outputs": [
    {
     "data": {
      "text/plain": [
       "{1: 'saadi', 2: 'frough', 4: 'parvin', 5: 'saeb'}"
      ]
     },
     "execution_count": 6,
     "metadata": {},
     "output_type": "execute_result"
    }
   ],
   "source": [
    "persian_poets"
   ]
  },
  {
   "cell_type": "code",
   "execution_count": 9,
   "id": "0ce12a14-5a4f-426d-8717-deb9763d2b67",
   "metadata": {},
   "outputs": [
    {
     "data": {
      "text/plain": [
       "'saadi'"
      ]
     },
     "execution_count": 9,
     "metadata": {},
     "output_type": "execute_result"
    }
   ],
   "source": [
    "persian_poets.get(1,'error 404')"
   ]
  },
  {
   "cell_type": "code",
   "execution_count": 11,
   "id": "f57fd5d0-7c3c-4316-a1bf-e6c3e6d62af5",
   "metadata": {},
   "outputs": [
    {
     "data": {
      "text/plain": [
       "'error 404'"
      ]
     },
     "execution_count": 11,
     "metadata": {},
     "output_type": "execute_result"
    }
   ],
   "source": [
    "persian_poets.get(3,'error 404')"
   ]
  },
  {
   "cell_type": "code",
   "execution_count": 12,
   "id": "e0320d8b-85f9-48bd-ab99-6ee7940c49f9",
   "metadata": {},
   "outputs": [],
   "source": [
    "foo = {\n",
    "    int : \"al\",\n",
    "    float : \"1.23\",\n",
    "    dict : [1,2,\"s\"]\n",
    "}"
   ]
  },
  {
   "cell_type": "code",
   "execution_count": 13,
   "id": "4e4c3d96-bb27-4f63-bf0a-1cc713aed527",
   "metadata": {},
   "outputs": [
    {
     "data": {
      "text/plain": [
       "{int: 'al', float: '1.23', dict: [1, 2, 's']}"
      ]
     },
     "execution_count": 13,
     "metadata": {},
     "output_type": "execute_result"
    }
   ],
   "source": [
    "foo"
   ]
  },
  {
   "cell_type": "markdown",
   "id": "e73eb409-243f-4358-9b10-8de0e13edd27",
   "metadata": {},
   "source": [
    "### Sets"
   ]
  },
  {
   "cell_type": "code",
   "execution_count": 14,
   "id": "d13c52b9-439d-45f4-a7e0-173cbe7a9b8d",
   "metadata": {},
   "outputs": [],
   "source": [
    "prime = {2, 3, 5, 7}"
   ]
  },
  {
   "cell_type": "code",
   "execution_count": null,
   "id": "220d20eb-a77e-4852-b5b2-0569f936c1b8",
   "metadata": {},
   "outputs": [],
   "source": []
  }
 ],
 "metadata": {
  "kernelspec": {
   "display_name": "Python 3 (ipykernel)",
   "language": "python",
   "name": "python3"
  },
  "language_info": {
   "codemirror_mode": {
    "name": "ipython",
    "version": 3
   },
   "file_extension": ".py",
   "mimetype": "text/x-python",
   "name": "python",
   "nbconvert_exporter": "python",
   "pygments_lexer": "ipython3",
   "version": "3.10.8"
  }
 },
 "nbformat": 4,
 "nbformat_minor": 5
}
