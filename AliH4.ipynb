{
 "cells": [
  {
   "cell_type": "markdown",
   "id": "94c3ffab-1dd8-4afe-9ad8-644080eb2738",
   "metadata": {
    "id": "94c3ffab-1dd8-4afe-9ad8-644080eb2738"
   },
   "source": [
    "### Conditional Statements Lectures"
   ]
  },
  {
   "cell_type": "code",
   "execution_count": 1,
   "id": "9c8a2075-5bef-4cd2-8a9b-02c91b2b3255",
   "metadata": {
    "colab": {
     "base_uri": "https://localhost:8080/"
    },
    "id": "9c8a2075-5bef-4cd2-8a9b-02c91b2b3255",
    "outputId": "a5a3bfe7-4fdf-4855-a020-77d4b1439cd0"
   },
   "outputs": [
    {
     "name": "stdout",
     "output_type": "stream",
     "text": [
      "None is false\n"
     ]
    }
   ],
   "source": [
    "if None:\n",
    "  print (\"True is the condition.\")\n",
    "else:\n",
    "  print(\"None is false\")"
   ]
  },
  {
   "cell_type": "code",
   "execution_count": 2,
   "id": "TpyJKbNkT5Qo",
   "metadata": {
    "colab": {
     "base_uri": "https://localhost:8080/"
    },
    "id": "TpyJKbNkT5Qo",
    "outputId": "fea9a982-52ff-4c37-85af-15196917dfdf"
   },
   "outputs": [
    {
     "name": "stdout",
     "output_type": "stream",
     "text": [
      "True\n"
     ]
    }
   ],
   "source": [
    "if float:\n",
    "  print(\"True\")"
   ]
  },
  {
   "cell_type": "code",
   "execution_count": 3,
   "id": "Ddjv8BHZUQs0",
   "metadata": {
    "colab": {
     "base_uri": "https://localhost:8080/"
    },
    "id": "Ddjv8BHZUQs0",
    "outputId": "700b8bcf-48fd-4ced-de74-4335dba08a76"
   },
   "outputs": [
    {
     "name": "stdout",
     "output_type": "stream",
     "text": [
      "X is found\n"
     ]
    }
   ],
   "source": [
    "if 'x' in [\"x\",\"xxx\",\"y\"]:\n",
    "  print(\"X is found\")"
   ]
  },
  {
   "cell_type": "code",
   "execution_count": 4,
   "id": "TonvWneAVsTr",
   "metadata": {
    "colab": {
     "base_uri": "https://localhost:8080/"
    },
    "id": "TonvWneAVsTr",
    "outputId": "2c203733-b039-4b30-9ad6-7edcc0859799"
   },
   "outputs": [
    {
     "name": "stdout",
     "output_type": "stream",
     "text": [
      "1\n"
     ]
    }
   ],
   "source": [
    "if ('al' in \"Ali\") or ('y' in \"yellow\"):\n",
    "  print(\"1\")"
   ]
  },
  {
   "cell_type": "code",
   "execution_count": 5,
   "id": "BXjxsLtbWHwE",
   "metadata": {
    "colab": {
     "base_uri": "https://localhost:8080/"
    },
    "id": "BXjxsLtbWHwE",
    "outputId": "7bc4a817-089d-4063-b7af-fea59e94ae6c"
   },
   "outputs": [
    {
     "name": "stdout",
     "output_type": "stream",
     "text": [
      "Negative\n"
     ]
    }
   ],
   "source": [
    "x = -0.00001\n",
    "if x > 0:\n",
    "  print(\"Positive\")\n",
    "elif x == 0:\n",
    "  print(\"Zero\")\n",
    "else:\n",
    "  print(\"Negative\")"
   ]
  },
  {
   "cell_type": "code",
   "execution_count": 6,
   "id": "f1FpZLYxZ6lw",
   "metadata": {
    "id": "f1FpZLYxZ6lw"
   },
   "outputs": [
    {
     "data": {
      "text/plain": [
       "True"
      ]
     },
     "execution_count": 6,
     "metadata": {},
     "output_type": "execute_result"
    }
   ],
   "source": [
    "True or var\n",
    "# In or conditions, we can use short circuited law"
   ]
  },
  {
   "cell_type": "code",
   "execution_count": 7,
   "id": "44996a22-71af-45cb-bac8-72dc5a948554",
   "metadata": {},
   "outputs": [
    {
     "ename": "NameError",
     "evalue": "name 'var' is not defined",
     "output_type": "error",
     "traceback": [
      "\u001b[0;31m---------------------------------------------------------------------------\u001b[0m",
      "\u001b[0;31mNameError\u001b[0m                                 Traceback (most recent call last)",
      "Cell \u001b[0;32mIn [7], line 1\u001b[0m\n\u001b[0;32m----> 1\u001b[0m \u001b[38;5;28;01mTrue\u001b[39;00m \u001b[38;5;129;01mand\u001b[39;00m \u001b[43mvar\u001b[49m\n",
      "\u001b[0;31mNameError\u001b[0m: name 'var' is not defined"
     ]
    }
   ],
   "source": [
    "True and var\n",
    "#var is not defined"
   ]
  },
  {
   "cell_type": "markdown",
   "id": "e8095caa-971c-4078-8417-d4a0221323c9",
   "metadata": {},
   "source": [
    "### Ternary Operator"
   ]
  },
  {
   "cell_type": "code",
   "execution_count": 8,
   "id": "89d91e77-5b4c-46d0-bb2c-8a0250a2064c",
   "metadata": {},
   "outputs": [],
   "source": [
    "X = 12\n",
    "y = True if x > 15 else False"
   ]
  },
  {
   "cell_type": "code",
   "execution_count": 9,
   "id": "b7db1f6a-ea16-49c7-9158-bb0f324d35a0",
   "metadata": {},
   "outputs": [
    {
     "data": {
      "text/plain": [
       "False"
      ]
     },
     "execution_count": 9,
     "metadata": {},
     "output_type": "execute_result"
    }
   ],
   "source": [
    "y"
   ]
  },
  {
   "cell_type": "markdown",
   "id": "7f6f3ddc-a2df-4b6f-ab74-b36d46da0c28",
   "metadata": {},
   "source": [
    "#### Pass syntax"
   ]
  },
  {
   "cell_type": "code",
   "execution_count": 10,
   "id": "04356bee-2f37-4db5-9a2f-76051e09d9d4",
   "metadata": {},
   "outputs": [
    {
     "name": "stdout",
     "output_type": "stream",
     "text": [
      "x is sub-zero\n"
     ]
    }
   ],
   "source": [
    "x = -0.0001\n",
    "if x == 2:\n",
    "    pass\n",
    "elif x > 0:\n",
    "    print('x is non negative')\n",
    "else:\n",
    "    print('x is sub-zero')"
   ]
  },
  {
   "cell_type": "code",
   "execution_count": 13,
   "id": "446cc82d-2236-423c-8f68-11115e43be49",
   "metadata": {},
   "outputs": [],
   "source": [
    "from IPython.display import display, Math, Latex"
   ]
  },
  {
   "cell_type": "markdown",
   "id": "ad6e6b18-5c66-497f-baf7-981e2f0083ed",
   "metadata": {},
   "source": [
    "## While loops"
   ]
  },
  {
   "cell_type": "code",
   "execution_count": 18,
   "id": "c37ac78b-26e9-45eb-862a-ae01355ee8d4",
   "metadata": {},
   "outputs": [
    {
     "data": {
      "text/plain": [
       "['__abs__',\n",
       " '__add__',\n",
       " '__and__',\n",
       " '__bool__',\n",
       " '__ceil__',\n",
       " '__class__',\n",
       " '__delattr__',\n",
       " '__dir__',\n",
       " '__divmod__',\n",
       " '__doc__',\n",
       " '__eq__',\n",
       " '__float__',\n",
       " '__floor__',\n",
       " '__floordiv__',\n",
       " '__format__',\n",
       " '__ge__',\n",
       " '__getattribute__',\n",
       " '__getnewargs__',\n",
       " '__gt__',\n",
       " '__hash__',\n",
       " '__index__',\n",
       " '__init__',\n",
       " '__init_subclass__',\n",
       " '__int__',\n",
       " '__invert__',\n",
       " '__le__',\n",
       " '__lshift__',\n",
       " '__lt__',\n",
       " '__mod__',\n",
       " '__mul__',\n",
       " '__ne__',\n",
       " '__neg__',\n",
       " '__new__',\n",
       " '__or__',\n",
       " '__pos__',\n",
       " '__pow__',\n",
       " '__radd__',\n",
       " '__rand__',\n",
       " '__rdivmod__',\n",
       " '__reduce__',\n",
       " '__reduce_ex__',\n",
       " '__repr__',\n",
       " '__rfloordiv__',\n",
       " '__rlshift__',\n",
       " '__rmod__',\n",
       " '__rmul__',\n",
       " '__ror__',\n",
       " '__round__',\n",
       " '__rpow__',\n",
       " '__rrshift__',\n",
       " '__rshift__',\n",
       " '__rsub__',\n",
       " '__rtruediv__',\n",
       " '__rxor__',\n",
       " '__setattr__',\n",
       " '__sizeof__',\n",
       " '__str__',\n",
       " '__sub__',\n",
       " '__subclasshook__',\n",
       " '__truediv__',\n",
       " '__trunc__',\n",
       " '__xor__',\n",
       " 'as_integer_ratio',\n",
       " 'bit_count',\n",
       " 'bit_length',\n",
       " 'conjugate',\n",
       " 'denominator',\n",
       " 'from_bytes',\n",
       " 'imag',\n",
       " 'numerator',\n",
       " 'real',\n",
       " 'to_bytes']"
      ]
     },
     "execution_count": 18,
     "metadata": {},
     "output_type": "execute_result"
    }
   ],
   "source": [
    "dir(int)"
   ]
  },
  {
   "cell_type": "code",
   "execution_count": 21,
   "id": "8e8be9b9-1be1-4e2e-b9b0-35e1b6b857f4",
   "metadata": {},
   "outputs": [
    {
     "data": {
      "text/plain": [
       "2"
      ]
     },
     "execution_count": 21,
     "metadata": {},
     "output_type": "execute_result"
    }
   ],
   "source": [
    "x = 2\n",
    "abs(x)"
   ]
  },
  {
   "cell_type": "code",
   "execution_count": 22,
   "id": "d5df06c1-82f8-48bf-9983-3bcfd686fc82",
   "metadata": {},
   "outputs": [
    {
     "data": {
      "text/plain": [
       "0"
      ]
     },
     "execution_count": 22,
     "metadata": {},
     "output_type": "execute_result"
    }
   ],
   "source": [
    "x.imag"
   ]
  },
  {
   "cell_type": "code",
   "execution_count": 23,
   "id": "e77f2707-717d-4514-8526-782e01e2817b",
   "metadata": {},
   "outputs": [
    {
     "data": {
      "text/plain": [
       "<function int.from_bytes(bytes, byteorder, *, signed=False)>"
      ]
     },
     "execution_count": 23,
     "metadata": {},
     "output_type": "execute_result"
    }
   ],
   "source": [
    "x.from_bytes"
   ]
  },
  {
   "cell_type": "code",
   "execution_count": 31,
   "id": "ac8f3d91-a677-4639-a2c0-3d3635502729",
   "metadata": {},
   "outputs": [
    {
     "name": "stdout",
     "output_type": "stream",
     "text": [
      "x is 9 and y is 1 in the 9th level\n",
      "x is 8 and y is 2 in the 8th level\n",
      "x is 7 and y is 3 in the 7th level\n",
      "x is 6 and y is 4 in the 6th level\n",
      "x is 5 and y is 5 in the 5th level\n"
     ]
    }
   ],
   "source": [
    "x = 10\n",
    "i = 10\n",
    "y = 0\n",
    "while x > 0:\n",
    "    y += 1\n",
    "    x -= 1\n",
    "    i -= 1\n",
    "    print(f'x is {x} and y is {y} in the {i}th level')\n",
    "    if x == y and x != 0:\n",
    "        break #break and continue will save you a lot of time"
   ]
  },
  {
   "cell_type": "code",
   "execution_count": 30,
   "id": "f1bf729d-03b5-4bc4-9102-09089fec9737",
   "metadata": {},
   "outputs": [
    {
     "data": {
      "text/plain": [
       "False"
      ]
     },
     "execution_count": 30,
     "metadata": {},
     "output_type": "execute_result"
    }
   ],
   "source": [
    "bool([])"
   ]
  },
  {
   "cell_type": "markdown",
   "id": "c47caaa0-e01b-4e30-88bc-df2b7a384b02",
   "metadata": {},
   "source": [
    "### For loops"
   ]
  },
  {
   "cell_type": "code",
   "execution_count": 5,
   "id": "e86da58b-6bf5-4518-965b-9eec90d150cb",
   "metadata": {},
   "outputs": [
    {
     "name": "stdout",
     "output_type": "stream",
     "text": [
      "1\n",
      "[1, 2, 3]\n",
      "3.4\n"
     ]
    }
   ],
   "source": [
    "for i in {'a':1, '2':[1,2,3], 'sa': 3.4}.values():\n",
    "    print(i)"
   ]
  },
  {
   "cell_type": "code",
   "execution_count": 6,
   "id": "b2e2a3f8-4f8f-4a14-9e9a-0da72380acea",
   "metadata": {},
   "outputs": [
    {
     "name": "stdout",
     "output_type": "stream",
     "text": [
      "a\n",
      "2\n",
      "sa\n"
     ]
    }
   ],
   "source": [
    "for i in {'a':1, '2':[1,2,3], 'sa': 3.4}.keys():\n",
    "    print(i)"
   ]
  },
  {
   "cell_type": "code",
   "execution_count": 10,
   "id": "e5b33544-344b-48aa-965e-f58b7e383919",
   "metadata": {},
   "outputs": [],
   "source": [
    "## Something to remember always, any iterable != iterator object\n",
    "## But vice versa is true"
   ]
  },
  {
   "cell_type": "code",
   "execution_count": 8,
   "id": "f639684b-ea17-44ba-b1a9-21ca2fc3e9b4",
   "metadata": {},
   "outputs": [
    {
     "ename": "TypeError",
     "evalue": "'float' object is not iterable",
     "output_type": "error",
     "traceback": [
      "\u001b[0;31m---------------------------------------------------------------------------\u001b[0m",
      "\u001b[0;31mTypeError\u001b[0m                                 Traceback (most recent call last)",
      "Cell \u001b[0;32mIn [8], line 1\u001b[0m\n\u001b[0;32m----> 1\u001b[0m \u001b[38;5;28;43miter\u001b[39;49m\u001b[43m(\u001b[49m\u001b[38;5;241;43m3.4\u001b[39;49m\u001b[43m)\u001b[49m\n",
      "\u001b[0;31mTypeError\u001b[0m: 'float' object is not iterable"
     ]
    }
   ],
   "source": [
    "iter(3.4)"
   ]
  },
  {
   "cell_type": "code",
   "execution_count": 9,
   "id": "11b09cf3-d063-4e81-8372-b718dc2a3061",
   "metadata": {},
   "outputs": [
    {
     "data": {
      "text/plain": [
       "<tuple_iterator at 0x7fa2b8f7e440>"
      ]
     },
     "execution_count": 9,
     "metadata": {},
     "output_type": "execute_result"
    }
   ],
   "source": [
    "iter((1,2,3))"
   ]
  },
  {
   "cell_type": "code",
   "execution_count": 11,
   "id": "9460f68d-7200-428b-b833-ecb23e59106b",
   "metadata": {},
   "outputs": [
    {
     "name": "stdout",
     "output_type": "stream",
     "text": [
      "('a', 1)\n",
      "('2', [1, 2, 3])\n",
      "('sa', 3.4)\n"
     ]
    }
   ],
   "source": [
    "for i in {'a':1, '2':[1,2,3], 'sa': 3.4}.items():\n",
    "    print(i)"
   ]
  },
  {
   "cell_type": "code",
   "execution_count": 13,
   "id": "71fe7a76-b5e4-45ec-bb94-18ddb88932dc",
   "metadata": {},
   "outputs": [
    {
     "name": "stdout",
     "output_type": "stream",
     "text": [
      "100   200\n",
      "103   206\n",
      "106   212\n",
      "109   218\n",
      "112   224\n",
      "115   230\n",
      "118   236\n",
      "121   242\n",
      "124   248\n",
      "127   254\n",
      "130   260\n",
      "133   266\n",
      "136   272\n",
      "139   278\n",
      "142   284\n",
      "145   290\n",
      "148   296\n"
     ]
    }
   ],
   "source": [
    "for i in range(100,150,3): #efficient for RAM, fast for executing\n",
    "    print(i, ' ', i*2)"
   ]
  },
  {
   "cell_type": "code",
   "execution_count": 19,
   "id": "d9469f89-0f9a-4844-b415-1024a47220b9",
   "metadata": {},
   "outputs": [
    {
     "name": "stdout",
     "output_type": "stream",
     "text": [
      "[2]\n",
      "[2, 4]\n",
      "[2, 4, 6]\n",
      "[2, 4, 6, 8]\n",
      "[2, 4, 6, 8, 10]\n",
      "[2, 4, 6, 8, 10, 12]\n",
      "[2, 4, 6, 8, 10, 12, 14]\n",
      "[2, 4, 6, 8, 10, 12, 14, 16]\n",
      "[2, 4, 6, 8, 10, 12, 14, 16, 18]\n",
      "[2, 4, 6, 8, 10, 12, 14, 16, 18, 20]\n",
      "[2, 4, 6, 8, 10, 12, 14, 16, 18, 20, 22]\n",
      "[2, 4, 6, 8, 10, 12, 14, 16, 18, 20, 22, 24]\n",
      "[2, 4, 6, 8, 10, 12, 14, 16, 18, 20, 22, 24, 26]\n",
      "[2, 4, 6, 8, 10, 12, 14, 16, 18, 20, 22, 24, 26, 28]\n"
     ]
    }
   ],
   "source": [
    "s = []\n",
    "for i in range(1,15):\n",
    "    s.append(i*2) #can not be assigned to anything\n",
    "    print(s)"
   ]
  },
  {
   "cell_type": "code",
   "execution_count": 20,
   "id": "db957d1e-646a-41c8-b983-7c2d20db35e0",
   "metadata": {},
   "outputs": [
    {
     "data": {
      "text/plain": [
       "['a', 're', 'sk']"
      ]
     },
     "execution_count": 20,
     "metadata": {},
     "output_type": "execute_result"
    }
   ],
   "source": [
    "L = ['A','Re','SK']\n",
    "list(map(str.lower,L))"
   ]
  },
  {
   "cell_type": "code",
   "execution_count": 23,
   "id": "b524c92f-1fcb-4383-97bb-c46dc2c0decb",
   "metadata": {},
   "outputs": [
    {
     "data": {
      "text/plain": [
       "[0, 4, 16, 36, 64]"
      ]
     },
     "execution_count": 23,
     "metadata": {},
     "output_type": "execute_result"
    }
   ],
   "source": [
    "a = [i ** 2 for i in range(0,10,2)]\n",
    "a"
   ]
  },
  {
   "cell_type": "code",
   "execution_count": 23,
   "id": "63ff3188-4985-4ede-815c-d0e68f04f8ee",
   "metadata": {},
   "outputs": [
    {
     "data": {
      "text/plain": [
       "['Ali', 'Hassan', 'Reza', 'Mohammad']"
      ]
     },
     "execution_count": 23,
     "metadata": {},
     "output_type": "execute_result"
    }
   ],
   "source": [
    "s = ['Ali','Hassan','Reza','Mohammad']\n",
    "s"
   ]
  },
  {
   "cell_type": "code",
   "execution_count": 18,
   "id": "a3e4968f-4044-46ed-92a3-a2cd92761ee9",
   "metadata": {},
   "outputs": [
    {
     "data": {
      "text/plain": [
       "['HASSAN', 'REZA', 'MOHAMMAD']"
      ]
     },
     "execution_count": 18,
     "metadata": {},
     "output_type": "execute_result"
    }
   ],
   "source": [
    "[n.upper() for n in s if 'a' in n]"
   ]
  },
  {
   "cell_type": "code",
   "execution_count": 27,
   "id": "df79f522-32b9-49a2-b95a-89c77efbf60d",
   "metadata": {},
   "outputs": [
    {
     "data": {
      "text/plain": [
       "['ali', 'HASSAN', 'REZA', 'MOHAMMAD']"
      ]
     },
     "execution_count": 27,
     "metadata": {},
     "output_type": "execute_result"
    }
   ],
   "source": [
    "[n.lower() if 'i' in n else n.upper() for n in s]"
   ]
  },
  {
   "cell_type": "markdown",
   "id": "84d60eec-c44b-4b0c-a106-d208a5aa1465",
   "metadata": {},
   "source": [
    "### Coding Sections"
   ]
  },
  {
   "cell_type": "code",
   "execution_count": 7,
   "id": "3d104f98-8dc1-4d6c-be41-23c3ac64d292",
   "metadata": {},
   "outputs": [
    {
     "name": "stdin",
     "output_type": "stream",
     "text": [
      "print your desirable integer: 4\n"
     ]
    },
    {
     "name": "stdout",
     "output_type": "stream",
     "text": [
      "4 is even\n"
     ]
    },
    {
     "name": "stdin",
     "output_type": "stream",
     "text": [
      "Do you wish to continue? yes\n",
      "print your desirable integer: 5\n"
     ]
    },
    {
     "name": "stdout",
     "output_type": "stream",
     "text": [
      "5 is odd\n"
     ]
    },
    {
     "name": "stdin",
     "output_type": "stream",
     "text": [
      "Do you wish to continue? no\n"
     ]
    }
   ],
   "source": [
    "f = 1\n",
    "while f:\n",
    "    n = input(\"print your desirable integer:\")\n",
    "    n = int(n)\n",
    "    if n % 2 == 0:\n",
    "        print(f'{n} is even')\n",
    "    else:\n",
    "        print(f'{n} is odd')\n",
    "    flag = input('Do you wish to continue?')\n",
    "    if flag == 'yes':\n",
    "        f = 1\n",
    "    else:\n",
    "        f = 0"
   ]
  },
  {
   "cell_type": "markdown",
   "id": "c38860ca-78e9-42e4-b7db-caca24e564d7",
   "metadata": {},
   "source": [
    "#### Another example"
   ]
  },
  {
   "cell_type": "code",
   "execution_count": 36,
   "id": "2cf7d303-aa9d-480c-8ff8-5e488fdf6ce6",
   "metadata": {},
   "outputs": [
    {
     "name": "stdin",
     "output_type": "stream",
     "text": [
      "Enter the 0 number: 3\n",
      "Enter the 1 number: 14\n",
      "Enter the 2 number: 5.33\n"
     ]
    },
    {
     "name": "stdout",
     "output_type": "stream",
     "text": [
      "[3.0, 5.33, 14.0]\n",
      "Median of x = [3.0, 5.33, 14.0] is 5.33\n"
     ]
    }
   ],
   "source": [
    "i = 0\n",
    "x = []\n",
    "while i < 3:\n",
    "    y = float(input(f'Enter the {i} number:'))\n",
    "    x.append(y)\n",
    "    i += 1\n",
    "if x[0] < x[1] :\n",
    "    if x[1] < x[2]:\n",
    "        print(x)\n",
    "    else:\n",
    "        if x[2] > x[0]:\n",
    "            t = x[2]\n",
    "            x[2] = x[1]\n",
    "            x[1] = t \n",
    "            print(x)\n",
    "        else:\n",
    "            t = x[0]\n",
    "            x[0] = x[2]\n",
    "            x[2] = x[1]\n",
    "            x[1] = t\n",
    "            print(x)\n",
    "elif x[0] > x[1]:\n",
    "    if x[0] < x[2]:\n",
    "        t = x[0]\n",
    "        x[0] = x[1]\n",
    "        x[1] = t \n",
    "        print(x)\n",
    "    else: #if x[0] is greater > than x[2]\n",
    "        if x[2] > x[1]: \n",
    "            t = x[2]\n",
    "            p = x[1]\n",
    "            x[1] = t\n",
    "            x[2] = x[0]\n",
    "            x[0] = p\n",
    "            print(x)\n",
    "        else:\n",
    "            t = x[2]\n",
    "            x[2] = x[0]\n",
    "            x[0] = t\n",
    "            print(x)\n",
    "m = len(x)\n",
    "print(f'Median of x = {x} is {x[m%2]}')"
   ]
  },
  {
   "cell_type": "markdown",
   "id": "1c6b9383-cc24-4d67-ba2b-76dd980475a5",
   "metadata": {},
   "source": [
    "### Another HW"
   ]
  },
  {
   "cell_type": "code",
   "execution_count": 14,
   "id": "4e869b73-f07b-4961-adfa-ca06df79073e",
   "metadata": {},
   "outputs": [
    {
     "name": "stdin",
     "output_type": "stream",
     "text": [
      "Enter your random Number in range of [500,1000), Ali: 3\n"
     ]
    },
    {
     "name": "stdout",
     "output_type": "stream",
     "text": [
      "Invalid Number, Out of range \n",
      "\n"
     ]
    },
    {
     "name": "stdin",
     "output_type": "stream",
     "text": [
      "Enter your random Number in range of [500,1000), Ali: 0\n"
     ]
    },
    {
     "name": "stdout",
     "output_type": "stream",
     "text": [
      "Invalid Number, Out of range \n",
      "\n"
     ]
    },
    {
     "name": "stdin",
     "output_type": "stream",
     "text": [
      "Enter your random Number in range of [500,1000), Ali: 1000\n"
     ]
    },
    {
     "name": "stdout",
     "output_type": "stream",
     "text": [
      "Invalid Number, Out of range \n",
      "\n"
     ]
    },
    {
     "name": "stdin",
     "output_type": "stream",
     "text": [
      "Enter your random Number in range of [500,1000), Ali: 521\n"
     ]
    },
    {
     "name": "stdout",
     "output_type": "stream",
     "text": [
      "Do it\n",
      "\n"
     ]
    },
    {
     "name": "stdin",
     "output_type": "stream",
     "text": [
      "Do you wish to try again?:\n",
      " yes\n",
      "Enter your random Number in range of [500,1000), Ali: 631\n"
     ]
    },
    {
     "name": "stdout",
     "output_type": "stream",
     "text": [
      "Do not do it\n",
      "\n"
     ]
    },
    {
     "name": "stdin",
     "output_type": "stream",
     "text": [
      "Do you wish to try again?:\n",
      " no\n"
     ]
    }
   ],
   "source": [
    "msg = 'Enter your random Number in range of [500,1000), Ali:'\n",
    "flag = 1\n",
    "while flag:\n",
    "    x = float(input(msg))\n",
    "    f2 = 1\n",
    "    while f2 :\n",
    "        if ( x < 500 ) or ( x >= 1000 ):\n",
    "            print(\"Invalid Number, Out of range \\n\")\n",
    "            x = float(input(msg))\n",
    "        else:\n",
    "            f2 = 0\n",
    "    m = int(x / 10 )\n",
    "    if ( m % 2 == 0):\n",
    "        print(\"Do it\\n\")\n",
    "    else:\n",
    "        print(\"Do not do it\\n\")\n",
    "    answer = input(\"Do you wish to try again?:\\n\")\n",
    "    if (answer.lower() == 'yes') or (answer.lower() == 'yup') :\n",
    "        pass\n",
    "    else:\n",
    "        flag = 0"
   ]
  },
  {
   "cell_type": "markdown",
   "id": "090dea25-3e56-4e43-8f71-a31f744672e7",
   "metadata": {},
   "source": [
    "### Another Problem\n"
   ]
  },
  {
   "cell_type": "code",
   "execution_count": 26,
   "id": "2b32eeb3-b1b5-4ed1-bb9c-0630da95921a",
   "metadata": {},
   "outputs": [
    {
     "name": "stdin",
     "output_type": "stream",
     "text": [
      "Enter your desirable option number in range of [0,4]: -1\n",
      "\n",
      "Wrong number, please enter between 0 to 4: 1\n",
      "Enter your Name: ali\n"
     ]
    },
    {
     "name": "stdout",
     "output_type": "stream",
     "text": [
      "I know you\n",
      "\n"
     ]
    },
    {
     "name": "stdin",
     "output_type": "stream",
     "text": [
      "Enter your next desirable option: 2\n",
      "Enter your Name: reza\n"
     ]
    },
    {
     "name": "stdout",
     "output_type": "stream",
     "text": [
      "I knew you already\n",
      "\n"
     ]
    },
    {
     "name": "stdin",
     "output_type": "stream",
     "text": [
      "Enter your next desirable option: 0\n"
     ]
    },
    {
     "name": "stdout",
     "output_type": "stream",
     "text": [
      "Bye!\n",
      "\n"
     ]
    }
   ],
   "source": [
    "namelist = ['ali','reza','Mohammad','mahtab','sara','gholam']\n",
    "f1 = 1\n",
    "option = float(input(\"Enter your desirable option number in range of [0,4]:\"))\n",
    "if 0 <= option <= 4:\n",
    "    pass\n",
    "else:\n",
    "    option = float(input(\"\\nWrong number, please enter between 0 to 4:\\n\"))\n",
    "while True:\n",
    "    if option == 0:\n",
    "        print(\"Bye!\\n\")\n",
    "        break\n",
    "    elif option == 1:\n",
    "        name = input(\"Enter your Name:\")\n",
    "        if name in namelist:\n",
    "            print(\"I know you\\n\")\n",
    "            option = float(input(\"Enter your next desirable option:\"))\n",
    "        else:\n",
    "            print(\"I don`t know you\\n\")\n",
    "            #namelist.append(name)\n",
    "            option = float(input(\"Enter your next desirable option:\"))\n",
    "    elif option == 2:\n",
    "        name = input(\"Enter your Name:\")\n",
    "        if name in namelist:\n",
    "            print(\"I knew you already\\n\")\n",
    "            option = float(input(\"Enter your next desirable option:\"))\n",
    "        else:\n",
    "            print(\"Now I know you\\n\")\n",
    "            namelist.append(name)\n",
    "            option = float(input(\"Enter your next desirable option:\"))\n",
    "    elif option == 3:\n",
    "        name = input(\"Enter your Name:\")\n",
    "        if name in namelist:\n",
    "            namelist.remove(name)\n",
    "            print(\"Now I don`t know you\\n\")\n",
    "            option = float(input(\"Enter your next desirable option:\"))\n",
    "        else:\n",
    "            print(\"I already didn`t know you\\n\")\n",
    "            option = float(input(\"Enter your next desirable option:\"))\n",
    "    else:\n",
    "        print(f'name list is {namelist}')\n",
    "        f1 = 0\n",
    "        break"
   ]
  },
  {
   "cell_type": "code",
   "execution_count": 1,
   "id": "56e9f46d-abf7-482f-b7b1-99e814e96d95",
   "metadata": {},
   "outputs": [
    {
     "name": "stdout",
     "output_type": "stream",
     "text": [
      "Collecting termcolor\n",
      "  Downloading termcolor-2.3.0-py3-none-any.whl (6.9 kB)\n",
      "Installing collected packages: termcolor\n",
      "Successfully installed termcolor-2.3.0\n"
     ]
    }
   ],
   "source": [
    "!pip install termcolor\n"
   ]
  },
  {
   "cell_type": "code",
   "execution_count": 8,
   "id": "ba94e710-e4af-4a4f-a5e7-7cdd6a7963f9",
   "metadata": {},
   "outputs": [
    {
     "name": "stdout",
     "output_type": "stream",
     "text": [
      "hello world\n"
     ]
    }
   ],
   "source": [
    "from termcolor import colored\n",
    "\n",
    "print(colored('hello', 'red'), colored('world', 'green'))"
   ]
  },
  {
   "cell_type": "code",
   "execution_count": 10,
   "id": "6d08d2c4-0137-457d-b542-436b0b8e04ad",
   "metadata": {},
   "outputs": [
    {
     "name": "stdout",
     "output_type": "stream",
     "text": [
      "Collecting rich\n",
      "  Downloading rich-13.6.0-py3-none-any.whl (239 kB)\n",
      "     l     ━━━━━━━━━━━━━━━━━━━━━━━━━━━━━━━━━━━━━━━━ 0.0/239.8 kB ? eta -:--:--━━━━━━━━━━━━━━━━━━━━━━━━━━━━━━━━━━━━━━━━ 0.0/239.8 kB ? eta -:--:--━━━━━━━━━━━━━━━━━━━━━━━━━━━━━━━━━━━━━━━━ 0.0/239.8 kB ? eta -:--:--━━━━━━━━━━━━━━━━━━━━━━━━━━━━━━━━━━━━━━━━ 0.0/239.8 kB ? eta -:--:--━━━━━━━━━━━━━━━━━━━━━━━━━━━━━━━━━━━━━━━━ 0.0/239.8 kB ? eta -:--:--━╸━━━━━━━━━━━━━━━━━━━━━━━━━━━━━━━━━━━━━━ 10.2/239.8 kB ? eta -:--:--━╸━━━━━━━━━━━━━━━━━━━━━━━━━━━━━━━━━━━━━━ 10.2/239.8 kB ? eta -:--:--━╸━━━━━━━━━━━━━━━━━━━━━━━━━━━━━━━━━━━━━━ 10.2/239.8 kB ? eta -:--:--━╸━━━━━━━━━━━━━━━━━━━━━━━━━━━━━━━━━━━━━━ 10.2/239.8 kB ? eta -:--:--━╸━━━━━━━━━━━━━━━━━━━━━━━━━━━━━━━━━━━━━━ 10.2/239.8 kB ? eta -:--:--━╸━━━━━━━━━━━━━━━━━━━━━━━━━━━━━━━━━━━━━━ 10.2/239.8 kB ? eta -:--:--━━━━╸━━━━━━━━━━━━━━━━━━━━━━━━━━━━━━━━━━ 30.7/239.8 kB 72.3 kB/s eta 0:00:03━━━━━━╺━━━━━━━━━━━━━━━━━━━━━━━━━━━━━━━ 41.0/239.8 kB 106.6 kB/s eta 0:00:02━━━━━━╺━━━━━━━━━━━━━━━━━━━━━━━━━━━━━━━ 41.0/239.8 kB 106.6 kB/s eta 0:00:02━━━━━━╺━━━━━━━━━━━━━━━━━━━━━━━━━━━━━━━ 41.0/239.8 kB 106.6 kB/s eta 0:00:02━━━━━━╺━━━━━━━━━━━━━━━━━━━━━━━━━━━━━━━ 41.0/239.8 kB 106.6 kB/s eta 0:00:02━━━━━━━━━╸━━━━━━━━━━━━━━━━━━━━━━━━━━━━ 61.4/239.8 kB 102.8 kB/s eta 0:00:02━━━━━━━━━╸━━━━━━━━━━━━━━━━━━━━━━━━━━━━ 61.4/239.8 kB 102.8 kB/s eta 0:00:02━━━━━━━━━━━╺━━━━━━━━━━━━━━━━━━━━━━━━━━ 71.7/239.8 kB 106.5 kB/s eta 0:00:02━━━━━━━━━━━╺━━━━━━━━━━━━━━━━━━━━━━━━━━ 71.7/239.8 kB 106.5 kB/s eta 0:00:02━━━━━━━━━━━╺━━━━━━━━━━━━━━━━━━━━━━━━━━ 71.7/239.8 kB 106.5 kB/s eta 0:00:02━━━━━━━━━━━━━━╸━━━━━━━━━━━━━━━━━━━━━━━ 92.2/239.8 kB 115.6 kB/s eta 0:00:02━━━━━━━━━━━━━━╸━━━━━━━━━━━━━━━━━━━━━━━ 92.2/239.8 kB 115.6 kB/s eta 0:00:02━━━━━━━━━━━━━━╸━━━━━━━━━━━━━━━━━━━━━━━ 92.2/239.8 kB 115.6 kB/s eta 0:00:02━━━━━━━━━━━━━━━━━╺━━━━━━━━━━━━━━━━━━━ 112.6/239.8 kB 119.5 kB/s eta 0:00:02━━━━━━━━━━━━━━━━━━╸━━━━━━━━━━━━━━━━━━ 122.9/239.8 kB 122.1 kB/s eta 0:00:01━━━━━━━━━━━━━━━━━━╸━━━━━━━━━━━━━━━━━━ 122.9/239.8 kB 122.1 kB/s eta 0:00:01━━━━━━━━━━━━━━━━━━╸━━━━━━━━━━━━━━━━━━ 122.9/239.8 kB 122.1 kB/s eta 0:00:01━━━━━━━━━━━━━━━━━━━━━━━╸━━━━━━━━━━━━━ 153.6/239.8 kB 131.3 kB/s eta 0:00:01━━━━━━━━━━━━━━━━━━━━━━━╸━━━━━━━━━━━━━ 153.6/239.8 kB 131.3 kB/s eta 0:00:01━━━━━━━━━━━━━━━━━━━━━━━╸━━━━━━━━━━━━━ 153.6/239.8 kB 131.3 kB/s eta 0:00:01━━━━━━━━━━━━━━━━━━━━━━━╸━━━━━━━━━━━━━ 153.6/239.8 kB 131.3 kB/s eta 0:00:01━━━━━━━━━━━━━━━━━━━━━━━╸━━━━━━━━━━━━━ 153.6/239.8 kB 131.3 kB/s eta 0:00:01━━━━━━━━━━━━━━━━━━━━━━━━━━━━━━╺━━━━━━ 194.6/239.8 kB 141.8 kB/s eta 0:00:01━━━━━━━━━━━━━━━━━━━━━━━━━━━━━━╺━━━━━━ 194.6/239.8 kB 141.8 kB/s eta 0:00:01━━━━━━━━━━━━━━━━━━━━━━━━━━━━━━╺━━━━━━ 194.6/239.8 kB 141.8 kB/s eta 0:00:01━━━━━━━━━━━━━━━━━━━━━━━━━━━━━━╺━━━━━━ 194.6/239.8 kB 141.8 kB/s eta 0:00:01━━━━━━━━━━━━━━━━━━━━━━━━━━━━━━━━━━╸━━ 225.3/239.8 kB 142.5 kB/s eta 0:00:01━━━━━━━━━━━━━━━━━━━━━━━━━━━━━━━━━━╸━━ 225.3/239.8 kB 142.5 kB/s eta 0:00:01━━━━━━━━━━━━━━━━━━━━━━━━━━━━━━━━━━━━━ 239.8/239.8 kB 141.9 kB/s eta 0:00:00\n",
      "\u001b[?25hCollecting pygments<3.0.0,>=2.13.0\n",
      "  Downloading Pygments-2.16.1-py3-none-any.whl (1.2 MB)\n",
      "     l     ━━━━━━━━━━━━━━━━━━━━━━━━━━━━━━━━━━━━━━━━ 0.0/1.2 MB ? eta -:--:--━━━━━━━━━━━━━━━━━━━━━━━━━━━━━━━━━━━━━━━━ 0.0/1.2 MB ? eta -:--:--━━━━━━━━━━━━━━━━━━━━━━━━━━━━━━━━━━━━━━━━ 0.0/1.2 MB ? eta -:--:--━━━━━━━━━━━━━━━━━━━━━━━━━━━━━━━━━━━━━━━━ 0.0/1.2 MB ? eta -:--:--━━━━━━━━━━━━━━━━━━━━━━━━━━━━━━━━━━━━━━━━ 0.0/1.2 MB ? eta -:--:--━━━━━━━━━━━━━━━━━━━━━━━━━━━━━━━━━━━━━━━━ 0.0/1.2 MB ? eta -:--:--━╺━━━━━━━━━━━━━━━━━━━━━━━━━━━━━━━━━━━━━━ 0.0/1.2 MB 975.4 kB/s eta 0:00:02━╺━━━━━━━━━━━━━━━━━━━━━━━━━━━━━━━━━━━━━━ 0.0/1.2 MB 975.4 kB/s eta 0:00:02━╺━━━━━━━━━━━━━━━━━━━━━━━━━━━━━━━━━━━━━━ 0.0/1.2 MB 975.4 kB/s eta 0:00:02━╺━━━━━━━━━━━━━━━━━━━━━━━━━━━━━━━━━━━━━━ 0.0/1.2 MB 975.4 kB/s eta 0:00:02━╺━━━━━━━━━━━━━━━━━━━━━━━━━━━━━━━━━━━━━━ 0.0/1.2 MB 146.0 kB/s eta 0:00:08━━╺━━━━━━━━━━━━━━━━━━━━━━━━━━━━━━━━━━━━━ 0.1/1.2 MB 231.8 kB/s eta 0:00:05━━╺━━━━━━━━━━━━━━━━━━━━━━━━━━━━━━━━━━━━━ 0.1/1.2 MB 231.8 kB/s eta 0:00:05━━╺━━━━━━━━━━━━━━━━━━━━━━━━━━━━━━━━━━━━━ 0.1/1.2 MB 231.8 kB/s eta 0:00:05━━╺━━━━━━━━━━━━━━━━━━━━━━━━━━━━━━━━━━━━━ 0.1/1.2 MB 231.8 kB/s eta 0:00:05━━━╺━━━━━━━━━━━━━━━━━━━━━━━━━━━━━━━━━━━━ 0.1/1.2 MB 176.4 kB/s eta 0:00:07━━━╺━━━━━━━━━━━━━━━━━━━━━━━━━━━━━━━━━━━━ 0.1/1.2 MB 176.4 kB/s eta 0:00:07━━━╺━━━━━━━━━━━━━━━━━━━━━━━━━━━━━━━━━━━━ 0.1/1.2 MB 176.4 kB/s eta 0:00:07━━━╺━━━━━━━━━━━━━━━━━━━━━━━━━━━━━━━━━━━━ 0.1/1.2 MB 176.4 kB/s eta 0:00:07━━━╸━━━━━━━━━━━━━━━━━━━━━━━━━━━━━━━━━━━━ 0.1/1.2 MB 163.9 kB/s eta 0:00:07━━━━╸━━━━━━━━━━━━━━━━━━━━━━━━━━━━━━━━━━━ 0.1/1.2 MB 186.2 kB/s eta 0:00:06━━━━╸━━━━━━━━━━━━━━━━━━━━━━━━━━━━━━━━━━━ 0.1/1.2 MB 186.2 kB/s eta 0:00:06━━━━╸━━━━━━━━━━━━━━━━━━━━━━━━━━━━━━━━━━━ 0.1/1.2 MB 186.2 kB/s eta 0:00:06━━━━╸━━━━━━━━━━━━━━━━━━━━━━━━━━━━━━━━━━━ 0.1/1.2 MB 186.2 kB/s eta 0:00:06━━━━╸━━━━━━━━━━━━━━━━━━━━━━━━━━━━━━━━━━━ 0.1/1.2 MB 186.2 kB/s eta 0:00:06━━━━━╺━━━━━━━━━━━━━━━━━━━━━━━━━━━━━━━━━━ 0.2/1.2 MB 158.5 kB/s eta 0:00:07━━━━━╺━━━━━━━━━━━━━━━━━━━━━━━━━━━━━━━━━━ 0.2/1.2 MB 158.5 kB/s eta 0:00:07━━━━━╺━━━━━━━━━━━━━━━━━━━━━━━━━━━━━━━━━━ 0.2/1.2 MB 158.5 kB/s eta 0:00:07━━━━━╸━━━━━━━━━━━━━━━━━━━━━━━━━━━━━━━━━━ 0.2/1.2 MB 155.5 kB/s eta 0:00:07━━━━━━╸━━━━━━━━━━━━━━━━━━━━━━━━━━━━━━━━━ 0.2/1.2 MB 163.4 kB/s eta 0:00:06━━━━━━╸━━━━━━━━━━━━━━━━━━━━━━━━━━━━━━━━━ 0.2/1.2 MB 163.4 kB/s eta 0:00:06━━━━━━╸━━━━━━━━━━━━━━━━━━━━━━━━━━━━━━━━━ 0.2/1.2 MB 163.4 kB/s eta 0:00:06━━━━━━╸━━━━━━━━━━━━━━━━━━━━━━━━━━━━━━━━━ 0.2/1.2 MB 163.4 kB/s eta 0:00:06━━━━━━╸━━━━━━━━━━━━━━━━━━━━━━━━━━━━━━━━━ 0.2/1.2 MB 163.4 kB/s eta 0:00:06━━━━━━╸━━━━━━━━━━━━━━━━━━━━━━━━━━━━━━━━━ 0.2/1.2 MB 163.4 kB/s eta 0:00:06━━━━━━╸━━━━━━━━━━━━━━━━━━━━━━━━━━━━━━━━━ 0.2/1.2 MB 163.4 kB/s eta 0:00:06━━━━━━╸━━━━━━━━━━━━━━━━━━━━━━━━━━━━━━━━━ 0.2/1.2 MB 163.4 kB/s eta 0:00:06━━━━━━╸━━━━━━━━━━━━━━━━━━━━━━━━━━━━━━━━━ 0.2/1.2 MB 163.4 kB/s eta 0:00:06━━━━━━━╺━━━━━━━━━━━━━━━━━━━━━━━━━━━━━━━━ 0.2/1.2 MB 123.6 kB/s eta 0:00:08━━━━━━━╸━━━━━━━━━━━━━━━━━━━━━━━━━━━━━━━━ 0.2/1.2 MB 136.4 kB/s eta 0:00:07━━━━━━━╸━━━━━━━━━━━━━━━━━━━━━━━━━━━━━━━━ 0.2/1.2 MB 136.4 kB/s eta 0:00:07━━━━━━━╸━━━━━━━━━━━━━━━━━━━━━━━━━━━━━━━━ 0.2/1.2 MB 136.4 kB/s eta 0:00:07━━━━━━━╸━━━━━━━━━━━━━━━━━━━━━━━━━━━━━━━━ 0.2/1.2 MB 136.4 kB/s eta 0:00:07━━━━━━━━╸━━━━━━━━━━━━━━━━━━━━━━━━━━━━━━━ 0.3/1.2 MB 136.7 kB/s eta 0:00:07━━━━━━━━━╺━━━━━━━━━━━━━━━━━━━━━━━━━━━━━━ 0.3/1.2 MB 146.9 kB/s eta 0:00:07━━━━━━━━━╺━━━━━━━━━━━━━━━━━━━━━━━━━━━━━━ 0.3/1.2 MB 146.9 kB/s eta 0:00:07━━━━━━━━━╺━━━━━━━━━━━━━━━━━━━━━━━━━━━━━━ 0.3/1.2 MB 146.9 kB/s eta 0:00:07━━━━━━━━━╺━━━━━━━━━━━━━━━━━━━━━━━━━━━━━━ 0.3/1.2 MB 146.9 kB/s eta 0:00:07━━━━━━━━━╺━━━━━━━━━━━━━━━━━━━━━━━━━━━━━━ 0.3/1.2 MB 146.9 kB/s eta 0:00:07━━━━━━━━━╺━━━━━━━━━━━━━━━━━━━━━━━━━━━━━━ 0.3/1.2 MB 146.9 kB/s eta 0:00:07━━━━━━━━━━╸━━━━━━━━━━━━━━━━━━━━━━━━━━━━━ 0.3/1.2 MB 144.6 kB/s eta 0:00:06━━━━━━━━━━╸━━━━━━━━━━━━━━━━━━━━━━━━━━━━━ 0.3/1.2 MB 144.6 kB/s eta 0:00:06━━━━━━━━━━╸━━━━━━━━━━━━━━━━━━━━━━━━━━━━━ 0.3/1.2 MB 144.6 kB/s eta 0:00:06━━━━━━━━━━╸━━━━━━━━━━━━━━━━━━━━━━━━━━━━━ 0.3/1.2 MB 144.6 kB/s eta 0:00:06━━━━━━━━━━╸━━━━━━━━━━━━━━━━━━━━━━━━━━━━━ 0.3/1.2 MB 144.6 kB/s eta 0:00:06━━━━━━━━━━╸━━━━━━━━━━━━━━━━━━━━━━━━━━━━━ 0.3/1.2 MB 144.6 kB/s eta 0:00:06━━━━━━━━━━╸━━━━━━━━━━━━━━━━━━━━━━━━━━━━━ 0.3/1.2 MB 144.6 kB/s eta 0:00:06━━━━━━━━━━━━╸━━━━━━━━━━━━━━━━━━━━━━━━━━━ 0.4/1.2 MB 147.5 kB/s eta 0:00:06━━━━━━━━━━━━╸━━━━━━━━━━━━━━━━━━━━━━━━━━━ 0.4/1.2 MB 147.5 kB/s eta 0:00:06━━━━━━━━━━━━╸━━━━━━━━━━━━━━━━━━━━━━━━━━━ 0.4/1.2 MB 147.5 kB/s eta 0:00:06━━━━━━━━━━━━╸━━━━━━━━━━━━━━━━━━━━━━━━━━━ 0.4/1.2 MB 147.5 kB/s eta 0:00:06━━━━━━━━━━━━╸━━━━━━━━━━━━━━━━━━━━━━━━━━━ 0.4/1.2 MB 147.5 kB/s eta 0:00:06━━━━━━━━━━━━━━╸━━━━━━━━━━━━━━━━━━━━━━━━━ 0.4/1.2 MB 156.7 kB/s eta 0:00:05━━━━━━━━━━━━━━╸━━━━━━━━━━━━━━━━━━━━━━━━━ 0.4/1.2 MB 156.7 kB/s eta 0:00:05━━━━━━━━━━━━━━╸━━━━━━━━━━━━━━━━━━━━━━━━━ 0.4/1.2 MB 156.7 kB/s eta 0:00:05━━━━━━━━━━━━━━╸━━━━━━━━━━━━━━━━━━━━━━━━━ 0.4/1.2 MB 156.7 kB/s eta 0:00:05━━━━━━━━━━━━━━━╺━━━━━━━━━━━━━━━━━━━━━━━━ 0.5/1.2 MB 154.1 kB/s eta 0:00:05━━━━━━━━━━━━━━━━━╸━━━━━━━━━━━━━━━━━━━━━━ 0.5/1.2 MB 172.1 kB/s eta 0:00:04━━━━━━━━━━━━━━━━━╸━━━━━━━━━━━━━━━━━━━━━━ 0.5/1.2 MB 172.1 kB/s eta 0:00:04━━━━━━━━━━━━━━━━━╸━━━━━━━━━━━━━━━━━━━━━━ 0.5/1.2 MB 172.1 kB/s eta 0:00:04━━━━━━━━━━━━━━━━━╸━━━━━━━━━━━━━━━━━━━━━━ 0.5/1.2 MB 172.1 kB/s eta 0:00:04━━━━━━━━━━━━━━━━━━╸━━━━━━━━━━━━━━━━━━━━━ 0.5/1.2 MB 171.4 kB/s eta 0:00:04━━━━━━━━━━━━━━━━━━━━╺━━━━━━━━━━━━━━━━━━━ 0.6/1.2 MB 185.9 kB/s eta 0:00:04━━━━━━━━━━━━━━━━━━━━╺━━━━━━━━━━━━━━━━━━━ 0.6/1.2 MB 185.9 kB/s eta 0:00:04━━━━━━━━━━━━━━━━━━━━╺━━━━━━━━━━━━━━━━━━━ 0.6/1.2 MB 185.9 kB/s eta 0:00:04━━━━━━━━━━━━━━━━━━━━╺━━━━━━━━━━━━━━━━━━━ 0.6/1.2 MB 185.9 kB/s eta 0:00:04━━━━━━━━━━━━━━━━━━━━━╺━━━━━━━━━━━━━━━━━━ 0.6/1.2 MB 184.8 kB/s eta 0:00:03━━━━━━━━━━━━━━━━━━━━━━━╺━━━━━━━━━━━━━━━━ 0.7/1.2 MB 197.0 kB/s eta 0:00:03━━━━━━━━━━━━━━━━━━━━━━━╺━━━━━━━━━━━━━━━━ 0.7/1.2 MB 197.0 kB/s eta 0:00:03━━━━━━━━━━━━━━━━━━━━━━━╺━━━━━━━━━━━━━━━━ 0.7/1.2 MB 197.0 kB/s eta 0:00:03━━━━━━━━━━━━━━━━━━━━━━━╺━━━━━━━━━━━━━━━━ 0.7/1.2 MB 197.0 kB/s eta 0:00:03━━━━━━━━━━━━━━━━━━━━━━━━╸━━━━━━━━━━━━━━━ 0.7/1.2 MB 200.7 kB/s eta 0:00:03━━━━━━━━━━━━━━━━━━━━━━━━━╺━━━━━━━━━━━━━━ 0.7/1.2 MB 202.3 kB/s eta 0:00:03━━━━━━━━━━━━━━━━━━━━━━━━━╺━━━━━━━━━━━━━━ 0.7/1.2 MB 202.3 kB/s eta 0:00:03━━━━━━━━━━━━━━━━━━━━━━━━━━╺━━━━━━━━━━━━━ 0.8/1.2 MB 202.4 kB/s eta 0:00:03━━━━━━━━━━━━━━━━━━━━━━━━━━╸━━━━━━━━━━━━━ 0.8/1.2 MB 205.6 kB/s eta 0:00:02━━━━━━━━━━━━━━━━━━━━━━━━━━━╸━━━━━━━━━━━━ 0.8/1.2 MB 210.5 kB/s eta 0:00:02━━━━━━━━━━━━━━━━━━━━━━━━━━━━╺━━━━━━━━━━━ 0.8/1.2 MB 211.5 kB/s eta 0:00:02━━━━━━━━━━━━━━━━━━━━━━━━━━━━╺━━━━━━━━━━━ 0.8/1.2 MB 211.5 kB/s eta 0:00:02━━━━━━━━━━━━━━━━━━━━━━━━━━━━━╸━━━━━━━━━━ 0.9/1.2 MB 216.1 kB/s eta 0:00:02━━━━━━━━━━━━━━━━━━━━━━━━━━━━━╸━━━━━━━━━━ 0.9/1.2 MB 216.1 kB/s eta 0:00:02━━━━━━━━━━━━━━━━━━━━━━━━━━━━━━╸━━━━━━━━━ 0.9/1.2 MB 220.8 kB/s eta 0:00:02━━━━━━━━━━━━━━━━━━━━━━━━━━━━━━╸━━━━━━━━━ 0.9/1.2 MB 220.8 kB/s eta 0:00:02━━━━━━━━━━━━━━━━━━━━━━━━━━━━━━━━╺━━━━━━━ 0.9/1.2 MB 225.4 kB/s eta 0:00:01━━━━━━━━━━━━━━━━━━━━━━━━━━━━━━━━╺━━━━━━━ 0.9/1.2 MB 225.4 kB/s eta 0:00:01━━━━━━━━━━━━━━━━━━━━━━━━━━━━━━━━╺━━━━━━━ 0.9/1.2 MB 225.4 kB/s eta 0:00:01━━━━━━━━━━━━━━━━━━━━━━━━━━━━━━━━━━╺━━━━━ 1.0/1.2 MB 230.4 kB/s eta 0:00:01━━━━━━━━━━━━━━━━━━━━━━━━━━━━━━━━━━╺━━━━━ 1.0/1.2 MB 230.4 kB/s eta 0:00:01━━━━━━━━━━━━━━━━━━━━━━━━━━━━━━━━━━╸━━━━━ 1.0/1.2 MB 231.9 kB/s eta 0:00:01━━━━━━━━━━━━━━━━━━━━━━━━━━━━━━━━━━╸━━━━━ 1.0/1.2 MB 231.9 kB/s eta 0:00:01━━━━━━━━━━━━━━━━━━━━━━━━━━━━━━━━━━━╸━━━━ 1.0/1.2 MB 230.7 kB/s eta 0:00:01━━━━━━━━━━━━━━━━━━━━━━━━━━━━━━━━━━━━╸━━━ 1.1/1.2 MB 237.1 kB/s eta 0:00:01━━━━━━━━━━━━━━━━━━━━━━━━━━━━━━━━━━━━━╸━━ 1.1/1.2 MB 239.0 kB/s eta 0:00:01━━━━━━━━━━━━━━━━━━━━━━━━━━━━━━━━━━━━━━╺━ 1.1/1.2 MB 241.3 kB/s eta 0:00:01━━━━━━━━━━━━━━━━━━━━━━━━━━━━━━━━━━━━━━╺━ 1.1/1.2 MB 241.3 kB/s eta 0:00:01━━━━━━━━━━━━━━━━━━━━━━━━━━━━━━━━━━━━━━╺━ 1.1/1.2 MB 241.3 kB/s eta 0:00:01━━━━━━━━━━━━━━━━━━━━━━━━━━━━━━━━━━━━━━━━ 1.2/1.2 MB 244.5 kB/s eta 0:00:00\n",
      "\u001b[?25hCollecting markdown-it-py>=2.2.0\n",
      "  Downloading markdown_it_py-3.0.0-py3-none-any.whl (87 kB)\n",
      "     l     ━━━━━━━━━━━━━━━━━━━━━━━━━━━━━━━━━━━━━━━━ 0.0/87.5 kB ? eta -:--:--━━━━━━━━━━━━━━━━━━╸━━━━━━━━━━━━━━━━━━━━━ 41.0/87.5 kB 8.6 MB/s eta 0:00:01━━━━━━━━━━━━━━━━━━╸━━━━━━━━━━━━━━━━━━━━━ 41.0/87.5 kB 8.6 MB/s eta 0:00:01━━━━━━━━━━━━━━━━━━╸━━━━━━━━━━━━━━━━━━━━━ 41.0/87.5 kB 8.6 MB/s eta 0:00:01━━━━━━━━━━━━━━━━━━╸━━━━━━━━━━━━━━━━━━━━━ 41.0/87.5 kB 8.6 MB/s eta 0:00:01━━━━━━━━━━━━━━━━━━╸━━━━━━━━━━━━━━━━━━━━━ 41.0/87.5 kB 8.6 MB/s eta 0:00:01━━━━━━━━━━━━━━━━━━━━━━━━━━━━━━━━━━━━╸━━ 81.9/87.5 kB 273.2 kB/s eta 0:00:01━━━━━━━━━━━━━━━━━━━━━━━━━━━━━━━━━━━━╸━━ 81.9/87.5 kB 273.2 kB/s eta 0:00:01━━━━━━━━━━━━━━━━━━━━━━━━━━━━━━━━━━━━━━━ 87.5/87.5 kB 212.8 kB/s eta 0:00:00\n",
      "\u001b[?25hCollecting mdurl~=0.1\n",
      "  Downloading mdurl-0.1.2-py3-none-any.whl (10.0 kB)\n",
      "Installing collected packages: pygments, mdurl, markdown-it-py, rich\n",
      "  Attempting uninstall: pygments\n",
      "    Found existing installation: Pygments 2.11.2\n",
      "    Uninstalling Pygments-2.11.2:\n",
      "      Successfully uninstalled Pygments-2.11.2\n",
      "Successfully installed markdown-it-py-3.0.0 mdurl-0.1.2 pygments-2.16.1 rich-13.6.0\n"
     ]
    }
   ],
   "source": [
    "!pip install rich"
   ]
  },
  {
   "cell_type": "code",
   "execution_count": 14,
   "id": "215ac225-6d0d-4bfb-b7b5-3e5c33eccc1b",
   "metadata": {},
   "outputs": [
    {
     "data": {
      "text/html": [
       "<pre style=\"white-space:pre;overflow-x:auto;line-height:normal;font-family:Menlo,'DejaVu Sans Mono',consolas,'Courier New',monospace\">Hello, <span style=\"color: #800080; text-decoration-color: #800080; font-weight: bold\">World</span>! 🧛\n",
       "</pre>\n"
      ],
      "text/plain": [
       "Hello, \u001b[1;35mWorld\u001b[0m! 🧛\n"
      ]
     },
     "metadata": {},
     "output_type": "display_data"
    }
   ],
   "source": [
    "from rich import print\n",
    "\n",
    "print(\"Hello, [bold magenta]World[/bold magenta]!\", \":vampire:\")"
   ]
  },
  {
   "cell_type": "code",
   "execution_count": 19,
   "id": "09cffdb5-ae0c-4854-a4bc-80ebee3b8fdb",
   "metadata": {},
   "outputs": [
    {
     "data": {
      "text/html": [
       "<pre style=\"white-space:pre;overflow-x:auto;line-height:normal;font-family:Menlo,'DejaVu Sans Mono',consolas,'Courier New',monospace\">┏━━━━━━━━━━┳━━━━━┓\n",
       "┃<span style=\"font-weight: bold\"> Name     </span>┃<span style=\"font-weight: bold\"> Age </span>┃\n",
       "┡━━━━━━━━━━╇━━━━━┩\n",
       "│<span style=\"font-weight: bold\"> John Doe </span>│<span style=\"font-weight: bold\"> 30  </span>│\n",
       "│<span style=\"font-weight: bold\"> Jane Doe </span>│<span style=\"font-weight: bold\"> 25  </span>│\n",
       "└──────────┴─────┘\n",
       "</pre>\n"
      ],
      "text/plain": [
       "┏━━━━━━━━━━┳━━━━━┓\n",
       "┃\u001b[1m \u001b[0m\u001b[1mName    \u001b[0m\u001b[1m \u001b[0m┃\u001b[1m \u001b[0m\u001b[1mAge\u001b[0m\u001b[1m \u001b[0m┃\n",
       "┡━━━━━━━━━━╇━━━━━┩\n",
       "│\u001b[1m \u001b[0m\u001b[1mJohn Doe\u001b[0m\u001b[1m \u001b[0m│\u001b[1m \u001b[0m\u001b[1m30 \u001b[0m\u001b[1m \u001b[0m│\n",
       "│\u001b[1m \u001b[0m\u001b[1mJane Doe\u001b[0m\u001b[1m \u001b[0m│\u001b[1m \u001b[0m\u001b[1m25 \u001b[0m\u001b[1m \u001b[0m│\n",
       "└──────────┴─────┘\n"
      ]
     },
     "metadata": {},
     "output_type": "display_data"
    }
   ],
   "source": [
    "from rich.table import Table\n",
    "\n",
    "table = Table()\n",
    "table.add_column(\"Name\", style=\"bold\")\n",
    "table.add_column(\"Age\", style=\"bold\")\n",
    "table.add_row(\"John Doe\", '30')\n",
    "table.add_row(\"Jane Doe\", '25')\n",
    "\n",
    "print(table)"
   ]
  },
  {
   "cell_type": "code",
   "execution_count": 22,
   "id": "23084a77-f1b6-4de8-a6c8-ff728bb351cc",
   "metadata": {},
   "outputs": [
    {
     "data": {
      "text/html": [
       "<pre style=\"white-space:pre;overflow-x:auto;line-height:normal;font-family:Menlo,'DejaVu Sans Mono',consolas,'Courier New',monospace\"><span style=\"font-weight: bold\">[</span><span style=\"color: #008080; text-decoration-color: #008080; font-weight: bold\">1</span>, <span style=\"color: #008080; text-decoration-color: #008080; font-weight: bold\">2</span>, <span style=\"color: #008080; text-decoration-color: #008080; font-weight: bold\">3</span>, <span style=\"color: #008080; text-decoration-color: #008080; font-weight: bold\">4</span><span style=\"font-weight: bold\">]</span>\n",
       "</pre>\n"
      ],
      "text/plain": [
       "\u001b[1m[\u001b[0m\u001b[1;36m1\u001b[0m, \u001b[1;36m2\u001b[0m, \u001b[1;36m3\u001b[0m, \u001b[1;36m4\u001b[0m\u001b[1m]\u001b[0m\n"
      ]
     },
     "metadata": {},
     "output_type": "display_data"
    },
    {
     "data": {
      "text/html": [
       "<pre style=\"white-space:pre;overflow-x:auto;line-height:normal;font-family:Menlo,'DejaVu Sans Mono',consolas,'Courier New',monospace\"><span style=\"font-weight: bold\">(</span><span style=\"color: #008080; text-decoration-color: #008080; font-weight: bold\">1</span>, <span style=\"color: #008080; text-decoration-color: #008080; font-weight: bold\">2</span>, <span style=\"color: #008080; text-decoration-color: #008080; font-weight: bold\">3</span>, <span style=\"color: #008080; text-decoration-color: #008080; font-weight: bold\">4</span><span style=\"font-weight: bold\">)</span>\n",
       "</pre>\n"
      ],
      "text/plain": [
       "\u001b[1m(\u001b[0m\u001b[1;36m1\u001b[0m, \u001b[1;36m2\u001b[0m, \u001b[1;36m3\u001b[0m, \u001b[1;36m4\u001b[0m\u001b[1m)\u001b[0m\n"
      ]
     },
     "metadata": {},
     "output_type": "display_data"
    },
    {
     "data": {
      "text/html": [
       "<pre style=\"white-space:pre;overflow-x:auto;line-height:normal;font-family:Menlo,'DejaVu Sans Mono',consolas,'Courier New',monospace\"><span style=\"font-weight: bold\">{</span><span style=\"color: #008000; text-decoration-color: #008000\">'nums_list'</span>: <span style=\"font-weight: bold\">[</span><span style=\"color: #008080; text-decoration-color: #008080; font-weight: bold\">1</span>, <span style=\"color: #008080; text-decoration-color: #008080; font-weight: bold\">2</span>, <span style=\"color: #008080; text-decoration-color: #008080; font-weight: bold\">3</span>, <span style=\"color: #008080; text-decoration-color: #008080; font-weight: bold\">4</span><span style=\"font-weight: bold\">]</span>, <span style=\"color: #008000; text-decoration-color: #008000\">'nums_tuple'</span>: <span style=\"font-weight: bold\">(</span><span style=\"color: #008080; text-decoration-color: #008080; font-weight: bold\">1</span>, <span style=\"color: #008080; text-decoration-color: #008080; font-weight: bold\">2</span>, <span style=\"color: #008080; text-decoration-color: #008080; font-weight: bold\">3</span>, <span style=\"color: #008080; text-decoration-color: #008080; font-weight: bold\">4</span><span style=\"font-weight: bold\">)}</span>\n",
       "</pre>\n"
      ],
      "text/plain": [
       "\u001b[1m{\u001b[0m\u001b[32m'nums_list'\u001b[0m: \u001b[1m[\u001b[0m\u001b[1;36m1\u001b[0m, \u001b[1;36m2\u001b[0m, \u001b[1;36m3\u001b[0m, \u001b[1;36m4\u001b[0m\u001b[1m]\u001b[0m, \u001b[32m'nums_tuple'\u001b[0m: \u001b[1m(\u001b[0m\u001b[1;36m1\u001b[0m, \u001b[1;36m2\u001b[0m, \u001b[1;36m3\u001b[0m, \u001b[1;36m4\u001b[0m\u001b[1m)\u001b[0m\u001b[1m}\u001b[0m\n"
      ]
     },
     "metadata": {},
     "output_type": "display_data"
    },
    {
     "data": {
      "text/html": [
       "<pre style=\"white-space:pre;overflow-x:auto;line-height:normal;font-family:Menlo,'DejaVu Sans Mono',consolas,'Courier New',monospace\"><span style=\"font-weight: bold\">[</span><span style=\"color: #00ff00; text-decoration-color: #00ff00; font-style: italic\">True</span>, <span style=\"color: #ff0000; text-decoration-color: #ff0000; font-style: italic\">False</span><span style=\"font-weight: bold\">]</span>\n",
       "</pre>\n"
      ],
      "text/plain": [
       "\u001b[1m[\u001b[0m\u001b[3;92mTrue\u001b[0m, \u001b[3;91mFalse\u001b[0m\u001b[1m]\u001b[0m\n"
      ]
     },
     "metadata": {},
     "output_type": "display_data"
    }
   ],
   "source": [
    "from rich import print as rprint\n",
    "\n",
    "nums_list = [1, 2, 3, 4]\n",
    "rprint(nums_list)\n",
    "\n",
    "nums_tuple = (1, 2, 3, 4)\n",
    "rprint(nums_tuple)\n",
    "\n",
    "nums_dict = {'nums_list': nums_list, 'nums_tuple': nums_tuple}\n",
    "rprint(nums_dict)\n",
    "\n",
    "bool_list = [True, False]\n",
    "rprint(bool_list)"
   ]
  },
  {
   "cell_type": "markdown",
   "id": "15b37d0c-d368-494a-a06c-ffea7b3ea885",
   "metadata": {},
   "source": [
    "### Multipliction Problem"
   ]
  },
  {
   "cell_type": "code",
   "execution_count": 9,
   "id": "302d986c-2a23-47b8-94a0-db33dcc523e7",
   "metadata": {},
   "outputs": [
    {
     "name": "stdin",
     "output_type": "stream",
     "text": [
      "Enter a number: 45\n"
     ]
    },
    {
     "name": "stdout",
     "output_type": "stream",
     "text": [
      "45 x 0 = 0\n",
      "45 x 1 = 45\n",
      "45 x 2 = 90\n",
      "45 x 3 = 135\n",
      "45 x 4 = 180\n",
      "45 x 5 = 225\n",
      "45 x 6 = 270\n",
      "45 x 7 = 315\n",
      "45 x 8 = 360\n",
      "45 x 9 = 405\n",
      "45 x 10 = 450\n",
      "45 x 11 = 495\n",
      "45 x 12 = 540\n",
      "45 x 13 = 585\n",
      "45 x 14 = 630\n",
      "45 x 15 = 675\n",
      "45 x 16 = 720\n",
      "45 x 17 = 765\n",
      "45 x 18 = 810\n",
      "45 x 19 = 855\n",
      "45 x 20 = 900\n"
     ]
    }
   ],
   "source": [
    "n = int(input(\"Enter a number:\"))\n",
    "for i in range(0,21,1):\n",
    "    print(f'{n} x {i} = {n*i}')\n",
    "    #print(\"\\n\")\n",
    "    i +=1"
   ]
  },
  {
   "cell_type": "code",
   "execution_count": 6,
   "id": "b796894f-00b3-42d8-ab5f-a7c8f338649d",
   "metadata": {},
   "outputs": [
    {
     "data": {
      "text/plain": [
       "True"
      ]
     },
     "execution_count": 6,
     "metadata": {},
     "output_type": "execute_result"
    }
   ],
   "source": [
    "x = '2'\n",
    "x.isdecimal()"
   ]
  },
  {
   "cell_type": "markdown",
   "id": "cde65d43-221f-4081-b8fd-5f4c04c6d3e8",
   "metadata": {},
   "source": [
    "## Fibonacci Series"
   ]
  },
  {
   "cell_type": "code",
   "execution_count": 20,
   "id": "9e4c8487-4ca4-4914-b731-e6d7e54c92c9",
   "metadata": {},
   "outputs": [
    {
     "name": "stdin",
     "output_type": "stream",
     "text": [
      "Enter the number of steps you wish to see: 11\n"
     ]
    },
    {
     "name": "stdout",
     "output_type": "stream",
     "text": [
      "We are at the 0th level of this sequence, while the sequence itself is [0, 1]\n",
      "We are at the 1th level of this sequence, while the sequence itself is [0, 1]\n",
      "We are at the 2th level of this sequence, while the sequence itself is [0, 1, 1]\n",
      "We are at the 3th level of this sequence, while the sequence itself is [0, 1, 1, 2]\n",
      "We are at the 4th level of this sequence, while the sequence itself is [0, 1, 1, 2, 3]\n",
      "We are at the 5th level of this sequence, while the sequence itself is [0, 1, 1, 2, 3, 5]\n",
      "We are at the 6th level of this sequence, while the sequence itself is [0, 1, 1, 2, 3, 5, 8]\n",
      "We are at the 7th level of this sequence, while the sequence itself is [0, 1, 1, 2, 3, 5, 8, 13]\n",
      "We are at the 8th level of this sequence, while the sequence itself is [0, 1, 1, 2, 3, 5, 8, 13, 21]\n",
      "We are at the 9th level of this sequence, while the sequence itself is [0, 1, 1, 2, 3, 5, 8, 13, 21, 34]\n",
      "We are at the 10th level of this sequence, while the sequence itself is [0, 1, 1, 2, 3, 5, 8, 13, 21, 34, 55]\n",
      "We are at the 11th level of this sequence, while the sequence itself is [0, 1, 1, 2, 3, 5, 8, 13, 21, 34, 55, 89]\n"
     ]
    }
   ],
   "source": [
    "n = int(input('Enter the number of steps you wish to see:'))\n",
    "x = [0,1]\n",
    "i = 0\n",
    "y = 0\n",
    "while i <= n:\n",
    "    print(f'We are at the {i}th level of this sequence, while the sequence itself is {x}',end='\\n')\n",
    "    if i >= 1:\n",
    "        y = x[i] + x[i-1]\n",
    "        x.append(y)\n",
    "    i+=1"
   ]
  },
  {
   "cell_type": "code",
   "execution_count": 11,
   "id": "0272c40a-927b-4d76-b6af-8b45d882d4ba",
   "metadata": {},
   "outputs": [
    {
     "data": {
      "text/plain": [
       "['__add__',\n",
       " '__class__',\n",
       " '__class_getitem__',\n",
       " '__contains__',\n",
       " '__delattr__',\n",
       " '__delitem__',\n",
       " '__dir__',\n",
       " '__doc__',\n",
       " '__eq__',\n",
       " '__format__',\n",
       " '__ge__',\n",
       " '__getattribute__',\n",
       " '__getitem__',\n",
       " '__gt__',\n",
       " '__hash__',\n",
       " '__iadd__',\n",
       " '__imul__',\n",
       " '__init__',\n",
       " '__init_subclass__',\n",
       " '__iter__',\n",
       " '__le__',\n",
       " '__len__',\n",
       " '__lt__',\n",
       " '__mul__',\n",
       " '__ne__',\n",
       " '__new__',\n",
       " '__reduce__',\n",
       " '__reduce_ex__',\n",
       " '__repr__',\n",
       " '__reversed__',\n",
       " '__rmul__',\n",
       " '__setattr__',\n",
       " '__setitem__',\n",
       " '__sizeof__',\n",
       " '__str__',\n",
       " '__subclasshook__',\n",
       " 'append',\n",
       " 'clear',\n",
       " 'copy',\n",
       " 'count',\n",
       " 'extend',\n",
       " 'index',\n",
       " 'insert',\n",
       " 'pop',\n",
       " 'remove',\n",
       " 'reverse',\n",
       " 'sort']"
      ]
     },
     "execution_count": 11,
     "metadata": {},
     "output_type": "execute_result"
    }
   ],
   "source": [
    "dir(x)"
   ]
  },
  {
   "cell_type": "code",
   "execution_count": 2,
   "id": "d672b493-eb03-4514-8b0e-a2d7695da5d0",
   "metadata": {},
   "outputs": [
    {
     "data": {
      "text/plain": [
       "'00234'"
      ]
     },
     "execution_count": 2,
     "metadata": {},
     "output_type": "execute_result"
    }
   ],
   "source": [
    "'{:05d}'.format(234)"
   ]
  },
  {
   "cell_type": "code",
   "execution_count": 5,
   "id": "9bf76879-5af8-48a6-a4c0-3bb9a57f4fb1",
   "metadata": {},
   "outputs": [
    {
     "data": {
      "text/plain": [
       "'12,234.2500'"
      ]
     },
     "execution_count": 5,
     "metadata": {},
     "output_type": "execute_result"
    }
   ],
   "source": [
    "'{0:,.4f}'.format(12234.25)"
   ]
  },
  {
   "cell_type": "code",
   "execution_count": 10,
   "id": "80656341-1cfe-4f16-ae08-c331b4ce6acf",
   "metadata": {},
   "outputs": [],
   "source": [
    "x = 1234.567345"
   ]
  },
  {
   "cell_type": "code",
   "execution_count": 12,
   "id": "9a22fdff-1ee6-44c6-bbaf-826f2aefd6f2",
   "metadata": {},
   "outputs": [
    {
     "data": {
      "text/plain": [
       "'1.2e+03'"
      ]
     },
     "execution_count": 12,
     "metadata": {},
     "output_type": "execute_result"
    }
   ],
   "source": [
    "'{0:.2}'.format(x)"
   ]
  },
  {
   "cell_type": "code",
   "execution_count": 13,
   "id": "da204837-a649-42d7-b554-0e742308c789",
   "metadata": {},
   "outputs": [
    {
     "data": {
      "text/plain": [
       "True"
      ]
     },
     "execution_count": 13,
     "metadata": {},
     "output_type": "execute_result"
    }
   ],
   "source": [
    "any([1,0,0,0.0])"
   ]
  },
  {
   "cell_type": "code",
   "execution_count": 14,
   "id": "a067a01e-0c61-467e-8aa7-af389fed107d",
   "metadata": {},
   "outputs": [
    {
     "data": {
      "text/plain": [
       "False"
      ]
     },
     "execution_count": 14,
     "metadata": {},
     "output_type": "execute_result"
    }
   ],
   "source": [
    "all([1,1,1,0.0])"
   ]
  },
  {
   "cell_type": "markdown",
   "id": "510322a4-e4a6-4701-9749-425e7f1eaf6f",
   "metadata": {},
   "source": [
    "# Functions"
   ]
  },
  {
   "cell_type": "markdown",
   "id": "2cbc361c-c0f1-4761-86bc-e8505b022df2",
   "metadata": {},
   "source": [
    "#### Stub Function"
   ]
  },
  {
   "cell_type": "code",
   "execution_count": 7,
   "id": "bf3276b3-dd44-4724-a786-0b77c1a6a15b",
   "metadata": {},
   "outputs": [],
   "source": [
    "def add(a,b):\n",
    "    pass"
   ]
  },
  {
   "cell_type": "code",
   "execution_count": 8,
   "id": "bb513848-14e6-4cb0-ba8c-43349d1b6702",
   "metadata": {},
   "outputs": [],
   "source": [
    "x = add(2,3)"
   ]
  },
  {
   "cell_type": "markdown",
   "id": "5584f05d-7226-4f7f-bff1-13868967a5d4",
   "metadata": {},
   "source": [
    "#### Non-Argument Value Functions"
   ]
  },
  {
   "cell_type": "code",
   "execution_count": 9,
   "id": "69b10f2d-d5be-4367-945e-31f74c216cb9",
   "metadata": {},
   "outputs": [],
   "source": [
    "def print2():\n",
    "    print(\"Hello\")"
   ]
  },
  {
   "cell_type": "code",
   "execution_count": 10,
   "id": "7426011e-f90a-45d6-8899-639899f46343",
   "metadata": {},
   "outputs": [
    {
     "name": "stdout",
     "output_type": "stream",
     "text": [
      "Hello\n",
      "Hello\n",
      "Hello\n",
      "Hello\n"
     ]
    }
   ],
   "source": [
    "print2()\n",
    "print2()\n",
    "print2()\n",
    "print2()"
   ]
  },
  {
   "cell_type": "markdown",
   "id": "2e47a1c1-c382-42a3-8f36-27f3d23bc1b7",
   "metadata": {},
   "source": [
    "#### Argument Passing into Functions"
   ]
  },
  {
   "cell_type": "code",
   "execution_count": 138,
   "id": "32366bbc-af46-4c93-b424-7a877e0c1b15",
   "metadata": {},
   "outputs": [],
   "source": [
    "def f(q,it,pr):\n",
    "    print(f\"{q} kilograms of {it} cost {pr:.2f}$\")"
   ]
  },
  {
   "cell_type": "code",
   "execution_count": 139,
   "id": "607210a9-3115-4016-ac55-454476e68620",
   "metadata": {},
   "outputs": [
    {
     "name": "stdout",
     "output_type": "stream",
     "text": [
      "3 kilograms of Parsley cost 4.50$\n",
      "None\n",
      "\n",
      "\n",
      "3 kilograms of Parsley cost 4.50$\n"
     ]
    }
   ],
   "source": [
    "print(f(3,'Parsley',4.5))\n",
    "print('\\n')\n",
    "f(3,'Parsley',4.5)"
   ]
  },
  {
   "cell_type": "markdown",
   "id": "55791fef-f50e-497a-95d7-88a6eb6f277d",
   "metadata": {},
   "source": [
    "#### Keyword Arguments for Functions"
   ]
  },
  {
   "cell_type": "code",
   "execution_count": 140,
   "id": "cec58870-9934-417a-ad81-c8135363ba51",
   "metadata": {},
   "outputs": [
    {
     "name": "stdout",
     "output_type": "stream",
     "text": [
      "5 kilograms of Thyme cost 3.99$\n"
     ]
    }
   ],
   "source": [
    "f(q = 5, pr = 3.99, it = \"Thyme\") "
   ]
  },
  {
   "cell_type": "code",
   "execution_count": 141,
   "id": "e6b8c65f-cade-4899-9def-bd7ca165ad7d",
   "metadata": {},
   "outputs": [
    {
     "name": "stdout",
     "output_type": "stream",
     "text": [
      "5 kilograms of Ginger cost 3.50$\n"
     ]
    }
   ],
   "source": [
    "f(5,pr=3.5, it=\"Ginger\")"
   ]
  },
  {
   "cell_type": "markdown",
   "id": "5f67e093-9f6b-4247-9f99-f4480166b9cf",
   "metadata": {},
   "source": [
    "#### Default Arguments"
   ]
  },
  {
   "cell_type": "code",
   "execution_count": 142,
   "id": "858ff991-bfed-4b03-86da-b966bf12bac4",
   "metadata": {},
   "outputs": [],
   "source": [
    "def f(it,q=2,pr=3.5): #Default assigning of the Input Parameter\n",
    "    print(f\"{q} kilograms of {it} cost {pr:.2f}$\") \n",
    "    #Non-default Arguments follows Default ones"
   ]
  },
  {
   "cell_type": "code",
   "execution_count": 143,
   "id": "d80e03e1-8a29-4d4f-b979-77b17462a100",
   "metadata": {},
   "outputs": [
    {
     "name": "stdout",
     "output_type": "stream",
     "text": [
      "2 kilograms of Mushrooms cost 3.50$\n"
     ]
    }
   ],
   "source": [
    "f(\"Mushrooms\")"
   ]
  },
  {
   "cell_type": "code",
   "execution_count": 144,
   "id": "f476ad9c-01c1-427d-8c13-8fdad7a50f90",
   "metadata": {},
   "outputs": [
    {
     "name": "stdout",
     "output_type": "stream",
     "text": [
      "3.5 kilograms of Potatoes cost 4.99$\n"
     ]
    }
   ],
   "source": [
    "f(\"Potatoes\",3.5,4.99)"
   ]
  },
  {
   "cell_type": "markdown",
   "id": "a5ee8da8-2cfd-46a3-a638-5ca64a0427d0",
   "metadata": {},
   "source": [
    "#### Rigid None Default Values"
   ]
  },
  {
   "cell_type": "code",
   "execution_count": 145,
   "id": "abaeb5a7-4f23-4f3c-86d9-fd848073c719",
   "metadata": {},
   "outputs": [],
   "source": [
    "def printf(l = None):\n",
    "    if l == None:\n",
    "        print(l)\n",
    "    else:\n",
    "        l.append(\"$\")\n",
    "        return l"
   ]
  },
  {
   "cell_type": "code",
   "execution_count": 114,
   "id": "bd527e98-f6ce-4ce5-9bf8-985ec6275170",
   "metadata": {},
   "outputs": [
    {
     "name": "stdout",
     "output_type": "stream",
     "text": [
      "None\n"
     ]
    }
   ],
   "source": [
    "printf() #cntrl + Enter"
   ]
  },
  {
   "cell_type": "code",
   "execution_count": 118,
   "id": "b1ce65ea-1d65-41ad-b19e-f4460a6e7d2c",
   "metadata": {},
   "outputs": [
    {
     "data": {
      "text/plain": [
       "[1, 2, '$']"
      ]
     },
     "execution_count": 118,
     "metadata": {},
     "output_type": "execute_result"
    }
   ],
   "source": [
    "printf([1,2])"
   ]
  },
  {
   "cell_type": "code",
   "execution_count": 68,
   "id": "c13b639b-10b5-45f7-bb09-5c29f486e269",
   "metadata": {},
   "outputs": [
    {
     "data": {
      "text/plain": [
       "'2'"
      ]
     },
     "execution_count": 68,
     "metadata": {},
     "output_type": "execute_result"
    }
   ],
   "source": [
    "x = 2\n",
    "repr(x)"
   ]
  },
  {
   "cell_type": "code",
   "execution_count": 69,
   "id": "05b9429b-235f-4468-afbb-d3ac27734d0b",
   "metadata": {},
   "outputs": [
    {
     "data": {
      "text/plain": [
       "'2'"
      ]
     },
     "execution_count": 69,
     "metadata": {},
     "output_type": "execute_result"
    }
   ],
   "source": [
    "str(2)"
   ]
  },
  {
   "cell_type": "code",
   "execution_count": 70,
   "id": "25368bfd-df78-4caa-a4cc-7e49f41d421c",
   "metadata": {},
   "outputs": [
    {
     "data": {
      "text/plain": [
       "'None'"
      ]
     },
     "execution_count": 70,
     "metadata": {},
     "output_type": "execute_result"
    }
   ],
   "source": [
    "repr(None)"
   ]
  },
  {
   "cell_type": "code",
   "execution_count": 71,
   "id": "11912dfc-fff7-465e-a973-d3ac88378e77",
   "metadata": {},
   "outputs": [
    {
     "data": {
      "text/plain": [
       "'None'"
      ]
     },
     "execution_count": 71,
     "metadata": {},
     "output_type": "execute_result"
    }
   ],
   "source": [
    "str(None)"
   ]
  },
  {
   "cell_type": "code",
   "execution_count": 131,
   "id": "3dab3371-0f7d-4d37-a9d7-19290408def7",
   "metadata": {},
   "outputs": [],
   "source": [
    "def abso(x):\n",
    "    if x >= 0:\n",
    "        #print(f'{x} is positive')\n",
    "        return x\n",
    "    else:\n",
    "        #print(f'{x} is negative')\n",
    "        return -x"
   ]
  },
  {
   "cell_type": "code",
   "execution_count": 133,
   "id": "2ec845f0-e986-425b-8aa3-ea8eec5b14fd",
   "metadata": {},
   "outputs": [
    {
     "name": "stdout",
     "output_type": "stream",
     "text": [
      "Absolute of -1 is 1\n",
      "Absolute of 0 is 0\n",
      "Absolute of -2.2 is 2.2\n",
      "Absolute of 3.43 is 3.43\n"
     ]
    }
   ],
   "source": [
    "for i in [-1,0,-2.2,3.43]:\n",
    "    abso(i)\n",
    "    print(f\"Absolute of {i} is {abso(i)}\", end='\\n')"
   ]
  },
  {
   "cell_type": "markdown",
   "id": "02340dd7-7faa-4ee5-a9ac-75b9543a1111",
   "metadata": {},
   "source": [
    "#### Multiple Return Output form a Function"
   ]
  },
  {
   "cell_type": "code",
   "execution_count": 134,
   "id": "60d5cd00-899e-4e32-a235-677ce9a96267",
   "metadata": {},
   "outputs": [],
   "source": [
    "def a(x):\n",
    "    x_1 = x ** 2\n",
    "    x_2 = x ** 3\n",
    "    return x_1, x_2"
   ]
  },
  {
   "cell_type": "code",
   "execution_count": 136,
   "id": "3092925c-64c9-42dc-b7e2-caaf51b9379a",
   "metadata": {},
   "outputs": [
    {
     "data": {
      "text/plain": [
       "(100, 1000)"
      ]
     },
     "execution_count": 136,
     "metadata": {},
     "output_type": "execute_result"
    }
   ],
   "source": [
    "a(10) #Returning an Immutable Tuple"
   ]
  },
  {
   "cell_type": "markdown",
   "id": "2192c6e1-d072-4163-95f3-dce755ca2372",
   "metadata": {},
   "source": [
    "### Argument Packing Input"
   ]
  },
  {
   "cell_type": "code",
   "execution_count": 14,
   "id": "7ce78d9c-697f-4407-a227-44d3f0bac7f1",
   "metadata": {},
   "outputs": [],
   "source": [
    "def avg(*args): #Tuple Unpacking\n",
    "    print(args)\n",
    "    print(type(args))\n",
    "    #print('\\n')\n",
    "    total = 0\n",
    "    for items in args:\n",
    "        total += items\n",
    "    return total / len(args)"
   ]
  },
  {
   "cell_type": "code",
   "execution_count": 15,
   "id": "f06fda1a-d49c-44a8-bbc5-0988f53b866d",
   "metadata": {},
   "outputs": [
    {
     "name": "stdout",
     "output_type": "stream",
     "text": [
      "(2, 3, 4.5)\n",
      "<class 'tuple'>\n"
     ]
    },
    {
     "data": {
      "text/plain": [
       "3.1666666666666665"
      ]
     },
     "execution_count": 15,
     "metadata": {},
     "output_type": "execute_result"
    }
   ],
   "source": [
    "avg(2,3,4.5)"
   ]
  },
  {
   "cell_type": "code",
   "execution_count": 16,
   "id": "a9f3755d-4b2d-4173-a9e4-cac47f9db227",
   "metadata": {},
   "outputs": [
    {
     "name": "stdout",
     "output_type": "stream",
     "text": [
      "(2, 3, 4, 5)\n",
      "<class 'tuple'>\n"
     ]
    },
    {
     "data": {
      "text/plain": [
       "3.5"
      ]
     },
     "execution_count": 16,
     "metadata": {},
     "output_type": "execute_result"
    }
   ],
   "source": [
    "my_list = [2,3,4,5]\n",
    "avg(*my_list)"
   ]
  },
  {
   "cell_type": "code",
   "execution_count": 13,
   "id": "8f26a69b-0188-4e86-b2ff-6ddddd0994b5",
   "metadata": {},
   "outputs": [
    {
     "name": "stdout",
     "output_type": "stream",
     "text": [
      "([2, 3, 4, 5],)\n",
      "<class 'tuple'>\n"
     ]
    },
    {
     "ename": "TypeError",
     "evalue": "unsupported operand type(s) for +=: 'int' and 'list'",
     "output_type": "error",
     "traceback": [
      "\u001b[0;31m---------------------------------------------------------------------------\u001b[0m",
      "\u001b[0;31mTypeError\u001b[0m                                 Traceback (most recent call last)",
      "Cell \u001b[0;32mIn [13], line 1\u001b[0m\n\u001b[0;32m----> 1\u001b[0m \u001b[43mavg\u001b[49m\u001b[43m(\u001b[49m\u001b[43mmy_list\u001b[49m\u001b[43m)\u001b[49m\n",
      "Cell \u001b[0;32mIn [10], line 7\u001b[0m, in \u001b[0;36mavg\u001b[0;34m(*args)\u001b[0m\n\u001b[1;32m      5\u001b[0m total \u001b[38;5;241m=\u001b[39m \u001b[38;5;241m0\u001b[39m\n\u001b[1;32m      6\u001b[0m \u001b[38;5;28;01mfor\u001b[39;00m items \u001b[38;5;129;01min\u001b[39;00m args:\n\u001b[0;32m----> 7\u001b[0m     total \u001b[38;5;241m+\u001b[39m\u001b[38;5;241m=\u001b[39m items\n\u001b[1;32m      8\u001b[0m \u001b[38;5;28;01mreturn\u001b[39;00m total \u001b[38;5;241m/\u001b[39m \u001b[38;5;28mlen\u001b[39m(args)\n",
      "\u001b[0;31mTypeError\u001b[0m: unsupported operand type(s) for +=: 'int' and 'list'"
     ]
    }
   ],
   "source": [
    "avg(my_list)"
   ]
  },
  {
   "cell_type": "code",
   "execution_count": 1,
   "id": "5b27c797-6f99-4402-ac98-a57469365e5b",
   "metadata": {},
   "outputs": [],
   "source": [
    "def printf2(**kwargs): #Dictionary Unpacking\n",
    "    print(kwargs)\n",
    "    print(type(kwargs))\n",
    "    for key,val in kwargs.items():\n",
    "        print(f'Name : {key:10} age = {val:2} old')"
   ]
  },
  {
   "cell_type": "code",
   "execution_count": 2,
   "id": "75668d2e-35d9-4f67-9c07-2a18bcebdebb",
   "metadata": {},
   "outputs": [
    {
     "name": "stdout",
     "output_type": "stream",
     "text": [
      "{'ali': 23, 'mahsa': 32}\n",
      "<class 'dict'>\n",
      "Name : ali        age = 23 old\n",
      "Name : mahsa      age = 32 old\n"
     ]
    }
   ],
   "source": [
    "printf2(ali = 23, mahsa = 32)"
   ]
  },
  {
   "cell_type": "code",
   "execution_count": 3,
   "id": "34760719-3f1f-48d2-9f93-2ba5444fd467",
   "metadata": {},
   "outputs": [],
   "source": [
    "d_1 = {\n",
    "    \"Reza\" : 34,\n",
    "    \"Marta\" : 32,\n",
    "    \"Farze\" : '9 months',\n",
    "}"
   ]
  },
  {
   "cell_type": "code",
   "execution_count": 11,
   "id": "18e476aa-848b-4adb-84d5-a324032bb06f",
   "metadata": {},
   "outputs": [],
   "source": [
    "d_2 = {\n",
    "    \"Mahan\" : 54.5,\n",
    "    \"Nima\" : 12,\n",
    "    \"Sari\" : '16 months',\n",
    "}"
   ]
  },
  {
   "cell_type": "code",
   "execution_count": 12,
   "id": "57588a93-0a39-48e2-aa02-c571791b1a2f",
   "metadata": {},
   "outputs": [
    {
     "name": "stdout",
     "output_type": "stream",
     "text": [
      "{'Reza': 34, 'Marta': 32, 'Farze': '9 months', 'Mahan': 54.5, 'Nima': 12, 'Sari': '16 months'}\n",
      "<class 'dict'>\n",
      "Name : Reza       age = 34 old\n",
      "Name : Marta      age = 32 old\n",
      "Name : Farze      age = 9 months old\n",
      "Name : Mahan      age = 54.5 old\n",
      "Name : Nima       age = 12 old\n",
      "Name : Sari       age = 16 months old\n"
     ]
    }
   ],
   "source": [
    "printf2(**d_1,**d_2) "
   ]
  },
  {
   "cell_type": "markdown",
   "id": "798dc15d-eebb-498e-93f9-a171a66e5088",
   "metadata": {},
   "source": [
    "### \"Input Arguments must not have multiple values for the same keyword argument\""
   ]
  },
  {
   "cell_type": "code",
   "execution_count": 15,
   "id": "dcd56d19-0b59-4e31-926b-d7c610bff9fb",
   "metadata": {},
   "outputs": [],
   "source": [
    "d = d_1 | d_2 # Merging two dictionaries"
   ]
  },
  {
   "cell_type": "code",
   "execution_count": 17,
   "id": "c9285cc3-2607-4349-b84a-f134a39dd718",
   "metadata": {},
   "outputs": [
    {
     "name": "stdout",
     "output_type": "stream",
     "text": [
      "{'Reza': 34, 'Marta': 32, 'Farze': '9 months', 'Mahan': 54.5, 'Nima': 12, 'Sari': '16 months'}\n",
      "<class 'dict'>\n",
      "Name : Reza       age = 34 old\n",
      "Name : Marta      age = 32 old\n",
      "Name : Farze      age = 9 months old\n",
      "Name : Mahan      age = 54.5 old\n",
      "Name : Nima       age = 12 old\n",
      "Name : Sari       age = 16 months old\n"
     ]
    }
   ],
   "source": [
    "printf2(**d)"
   ]
  },
  {
   "cell_type": "code",
   "execution_count": 23,
   "id": "8918393f-5d01-4529-b831-1eeef37e6f8b",
   "metadata": {},
   "outputs": [],
   "source": [
    "def f(*args, x, y, **kw):\n",
    "    print(f'x is {x} and y = {y}')\n",
    "    print(f'args = {args}')\n",
    "    print(f'kwargs = {kw}')"
   ]
  },
  {
   "cell_type": "code",
   "execution_count": 25,
   "id": "263e90ac-ea04-4ede-b217-31742a415198",
   "metadata": {},
   "outputs": [
    {
     "name": "stdout",
     "output_type": "stream",
     "text": [
      "x is 1.5 and y = 0\n",
      "args = (1, 2, 3)\n",
      "kwargs = {'Ali': 12.5, 'b': 13.5}\n"
     ]
    }
   ],
   "source": [
    "f(1, 2, 3, x = 1.5, y = 0, Ali = 12.5, b = 13.5)"
   ]
  },
  {
   "cell_type": "code",
   "execution_count": null,
   "id": "89f6b1d7-691d-4c1b-a11f-5c05d1505119",
   "metadata": {},
   "outputs": [],
   "source": []
  }
 ],
 "metadata": {
  "colab": {
   "provenance": []
  },
  "kernelspec": {
   "display_name": "Python 3 (ipykernel)",
   "language": "python",
   "name": "python3"
  },
  "language_info": {
   "codemirror_mode": {
    "name": "ipython",
    "version": 3
   },
   "file_extension": ".py",
   "mimetype": "text/x-python",
   "name": "python",
   "nbconvert_exporter": "python",
   "pygments_lexer": "ipython3",
   "version": "3.10.8"
  },
  "vscode": {
   "interpreter": {
    "hash": "916dbcbb3f70747c44a77c7bcd40155683ae19c65e1c03b4aa3499c5328201f1"
   }
  }
 },
 "nbformat": 4,
 "nbformat_minor": 5
}
