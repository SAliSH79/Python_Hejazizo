{
  "cells": [
    {
      "cell_type": "markdown",
      "id": "94c3ffab-1dd8-4afe-9ad8-644080eb2738",
      "metadata": {
        "id": "94c3ffab-1dd8-4afe-9ad8-644080eb2738"
      },
      "source": [
        "### Conditional Statements Lectures"
      ]
    },
    {
      "cell_type": "code",
      "execution_count": 3,
      "id": "9c8a2075-5bef-4cd2-8a9b-02c91b2b3255",
      "metadata": {
        "colab": {
          "base_uri": "https://localhost:8080/"
        },
        "id": "9c8a2075-5bef-4cd2-8a9b-02c91b2b3255",
        "outputId": "a5a3bfe7-4fdf-4855-a020-77d4b1439cd0"
      },
      "outputs": [
        {
          "output_type": "stream",
          "name": "stdout",
          "text": [
            "None is false\n"
          ]
        }
      ],
      "source": [
        "if None:\n",
        "  print (\"True is the condition.\")\n",
        "else:\n",
        "  print(\"None is false\")"
      ]
    },
    {
      "cell_type": "code",
      "source": [
        "if float:\n",
        "  print(\"True\")"
      ],
      "metadata": {
        "colab": {
          "base_uri": "https://localhost:8080/"
        },
        "id": "TpyJKbNkT5Qo",
        "outputId": "fea9a982-52ff-4c37-85af-15196917dfdf"
      },
      "id": "TpyJKbNkT5Qo",
      "execution_count": 4,
      "outputs": [
        {
          "output_type": "stream",
          "name": "stdout",
          "text": [
            "True\n"
          ]
        }
      ]
    },
    {
      "cell_type": "code",
      "source": [
        "if 'x' in [\"x\",\"xxx\",\"y\"]:\n",
        "  print(\"X is found\")"
      ],
      "metadata": {
        "colab": {
          "base_uri": "https://localhost:8080/"
        },
        "id": "Ddjv8BHZUQs0",
        "outputId": "700b8bcf-48fd-4ced-de74-4335dba08a76"
      },
      "id": "Ddjv8BHZUQs0",
      "execution_count": 7,
      "outputs": [
        {
          "output_type": "stream",
          "name": "stdout",
          "text": [
            "X is found\n"
          ]
        }
      ]
    },
    {
      "cell_type": "code",
      "source": [
        "if ('al' in \"Ali\") or ('y' in \"yellow\"):\n",
        "  print(\"1\")"
      ],
      "metadata": {
        "colab": {
          "base_uri": "https://localhost:8080/"
        },
        "id": "TonvWneAVsTr",
        "outputId": "2c203733-b039-4b30-9ad6-7edcc0859799"
      },
      "id": "TonvWneAVsTr",
      "execution_count": 9,
      "outputs": [
        {
          "output_type": "stream",
          "name": "stdout",
          "text": [
            "1\n"
          ]
        }
      ]
    },
    {
      "cell_type": "code",
      "source": [
        "x = -0.00001\n",
        "if x > 0:\n",
        "  print(\"Positive\")\n",
        "elif x == 0:\n",
        "  print(\"Zero\")\n",
        "else:\n",
        "  print(\"Negative\")"
      ],
      "metadata": {
        "colab": {
          "base_uri": "https://localhost:8080/"
        },
        "id": "BXjxsLtbWHwE",
        "outputId": "7bc4a817-089d-4063-b7af-fea59e94ae6c"
      },
      "id": "BXjxsLtbWHwE",
      "execution_count": 11,
      "outputs": [
        {
          "output_type": "stream",
          "name": "stdout",
          "text": [
            "Negative\n"
          ]
        }
      ]
    },
    {
      "cell_type": "code",
      "source": [],
      "metadata": {
        "id": "f1FpZLYxZ6lw"
      },
      "id": "f1FpZLYxZ6lw",
      "execution_count": null,
      "outputs": []
    }
  ],
  "metadata": {
    "kernelspec": {
      "display_name": "Python 3.8.10 64-bit",
      "language": "python",
      "name": "python3"
    },
    "language_info": {
      "codemirror_mode": {
        "name": "ipython",
        "version": 3
      },
      "file_extension": ".py",
      "mimetype": "text/x-python",
      "name": "python",
      "nbconvert_exporter": "python",
      "pygments_lexer": "ipython3",
      "version": "3.8.10"
    },
    "vscode": {
      "interpreter": {
        "hash": "916dbcbb3f70747c44a77c7bcd40155683ae19c65e1c03b4aa3499c5328201f1"
      }
    },
    "colab": {
      "provenance": []
    }
  },
  "nbformat": 4,
  "nbformat_minor": 5
}