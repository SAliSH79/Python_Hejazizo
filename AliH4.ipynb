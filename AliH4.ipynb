{
 "cells": [
  {
   "cell_type": "markdown",
   "id": "94c3ffab-1dd8-4afe-9ad8-644080eb2738",
   "metadata": {
    "id": "94c3ffab-1dd8-4afe-9ad8-644080eb2738"
   },
   "source": [
    "### Conditional Statements Lectures"
   ]
  },
  {
   "cell_type": "code",
   "execution_count": 1,
   "id": "9c8a2075-5bef-4cd2-8a9b-02c91b2b3255",
   "metadata": {
    "colab": {
     "base_uri": "https://localhost:8080/"
    },
    "id": "9c8a2075-5bef-4cd2-8a9b-02c91b2b3255",
    "outputId": "a5a3bfe7-4fdf-4855-a020-77d4b1439cd0"
   },
   "outputs": [
    {
     "name": "stdout",
     "output_type": "stream",
     "text": [
      "None is false\n"
     ]
    }
   ],
   "source": [
    "if None:\n",
    "  print (\"True is the condition.\")\n",
    "else:\n",
    "  print(\"None is false\")"
   ]
  },
  {
   "cell_type": "code",
   "execution_count": 2,
   "id": "TpyJKbNkT5Qo",
   "metadata": {
    "colab": {
     "base_uri": "https://localhost:8080/"
    },
    "id": "TpyJKbNkT5Qo",
    "outputId": "fea9a982-52ff-4c37-85af-15196917dfdf"
   },
   "outputs": [
    {
     "name": "stdout",
     "output_type": "stream",
     "text": [
      "True\n"
     ]
    }
   ],
   "source": [
    "if float:\n",
    "  print(\"True\")"
   ]
  },
  {
   "cell_type": "code",
   "execution_count": 3,
   "id": "Ddjv8BHZUQs0",
   "metadata": {
    "colab": {
     "base_uri": "https://localhost:8080/"
    },
    "id": "Ddjv8BHZUQs0",
    "outputId": "700b8bcf-48fd-4ced-de74-4335dba08a76"
   },
   "outputs": [
    {
     "name": "stdout",
     "output_type": "stream",
     "text": [
      "X is found\n"
     ]
    }
   ],
   "source": [
    "if 'x' in [\"x\",\"xxx\",\"y\"]:\n",
    "  print(\"X is found\")"
   ]
  },
  {
   "cell_type": "code",
   "execution_count": 4,
   "id": "TonvWneAVsTr",
   "metadata": {
    "colab": {
     "base_uri": "https://localhost:8080/"
    },
    "id": "TonvWneAVsTr",
    "outputId": "2c203733-b039-4b30-9ad6-7edcc0859799"
   },
   "outputs": [
    {
     "name": "stdout",
     "output_type": "stream",
     "text": [
      "1\n"
     ]
    }
   ],
   "source": [
    "if ('al' in \"Ali\") or ('y' in \"yellow\"):\n",
    "  print(\"1\")"
   ]
  },
  {
   "cell_type": "code",
   "execution_count": 5,
   "id": "BXjxsLtbWHwE",
   "metadata": {
    "colab": {
     "base_uri": "https://localhost:8080/"
    },
    "id": "BXjxsLtbWHwE",
    "outputId": "7bc4a817-089d-4063-b7af-fea59e94ae6c"
   },
   "outputs": [
    {
     "name": "stdout",
     "output_type": "stream",
     "text": [
      "Negative\n"
     ]
    }
   ],
   "source": [
    "x = -0.00001\n",
    "if x > 0:\n",
    "  print(\"Positive\")\n",
    "elif x == 0:\n",
    "  print(\"Zero\")\n",
    "else:\n",
    "  print(\"Negative\")"
   ]
  },
  {
   "cell_type": "code",
   "execution_count": 6,
   "id": "f1FpZLYxZ6lw",
   "metadata": {
    "id": "f1FpZLYxZ6lw"
   },
   "outputs": [
    {
     "data": {
      "text/plain": [
       "True"
      ]
     },
     "execution_count": 6,
     "metadata": {},
     "output_type": "execute_result"
    }
   ],
   "source": [
    "True or var\n",
    "# In or conditions, we can use short circuited law"
   ]
  },
  {
   "cell_type": "code",
   "execution_count": 7,
   "id": "44996a22-71af-45cb-bac8-72dc5a948554",
   "metadata": {},
   "outputs": [
    {
     "ename": "NameError",
     "evalue": "name 'var' is not defined",
     "output_type": "error",
     "traceback": [
      "\u001b[0;31m---------------------------------------------------------------------------\u001b[0m",
      "\u001b[0;31mNameError\u001b[0m                                 Traceback (most recent call last)",
      "Cell \u001b[0;32mIn [7], line 1\u001b[0m\n\u001b[0;32m----> 1\u001b[0m \u001b[38;5;28;01mTrue\u001b[39;00m \u001b[38;5;129;01mand\u001b[39;00m \u001b[43mvar\u001b[49m\n",
      "\u001b[0;31mNameError\u001b[0m: name 'var' is not defined"
     ]
    }
   ],
   "source": [
    "True and var\n",
    "#var is not defined"
   ]
  },
  {
   "cell_type": "markdown",
   "id": "e8095caa-971c-4078-8417-d4a0221323c9",
   "metadata": {},
   "source": [
    "### Ternary Operator"
   ]
  },
  {
   "cell_type": "code",
   "execution_count": 8,
   "id": "89d91e77-5b4c-46d0-bb2c-8a0250a2064c",
   "metadata": {},
   "outputs": [],
   "source": [
    "X = 12\n",
    "y = True if x > 15 else False"
   ]
  },
  {
   "cell_type": "code",
   "execution_count": 9,
   "id": "b7db1f6a-ea16-49c7-9158-bb0f324d35a0",
   "metadata": {},
   "outputs": [
    {
     "data": {
      "text/plain": [
       "False"
      ]
     },
     "execution_count": 9,
     "metadata": {},
     "output_type": "execute_result"
    }
   ],
   "source": [
    "y"
   ]
  },
  {
   "cell_type": "markdown",
   "id": "7f6f3ddc-a2df-4b6f-ab74-b36d46da0c28",
   "metadata": {},
   "source": [
    "#### Pass syntax"
   ]
  },
  {
   "cell_type": "code",
   "execution_count": 10,
   "id": "04356bee-2f37-4db5-9a2f-76051e09d9d4",
   "metadata": {},
   "outputs": [
    {
     "name": "stdout",
     "output_type": "stream",
     "text": [
      "x is sub-zero\n"
     ]
    }
   ],
   "source": [
    "x = -0.0001\n",
    "if x == 2:\n",
    "    pass\n",
    "elif x > 0:\n",
    "    print('x is non negative')\n",
    "else:\n",
    "    print('x is sub-zero')"
   ]
  },
  {
   "cell_type": "code",
   "execution_count": 13,
   "id": "446cc82d-2236-423c-8f68-11115e43be49",
   "metadata": {},
   "outputs": [],
   "source": [
    "from IPython.display import display, Math, Latex"
   ]
  },
  {
   "cell_type": "markdown",
   "id": "ad6e6b18-5c66-497f-baf7-981e2f0083ed",
   "metadata": {},
   "source": [
    "## While loops"
   ]
  },
  {
   "cell_type": "code",
   "execution_count": 18,
   "id": "c37ac78b-26e9-45eb-862a-ae01355ee8d4",
   "metadata": {},
   "outputs": [
    {
     "data": {
      "text/plain": [
       "['__abs__',\n",
       " '__add__',\n",
       " '__and__',\n",
       " '__bool__',\n",
       " '__ceil__',\n",
       " '__class__',\n",
       " '__delattr__',\n",
       " '__dir__',\n",
       " '__divmod__',\n",
       " '__doc__',\n",
       " '__eq__',\n",
       " '__float__',\n",
       " '__floor__',\n",
       " '__floordiv__',\n",
       " '__format__',\n",
       " '__ge__',\n",
       " '__getattribute__',\n",
       " '__getnewargs__',\n",
       " '__gt__',\n",
       " '__hash__',\n",
       " '__index__',\n",
       " '__init__',\n",
       " '__init_subclass__',\n",
       " '__int__',\n",
       " '__invert__',\n",
       " '__le__',\n",
       " '__lshift__',\n",
       " '__lt__',\n",
       " '__mod__',\n",
       " '__mul__',\n",
       " '__ne__',\n",
       " '__neg__',\n",
       " '__new__',\n",
       " '__or__',\n",
       " '__pos__',\n",
       " '__pow__',\n",
       " '__radd__',\n",
       " '__rand__',\n",
       " '__rdivmod__',\n",
       " '__reduce__',\n",
       " '__reduce_ex__',\n",
       " '__repr__',\n",
       " '__rfloordiv__',\n",
       " '__rlshift__',\n",
       " '__rmod__',\n",
       " '__rmul__',\n",
       " '__ror__',\n",
       " '__round__',\n",
       " '__rpow__',\n",
       " '__rrshift__',\n",
       " '__rshift__',\n",
       " '__rsub__',\n",
       " '__rtruediv__',\n",
       " '__rxor__',\n",
       " '__setattr__',\n",
       " '__sizeof__',\n",
       " '__str__',\n",
       " '__sub__',\n",
       " '__subclasshook__',\n",
       " '__truediv__',\n",
       " '__trunc__',\n",
       " '__xor__',\n",
       " 'as_integer_ratio',\n",
       " 'bit_count',\n",
       " 'bit_length',\n",
       " 'conjugate',\n",
       " 'denominator',\n",
       " 'from_bytes',\n",
       " 'imag',\n",
       " 'numerator',\n",
       " 'real',\n",
       " 'to_bytes']"
      ]
     },
     "execution_count": 18,
     "metadata": {},
     "output_type": "execute_result"
    }
   ],
   "source": [
    "dir(int)"
   ]
  },
  {
   "cell_type": "code",
   "execution_count": 21,
   "id": "8e8be9b9-1be1-4e2e-b9b0-35e1b6b857f4",
   "metadata": {},
   "outputs": [
    {
     "data": {
      "text/plain": [
       "2"
      ]
     },
     "execution_count": 21,
     "metadata": {},
     "output_type": "execute_result"
    }
   ],
   "source": [
    "x = 2\n",
    "abs(x)"
   ]
  },
  {
   "cell_type": "code",
   "execution_count": 22,
   "id": "d5df06c1-82f8-48bf-9983-3bcfd686fc82",
   "metadata": {},
   "outputs": [
    {
     "data": {
      "text/plain": [
       "0"
      ]
     },
     "execution_count": 22,
     "metadata": {},
     "output_type": "execute_result"
    }
   ],
   "source": [
    "x.imag"
   ]
  },
  {
   "cell_type": "code",
   "execution_count": 23,
   "id": "e77f2707-717d-4514-8526-782e01e2817b",
   "metadata": {},
   "outputs": [
    {
     "data": {
      "text/plain": [
       "<function int.from_bytes(bytes, byteorder, *, signed=False)>"
      ]
     },
     "execution_count": 23,
     "metadata": {},
     "output_type": "execute_result"
    }
   ],
   "source": [
    "x.from_bytes"
   ]
  },
  {
   "cell_type": "code",
   "execution_count": 31,
   "id": "ac8f3d91-a677-4639-a2c0-3d3635502729",
   "metadata": {},
   "outputs": [
    {
     "name": "stdout",
     "output_type": "stream",
     "text": [
      "x is 9 and y is 1 in the 9th level\n",
      "x is 8 and y is 2 in the 8th level\n",
      "x is 7 and y is 3 in the 7th level\n",
      "x is 6 and y is 4 in the 6th level\n",
      "x is 5 and y is 5 in the 5th level\n"
     ]
    }
   ],
   "source": [
    "x = 10\n",
    "i = 10\n",
    "y = 0\n",
    "while x > 0:\n",
    "    y += 1\n",
    "    x -= 1\n",
    "    i -= 1\n",
    "    print(f'x is {x} and y is {y} in the {i}th level')\n",
    "    if x == y and x != 0:\n",
    "        break #break and continue will save you a lot of time"
   ]
  },
  {
   "cell_type": "code",
   "execution_count": 30,
   "id": "f1bf729d-03b5-4bc4-9102-09089fec9737",
   "metadata": {},
   "outputs": [
    {
     "data": {
      "text/plain": [
       "False"
      ]
     },
     "execution_count": 30,
     "metadata": {},
     "output_type": "execute_result"
    }
   ],
   "source": [
    "bool([])"
   ]
  },
  {
   "cell_type": "markdown",
   "id": "c47caaa0-e01b-4e30-88bc-df2b7a384b02",
   "metadata": {},
   "source": [
    "### For loops"
   ]
  },
  {
   "cell_type": "code",
   "execution_count": 5,
   "id": "e86da58b-6bf5-4518-965b-9eec90d150cb",
   "metadata": {},
   "outputs": [
    {
     "name": "stdout",
     "output_type": "stream",
     "text": [
      "1\n",
      "[1, 2, 3]\n",
      "3.4\n"
     ]
    }
   ],
   "source": [
    "for i in {'a':1, '2':[1,2,3], 'sa': 3.4}.values():\n",
    "    print(i)"
   ]
  },
  {
   "cell_type": "code",
   "execution_count": 6,
   "id": "b2e2a3f8-4f8f-4a14-9e9a-0da72380acea",
   "metadata": {},
   "outputs": [
    {
     "name": "stdout",
     "output_type": "stream",
     "text": [
      "a\n",
      "2\n",
      "sa\n"
     ]
    }
   ],
   "source": [
    "for i in {'a':1, '2':[1,2,3], 'sa': 3.4}.keys():\n",
    "    print(i)"
   ]
  },
  {
   "cell_type": "code",
   "execution_count": 10,
   "id": "e5b33544-344b-48aa-965e-f58b7e383919",
   "metadata": {},
   "outputs": [],
   "source": [
    "## Something to remember always, any iterable != iterator object\n",
    "## But vice versa is true"
   ]
  },
  {
   "cell_type": "code",
   "execution_count": 8,
   "id": "f639684b-ea17-44ba-b1a9-21ca2fc3e9b4",
   "metadata": {},
   "outputs": [
    {
     "ename": "TypeError",
     "evalue": "'float' object is not iterable",
     "output_type": "error",
     "traceback": [
      "\u001b[0;31m---------------------------------------------------------------------------\u001b[0m",
      "\u001b[0;31mTypeError\u001b[0m                                 Traceback (most recent call last)",
      "Cell \u001b[0;32mIn [8], line 1\u001b[0m\n\u001b[0;32m----> 1\u001b[0m \u001b[38;5;28;43miter\u001b[39;49m\u001b[43m(\u001b[49m\u001b[38;5;241;43m3.4\u001b[39;49m\u001b[43m)\u001b[49m\n",
      "\u001b[0;31mTypeError\u001b[0m: 'float' object is not iterable"
     ]
    }
   ],
   "source": [
    "iter(3.4)"
   ]
  },
  {
   "cell_type": "code",
   "execution_count": 9,
   "id": "11b09cf3-d063-4e81-8372-b718dc2a3061",
   "metadata": {},
   "outputs": [
    {
     "data": {
      "text/plain": [
       "<tuple_iterator at 0x7fa2b8f7e440>"
      ]
     },
     "execution_count": 9,
     "metadata": {},
     "output_type": "execute_result"
    }
   ],
   "source": [
    "iter((1,2,3))"
   ]
  },
  {
   "cell_type": "code",
   "execution_count": null,
   "id": "9460f68d-7200-428b-b833-ecb23e59106b",
   "metadata": {},
   "outputs": [],
   "source": []
  }
 ],
 "metadata": {
  "colab": {
   "provenance": []
  },
  "kernelspec": {
   "display_name": "Python 3 (ipykernel)",
   "language": "python",
   "name": "python3"
  },
  "language_info": {
   "codemirror_mode": {
    "name": "ipython",
    "version": 3
   },
   "file_extension": ".py",
   "mimetype": "text/x-python",
   "name": "python",
   "nbconvert_exporter": "python",
   "pygments_lexer": "ipython3",
   "version": "3.10.8"
  },
  "vscode": {
   "interpreter": {
    "hash": "916dbcbb3f70747c44a77c7bcd40155683ae19c65e1c03b4aa3499c5328201f1"
   }
  }
 },
 "nbformat": 4,
 "nbformat_minor": 5
}
