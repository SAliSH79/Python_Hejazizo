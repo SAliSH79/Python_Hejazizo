{
 "cells": [
  {
   "cell_type": "markdown",
   "id": "94c3ffab-1dd8-4afe-9ad8-644080eb2738",
   "metadata": {
    "id": "94c3ffab-1dd8-4afe-9ad8-644080eb2738"
   },
   "source": [
    "### Conditional Statements Lectures"
   ]
  },
  {
   "cell_type": "code",
   "execution_count": 1,
   "id": "9c8a2075-5bef-4cd2-8a9b-02c91b2b3255",
   "metadata": {
    "colab": {
     "base_uri": "https://localhost:8080/"
    },
    "id": "9c8a2075-5bef-4cd2-8a9b-02c91b2b3255",
    "outputId": "a5a3bfe7-4fdf-4855-a020-77d4b1439cd0"
   },
   "outputs": [
    {
     "name": "stdout",
     "output_type": "stream",
     "text": [
      "None is false\n"
     ]
    }
   ],
   "source": [
    "if None:\n",
    "  print (\"True is the condition.\")\n",
    "else:\n",
    "  print(\"None is false\")"
   ]
  },
  {
   "cell_type": "code",
   "execution_count": 2,
   "id": "TpyJKbNkT5Qo",
   "metadata": {
    "colab": {
     "base_uri": "https://localhost:8080/"
    },
    "id": "TpyJKbNkT5Qo",
    "outputId": "fea9a982-52ff-4c37-85af-15196917dfdf"
   },
   "outputs": [
    {
     "name": "stdout",
     "output_type": "stream",
     "text": [
      "True\n"
     ]
    }
   ],
   "source": [
    "if float:\n",
    "  print(\"True\")"
   ]
  },
  {
   "cell_type": "code",
   "execution_count": 3,
   "id": "Ddjv8BHZUQs0",
   "metadata": {
    "colab": {
     "base_uri": "https://localhost:8080/"
    },
    "id": "Ddjv8BHZUQs0",
    "outputId": "700b8bcf-48fd-4ced-de74-4335dba08a76"
   },
   "outputs": [
    {
     "name": "stdout",
     "output_type": "stream",
     "text": [
      "X is found\n"
     ]
    }
   ],
   "source": [
    "if 'x' in [\"x\",\"xxx\",\"y\"]:\n",
    "  print(\"X is found\")"
   ]
  },
  {
   "cell_type": "code",
   "execution_count": 4,
   "id": "TonvWneAVsTr",
   "metadata": {
    "colab": {
     "base_uri": "https://localhost:8080/"
    },
    "id": "TonvWneAVsTr",
    "outputId": "2c203733-b039-4b30-9ad6-7edcc0859799"
   },
   "outputs": [
    {
     "name": "stdout",
     "output_type": "stream",
     "text": [
      "1\n"
     ]
    }
   ],
   "source": [
    "if ('al' in \"Ali\") or ('y' in \"yellow\"):\n",
    "  print(\"1\")"
   ]
  },
  {
   "cell_type": "code",
   "execution_count": 5,
   "id": "BXjxsLtbWHwE",
   "metadata": {
    "colab": {
     "base_uri": "https://localhost:8080/"
    },
    "id": "BXjxsLtbWHwE",
    "outputId": "7bc4a817-089d-4063-b7af-fea59e94ae6c"
   },
   "outputs": [
    {
     "name": "stdout",
     "output_type": "stream",
     "text": [
      "Negative\n"
     ]
    }
   ],
   "source": [
    "x = -0.00001\n",
    "if x > 0:\n",
    "  print(\"Positive\")\n",
    "elif x == 0:\n",
    "  print(\"Zero\")\n",
    "else:\n",
    "  print(\"Negative\")"
   ]
  },
  {
   "cell_type": "code",
   "execution_count": 6,
   "id": "f1FpZLYxZ6lw",
   "metadata": {
    "id": "f1FpZLYxZ6lw"
   },
   "outputs": [
    {
     "data": {
      "text/plain": [
       "True"
      ]
     },
     "execution_count": 6,
     "metadata": {},
     "output_type": "execute_result"
    }
   ],
   "source": [
    "True or var\n",
    "# In or conditions, we can use short circuited law"
   ]
  },
  {
   "cell_type": "code",
   "execution_count": 7,
   "id": "44996a22-71af-45cb-bac8-72dc5a948554",
   "metadata": {},
   "outputs": [
    {
     "ename": "NameError",
     "evalue": "name 'var' is not defined",
     "output_type": "error",
     "traceback": [
      "\u001b[0;31m---------------------------------------------------------------------------\u001b[0m",
      "\u001b[0;31mNameError\u001b[0m                                 Traceback (most recent call last)",
      "Cell \u001b[0;32mIn [7], line 1\u001b[0m\n\u001b[0;32m----> 1\u001b[0m \u001b[38;5;28;01mTrue\u001b[39;00m \u001b[38;5;129;01mand\u001b[39;00m \u001b[43mvar\u001b[49m\n",
      "\u001b[0;31mNameError\u001b[0m: name 'var' is not defined"
     ]
    }
   ],
   "source": [
    "True and var\n",
    "#var is not defined"
   ]
  },
  {
   "cell_type": "markdown",
   "id": "e8095caa-971c-4078-8417-d4a0221323c9",
   "metadata": {},
   "source": [
    "### Ternary Operator"
   ]
  },
  {
   "cell_type": "code",
   "execution_count": 8,
   "id": "89d91e77-5b4c-46d0-bb2c-8a0250a2064c",
   "metadata": {},
   "outputs": [],
   "source": [
    "X = 12\n",
    "y = True if x > 15 else False"
   ]
  },
  {
   "cell_type": "code",
   "execution_count": 9,
   "id": "b7db1f6a-ea16-49c7-9158-bb0f324d35a0",
   "metadata": {},
   "outputs": [
    {
     "data": {
      "text/plain": [
       "False"
      ]
     },
     "execution_count": 9,
     "metadata": {},
     "output_type": "execute_result"
    }
   ],
   "source": [
    "y"
   ]
  },
  {
   "cell_type": "markdown",
   "id": "7f6f3ddc-a2df-4b6f-ab74-b36d46da0c28",
   "metadata": {},
   "source": [
    "#### Pass syntax"
   ]
  },
  {
   "cell_type": "code",
   "execution_count": 10,
   "id": "04356bee-2f37-4db5-9a2f-76051e09d9d4",
   "metadata": {},
   "outputs": [
    {
     "name": "stdout",
     "output_type": "stream",
     "text": [
      "x is sub-zero\n"
     ]
    }
   ],
   "source": [
    "x = -0.0001\n",
    "if x == 2:\n",
    "    pass\n",
    "elif x > 0:\n",
    "    print('x is non negative')\n",
    "else:\n",
    "    print('x is sub-zero')"
   ]
  },
  {
   "cell_type": "code",
   "execution_count": 13,
   "id": "446cc82d-2236-423c-8f68-11115e43be49",
   "metadata": {},
   "outputs": [],
   "source": [
    "from IPython.display import display, Math, Latex"
   ]
  },
  {
   "cell_type": "markdown",
   "id": "ad6e6b18-5c66-497f-baf7-981e2f0083ed",
   "metadata": {},
   "source": [
    "## While loops"
   ]
  },
  {
   "cell_type": "code",
   "execution_count": 18,
   "id": "c37ac78b-26e9-45eb-862a-ae01355ee8d4",
   "metadata": {},
   "outputs": [
    {
     "data": {
      "text/plain": [
       "['__abs__',\n",
       " '__add__',\n",
       " '__and__',\n",
       " '__bool__',\n",
       " '__ceil__',\n",
       " '__class__',\n",
       " '__delattr__',\n",
       " '__dir__',\n",
       " '__divmod__',\n",
       " '__doc__',\n",
       " '__eq__',\n",
       " '__float__',\n",
       " '__floor__',\n",
       " '__floordiv__',\n",
       " '__format__',\n",
       " '__ge__',\n",
       " '__getattribute__',\n",
       " '__getnewargs__',\n",
       " '__gt__',\n",
       " '__hash__',\n",
       " '__index__',\n",
       " '__init__',\n",
       " '__init_subclass__',\n",
       " '__int__',\n",
       " '__invert__',\n",
       " '__le__',\n",
       " '__lshift__',\n",
       " '__lt__',\n",
       " '__mod__',\n",
       " '__mul__',\n",
       " '__ne__',\n",
       " '__neg__',\n",
       " '__new__',\n",
       " '__or__',\n",
       " '__pos__',\n",
       " '__pow__',\n",
       " '__radd__',\n",
       " '__rand__',\n",
       " '__rdivmod__',\n",
       " '__reduce__',\n",
       " '__reduce_ex__',\n",
       " '__repr__',\n",
       " '__rfloordiv__',\n",
       " '__rlshift__',\n",
       " '__rmod__',\n",
       " '__rmul__',\n",
       " '__ror__',\n",
       " '__round__',\n",
       " '__rpow__',\n",
       " '__rrshift__',\n",
       " '__rshift__',\n",
       " '__rsub__',\n",
       " '__rtruediv__',\n",
       " '__rxor__',\n",
       " '__setattr__',\n",
       " '__sizeof__',\n",
       " '__str__',\n",
       " '__sub__',\n",
       " '__subclasshook__',\n",
       " '__truediv__',\n",
       " '__trunc__',\n",
       " '__xor__',\n",
       " 'as_integer_ratio',\n",
       " 'bit_count',\n",
       " 'bit_length',\n",
       " 'conjugate',\n",
       " 'denominator',\n",
       " 'from_bytes',\n",
       " 'imag',\n",
       " 'numerator',\n",
       " 'real',\n",
       " 'to_bytes']"
      ]
     },
     "execution_count": 18,
     "metadata": {},
     "output_type": "execute_result"
    }
   ],
   "source": [
    "dir(int)"
   ]
  },
  {
   "cell_type": "code",
   "execution_count": 21,
   "id": "8e8be9b9-1be1-4e2e-b9b0-35e1b6b857f4",
   "metadata": {},
   "outputs": [
    {
     "data": {
      "text/plain": [
       "2"
      ]
     },
     "execution_count": 21,
     "metadata": {},
     "output_type": "execute_result"
    }
   ],
   "source": [
    "x = 2\n",
    "abs(x)"
   ]
  },
  {
   "cell_type": "code",
   "execution_count": 22,
   "id": "d5df06c1-82f8-48bf-9983-3bcfd686fc82",
   "metadata": {},
   "outputs": [
    {
     "data": {
      "text/plain": [
       "0"
      ]
     },
     "execution_count": 22,
     "metadata": {},
     "output_type": "execute_result"
    }
   ],
   "source": [
    "x.imag"
   ]
  },
  {
   "cell_type": "code",
   "execution_count": 23,
   "id": "e77f2707-717d-4514-8526-782e01e2817b",
   "metadata": {},
   "outputs": [
    {
     "data": {
      "text/plain": [
       "<function int.from_bytes(bytes, byteorder, *, signed=False)>"
      ]
     },
     "execution_count": 23,
     "metadata": {},
     "output_type": "execute_result"
    }
   ],
   "source": [
    "x.from_bytes"
   ]
  },
  {
   "cell_type": "code",
   "execution_count": 31,
   "id": "ac8f3d91-a677-4639-a2c0-3d3635502729",
   "metadata": {},
   "outputs": [
    {
     "name": "stdout",
     "output_type": "stream",
     "text": [
      "x is 9 and y is 1 in the 9th level\n",
      "x is 8 and y is 2 in the 8th level\n",
      "x is 7 and y is 3 in the 7th level\n",
      "x is 6 and y is 4 in the 6th level\n",
      "x is 5 and y is 5 in the 5th level\n"
     ]
    }
   ],
   "source": [
    "x = 10\n",
    "i = 10\n",
    "y = 0\n",
    "while x > 0:\n",
    "    y += 1\n",
    "    x -= 1\n",
    "    i -= 1\n",
    "    print(f'x is {x} and y is {y} in the {i}th level')\n",
    "    if x == y and x != 0:\n",
    "        break #break and continue will save you a lot of time"
   ]
  },
  {
   "cell_type": "code",
   "execution_count": 30,
   "id": "f1bf729d-03b5-4bc4-9102-09089fec9737",
   "metadata": {},
   "outputs": [
    {
     "data": {
      "text/plain": [
       "False"
      ]
     },
     "execution_count": 30,
     "metadata": {},
     "output_type": "execute_result"
    }
   ],
   "source": [
    "bool([])"
   ]
  },
  {
   "cell_type": "markdown",
   "id": "c47caaa0-e01b-4e30-88bc-df2b7a384b02",
   "metadata": {},
   "source": [
    "### For loops"
   ]
  },
  {
   "cell_type": "code",
   "execution_count": 5,
   "id": "e86da58b-6bf5-4518-965b-9eec90d150cb",
   "metadata": {},
   "outputs": [
    {
     "name": "stdout",
     "output_type": "stream",
     "text": [
      "1\n",
      "[1, 2, 3]\n",
      "3.4\n"
     ]
    }
   ],
   "source": [
    "for i in {'a':1, '2':[1,2,3], 'sa': 3.4}.values():\n",
    "    print(i)"
   ]
  },
  {
   "cell_type": "code",
   "execution_count": 6,
   "id": "b2e2a3f8-4f8f-4a14-9e9a-0da72380acea",
   "metadata": {},
   "outputs": [
    {
     "name": "stdout",
     "output_type": "stream",
     "text": [
      "a\n",
      "2\n",
      "sa\n"
     ]
    }
   ],
   "source": [
    "for i in {'a':1, '2':[1,2,3], 'sa': 3.4}.keys():\n",
    "    print(i)"
   ]
  },
  {
   "cell_type": "code",
   "execution_count": 10,
   "id": "e5b33544-344b-48aa-965e-f58b7e383919",
   "metadata": {},
   "outputs": [],
   "source": [
    "## Something to remember always, any iterable != iterator object\n",
    "## But vice versa is true"
   ]
  },
  {
   "cell_type": "code",
   "execution_count": 8,
   "id": "f639684b-ea17-44ba-b1a9-21ca2fc3e9b4",
   "metadata": {},
   "outputs": [
    {
     "ename": "TypeError",
     "evalue": "'float' object is not iterable",
     "output_type": "error",
     "traceback": [
      "\u001b[0;31m---------------------------------------------------------------------------\u001b[0m",
      "\u001b[0;31mTypeError\u001b[0m                                 Traceback (most recent call last)",
      "Cell \u001b[0;32mIn [8], line 1\u001b[0m\n\u001b[0;32m----> 1\u001b[0m \u001b[38;5;28;43miter\u001b[39;49m\u001b[43m(\u001b[49m\u001b[38;5;241;43m3.4\u001b[39;49m\u001b[43m)\u001b[49m\n",
      "\u001b[0;31mTypeError\u001b[0m: 'float' object is not iterable"
     ]
    }
   ],
   "source": [
    "iter(3.4)"
   ]
  },
  {
   "cell_type": "code",
   "execution_count": 9,
   "id": "11b09cf3-d063-4e81-8372-b718dc2a3061",
   "metadata": {},
   "outputs": [
    {
     "data": {
      "text/plain": [
       "<tuple_iterator at 0x7fa2b8f7e440>"
      ]
     },
     "execution_count": 9,
     "metadata": {},
     "output_type": "execute_result"
    }
   ],
   "source": [
    "iter((1,2,3))"
   ]
  },
  {
   "cell_type": "code",
   "execution_count": 11,
   "id": "9460f68d-7200-428b-b833-ecb23e59106b",
   "metadata": {},
   "outputs": [
    {
     "name": "stdout",
     "output_type": "stream",
     "text": [
      "('a', 1)\n",
      "('2', [1, 2, 3])\n",
      "('sa', 3.4)\n"
     ]
    }
   ],
   "source": [
    "for i in {'a':1, '2':[1,2,3], 'sa': 3.4}.items():\n",
    "    print(i)"
   ]
  },
  {
   "cell_type": "code",
   "execution_count": 13,
   "id": "71fe7a76-b5e4-45ec-bb94-18ddb88932dc",
   "metadata": {},
   "outputs": [
    {
     "name": "stdout",
     "output_type": "stream",
     "text": [
      "100   200\n",
      "103   206\n",
      "106   212\n",
      "109   218\n",
      "112   224\n",
      "115   230\n",
      "118   236\n",
      "121   242\n",
      "124   248\n",
      "127   254\n",
      "130   260\n",
      "133   266\n",
      "136   272\n",
      "139   278\n",
      "142   284\n",
      "145   290\n",
      "148   296\n"
     ]
    }
   ],
   "source": [
    "for i in range(100,150,3): #efficient for RAM, fast for executing\n",
    "    print(i, ' ', i*2)"
   ]
  },
  {
   "cell_type": "code",
   "execution_count": 19,
   "id": "d9469f89-0f9a-4844-b415-1024a47220b9",
   "metadata": {},
   "outputs": [
    {
     "name": "stdout",
     "output_type": "stream",
     "text": [
      "[2]\n",
      "[2, 4]\n",
      "[2, 4, 6]\n",
      "[2, 4, 6, 8]\n",
      "[2, 4, 6, 8, 10]\n",
      "[2, 4, 6, 8, 10, 12]\n",
      "[2, 4, 6, 8, 10, 12, 14]\n",
      "[2, 4, 6, 8, 10, 12, 14, 16]\n",
      "[2, 4, 6, 8, 10, 12, 14, 16, 18]\n",
      "[2, 4, 6, 8, 10, 12, 14, 16, 18, 20]\n",
      "[2, 4, 6, 8, 10, 12, 14, 16, 18, 20, 22]\n",
      "[2, 4, 6, 8, 10, 12, 14, 16, 18, 20, 22, 24]\n",
      "[2, 4, 6, 8, 10, 12, 14, 16, 18, 20, 22, 24, 26]\n",
      "[2, 4, 6, 8, 10, 12, 14, 16, 18, 20, 22, 24, 26, 28]\n"
     ]
    }
   ],
   "source": [
    "s = []\n",
    "for i in range(1,15):\n",
    "    s.append(i*2) #can not be assigned to anything\n",
    "    print(s)"
   ]
  },
  {
   "cell_type": "code",
   "execution_count": 20,
   "id": "db957d1e-646a-41c8-b983-7c2d20db35e0",
   "metadata": {},
   "outputs": [
    {
     "data": {
      "text/plain": [
       "['a', 're', 'sk']"
      ]
     },
     "execution_count": 20,
     "metadata": {},
     "output_type": "execute_result"
    }
   ],
   "source": [
    "L = ['A','Re','SK']\n",
    "list(map(str.lower,L))"
   ]
  },
  {
   "cell_type": "code",
   "execution_count": 23,
   "id": "b524c92f-1fcb-4383-97bb-c46dc2c0decb",
   "metadata": {},
   "outputs": [
    {
     "data": {
      "text/plain": [
       "[0, 4, 16, 36, 64]"
      ]
     },
     "execution_count": 23,
     "metadata": {},
     "output_type": "execute_result"
    }
   ],
   "source": [
    "a = [i ** 2 for i in range(0,10,2)]\n",
    "a"
   ]
  },
  {
   "cell_type": "code",
   "execution_count": 23,
   "id": "63ff3188-4985-4ede-815c-d0e68f04f8ee",
   "metadata": {},
   "outputs": [
    {
     "data": {
      "text/plain": [
       "['Ali', 'Hassan', 'Reza', 'Mohammad']"
      ]
     },
     "execution_count": 23,
     "metadata": {},
     "output_type": "execute_result"
    }
   ],
   "source": [
    "s = ['Ali','Hassan','Reza','Mohammad']\n",
    "s"
   ]
  },
  {
   "cell_type": "code",
   "execution_count": 18,
   "id": "a3e4968f-4044-46ed-92a3-a2cd92761ee9",
   "metadata": {},
   "outputs": [
    {
     "data": {
      "text/plain": [
       "['HASSAN', 'REZA', 'MOHAMMAD']"
      ]
     },
     "execution_count": 18,
     "metadata": {},
     "output_type": "execute_result"
    }
   ],
   "source": [
    "[n.upper() for n in s if 'a' in n]"
   ]
  },
  {
   "cell_type": "code",
   "execution_count": 27,
   "id": "df79f522-32b9-49a2-b95a-89c77efbf60d",
   "metadata": {},
   "outputs": [
    {
     "data": {
      "text/plain": [
       "['ali', 'HASSAN', 'REZA', 'MOHAMMAD']"
      ]
     },
     "execution_count": 27,
     "metadata": {},
     "output_type": "execute_result"
    }
   ],
   "source": [
    "[n.lower() if 'i' in n else n.upper() for n in s]"
   ]
  },
  {
   "cell_type": "markdown",
   "id": "84d60eec-c44b-4b0c-a106-d208a5aa1465",
   "metadata": {},
   "source": [
    "### Coding Sections"
   ]
  },
  {
   "cell_type": "code",
   "execution_count": 7,
   "id": "3d104f98-8dc1-4d6c-be41-23c3ac64d292",
   "metadata": {},
   "outputs": [
    {
     "name": "stdin",
     "output_type": "stream",
     "text": [
      "print your desirable integer: 4\n"
     ]
    },
    {
     "name": "stdout",
     "output_type": "stream",
     "text": [
      "4 is even\n"
     ]
    },
    {
     "name": "stdin",
     "output_type": "stream",
     "text": [
      "Do you wish to continue? yes\n",
      "print your desirable integer: 5\n"
     ]
    },
    {
     "name": "stdout",
     "output_type": "stream",
     "text": [
      "5 is odd\n"
     ]
    },
    {
     "name": "stdin",
     "output_type": "stream",
     "text": [
      "Do you wish to continue? no\n"
     ]
    }
   ],
   "source": [
    "f = 1\n",
    "while f:\n",
    "    n = input(\"print your desirable integer:\")\n",
    "    n = int(n)\n",
    "    if n % 2 == 0:\n",
    "        print(f'{n} is even')\n",
    "    else:\n",
    "        print(f'{n} is odd')\n",
    "    flag = input('Do you wish to continue?')\n",
    "    if flag == 'yes':\n",
    "        f = 1\n",
    "    else:\n",
    "        f = 0"
   ]
  },
  {
   "cell_type": "markdown",
   "id": "c38860ca-78e9-42e4-b7db-caca24e564d7",
   "metadata": {},
   "source": [
    "#### Another example"
   ]
  },
  {
   "cell_type": "code",
   "execution_count": 36,
   "id": "2cf7d303-aa9d-480c-8ff8-5e488fdf6ce6",
   "metadata": {},
   "outputs": [
    {
     "name": "stdin",
     "output_type": "stream",
     "text": [
      "Enter the 0 number: 3\n",
      "Enter the 1 number: 14\n",
      "Enter the 2 number: 5.33\n"
     ]
    },
    {
     "name": "stdout",
     "output_type": "stream",
     "text": [
      "[3.0, 5.33, 14.0]\n",
      "Median of x = [3.0, 5.33, 14.0] is 5.33\n"
     ]
    }
   ],
   "source": [
    "i = 0\n",
    "x = []\n",
    "while i < 3:\n",
    "    y = float(input(f'Enter the {i} number:'))\n",
    "    x.append(y)\n",
    "    i += 1\n",
    "if x[0] < x[1] :\n",
    "    if x[1] < x[2]:\n",
    "        print(x)\n",
    "    else:\n",
    "        if x[2] > x[0]:\n",
    "            t = x[2]\n",
    "            x[2] = x[1]\n",
    "            x[1] = t \n",
    "            print(x)\n",
    "        else:\n",
    "            t = x[0]\n",
    "            x[0] = x[2]\n",
    "            x[2] = x[1]\n",
    "            x[1] = t\n",
    "            print(x)\n",
    "elif x[0] > x[1]:\n",
    "    if x[0] < x[2]:\n",
    "        t = x[0]\n",
    "        x[0] = x[1]\n",
    "        x[1] = t \n",
    "        print(x)\n",
    "    else: #if x[0] is greater > than x[2]\n",
    "        if x[2] > x[1]: \n",
    "            t = x[2]\n",
    "            p = x[1]\n",
    "            x[1] = t\n",
    "            x[2] = x[0]\n",
    "            x[0] = p\n",
    "            print(x)\n",
    "        else:\n",
    "            t = x[2]\n",
    "            x[2] = x[0]\n",
    "            x[0] = t\n",
    "            print(x)\n",
    "m = len(x)\n",
    "print(f'Median of x = {x} is {x[m%2]}')"
   ]
  },
  {
   "cell_type": "code",
   "execution_count": null,
   "id": "d913db49-79ec-45ee-bf0e-e6b7f39c7368",
   "metadata": {},
   "outputs": [],
   "source": []
  }
 ],
 "metadata": {
  "colab": {
   "provenance": []
  },
  "kernelspec": {
   "display_name": "Python 3 (ipykernel)",
   "language": "python",
   "name": "python3"
  },
  "language_info": {
   "codemirror_mode": {
    "name": "ipython",
    "version": 3
   },
   "file_extension": ".py",
   "mimetype": "text/x-python",
   "name": "python",
   "nbconvert_exporter": "python",
   "pygments_lexer": "ipython3",
   "version": "3.10.8"
  },
  "vscode": {
   "interpreter": {
    "hash": "916dbcbb3f70747c44a77c7bcd40155683ae19c65e1c03b4aa3499c5328201f1"
   }
  }
 },
 "nbformat": 4,
 "nbformat_minor": 5
}
