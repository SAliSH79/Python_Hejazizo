{
 "cells": [
  {
   "cell_type": "markdown",
   "id": "94c3ffab-1dd8-4afe-9ad8-644080eb2738",
   "metadata": {
    "id": "94c3ffab-1dd8-4afe-9ad8-644080eb2738"
   },
   "source": [
    "### Conditional Statements Lectures"
   ]
  },
  {
   "cell_type": "code",
   "execution_count": 1,
   "id": "9c8a2075-5bef-4cd2-8a9b-02c91b2b3255",
   "metadata": {
    "colab": {
     "base_uri": "https://localhost:8080/"
    },
    "id": "9c8a2075-5bef-4cd2-8a9b-02c91b2b3255",
    "outputId": "a5a3bfe7-4fdf-4855-a020-77d4b1439cd0"
   },
   "outputs": [
    {
     "name": "stdout",
     "output_type": "stream",
     "text": [
      "None is false\n"
     ]
    }
   ],
   "source": [
    "if None:\n",
    "  print (\"True is the condition.\")\n",
    "else:\n",
    "  print(\"None is false\")"
   ]
  },
  {
   "cell_type": "code",
   "execution_count": 2,
   "id": "TpyJKbNkT5Qo",
   "metadata": {
    "colab": {
     "base_uri": "https://localhost:8080/"
    },
    "id": "TpyJKbNkT5Qo",
    "outputId": "fea9a982-52ff-4c37-85af-15196917dfdf"
   },
   "outputs": [
    {
     "name": "stdout",
     "output_type": "stream",
     "text": [
      "True\n"
     ]
    }
   ],
   "source": [
    "if float:\n",
    "  print(\"True\")"
   ]
  },
  {
   "cell_type": "code",
   "execution_count": 3,
   "id": "Ddjv8BHZUQs0",
   "metadata": {
    "colab": {
     "base_uri": "https://localhost:8080/"
    },
    "id": "Ddjv8BHZUQs0",
    "outputId": "700b8bcf-48fd-4ced-de74-4335dba08a76"
   },
   "outputs": [
    {
     "name": "stdout",
     "output_type": "stream",
     "text": [
      "X is found\n"
     ]
    }
   ],
   "source": [
    "if 'x' in [\"x\",\"xxx\",\"y\"]:\n",
    "  print(\"X is found\")"
   ]
  },
  {
   "cell_type": "code",
   "execution_count": 4,
   "id": "TonvWneAVsTr",
   "metadata": {
    "colab": {
     "base_uri": "https://localhost:8080/"
    },
    "id": "TonvWneAVsTr",
    "outputId": "2c203733-b039-4b30-9ad6-7edcc0859799"
   },
   "outputs": [
    {
     "name": "stdout",
     "output_type": "stream",
     "text": [
      "1\n"
     ]
    }
   ],
   "source": [
    "if ('al' in \"Ali\") or ('y' in \"yellow\"):\n",
    "  print(\"1\")"
   ]
  },
  {
   "cell_type": "code",
   "execution_count": 5,
   "id": "BXjxsLtbWHwE",
   "metadata": {
    "colab": {
     "base_uri": "https://localhost:8080/"
    },
    "id": "BXjxsLtbWHwE",
    "outputId": "7bc4a817-089d-4063-b7af-fea59e94ae6c"
   },
   "outputs": [
    {
     "name": "stdout",
     "output_type": "stream",
     "text": [
      "Negative\n"
     ]
    }
   ],
   "source": [
    "x = -0.00001\n",
    "if x > 0:\n",
    "  print(\"Positive\")\n",
    "elif x == 0:\n",
    "  print(\"Zero\")\n",
    "else:\n",
    "  print(\"Negative\")"
   ]
  },
  {
   "cell_type": "code",
   "execution_count": 8,
   "id": "f1FpZLYxZ6lw",
   "metadata": {
    "id": "f1FpZLYxZ6lw"
   },
   "outputs": [
    {
     "data": {
      "text/plain": [
       "True"
      ]
     },
     "execution_count": 8,
     "metadata": {},
     "output_type": "execute_result"
    }
   ],
   "source": [
    "True or var\n",
    "# In or conditions, we can use short circuited law"
   ]
  },
  {
   "cell_type": "code",
   "execution_count": 9,
   "id": "44996a22-71af-45cb-bac8-72dc5a948554",
   "metadata": {},
   "outputs": [
    {
     "ename": "NameError",
     "evalue": "name 'var' is not defined",
     "output_type": "error",
     "traceback": [
      "\u001b[0;31m---------------------------------------------------------------------------\u001b[0m",
      "\u001b[0;31mNameError\u001b[0m                                 Traceback (most recent call last)",
      "Cell \u001b[0;32mIn [9], line 1\u001b[0m\n\u001b[0;32m----> 1\u001b[0m \u001b[38;5;28;01mTrue\u001b[39;00m \u001b[38;5;129;01mand\u001b[39;00m \u001b[43mvar\u001b[49m\n",
      "\u001b[0;31mNameError\u001b[0m: name 'var' is not defined"
     ]
    }
   ],
   "source": [
    "True and var\n",
    "#var is not defined"
   ]
  },
  {
   "cell_type": "markdown",
   "id": "e8095caa-971c-4078-8417-d4a0221323c9",
   "metadata": {},
   "source": [
    "### Ternary Operator"
   ]
  },
  {
   "cell_type": "code",
   "execution_count": 17,
   "id": "89d91e77-5b4c-46d0-bb2c-8a0250a2064c",
   "metadata": {},
   "outputs": [],
   "source": [
    "X = 12\n",
    "y = True if x > 15 else False"
   ]
  },
  {
   "cell_type": "code",
   "execution_count": 18,
   "id": "b7db1f6a-ea16-49c7-9158-bb0f324d35a0",
   "metadata": {},
   "outputs": [
    {
     "data": {
      "text/plain": [
       "False"
      ]
     },
     "execution_count": 18,
     "metadata": {},
     "output_type": "execute_result"
    }
   ],
   "source": [
    "y"
   ]
  },
  {
   "cell_type": "markdown",
   "id": "7f6f3ddc-a2df-4b6f-ab74-b36d46da0c28",
   "metadata": {},
   "source": [
    "#### Pass syntax"
   ]
  },
  {
   "cell_type": "code",
   "execution_count": 22,
   "id": "04356bee-2f37-4db5-9a2f-76051e09d9d4",
   "metadata": {},
   "outputs": [
    {
     "name": "stdout",
     "output_type": "stream",
     "text": [
      "x is sub-zero\n"
     ]
    }
   ],
   "source": [
    "x = -0.0001\n",
    "if x == 2:\n",
    "    pass\n",
    "elif x > 0:\n",
    "    print('x is non negative')\n",
    "else:\n",
    "    print('x is sub-zero')"
   ]
  },
  {
   "cell_type": "code",
   "execution_count": null,
   "id": "7f4b6f52-80b5-46c8-8ea6-025dbc7571c2",
   "metadata": {},
   "outputs": [],
   "source": []
  }
 ],
 "metadata": {
  "colab": {
   "provenance": []
  },
  "kernelspec": {
   "display_name": "Python 3 (ipykernel)",
   "language": "python",
   "name": "python3"
  },
  "language_info": {
   "codemirror_mode": {
    "name": "ipython",
    "version": 3
   },
   "file_extension": ".py",
   "mimetype": "text/x-python",
   "name": "python",
   "nbconvert_exporter": "python",
   "pygments_lexer": "ipython3",
   "version": "3.10.8"
  },
  "vscode": {
   "interpreter": {
    "hash": "916dbcbb3f70747c44a77c7bcd40155683ae19c65e1c03b4aa3499c5328201f1"
   }
  }
 },
 "nbformat": 4,
 "nbformat_minor": 5
}
