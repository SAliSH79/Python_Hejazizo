{
 "cells": [
  {
   "cell_type": "code",
   "execution_count": 3,
   "id": "2410aec2-5018-45bf-ab23-656656e5a6f7",
   "metadata": {},
   "outputs": [
    {
     "name": "stdout",
     "output_type": "stream",
     "text": [
      "my name is: 1\n"
     ]
    }
   ],
   "source": [
    "print('my name is:' ,x)"
   ]
  },
  {
   "cell_type": "markdown",
   "id": "5f7dfb63-1b99-4ac9-8d90-79ba032ae172",
   "metadata": {},
   "source": [
    "## Basic data types"
   ]
  },
  {
   "cell_type": "code",
   "execution_count": 7,
   "id": "f3b908e6-8c73-4bdf-98fa-c49cd32d7f7c",
   "metadata": {},
   "outputs": [],
   "source": [
    "x = 1"
   ]
  },
  {
   "cell_type": "code",
   "execution_count": 10,
   "id": "68983814-8580-4f51-9334-7ffa8addb2e2",
   "metadata": {},
   "outputs": [
    {
     "data": {
      "text/plain": [
       "28"
      ]
     },
     "execution_count": 10,
     "metadata": {},
     "output_type": "execute_result"
    }
   ],
   "source": [
    "import sys\n",
    "sys.getsizeof(x)"
   ]
  },
  {
   "cell_type": "code",
   "execution_count": 3,
   "id": "bc22df8f-bc32-40b9-b775-43032e47d579",
   "metadata": {},
   "outputs": [
    {
     "data": {
      "text/plain": [
       "20"
      ]
     },
     "execution_count": 3,
     "metadata": {},
     "output_type": "execute_result"
    }
   ],
   "source": [
    "0x14\n"
   ]
  },
  {
   "cell_type": "code",
   "execution_count": 4,
   "id": "1b1a95a3-8450-42f5-a09c-d2c79cf68863",
   "metadata": {},
   "outputs": [
    {
     "data": {
      "text/plain": [
       "1023"
      ]
     },
     "execution_count": 4,
     "metadata": {},
     "output_type": "execute_result"
    }
   ],
   "source": [
    "1023"
   ]
  },
  {
   "cell_type": "code",
   "execution_count": 5,
   "id": "87daaa7c-2886-459d-9d4b-18703619bd32",
   "metadata": {},
   "outputs": [
    {
     "data": {
      "text/plain": [
       "137"
      ]
     },
     "execution_count": 5,
     "metadata": {},
     "output_type": "execute_result"
    }
   ],
   "source": [
    "0x89"
   ]
  },
  {
   "cell_type": "code",
   "execution_count": 2,
   "id": "53693221-c5c9-4828-8f5d-b3e346c5dbed",
   "metadata": {},
   "outputs": [
    {
     "data": {
      "text/plain": [
       "27"
      ]
     },
     "execution_count": 2,
     "metadata": {},
     "output_type": "execute_result"
    }
   ],
   "source": [
    "0b11011\n"
   ]
  },
  {
   "cell_type": "code",
   "execution_count": 3,
   "id": "984fe60d-807e-4f8f-8521-3174aecd262a",
   "metadata": {},
   "outputs": [
    {
     "name": "stdout",
     "output_type": "stream",
     "text": [
      "ali\n"
     ]
    }
   ],
   "source": [
    "print(\"ali\")"
   ]
  },
  {
   "cell_type": "code",
   "execution_count": 4,
   "id": "84921d61-1f2b-497a-8c22-2f7e2a9cee2d",
   "metadata": {},
   "outputs": [
    {
     "data": {
      "text/plain": [
       "327"
      ]
     },
     "execution_count": 4,
     "metadata": {},
     "output_type": "execute_result"
    }
   ],
   "source": [
    "0x147"
   ]
  },
  {
   "cell_type": "code",
   "execution_count": 5,
   "id": "f07b406e-acc8-4dae-b4c3-f585c7884ce9",
   "metadata": {},
   "outputs": [
    {
     "data": {
      "text/plain": [
       "int"
      ]
     },
     "execution_count": 5,
     "metadata": {},
     "output_type": "execute_result"
    }
   ],
   "source": [
    "type(0o123)"
   ]
  },
  {
   "cell_type": "code",
   "execution_count": 8,
   "id": "c6ceadcb-2782-4198-b09a-4c89e9184f4b",
   "metadata": {},
   "outputs": [
    {
     "data": {
      "text/plain": [
       "int"
      ]
     },
     "execution_count": 8,
     "metadata": {},
     "output_type": "execute_result"
    }
   ],
   "source": [
    "type(x)"
   ]
  },
  {
   "cell_type": "code",
   "execution_count": 12,
   "id": "95090dad-ed75-40de-88b5-182e0f5548a0",
   "metadata": {},
   "outputs": [
    {
     "name": "stdout",
     "output_type": "stream",
     "text": [
      "<class 'float'>\n"
     ]
    },
    {
     "data": {
      "text/plain": [
       "24"
      ]
     },
     "execution_count": 12,
     "metadata": {},
     "output_type": "execute_result"
    }
   ],
   "source": [
    "f = 8.345\n",
    "print(type(f))\n",
    "sys.getsizeof(f)"
   ]
  },
  {
   "cell_type": "code",
   "execution_count": 13,
   "id": "a6a8f164-aaf4-4904-8e0a-3d532e909b65",
   "metadata": {},
   "outputs": [
    {
     "data": {
      "text/plain": [
       "0.0035"
      ]
     },
     "execution_count": 13,
     "metadata": {},
     "output_type": "execute_result"
    }
   ],
   "source": [
    "3.5e-3"
   ]
  },
  {
   "cell_type": "code",
   "execution_count": 21,
   "id": "7a143887-d718-41ea-a703-b6a03e72f3c0",
   "metadata": {},
   "outputs": [
    {
     "name": "stdout",
     "output_type": "stream",
     "text": [
      "x1 = 1.7e+308\n",
      "x2 = inf\n",
      "x3 = inf\n"
     ]
    }
   ],
   "source": [
    "x1 = 1.7e308\n",
    "x2 = 1.8e308\n",
    "x3 = x2 - 123456\n",
    "print(\"x1 =\",x1) \n",
    "print(\"x2 =\",x2) \n",
    "print(\"x3 =\",x3) "
   ]
  },
  {
   "cell_type": "code",
   "execution_count": 23,
   "id": "23e35f6a-b727-4d7b-9bcd-c6df2e6a98ec",
   "metadata": {},
   "outputs": [
    {
     "name": "stdout",
     "output_type": "stream",
     "text": [
      "x1 = 5e-324\n",
      "x2 = 0.0\n",
      "x3 = -0.123456\n"
     ]
    }
   ],
   "source": [
    "x1 = 5.0e-324\n",
    "x2 = 5.0e-325\n",
    "x3 = x2 - 0.123456\n",
    "print(\"x1 =\",x1) \n",
    "print(\"x2 =\",x2) \n",
    "print(\"x3 =\",x3) "
   ]
  },
  {
   "cell_type": "code",
   "execution_count": 24,
   "id": "4e989ba7-d4e9-4634-aa70-40bc39eef4e4",
   "metadata": {},
   "outputs": [
    {
     "data": {
      "text/plain": [
       "complex"
      ]
     },
     "execution_count": 24,
     "metadata": {},
     "output_type": "execute_result"
    }
   ],
   "source": [
    "type(3 +4j)"
   ]
  },
  {
   "cell_type": "code",
   "execution_count": 25,
   "id": "9dcd443d-ed62-47f3-aec1-dbda09771205",
   "metadata": {},
   "outputs": [
    {
     "data": {
      "text/plain": [
       "5.830951894845301"
      ]
     },
     "execution_count": 25,
     "metadata": {},
     "output_type": "execute_result"
    }
   ],
   "source": [
    "abs(3+5j)"
   ]
  },
  {
   "cell_type": "code",
   "execution_count": 26,
   "id": "b9e97916-0941-4adc-85ea-f93aedb432d9",
   "metadata": {},
   "outputs": [
    {
     "data": {
      "text/plain": [
       "str"
      ]
     },
     "execution_count": 26,
     "metadata": {},
     "output_type": "execute_result"
    }
   ],
   "source": [
    "type('293')"
   ]
  },
  {
   "cell_type": "code",
   "execution_count": 27,
   "id": "c9210150-6ad0-434d-b6cf-29b40774d424",
   "metadata": {},
   "outputs": [
    {
     "data": {
      "text/plain": [
       "int"
      ]
     },
     "execution_count": 27,
     "metadata": {},
     "output_type": "execute_result"
    }
   ],
   "source": [
    "type(293)"
   ]
  },
  {
   "cell_type": "code",
   "execution_count": 28,
   "id": "57ec0db7-802b-43d5-a187-2dc40013c9bb",
   "metadata": {},
   "outputs": [
    {
     "data": {
      "text/plain": [
       "52"
      ]
     },
     "execution_count": 28,
     "metadata": {},
     "output_type": "execute_result"
    }
   ],
   "source": [
    "sys.getsizeof('293')"
   ]
  },
  {
   "cell_type": "code",
   "execution_count": 29,
   "id": "ca901c60-e32b-441d-b779-222d47084375",
   "metadata": {},
   "outputs": [
    {
     "name": "stdout",
     "output_type": "stream",
     "text": [
      " Ali's father says: \"Hi\" !\n"
     ]
    }
   ],
   "source": [
    "print(''' Ali's father says: \"Hi\" !''')"
   ]
  },
  {
   "cell_type": "code",
   "execution_count": 30,
   "id": "0e1d44cc-ad55-4cf7-a2f6-2ff6bc74656c",
   "metadata": {},
   "outputs": [
    {
     "name": "stdout",
     "output_type": "stream",
     "text": [
      "Ali \n",
      "Reza\n"
     ]
    }
   ],
   "source": [
    "print(\"Ali \\nReza\")"
   ]
  },
  {
   "cell_type": "code",
   "execution_count": 32,
   "id": "ec89197b-f765-42c2-aef2-034f256a345d",
   "metadata": {},
   "outputs": [
    {
     "name": "stdout",
     "output_type": "stream",
     "text": [
      "Ali ⤡Reza\n"
     ]
    }
   ],
   "source": [
    "print(\"Ali \\u2921Reza\")"
   ]
  },
  {
   "cell_type": "code",
   "execution_count": 34,
   "id": "370190ad-2ce1-40e3-8ebe-20bab11e0fa4",
   "metadata": {},
   "outputs": [
    {
     "name": "stdout",
     "output_type": "stream",
     "text": [
      "Ali \\u2921Reza\n"
     ]
    }
   ],
   "source": [
    "print(r\"Ali \\u2921Reza\") #raw format of text to print"
   ]
  },
  {
   "cell_type": "markdown",
   "id": "d9384e7f-ca59-48c9-8337-a1851f76bc58",
   "metadata": {},
   "source": [
    "##### markdown"
   ]
  },
  {
   "cell_type": "code",
   "execution_count": 35,
   "id": "afeaac3f-bd5b-488c-93ab-c40227f675bf",
   "metadata": {},
   "outputs": [
    {
     "data": {
      "text/plain": [
       "False"
      ]
     },
     "execution_count": 35,
     "metadata": {},
     "output_type": "execute_result"
    }
   ],
   "source": [
    "bool([])"
   ]
  },
  {
   "cell_type": "code",
   "execution_count": 36,
   "id": "0bc8696d-81f7-4c2a-ac0d-76b0e1dc100d",
   "metadata": {},
   "outputs": [
    {
     "data": {
      "text/plain": [
       "True"
      ]
     },
     "execution_count": 36,
     "metadata": {},
     "output_type": "execute_result"
    }
   ],
   "source": [
    "bool([1,2,0,0,0,0.0,\"Ali\"])"
   ]
  },
  {
   "cell_type": "code",
   "execution_count": 37,
   "id": "af2aceff-4e26-4f86-b63d-3d342a71cb50",
   "metadata": {},
   "outputs": [
    {
     "data": {
      "text/plain": [
       "49"
      ]
     },
     "execution_count": 37,
     "metadata": {},
     "output_type": "execute_result"
    }
   ],
   "source": [
    "sys.getsizeof(\"\")"
   ]
  },
  {
   "cell_type": "code",
   "execution_count": 40,
   "id": "3a5b90e2-db51-4bee-834e-41ec2bce42e4",
   "metadata": {},
   "outputs": [
    {
     "data": {
      "text/plain": [
       "52"
      ]
     },
     "execution_count": 40,
     "metadata": {},
     "output_type": "execute_result"
    }
   ],
   "source": [
    "sys.getsizeof(\"Ali\")"
   ]
  },
  {
   "cell_type": "markdown",
   "id": "f0895284-7366-4a57-8e22-6bfe4222a2df",
   "metadata": {},
   "source": [
    "# Variables"
   ]
  },
  {
   "cell_type": "code",
   "execution_count": 2,
   "id": "7aec85f9-561f-4054-9d7f-ccee9912b214",
   "metadata": {},
   "outputs": [],
   "source": [
    "m = 300\n",
    "n = m"
   ]
  },
  {
   "cell_type": "code",
   "execution_count": 4,
   "id": "0d74a275-1efb-45d8-ad05-b339a4ad22d6",
   "metadata": {},
   "outputs": [
    {
     "data": {
      "text/plain": [
       "140448344473904"
      ]
     },
     "execution_count": 4,
     "metadata": {},
     "output_type": "execute_result"
    }
   ],
   "source": [
    "m is n\n",
    "id(m)\n"
   ]
  },
  {
   "cell_type": "code",
   "execution_count": 5,
   "id": "463aeba3-0e29-40d0-a00e-f28e0b41f165",
   "metadata": {},
   "outputs": [
    {
     "data": {
      "text/plain": [
       "140448344473904"
      ]
     },
     "execution_count": 5,
     "metadata": {},
     "output_type": "execute_result"
    }
   ],
   "source": [
    "id(n)"
   ]
  },
  {
   "cell_type": "code",
   "execution_count": 10,
   "id": "bcef0727-b8e8-4e82-8629-0e808e0a24ea",
   "metadata": {},
   "outputs": [],
   "source": [
    "x = 300\n",
    "y = 300"
   ]
  },
  {
   "cell_type": "code",
   "execution_count": 11,
   "id": "19428354-1a2f-4bfa-ad22-5f0c3861d822",
   "metadata": {},
   "outputs": [
    {
     "data": {
      "text/plain": [
       "False"
      ]
     },
     "execution_count": 11,
     "metadata": {},
     "output_type": "execute_result"
    }
   ],
   "source": [
    "x is y"
   ]
  },
  {
   "cell_type": "code",
   "execution_count": 12,
   "id": "718b4b61-95c1-46f0-831b-4c7399c11dd0",
   "metadata": {},
   "outputs": [
    {
     "data": {
      "text/plain": [
       "140448344475184"
      ]
     },
     "execution_count": 12,
     "metadata": {},
     "output_type": "execute_result"
    }
   ],
   "source": [
    "id(x)"
   ]
  },
  {
   "cell_type": "code",
   "execution_count": 13,
   "id": "08a0e25d-9043-4a43-b4cb-7ad9d90c4a00",
   "metadata": {},
   "outputs": [
    {
     "data": {
      "text/plain": [
       "140448344475216"
      ]
     },
     "execution_count": 13,
     "metadata": {},
     "output_type": "execute_result"
    }
   ],
   "source": [
    "id(y)"
   ]
  },
  {
   "cell_type": "code",
   "execution_count": 16,
   "id": "7bde6d86-6799-43b6-b607-8c60245a1fa4",
   "metadata": {},
   "outputs": [
    {
     "data": {
      "text/plain": [
       "True"
      ]
     },
     "execution_count": 16,
     "metadata": {},
     "output_type": "execute_result"
    }
   ],
   "source": [
    "# But for - 5 to 256\n",
    "# they are equal because they are saved before\n",
    "x = 3\n",
    "y = 3\n",
    "x is y"
   ]
  },
  {
   "cell_type": "code",
   "execution_count": 17,
   "id": "fb08b2cb-496c-4c0d-a5d5-99753544f4b3",
   "metadata": {},
   "outputs": [
    {
     "data": {
      "text/plain": [
       "True"
      ]
     },
     "execution_count": 17,
     "metadata": {},
     "output_type": "execute_result"
    }
   ],
   "source": [
    "id(x) == id(y)"
   ]
  },
  {
   "cell_type": "code",
   "execution_count": 18,
   "id": "1d772a33-e4ce-40c8-b1a5-e8a1fbc720a0",
   "metadata": {},
   "outputs": [],
   "source": [
    "# is for everything\n",
    "# == compares value and appearance"
   ]
  },
  {
   "cell_type": "markdown",
   "id": "0ec12943-bc28-4bd7-9664-2c4f45c6673d",
   "metadata": {},
   "source": [
    "# Naming\n",
    "## numberOfPeople :\n",
    "### Camel case\n",
    "## NemberOfPeople :\n",
    "### pascal case for classes\n",
    "## number_of_people: \n",
    "### Snake case for variables"
   ]
  },
  {
   "cell_type": "code",
   "execution_count": 21,
   "id": "230eb67a-4b06-44b7-a654-b0491840eb4b",
   "metadata": {},
   "outputs": [
    {
     "name": "stdout",
     "output_type": "stream",
     "text": [
      "\n",
      "Here is a list of the Python keywords.  Enter any keyword to get more help.\n",
      "\n",
      "False               class               from                or\n",
      "None                continue            global              pass\n",
      "True                def                 if                  raise\n",
      "and                 del                 import              return\n",
      "as                  elif                in                  try\n",
      "assert              else                is                  while\n",
      "async               except              lambda              with\n",
      "await               finally             nonlocal            yield\n",
      "break               for                 not                 \n",
      "\n"
     ]
    }
   ],
   "source": [
    "help('keywords')"
   ]
  },
  {
   "cell_type": "code",
   "execution_count": 22,
   "id": "31b3a89a-e65c-4272-801e-2c65eeb62fda",
   "metadata": {},
   "outputs": [
    {
     "name": "stdout",
     "output_type": "stream",
     "text": [
      "Python 3.10.8\n"
     ]
    }
   ],
   "source": [
    "!python --version"
   ]
  },
  {
   "cell_type": "code",
   "execution_count": 23,
   "id": "3713fc4c-b668-42ee-8593-29da134cebda",
   "metadata": {},
   "outputs": [
    {
     "name": "stdout",
     "output_type": "stream",
     "text": [
      "/home/alihosseini\n"
     ]
    }
   ],
   "source": [
    "!pwd"
   ]
  },
  {
   "cell_type": "markdown",
   "id": "65012cd9-0522-4c04-bca9-bb18a0dacdf2",
   "metadata": {},
   "source": [
    "# Operators and Expressions"
   ]
  },
  {
   "cell_type": "code",
   "execution_count": 3,
   "id": "27f5ce67-1a9e-4d8c-b8a5-91eac28a7c4c",
   "metadata": {},
   "outputs": [
    {
     "name": "stdout",
     "output_type": "stream",
     "text": [
      "-1\n"
     ]
    }
   ],
   "source": [
    "a = 2 #operand\n",
    "b = 3\n",
    "c = a - b #expression with \" - \" operator\n",
    "print(c)"
   ]
  },
  {
   "cell_type": "code",
   "execution_count": 4,
   "id": "98a95f2c-9af7-4af5-88d3-33bff7820c55",
   "metadata": {},
   "outputs": [
    {
     "data": {
      "text/plain": [
       "0"
      ]
     },
     "execution_count": 4,
     "metadata": {},
     "output_type": "execute_result"
    }
   ],
   "source": [
    "a // b"
   ]
  },
  {
   "cell_type": "code",
   "execution_count": 5,
   "id": "f280c31b-4f0b-4de1-a1c0-ddb2c036a4e7",
   "metadata": {},
   "outputs": [
    {
     "data": {
      "text/plain": [
       "1"
      ]
     },
     "execution_count": 5,
     "metadata": {},
     "output_type": "execute_result"
    }
   ],
   "source": [
    "b //a"
   ]
  },
  {
   "cell_type": "code",
   "execution_count": 6,
   "id": "404609e8-351d-44ad-9ede-2a2e839a2cce",
   "metadata": {},
   "outputs": [
    {
     "data": {
      "text/plain": [
       "1.5"
      ]
     },
     "execution_count": 6,
     "metadata": {},
     "output_type": "execute_result"
    }
   ],
   "source": [
    "b / a\n"
   ]
  },
  {
   "cell_type": "code",
   "execution_count": 7,
   "id": "852f4724-a202-4b7b-a4e8-955efa359406",
   "metadata": {},
   "outputs": [
    {
     "data": {
      "text/plain": [
       "1"
      ]
     },
     "execution_count": 7,
     "metadata": {},
     "output_type": "execute_result"
    }
   ],
   "source": [
    "b %a"
   ]
  },
  {
   "cell_type": "code",
   "execution_count": 8,
   "id": "51c1a883-e4b9-49e0-8605-87255c91e67f",
   "metadata": {},
   "outputs": [
    {
     "data": {
      "text/plain": [
       "9"
      ]
     },
     "execution_count": 8,
     "metadata": {},
     "output_type": "execute_result"
    }
   ],
   "source": [
    "b ** a"
   ]
  },
  {
   "cell_type": "code",
   "execution_count": 13,
   "id": "a0ed50fc-35de-4cf7-bc8a-a51338b384d3",
   "metadata": {},
   "outputs": [
    {
     "data": {
      "text/plain": [
       "6"
      ]
     },
     "execution_count": 13,
     "metadata": {},
     "output_type": "execute_result"
    }
   ],
   "source": [
    "b *a"
   ]
  },
  {
   "cell_type": "code",
   "execution_count": 16,
   "id": "393de2f0-3f95-438a-b4fe-212d86abb2f3",
   "metadata": {},
   "outputs": [
    {
     "data": {
      "text/plain": [
       "True"
      ]
     },
     "execution_count": 16,
     "metadata": {},
     "output_type": "execute_result"
    }
   ],
   "source": [
    "a > b\n",
    "a < b\n",
    "a != b"
   ]
  },
  {
   "cell_type": "code",
   "execution_count": 22,
   "id": "629fd351-11aa-4073-b9dd-e69299b02a19",
   "metadata": {},
   "outputs": [
    {
     "data": {
      "text/plain": [
       "True"
      ]
     },
     "execution_count": 22,
     "metadata": {},
     "output_type": "execute_result"
    }
   ],
   "source": [
    "a <= b"
   ]
  },
  {
   "cell_type": "markdown",
   "id": "e15728a5-41ab-4468-a6da-c2cb21821e4e",
   "metadata": {},
   "source": [
    "## shortcuts"
   ]
  },
  {
   "cell_type": "markdown",
   "id": "20786870-2dd0-4b1c-a57e-2815e12e3abb",
   "metadata": {},
   "source": [
    "#### M + esc : markdown\n",
    "#### x : cut\n",
    "#### V : paste\n",
    "#### A : adding cell\n",
    "#### d + d : delete cell"
   ]
  },
  {
   "cell_type": "markdown",
   "id": "d6fcd8a9-af80-41af-8dd9-4fa894f550b5",
   "metadata": {},
   "source": [
    "# How to compare float numbers:\n"
   ]
  },
  {
   "cell_type": "code",
   "execution_count": 24,
   "id": "18d090d2-6b6f-44a6-8464-dba625cbfc09",
   "metadata": {},
   "outputs": [],
   "source": [
    "x = 1.1\n",
    "y = 2.2\n",
    "z = x + y"
   ]
  },
  {
   "cell_type": "code",
   "execution_count": 25,
   "id": "a24988e6-18bb-4148-8746-7a25609d35a4",
   "metadata": {},
   "outputs": [
    {
     "data": {
      "text/plain": [
       "False"
      ]
     },
     "execution_count": 25,
     "metadata": {},
     "output_type": "execute_result"
    }
   ],
   "source": [
    "z == 3.3"
   ]
  },
  {
   "cell_type": "code",
   "execution_count": 26,
   "id": "ecf38d94-0bbd-4af6-9b28-f9fa03b76cc1",
   "metadata": {},
   "outputs": [],
   "source": [
    "tolerance = 1e-4"
   ]
  },
  {
   "cell_type": "code",
   "execution_count": 27,
   "id": "cb43eede-57b2-436f-8dde-c980dd181c1a",
   "metadata": {},
   "outputs": [
    {
     "data": {
      "text/plain": [
       "True"
      ]
     },
     "execution_count": 27,
     "metadata": {},
     "output_type": "execute_result"
    }
   ],
   "source": [
    "abs( z - 3.3) < tolerance"
   ]
  },
  {
   "cell_type": "code",
   "execution_count": 28,
   "id": "c94f2bf1-564c-4531-a527-6deb8ad1000a",
   "metadata": {},
   "outputs": [
    {
     "data": {
      "text/plain": [
       "False"
      ]
     },
     "execution_count": 28,
     "metadata": {},
     "output_type": "execute_result"
    }
   ],
   "source": [
    "not(x <2)"
   ]
  },
  {
   "cell_type": "code",
   "execution_count": 29,
   "id": "807fc2d5-6142-4434-8801-59fb296b532e",
   "metadata": {},
   "outputs": [
    {
     "data": {
      "text/plain": [
       "False"
      ]
     },
     "execution_count": 29,
     "metadata": {},
     "output_type": "execute_result"
    }
   ],
   "source": [
    "(y<10) and (y > 3)"
   ]
  },
  {
   "cell_type": "code",
   "execution_count": 30,
   "id": "f845ef46-6618-40f0-8572-4f8fbe328ac0",
   "metadata": {},
   "outputs": [
    {
     "data": {
      "text/plain": [
       "True"
      ]
     },
     "execution_count": 30,
     "metadata": {},
     "output_type": "execute_result"
    }
   ],
   "source": [
    "(y<10) or (y > 3)"
   ]
  },
  {
   "cell_type": "code",
   "execution_count": 1,
   "id": "97fd37a6-3dd2-4798-bc4c-9746ad410e5b",
   "metadata": {},
   "outputs": [
    {
     "data": {
      "text/plain": [
       "0.6666666666666666"
      ]
     },
     "execution_count": 1,
     "metadata": {},
     "output_type": "execute_result"
    }
   ],
   "source": [
    "a = 20\n",
    "b = 30\n",
    "a / b"
   ]
  },
  {
   "cell_type": "code",
   "execution_count": 2,
   "id": "87864181-1092-4dce-a0c0-ec555f51f327",
   "metadata": {},
   "outputs": [
    {
     "data": {
      "text/plain": [
       "float"
      ]
     },
     "execution_count": 2,
     "metadata": {},
     "output_type": "execute_result"
    }
   ],
   "source": [
    "type(a/b)"
   ]
  },
  {
   "cell_type": "code",
   "execution_count": 5,
   "id": "4366bf43-556e-486d-9d07-d94a9e164a9c",
   "metadata": {},
   "outputs": [
    {
     "data": {
      "text/plain": [
       "int"
      ]
     },
     "execution_count": 5,
     "metadata": {},
     "output_type": "execute_result"
    }
   ],
   "source": [
    "type(a)"
   ]
  },
  {
   "cell_type": "code",
   "execution_count": 10,
   "id": "71d159ff-6249-4682-b526-1a77e8ca6f86",
   "metadata": {},
   "outputs": [],
   "source": [
    "boolean_a = True"
   ]
  },
  {
   "cell_type": "code",
   "execution_count": 11,
   "id": "bd16df59-ebcc-47ed-b020-60f87824043b",
   "metadata": {},
   "outputs": [
    {
     "data": {
      "text/plain": [
       "bool"
      ]
     },
     "execution_count": 11,
     "metadata": {},
     "output_type": "execute_result"
    }
   ],
   "source": [
    "type(boolean_a)"
   ]
  },
  {
   "cell_type": "code",
   "execution_count": 14,
   "id": "3cbce082-ef22-4e2d-982d-c48aea28586f",
   "metadata": {},
   "outputs": [],
   "source": [
    "x = bool"
   ]
  },
  {
   "cell_type": "code",
   "execution_count": 15,
   "id": "4a83286d-39e0-4f4e-a607-8c1f7e54b868",
   "metadata": {},
   "outputs": [
    {
     "data": {
      "text/plain": [
       "bool"
      ]
     },
     "execution_count": 15,
     "metadata": {},
     "output_type": "execute_result"
    }
   ],
   "source": [
    "x\n"
   ]
  },
  {
   "cell_type": "code",
   "execution_count": 16,
   "id": "b49aa95c-b42d-43d9-98a1-c2327a54abb4",
   "metadata": {},
   "outputs": [
    {
     "data": {
      "text/plain": [
       "type"
      ]
     },
     "execution_count": 16,
     "metadata": {},
     "output_type": "execute_result"
    }
   ],
   "source": [
    "type(x)"
   ]
  },
  {
   "cell_type": "code",
   "execution_count": 17,
   "id": "dd985e16-a3fc-42eb-8a62-59af8249405a",
   "metadata": {},
   "outputs": [],
   "source": [
    "import numpy as np"
   ]
  },
  {
   "cell_type": "code",
   "execution_count": 19,
   "id": "d11c8d64-a424-4a4f-9d02-0bb49e7097da",
   "metadata": {},
   "outputs": [],
   "source": [
    "x = np.array([1,2,3])"
   ]
  },
  {
   "cell_type": "code",
   "execution_count": 20,
   "id": "6e3f9f37-9acc-4c36-af99-5ec75fc1c5fa",
   "metadata": {},
   "outputs": [
    {
     "name": "stdout",
     "output_type": "stream",
     "text": [
      "[11 12 13]\n"
     ]
    }
   ],
   "source": [
    "x += 10\n",
    "print(x)"
   ]
  },
  {
   "cell_type": "code",
   "execution_count": 21,
   "id": "31e07109-6fca-4d89-8103-7e2198e1e001",
   "metadata": {},
   "outputs": [],
   "source": [
    "A = {\n",
    "    'ali' : ( x := 10 + 5 ),\n",
    "}"
   ]
  },
  {
   "cell_type": "code",
   "execution_count": 22,
   "id": "cef3a24e-9d64-42da-aeed-7c647547dce6",
   "metadata": {},
   "outputs": [
    {
     "data": {
      "text/plain": [
       "{'ali': 15}"
      ]
     },
     "execution_count": 22,
     "metadata": {},
     "output_type": "execute_result"
    }
   ],
   "source": [
    "A"
   ]
  },
  {
   "cell_type": "code",
   "execution_count": 23,
   "id": "f0ba8800-e663-447d-88a2-66f742a2198b",
   "metadata": {},
   "outputs": [
    {
     "data": {
      "text/plain": [
       "True"
      ]
     },
     "execution_count": 23,
     "metadata": {},
     "output_type": "execute_result"
    }
   ],
   "source": [
    "bool(3)"
   ]
  },
  {
   "cell_type": "code",
   "execution_count": 24,
   "id": "001e0047-5467-4d94-93f7-8b6ccd2f3b34",
   "metadata": {},
   "outputs": [
    {
     "data": {
      "text/plain": [
       "False"
      ]
     },
     "execution_count": 24,
     "metadata": {},
     "output_type": "execute_result"
    }
   ],
   "source": [
    "bool(0)"
   ]
  },
  {
   "cell_type": "markdown",
   "id": "dea91ba0-e6e7-4129-aa24-0e3a1650ca06",
   "metadata": {},
   "source": [
    "## Strings"
   ]
  },
  {
   "cell_type": "code",
   "execution_count": 1,
   "id": "c783e1f4-0029-4520-88c9-ab84b53b4906",
   "metadata": {},
   "outputs": [],
   "source": [
    "a = 'ali'\n",
    "b = \" Ali`s book\""
   ]
  },
  {
   "cell_type": "code",
   "execution_count": 2,
   "id": "5d32027d-02a9-4f35-aae8-fff901e9ce12",
   "metadata": {},
   "outputs": [
    {
     "data": {
      "text/plain": [
       "' Ali`s book'"
      ]
     },
     "execution_count": 2,
     "metadata": {},
     "output_type": "execute_result"
    }
   ],
   "source": [
    "b"
   ]
  },
  {
   "cell_type": "code",
   "execution_count": 4,
   "id": "b6072ce4-7437-4594-89f1-72a0161b41ce",
   "metadata": {},
   "outputs": [
    {
     "name": "stdout",
     "output_type": "stream",
     "text": [
      "\n",
      " Ali raft khord be narde\n",
      " Ama bar nemigarde\n",
      "\n"
     ]
    }
   ],
   "source": [
    "m = '''\n",
    " Ali raft khord be narde\n",
    " Ama bar nemigarde\n",
    "'''\n",
    "print(m)"
   ]
  },
  {
   "cell_type": "code",
   "execution_count": 5,
   "id": "08a496a6-a587-4978-ae96-45a12fd079d7",
   "metadata": {},
   "outputs": [
    {
     "data": {
      "text/plain": [
       "'ali hose'"
      ]
     },
     "execution_count": 5,
     "metadata": {},
     "output_type": "execute_result"
    }
   ],
   "source": [
    "l = 'hose'\n",
    "f = 'ali'\n",
    "f + ' ' + l"
   ]
  },
  {
   "cell_type": "code",
   "execution_count": 10,
   "id": "a8fb1aeb-e607-418b-83ab-96171949d362",
   "metadata": {},
   "outputs": [
    {
     "data": {
      "text/plain": [
       "True"
      ]
     },
     "execution_count": 10,
     "metadata": {},
     "output_type": "execute_result"
    }
   ],
   "source": [
    "a in \" ali let him go\"  #Partial match"
   ]
  },
  {
   "cell_type": "code",
   "execution_count": 9,
   "id": "0a82378e-8873-467c-aa62-0f213415cfe4",
   "metadata": {},
   "outputs": [
    {
     "data": {
      "text/plain": [
       "True"
      ]
     },
     "execution_count": 9,
     "metadata": {},
     "output_type": "execute_result"
    }
   ],
   "source": [
    "'nar' not in \"ali saw nadia\""
   ]
  },
  {
   "cell_type": "code",
   "execution_count": 11,
   "id": "f12cca44-1e05-4f78-8c29-61469968347a",
   "metadata": {},
   "outputs": [
    {
     "data": {
      "text/plain": [
       "False"
      ]
     },
     "execution_count": 11,
     "metadata": {},
     "output_type": "execute_result"
    }
   ],
   "source": [
    "a = \"ali\"\n",
    "b = \"alireza\"\n",
    "a == b  #exact match"
   ]
  },
  {
   "cell_type": "code",
   "execution_count": 13,
   "id": "b2911ee5-0b61-4612-907d-801ef8fec0ab",
   "metadata": {},
   "outputs": [
    {
     "data": {
      "text/plain": [
       "97"
      ]
     },
     "execution_count": 13,
     "metadata": {},
     "output_type": "execute_result"
    }
   ],
   "source": [
    "ord('a')"
   ]
  },
  {
   "cell_type": "code",
   "execution_count": 17,
   "id": "25ebcde1-df55-45a0-9ca2-a125bf0a2aa5",
   "metadata": {},
   "outputs": [
    {
     "data": {
      "text/plain": [
       "'ó'"
      ]
     },
     "execution_count": 17,
     "metadata": {},
     "output_type": "execute_result"
    }
   ],
   "source": [
    "chr(243) #returns character"
   ]
  },
  {
   "cell_type": "code",
   "execution_count": 18,
   "id": "db31ed3a-d6dd-45e0-b768-c35269efd7ab",
   "metadata": {},
   "outputs": [
    {
     "data": {
      "text/plain": [
       "38"
      ]
     },
     "execution_count": 18,
     "metadata": {},
     "output_type": "execute_result"
    }
   ],
   "source": [
    "ord('&') #returns Uni-code"
   ]
  },
  {
   "cell_type": "code",
   "execution_count": 2,
   "id": "67491fdb-b689-4130-b272-4cc89aea47d4",
   "metadata": {},
   "outputs": [
    {
     "data": {
      "text/plain": [
       "8"
      ]
     },
     "execution_count": 2,
     "metadata": {},
     "output_type": "execute_result"
    }
   ],
   "source": [
    "len(\"ali raft\")"
   ]
  },
  {
   "cell_type": "code",
   "execution_count": 5,
   "id": "1f4bd23b-dee1-452b-9666-3730f1424d92",
   "metadata": {},
   "outputs": [
    {
     "data": {
      "text/plain": [
       "'23'"
      ]
     },
     "execution_count": 5,
     "metadata": {},
     "output_type": "execute_result"
    }
   ],
   "source": [
    "str(23)"
   ]
  },
  {
   "cell_type": "code",
   "execution_count": 10,
   "id": "ea972b5e-cd5b-4333-ba3f-dffba4efea9d",
   "metadata": {},
   "outputs": [
    {
     "name": "stdout",
     "output_type": "stream",
     "text": [
      "A\n",
      "l\n",
      "i\n",
      " \n",
      "H\n",
      "o\n",
      "s\n",
      "s\n",
      "e\n",
      "i\n",
      "n\n",
      "i\n"
     ]
    }
   ],
   "source": [
    "x = [0,1,2,3,4,5,6,7,8,9,10,11,12]\n",
    "name = \"Ali Hosseini\"\n",
    "for i in x:\n",
    "    if i == 12:\n",
    "        break\n",
    "    print(name[i])\n",
    "    #print(\"\\n\")\n",
    "    i+=1"
   ]
  },
  {
   "cell_type": "code",
   "execution_count": 11,
   "id": "e5698336-b220-439d-95d7-d31718e4b22d",
   "metadata": {},
   "outputs": [
    {
     "data": {
      "text/plain": [
       "'i'"
      ]
     },
     "execution_count": 11,
     "metadata": {},
     "output_type": "execute_result"
    }
   ],
   "source": [
    "name[-1]"
   ]
  },
  {
   "cell_type": "code",
   "execution_count": 12,
   "id": "b35bc61d-3a55-429d-9da9-3df3a76a3fe3",
   "metadata": {},
   "outputs": [
    {
     "data": {
      "text/plain": [
       "'A'"
      ]
     },
     "execution_count": 12,
     "metadata": {},
     "output_type": "execute_result"
    }
   ],
   "source": [
    "name[-len(name)]"
   ]
  },
  {
   "cell_type": "code",
   "execution_count": 15,
   "id": "d091b625-41bc-4fe7-9d94-2058272508f0",
   "metadata": {},
   "outputs": [
    {
     "data": {
      "text/plain": [
       "'H'"
      ]
     },
     "execution_count": 15,
     "metadata": {},
     "output_type": "execute_result"
    }
   ],
   "source": [
    "name[-len(name)+4]"
   ]
  },
  {
   "cell_type": "code",
   "execution_count": 17,
   "id": "2ebf7467-0da9-41ee-85f5-67e125907bc7",
   "metadata": {},
   "outputs": [
    {
     "data": {
      "text/plain": [
       "'i Hossei'"
      ]
     },
     "execution_count": 17,
     "metadata": {},
     "output_type": "execute_result"
    }
   ],
   "source": [
    "name[2:10] #10 is exclusive\n",
    "#2 is inclusive"
   ]
  },
  {
   "cell_type": "code",
   "execution_count": 18,
   "id": "5c52da77-20e2-470e-92c1-1c887767818f",
   "metadata": {},
   "outputs": [
    {
     "data": {
      "text/plain": [
       "'Ali '"
      ]
     },
     "execution_count": 18,
     "metadata": {},
     "output_type": "execute_result"
    }
   ],
   "source": [
    "split_point = 4\n",
    "name[:split_point]"
   ]
  },
  {
   "cell_type": "code",
   "execution_count": 19,
   "id": "ca08cfe6-39de-435c-ae41-2fc4099abcf8",
   "metadata": {},
   "outputs": [
    {
     "data": {
      "text/plain": [
       "'Hosseini'"
      ]
     },
     "execution_count": 19,
     "metadata": {},
     "output_type": "execute_result"
    }
   ],
   "source": [
    "name[split_point:]"
   ]
  },
  {
   "cell_type": "code",
   "execution_count": 20,
   "id": "57754aad-722d-4e8b-87ac-d38b9b4a3785",
   "metadata": {},
   "outputs": [
    {
     "data": {
      "text/plain": [
       "'AiHsen'"
      ]
     },
     "execution_count": 20,
     "metadata": {},
     "output_type": "execute_result"
    }
   ],
   "source": [
    "name[0:12:2] #stride = step length"
   ]
  },
  {
   "cell_type": "code",
   "execution_count": 21,
   "id": "fa9dfa39-0455-42be-aeba-1b3aa8bb1df8",
   "metadata": {},
   "outputs": [
    {
     "data": {
      "text/plain": [
       "'iniessoH ilA'"
      ]
     },
     "execution_count": 21,
     "metadata": {},
     "output_type": "execute_result"
    }
   ],
   "source": [
    "name[::-1]"
   ]
  },
  {
   "cell_type": "markdown",
   "id": "7ac0e369-4116-4b38-a47b-44f751f18e80",
   "metadata": {},
   "source": [
    "## Interpolating Variables into the Lists"
   ]
  },
  {
   "cell_type": "code",
   "execution_count": 22,
   "id": "c7fbc65a-1c18-4e25-82c2-e0169481a557",
   "metadata": {},
   "outputs": [],
   "source": [
    "age = '36'\n",
    "name = 'ALi Hosseini'\n",
    "user = ' __ is __ years old'"
   ]
  },
  {
   "cell_type": "code",
   "execution_count": 24,
   "id": "055227fd-b548-4729-9926-e57bde9fa968",
   "metadata": {},
   "outputs": [
    {
     "name": "stdout",
     "output_type": "stream",
     "text": [
      "Python 3.10.8\n"
     ]
    }
   ],
   "source": [
    "!python --version\n"
   ]
  },
  {
   "cell_type": "code",
   "execution_count": 25,
   "id": "cc98f1fc-f7d7-47ae-9c79-dbb6b6602e49",
   "metadata": {},
   "outputs": [],
   "source": [
    "## f-string method"
   ]
  },
  {
   "cell_type": "code",
   "execution_count": 26,
   "id": "79f36c14-02ed-4e6d-b62a-ea5e0267f03f",
   "metadata": {},
   "outputs": [
    {
     "data": {
      "text/plain": [
       "'ALi Hosseini is 36 years old'"
      ]
     },
     "execution_count": 26,
     "metadata": {},
     "output_type": "execute_result"
    }
   ],
   "source": [
    "f'{name} is {age} years old'"
   ]
  },
  {
   "cell_type": "code",
   "execution_count": 28,
   "id": "fa9e0359-27e5-480d-ae89-c46b3fd892ad",
   "metadata": {},
   "outputs": [
    {
     "name": "stdout",
     "output_type": "stream",
     "text": [
      "ALi Hosseini, Hi!\n",
      "How are you today?\n",
      "Are you 36 old or younger?\n",
      "\n"
     ]
    }
   ],
   "source": [
    "print(\n",
    " f\"\"\"{name}, Hi!\n",
    "How are you today?\n",
    "Are you {age} old or younger?\n",
    "\"\"\")"
   ]
  },
  {
   "cell_type": "markdown",
   "id": "276cb4e0-fd8f-4033-82f6-08420b75c38d",
   "metadata": {},
   "source": [
    "## Modifying is not defined in Lists"
   ]
  },
  {
   "cell_type": "code",
   "execution_count": 33,
   "id": "51c1290a-ff58-4f3f-930d-d43554f9105f",
   "metadata": {},
   "outputs": [
    {
     "ename": "TypeError",
     "evalue": "'str' object does not support item assignment",
     "output_type": "error",
     "traceback": [
      "\u001b[0;31m---------------------------------------------------------------------------\u001b[0m",
      "\u001b[0;31mTypeError\u001b[0m                                 Traceback (most recent call last)",
      "Cell \u001b[0;32mIn [33], line 1\u001b[0m\n\u001b[0;32m----> 1\u001b[0m name[\u001b[38;5;241m2\u001b[39m] \u001b[38;5;241m=\u001b[39m \u001b[38;5;124m'\u001b[39m\u001b[38;5;124mo\u001b[39m\u001b[38;5;124m'\u001b[39m\n",
      "\u001b[0;31mTypeError\u001b[0m: 'str' object does not support item assignment"
     ]
    }
   ],
   "source": [
    "name[2] = 'o' # We try to change the character in 3rd index"
   ]
  },
  {
   "cell_type": "code",
   "execution_count": 32,
   "id": "f01ad5aa-6090-4304-b1f2-a8666f88bf0a",
   "metadata": {},
   "outputs": [],
   "source": [
    "# Not achievable\n",
    "# Lists are immutable"
   ]
  },
  {
   "cell_type": "code",
   "execution_count": 34,
   "id": "4694e9bc-f9a7-4b86-91ba-7ea4ec60320c",
   "metadata": {},
   "outputs": [],
   "source": [
    "name2 = name[0:2] + \"o\" + name[3:]"
   ]
  },
  {
   "cell_type": "code",
   "execution_count": 35,
   "id": "ae9830f6-375c-46d8-83db-65973efa8d8c",
   "metadata": {},
   "outputs": [
    {
     "data": {
      "text/plain": [
       "'ALo Hosseini'"
      ]
     },
     "execution_count": 35,
     "metadata": {},
     "output_type": "execute_result"
    }
   ],
   "source": [
    "name2"
   ]
  },
  {
   "cell_type": "code",
   "execution_count": 36,
   "id": "9619d655-fee8-4d3d-91ac-4f99176fb5b5",
   "metadata": {},
   "outputs": [],
   "source": [
    "# Thats how it can be changed"
   ]
  },
  {
   "cell_type": "code",
   "execution_count": 37,
   "id": "64f24eb8-a447-45c1-b38b-3bc8ad4000ce",
   "metadata": {},
   "outputs": [
    {
     "data": {
      "text/plain": [
       "'ALo HosseiniALo HosseiniALo Hosseini'"
      ]
     },
     "execution_count": 37,
     "metadata": {},
     "output_type": "execute_result"
    }
   ],
   "source": [
    "name2 *3"
   ]
  },
  {
   "cell_type": "code",
   "execution_count": 38,
   "id": "4f55f400-c8f0-460e-8b49-939a342e000a",
   "metadata": {},
   "outputs": [
    {
     "data": {
      "text/plain": [
       "''"
      ]
     },
     "execution_count": 38,
     "metadata": {},
     "output_type": "execute_result"
    }
   ],
   "source": [
    "name2 *-3"
   ]
  },
  {
   "cell_type": "code",
   "execution_count": 39,
   "id": "589a93e6-e2de-4e4d-bc45-c3791a64f77f",
   "metadata": {},
   "outputs": [
    {
     "data": {
      "text/plain": [
       "'Hossei'"
      ]
     },
     "execution_count": 39,
     "metadata": {},
     "output_type": "execute_result"
    }
   ],
   "source": [
    "name2[4:-2]"
   ]
  },
  {
   "cell_type": "code",
   "execution_count": 41,
   "id": "2b009c4e-a648-431f-a639-f5ab29245f1c",
   "metadata": {},
   "outputs": [
    {
     "data": {
      "text/plain": [
       "''"
      ]
     },
     "execution_count": 41,
     "metadata": {},
     "output_type": "execute_result"
    }
   ],
   "source": [
    "name2[4:2] #empty"
   ]
  },
  {
   "cell_type": "code",
   "execution_count": 1,
   "id": "3beb7d45-18b5-4a86-8516-d01cd49f5ea1",
   "metadata": {},
   "outputs": [],
   "source": [
    "x = \"ali\"\n"
   ]
  },
  {
   "cell_type": "code",
   "execution_count": 2,
   "id": "d0ec5cbd-fa62-4d91-a1a0-c03dffea9320",
   "metadata": {},
   "outputs": [
    {
     "data": {
      "text/plain": [
       "'ali'"
      ]
     },
     "execution_count": 2,
     "metadata": {},
     "output_type": "execute_result"
    }
   ],
   "source": [
    "x[:]\n"
   ]
  },
  {
   "cell_type": "code",
   "execution_count": 3,
   "id": "8cb8d13a-3dc3-4db8-b13d-079ae2eeb7ca",
   "metadata": {},
   "outputs": [
    {
     "data": {
      "text/plain": [
       "True"
      ]
     },
     "execution_count": 3,
     "metadata": {},
     "output_type": "execute_result"
    }
   ],
   "source": [
    "x[:] is x"
   ]
  },
  {
   "cell_type": "code",
   "execution_count": 4,
   "id": "1a7fd9bc-a055-45b2-8e7d-1124b6d97333",
   "metadata": {},
   "outputs": [],
   "source": [
    "## BuT for Lists, story is different"
   ]
  },
  {
   "cell_type": "code",
   "execution_count": 5,
   "id": "6f730165-bb61-458c-90b0-1aeb2863aa05",
   "metadata": {},
   "outputs": [],
   "source": [
    "x = [ 1,2,\"ali\"]"
   ]
  },
  {
   "cell_type": "code",
   "execution_count": 6,
   "id": "0996e05b-f251-42f7-8173-30b014899945",
   "metadata": {},
   "outputs": [
    {
     "data": {
      "text/plain": [
       "False"
      ]
     },
     "execution_count": 6,
     "metadata": {},
     "output_type": "execute_result"
    }
   ],
   "source": [
    "x[:] is x"
   ]
  },
  {
   "cell_type": "code",
   "execution_count": 7,
   "id": "e076919b-9624-46bb-a2e1-213259c12851",
   "metadata": {},
   "outputs": [],
   "source": [
    "# String is immutable but List is Mutable"
   ]
  },
  {
   "cell_type": "markdown",
   "id": "2e5eef40-e6f9-4515-8c70-1d023f52e005",
   "metadata": {},
   "source": [
    "## Lists can be Nested"
   ]
  },
  {
   "cell_type": "code",
   "execution_count": 8,
   "id": "855ee16b-6bcf-44a6-a4c6-06d312c8526c",
   "metadata": {},
   "outputs": [],
   "source": [
    "x = [\"ali\", [1,2,3] , [[2+3j],4.5,1/3,0], '>']"
   ]
  },
  {
   "cell_type": "code",
   "execution_count": 9,
   "id": "a4143f2d-dd24-4923-9f51-effdedf4d0a4",
   "metadata": {},
   "outputs": [
    {
     "data": {
      "text/plain": [
       "['ali', [1, 2, 3], [[(2+3j)], 4.5, 0.3333333333333333, 0], '>']"
      ]
     },
     "execution_count": 9,
     "metadata": {},
     "output_type": "execute_result"
    }
   ],
   "source": [
    "x"
   ]
  },
  {
   "cell_type": "code",
   "execution_count": 10,
   "id": "33800fca-db77-4c50-86b6-6c273396aa46",
   "metadata": {},
   "outputs": [
    {
     "data": {
      "text/plain": [
       "4"
      ]
     },
     "execution_count": 10,
     "metadata": {},
     "output_type": "execute_result"
    }
   ],
   "source": [
    "len(x)\n"
   ]
  },
  {
   "cell_type": "code",
   "execution_count": 11,
   "id": "59dc1626-808e-4aa8-991d-8338b4d7a184",
   "metadata": {},
   "outputs": [
    {
     "data": {
      "text/plain": [
       "['ali', [1, 2, 3], [[(2+3j)], 4.5, 0.3333333333333333, 0], '>']"
      ]
     },
     "execution_count": 11,
     "metadata": {},
     "output_type": "execute_result"
    }
   ],
   "source": [
    "x[:100]"
   ]
  },
  {
   "cell_type": "code",
   "execution_count": 12,
   "id": "f0260dc4-48e7-4aae-8403-268ab7017c57",
   "metadata": {},
   "outputs": [
    {
     "data": {
      "text/plain": [
       "True"
      ]
     },
     "execution_count": 12,
     "metadata": {},
     "output_type": "execute_result"
    }
   ],
   "source": [
    "x == x"
   ]
  },
  {
   "cell_type": "code",
   "execution_count": 13,
   "id": "503f3d2a-2828-41ba-815b-2c0e9b887c7a",
   "metadata": {},
   "outputs": [
    {
     "data": {
      "text/plain": [
       "True"
      ]
     },
     "execution_count": 13,
     "metadata": {},
     "output_type": "execute_result"
    }
   ],
   "source": [
    "x is x"
   ]
  },
  {
   "cell_type": "code",
   "execution_count": 14,
   "id": "116b32ef-9ed3-424b-a718-8b0c4d91514f",
   "metadata": {},
   "outputs": [
    {
     "data": {
      "text/plain": [
       "3"
      ]
     },
     "execution_count": 14,
     "metadata": {},
     "output_type": "execute_result"
    }
   ],
   "source": [
    "x[1][2]"
   ]
  },
  {
   "cell_type": "code",
   "execution_count": 17,
   "id": "de4f1d12-53d1-4772-a301-ca63ac66a430",
   "metadata": {},
   "outputs": [],
   "source": [
    "a = x[2][2]"
   ]
  },
  {
   "cell_type": "code",
   "execution_count": 19,
   "id": "14e2c3aa-3698-4143-ba63-758eb0f531e4",
   "metadata": {},
   "outputs": [
    {
     "name": "stdout",
     "output_type": "stream",
     "text": [
      "0.3333333333333333\n"
     ]
    }
   ],
   "source": [
    "#len(a)\n",
    "print(a)"
   ]
  },
  {
   "cell_type": "markdown",
   "id": "46022415-b0d7-4c1a-9033-735a5ea62acb",
   "metadata": {},
   "source": [
    "### Lists are Mutable\n",
    "### Strings are Immutable"
   ]
  },
  {
   "cell_type": "code",
   "execution_count": 1,
   "id": "005f2e64-618a-4db1-9e0c-7ea8d90e7649",
   "metadata": {},
   "outputs": [],
   "source": [
    "a = \"ALI\"\n"
   ]
  },
  {
   "cell_type": "code",
   "execution_count": 9,
   "id": "294ee418-8626-4ce6-9d77-ffb667cc48b1",
   "metadata": {},
   "outputs": [
    {
     "ename": "NameError",
     "evalue": "name 'b' is not defined",
     "output_type": "error",
     "traceback": [
      "\u001b[0;31m---------------------------------------------------------------------------\u001b[0m",
      "\u001b[0;31mNameError\u001b[0m                                 Traceback (most recent call last)",
      "Cell \u001b[0;32mIn [9], line 1\u001b[0m\n\u001b[0;32m----> 1\u001b[0m a[\u001b[38;5;241m0\u001b[39m] \u001b[38;5;241m=\u001b[39m \u001b[43mb\u001b[49m\n",
      "\u001b[0;31mNameError\u001b[0m: name 'b' is not defined"
     ]
    }
   ],
   "source": [
    "a[0] = b #Immutable"
   ]
  },
  {
   "cell_type": "code",
   "execution_count": 26,
   "id": "b7fb16d7-7f49-4fd2-ade5-375b9155989b",
   "metadata": {},
   "outputs": [],
   "source": [
    "x = [1,\"a\",1 + 2j]"
   ]
  },
  {
   "cell_type": "code",
   "execution_count": 15,
   "id": "c249bc85-f80a-42e2-ae49-deb08f351f7b",
   "metadata": {},
   "outputs": [
    {
     "data": {
      "text/plain": [
       "140125474641280"
      ]
     },
     "execution_count": 15,
     "metadata": {},
     "output_type": "execute_result"
    }
   ],
   "source": [
    "id(x)"
   ]
  },
  {
   "cell_type": "code",
   "execution_count": 16,
   "id": "3fc6ac35-996e-4f7d-8490-1e731dee76c1",
   "metadata": {},
   "outputs": [
    {
     "name": "stdout",
     "output_type": "stream",
     "text": [
      "[1, 'ali', (1+2j)]\n"
     ]
    }
   ],
   "source": [
    "x[1] = \"ali\"\n",
    "print(x) #Mutable"
   ]
  },
  {
   "cell_type": "code",
   "execution_count": 17,
   "id": "f011ff1a-0dd8-45ff-a064-1a861f8e61cf",
   "metadata": {},
   "outputs": [
    {
     "data": {
      "text/plain": [
       "140125474641280"
      ]
     },
     "execution_count": 17,
     "metadata": {},
     "output_type": "execute_result"
    }
   ],
   "source": [
    "id(x)"
   ]
  },
  {
   "cell_type": "code",
   "execution_count": 18,
   "id": "bdf06efa-b173-43d6-acf0-a7ae895dc98d",
   "metadata": {},
   "outputs": [],
   "source": [
    "# We use { del x[i] } to delete any element of a List"
   ]
  },
  {
   "cell_type": "markdown",
   "id": "dbfb5b4c-3e5f-43f2-968d-34c4ba0cde33",
   "metadata": {},
   "source": [
    "## Append Only adds one element\n",
    "### with this structure : List_Name.append(....)"
   ]
  },
  {
   "cell_type": "code",
   "execution_count": 27,
   "id": "503fe7be-9eb0-4640-b583-7e2c0bdfafa3",
   "metadata": {},
   "outputs": [],
   "source": [
    "x.append([1,\"reza\"])"
   ]
  },
  {
   "cell_type": "code",
   "execution_count": 31,
   "id": "e093cb22-cdd0-4287-aecf-d355dff8fbb6",
   "metadata": {},
   "outputs": [
    {
     "name": "stdout",
     "output_type": "stream",
     "text": [
      "[1, 'a', (1+2j), [1, 'reza']]\n",
      "4\n"
     ]
    }
   ],
   "source": [
    "print(x)\n",
    "print(len(x))"
   ]
  },
  {
   "cell_type": "code",
   "execution_count": 32,
   "id": "ff010ba1-217e-471f-abc0-3f69ca53da07",
   "metadata": {},
   "outputs": [],
   "source": [
    "### BUT"
   ]
  },
  {
   "cell_type": "code",
   "execution_count": 33,
   "id": "7e01de98-6fc9-47f1-bf02-8f533afe3b6f",
   "metadata": {},
   "outputs": [],
   "source": [
    "x = [1,\"a\",1 + 2j]"
   ]
  },
  {
   "cell_type": "code",
   "execution_count": 34,
   "id": "0a4e6d0d-f7fb-4e1b-a54f-7a5a009027b6",
   "metadata": {},
   "outputs": [],
   "source": [
    "x = x + [1,\"reza\"]"
   ]
  },
  {
   "cell_type": "code",
   "execution_count": 35,
   "id": "9bfc8087-add0-477f-9516-15f36b6ac4c4",
   "metadata": {},
   "outputs": [
    {
     "data": {
      "text/plain": [
       "[1, 'a', (1+2j), 1, 'reza']"
      ]
     },
     "execution_count": 35,
     "metadata": {},
     "output_type": "execute_result"
    }
   ],
   "source": [
    "x "
   ]
  },
  {
   "cell_type": "code",
   "execution_count": 36,
   "id": "7e067dcb-0f8e-46b5-9eea-873dcb1c5468",
   "metadata": {},
   "outputs": [
    {
     "data": {
      "text/plain": [
       "5"
      ]
     },
     "execution_count": 36,
     "metadata": {},
     "output_type": "execute_result"
    }
   ],
   "source": [
    "len(x)"
   ]
  },
  {
   "cell_type": "markdown",
   "id": "55622b17-85a0-46c4-a61d-df6ed4bf5176",
   "metadata": {},
   "source": [
    "## += is different from = +\n",
    "#### id doesn`t change in +="
   ]
  },
  {
   "cell_type": "markdown",
   "id": "cad2ce38-a374-4bad-8831-a77d8f2c2ece",
   "metadata": {},
   "source": [
    "# Tuples"
   ]
  },
  {
   "cell_type": "code",
   "execution_count": 37,
   "id": "30acaf3f-2827-458b-8be0-b291259a18ad",
   "metadata": {},
   "outputs": [],
   "source": [
    "my_tuple = (1,\"ali\", 2 + 3j , \"!!\")"
   ]
  },
  {
   "cell_type": "code",
   "execution_count": 38,
   "id": "b71ad9cf-4900-4697-8f95-d81ff7f6c72f",
   "metadata": {},
   "outputs": [
    {
     "data": {
      "text/plain": [
       "(1, 'ali', (2+3j), '!!')"
      ]
     },
     "execution_count": 38,
     "metadata": {},
     "output_type": "execute_result"
    }
   ],
   "source": [
    "my_tuple"
   ]
  },
  {
   "cell_type": "code",
   "execution_count": 39,
   "id": "dc3ada84-8d74-4221-9e0f-9bc17fd769f9",
   "metadata": {},
   "outputs": [],
   "source": [
    "# TUples are immutable"
   ]
  },
  {
   "cell_type": "code",
   "execution_count": 46,
   "id": "a2e0fa72-94b6-40a0-954c-3ccda2db27ab",
   "metadata": {},
   "outputs": [],
   "source": [
    "t = tuple() # Zero-element Tuple"
   ]
  },
  {
   "cell_type": "code",
   "execution_count": 47,
   "id": "045ef67c-36dc-4b6a-b58c-775eead10ad4",
   "metadata": {},
   "outputs": [
    {
     "data": {
      "text/plain": [
       "()"
      ]
     },
     "execution_count": 47,
     "metadata": {},
     "output_type": "execute_result"
    }
   ],
   "source": [
    "t"
   ]
  },
  {
   "cell_type": "code",
   "execution_count": 48,
   "id": "a5c15b56-db2e-4dec-89c3-36ebe5f1d090",
   "metadata": {},
   "outputs": [
    {
     "data": {
      "text/plain": [
       "tuple"
      ]
     },
     "execution_count": 48,
     "metadata": {},
     "output_type": "execute_result"
    }
   ],
   "source": [
    "type(t)"
   ]
  },
  {
   "cell_type": "code",
   "execution_count": 49,
   "id": "a8d1089e-e9c8-4a7d-8133-6f5e28e6f482",
   "metadata": {},
   "outputs": [],
   "source": [
    "t = (1,)"
   ]
  },
  {
   "cell_type": "code",
   "execution_count": 50,
   "id": "1694b703-983f-40f7-88eb-264c82ab0534",
   "metadata": {},
   "outputs": [
    {
     "data": {
      "text/plain": [
       "tuple"
      ]
     },
     "execution_count": 50,
     "metadata": {},
     "output_type": "execute_result"
    }
   ],
   "source": [
    "type(t)"
   ]
  },
  {
   "cell_type": "code",
   "execution_count": 51,
   "id": "c1732eaf-4439-4af0-b63f-5e1d9f06f440",
   "metadata": {},
   "outputs": [
    {
     "data": {
      "text/plain": [
       "[1, 2, 3]"
      ]
     },
     "execution_count": 51,
     "metadata": {},
     "output_type": "execute_result"
    }
   ],
   "source": [
    "list([1,2,3]) #Built in functions for changing data type"
   ]
  },
  {
   "cell_type": "code",
   "execution_count": 54,
   "id": "2b8311f9-d855-4ad6-9b64-11e7901091ec",
   "metadata": {},
   "outputs": [
    {
     "data": {
      "text/plain": [
       "('a', 'l', 'i', 's')"
      ]
     },
     "execution_count": 54,
     "metadata": {},
     "output_type": "execute_result"
    }
   ],
   "source": [
    "tuple(\"alis\")\n",
    " #Built in functions for changing data type"
   ]
  },
  {
   "cell_type": "code",
   "execution_count": 55,
   "id": "afee646e-62da-47c8-b960-2413196a8ccb",
   "metadata": {},
   "outputs": [
    {
     "data": {
      "text/plain": [
       "['A', 'L', 'I', 's', 's', 's', 's']"
      ]
     },
     "execution_count": 55,
     "metadata": {},
     "output_type": "execute_result"
    }
   ],
   "source": [
    "list(\"ALIssss\")"
   ]
  },
  {
   "cell_type": "code",
   "execution_count": 56,
   "id": "63e3d220-a493-4152-8867-964b623898ec",
   "metadata": {},
   "outputs": [],
   "source": [
    "x, y = 2, 3"
   ]
  },
  {
   "cell_type": "code",
   "execution_count": 57,
   "id": "d7dd54cd-9d1d-40d2-b342-c20de2f12d9e",
   "metadata": {},
   "outputs": [
    {
     "data": {
      "text/plain": [
       "(2, 3)"
      ]
     },
     "execution_count": 57,
     "metadata": {},
     "output_type": "execute_result"
    }
   ],
   "source": [
    "x, y"
   ]
  },
  {
   "cell_type": "markdown",
   "id": "47976bbe-8263-4dfa-8132-d60ea1aaa9ab",
   "metadata": {},
   "source": [
    "## Packing"
   ]
  },
  {
   "cell_type": "code",
   "execution_count": 1,
   "id": "b6c52896-2dd6-4a21-9669-31e08023defe",
   "metadata": {},
   "outputs": [],
   "source": [
    "t = (\"Ali\", \"Reza\", \"Niloufar\", \"Sara\")"
   ]
  },
  {
   "cell_type": "code",
   "execution_count": 62,
   "id": "18bf97e7-52f2-4462-9fc8-59f21fc1caf5",
   "metadata": {},
   "outputs": [],
   "source": [
    "n1, n2, n3, n4 = t"
   ]
  },
  {
   "cell_type": "code",
   "execution_count": 63,
   "id": "462be6a1-b52a-4cee-9ae0-905d82310b3f",
   "metadata": {},
   "outputs": [
    {
     "name": "stdout",
     "output_type": "stream",
     "text": [
      "Ali\n",
      "Reza\n",
      "Niloufar\n",
      "Sara\n"
     ]
    }
   ],
   "source": [
    "print(n1)\n",
    "print(n2)\n",
    "print(n3)\n",
    "print(n4)"
   ]
  },
  {
   "cell_type": "code",
   "execution_count": 68,
   "id": "af2c7a21-068e-42dc-8332-92606be1fdad",
   "metadata": {},
   "outputs": [],
   "source": [
    "n1, *x, n4 = t #In case we dont wanna use all of names"
   ]
  },
  {
   "cell_type": "code",
   "execution_count": 69,
   "id": "21afdb6b-7b33-45c1-8740-4f052a486bef",
   "metadata": {},
   "outputs": [
    {
     "data": {
      "text/plain": [
       "'Ali'"
      ]
     },
     "execution_count": 69,
     "metadata": {},
     "output_type": "execute_result"
    }
   ],
   "source": [
    "n1"
   ]
  },
  {
   "cell_type": "code",
   "execution_count": 70,
   "id": "7f8466eb-7b9b-4bdf-8130-c0a9b16c5c6d",
   "metadata": {},
   "outputs": [
    {
     "data": {
      "text/plain": [
       "['Reza', 'Niloufar']"
      ]
     },
     "execution_count": 70,
     "metadata": {},
     "output_type": "execute_result"
    }
   ],
   "source": [
    "x"
   ]
  },
  {
   "cell_type": "code",
   "execution_count": 71,
   "id": "b532b8bc-cbbd-4dc6-8938-fb1eb19a5e82",
   "metadata": {},
   "outputs": [
    {
     "data": {
      "text/plain": [
       "'Sara'"
      ]
     },
     "execution_count": 71,
     "metadata": {},
     "output_type": "execute_result"
    }
   ],
   "source": [
    "n4"
   ]
  },
  {
   "cell_type": "code",
   "execution_count": 74,
   "id": "0eee47c0-1e87-4782-814b-6183c6f46c66",
   "metadata": {},
   "outputs": [],
   "source": [
    "import sys\n",
    "x = sys.getsizeof(tuple())\n",
    "b = sys.getsizeof(list())"
   ]
  },
  {
   "cell_type": "code",
   "execution_count": 75,
   "id": "0ce048c3-70bd-480c-8d0f-4baaf3af4fe4",
   "metadata": {},
   "outputs": [
    {
     "data": {
      "text/plain": [
       "40"
      ]
     },
     "execution_count": 75,
     "metadata": {},
     "output_type": "execute_result"
    }
   ],
   "source": [
    "x"
   ]
  },
  {
   "cell_type": "code",
   "execution_count": 76,
   "id": "94debe10-c668-4d9b-b511-59b761ec74b8",
   "metadata": {},
   "outputs": [
    {
     "data": {
      "text/plain": [
       "56"
      ]
     },
     "execution_count": 76,
     "metadata": {},
     "output_type": "execute_result"
    }
   ],
   "source": [
    "b"
   ]
  },
  {
   "cell_type": "code",
   "execution_count": 77,
   "id": "ef85573c-32a8-477b-a8d5-1383df0d4909",
   "metadata": {},
   "outputs": [],
   "source": [
    "# TUples need less space to store in bytes"
   ]
  },
  {
   "cell_type": "code",
   "execution_count": 82,
   "id": "e0007f9e-6679-483b-9c17-3a18d12cce7c",
   "metadata": {},
   "outputs": [],
   "source": [
    "a,b = 3,4 #Changing place"
   ]
  },
  {
   "cell_type": "code",
   "execution_count": 83,
   "id": "748c875d-70b6-41b9-b09e-511f5dada4af",
   "metadata": {},
   "outputs": [],
   "source": [
    "a, b = b, a"
   ]
  },
  {
   "cell_type": "code",
   "execution_count": 84,
   "id": "204076b2-5962-4fdf-bb44-d0ce0260abf4",
   "metadata": {},
   "outputs": [
    {
     "data": {
      "text/plain": [
       "4"
      ]
     },
     "execution_count": 84,
     "metadata": {},
     "output_type": "execute_result"
    }
   ],
   "source": [
    "a"
   ]
  },
  {
   "cell_type": "code",
   "execution_count": 85,
   "id": "97437a0b-9136-4894-912d-27804a909704",
   "metadata": {},
   "outputs": [
    {
     "data": {
      "text/plain": [
       "3"
      ]
     },
     "execution_count": 85,
     "metadata": {},
     "output_type": "execute_result"
    }
   ],
   "source": [
    "b"
   ]
  },
  {
   "cell_type": "markdown",
   "id": "f3694ca6-37fc-4c13-939b-5f28d829f179",
   "metadata": {},
   "source": [
    "## All of these can be done on Lists too"
   ]
  },
  {
   "cell_type": "code",
   "execution_count": 2,
   "id": "12dc0c65-2791-4544-889c-17fd9f62935e",
   "metadata": {},
   "outputs": [
    {
     "data": {
      "text/plain": [
       "['__add__',\n",
       " '__class__',\n",
       " '__class_getitem__',\n",
       " '__contains__',\n",
       " '__delattr__',\n",
       " '__dir__',\n",
       " '__doc__',\n",
       " '__eq__',\n",
       " '__format__',\n",
       " '__ge__',\n",
       " '__getattribute__',\n",
       " '__getitem__',\n",
       " '__getnewargs__',\n",
       " '__gt__',\n",
       " '__hash__',\n",
       " '__init__',\n",
       " '__init_subclass__',\n",
       " '__iter__',\n",
       " '__le__',\n",
       " '__len__',\n",
       " '__lt__',\n",
       " '__mul__',\n",
       " '__ne__',\n",
       " '__new__',\n",
       " '__reduce__',\n",
       " '__reduce_ex__',\n",
       " '__repr__',\n",
       " '__rmul__',\n",
       " '__setattr__',\n",
       " '__sizeof__',\n",
       " '__str__',\n",
       " '__subclasshook__',\n",
       " 'count',\n",
       " 'index']"
      ]
     },
     "execution_count": 2,
     "metadata": {},
     "output_type": "execute_result"
    }
   ],
   "source": [
    "dir(t)"
   ]
  },
  {
   "cell_type": "code",
   "execution_count": 3,
   "id": "cb1eab09-2733-430e-bd2c-be9f2d8499c5",
   "metadata": {},
   "outputs": [
    {
     "ename": "AttributeError",
     "evalue": "'tuple' object has no attribute 'hash'",
     "output_type": "error",
     "traceback": [
      "\u001b[0;31m---------------------------------------------------------------------------\u001b[0m",
      "\u001b[0;31mAttributeError\u001b[0m                            Traceback (most recent call last)",
      "Cell \u001b[0;32mIn [3], line 1\u001b[0m\n\u001b[0;32m----> 1\u001b[0m \u001b[43mt\u001b[49m\u001b[38;5;241;43m.\u001b[39;49m\u001b[43mhash\u001b[49m\n",
      "\u001b[0;31mAttributeError\u001b[0m: 'tuple' object has no attribute 'hash'"
     ]
    }
   ],
   "source": [
    "t.hash"
   ]
  },
  {
   "cell_type": "code",
   "execution_count": 4,
   "id": "a8030d01-e688-4bdb-abb8-839e2ba471f4",
   "metadata": {},
   "outputs": [
    {
     "ename": "NameError",
     "evalue": "name 'index' is not defined",
     "output_type": "error",
     "traceback": [
      "\u001b[0;31m---------------------------------------------------------------------------\u001b[0m",
      "\u001b[0;31mNameError\u001b[0m                                 Traceback (most recent call last)",
      "Cell \u001b[0;32mIn [4], line 1\u001b[0m\n\u001b[0;32m----> 1\u001b[0m \u001b[43mindex\u001b[49m(t)\n",
      "\u001b[0;31mNameError\u001b[0m: name 'index' is not defined"
     ]
    }
   ],
   "source": [
    "index(t)"
   ]
  },
  {
   "cell_type": "code",
   "execution_count": 5,
   "id": "c97b0edc-b932-4fe0-aa6e-e4dc9b190477",
   "metadata": {},
   "outputs": [
    {
     "ename": "AttributeError",
     "evalue": "'tuple' object has no attribute 'reservse'",
     "output_type": "error",
     "traceback": [
      "\u001b[0;31m---------------------------------------------------------------------------\u001b[0m",
      "\u001b[0;31mAttributeError\u001b[0m                            Traceback (most recent call last)",
      "Cell \u001b[0;32mIn [5], line 1\u001b[0m\n\u001b[0;32m----> 1\u001b[0m \u001b[43mt\u001b[49m\u001b[38;5;241;43m.\u001b[39;49m\u001b[43mreservse\u001b[49m\n",
      "\u001b[0;31mAttributeError\u001b[0m: 'tuple' object has no attribute 'reservse'"
     ]
    }
   ],
   "source": [
    "t.reservse"
   ]
  },
  {
   "cell_type": "code",
   "execution_count": 6,
   "id": "e4c1a5b9-11eb-4fd4-8c50-0e50875690a6",
   "metadata": {},
   "outputs": [
    {
     "ename": "AttributeError",
     "evalue": "'tuple' object has no attribute 'reverse'",
     "output_type": "error",
     "traceback": [
      "\u001b[0;31m---------------------------------------------------------------------------\u001b[0m",
      "\u001b[0;31mAttributeError\u001b[0m                            Traceback (most recent call last)",
      "Cell \u001b[0;32mIn [6], line 1\u001b[0m\n\u001b[0;32m----> 1\u001b[0m \u001b[43mt\u001b[49m\u001b[38;5;241;43m.\u001b[39;49m\u001b[43mreverse\u001b[49m\n",
      "\u001b[0;31mAttributeError\u001b[0m: 'tuple' object has no attribute 'reverse'"
     ]
    }
   ],
   "source": [
    "t.reverse"
   ]
  },
  {
   "cell_type": "markdown",
   "id": "6ae28a74-b2ea-4841-8944-02f86f369084",
   "metadata": {},
   "source": [
    "## Copying of Dataset"
   ]
  },
  {
   "cell_type": "code",
   "execution_count": 7,
   "id": "8ed600a2-32b4-465b-81da-c38d48b14356",
   "metadata": {},
   "outputs": [],
   "source": [
    "x = [1,2,3]"
   ]
  },
  {
   "cell_type": "code",
   "execution_count": 9,
   "id": "d0ad77c5-0dab-4982-a360-719ef7e00cee",
   "metadata": {},
   "outputs": [],
   "source": [
    "y1 = x #refrencing"
   ]
  },
  {
   "cell_type": "code",
   "execution_count": 10,
   "id": "a43998ee-0eae-41ff-9f19-b389ff9bb2b2",
   "metadata": {},
   "outputs": [],
   "source": [
    "y2 = x[:] #Copying"
   ]
  },
  {
   "cell_type": "code",
   "execution_count": 11,
   "id": "94fcf628-210f-446f-abb3-4abaafd782a8",
   "metadata": {},
   "outputs": [],
   "source": [
    "y1[0] = 99.99"
   ]
  },
  {
   "cell_type": "code",
   "execution_count": 15,
   "id": "e50f56a7-2f44-41d7-8e33-dff28ebc4f1d",
   "metadata": {},
   "outputs": [
    {
     "data": {
      "text/plain": [
       "[99.99, 2, 3]"
      ]
     },
     "execution_count": 15,
     "metadata": {},
     "output_type": "execute_result"
    }
   ],
   "source": [
    "x #Our source data has been ruined"
   ]
  },
  {
   "cell_type": "code",
   "execution_count": 16,
   "id": "e07d4a10-816e-4bd9-80db-25718c5dff03",
   "metadata": {},
   "outputs": [
    {
     "data": {
      "text/plain": [
       "[99.99, 2, 3]"
      ]
     },
     "execution_count": 16,
     "metadata": {},
     "output_type": "execute_result"
    }
   ],
   "source": [
    "y1"
   ]
  },
  {
   "cell_type": "code",
   "execution_count": 17,
   "id": "f2ebc59b-3f58-43c9-8089-23b7c177b9df",
   "metadata": {},
   "outputs": [],
   "source": [
    "x = [1,2,3]"
   ]
  },
  {
   "cell_type": "code",
   "execution_count": 18,
   "id": "d7094281-30fe-4f25-ab9e-86f9212fb12e",
   "metadata": {},
   "outputs": [
    {
     "data": {
      "text/plain": [
       "[1, 2, 3]"
      ]
     },
     "execution_count": 18,
     "metadata": {},
     "output_type": "execute_result"
    }
   ],
   "source": [
    "y2"
   ]
  },
  {
   "cell_type": "code",
   "execution_count": 20,
   "id": "cceae799-7513-4992-9532-0f193070eee6",
   "metadata": {},
   "outputs": [],
   "source": [
    "y2[0] = 99.99"
   ]
  },
  {
   "cell_type": "code",
   "execution_count": 21,
   "id": "15dbc6a9-a2b4-4245-b6a8-0d5e60902120",
   "metadata": {},
   "outputs": [
    {
     "data": {
      "text/plain": [
       "[1, 2, 3]"
      ]
     },
     "execution_count": 21,
     "metadata": {},
     "output_type": "execute_result"
    }
   ],
   "source": [
    "x"
   ]
  },
  {
   "cell_type": "code",
   "execution_count": 22,
   "id": "5287047d-69f7-4d23-9b3d-27e2d1096464",
   "metadata": {},
   "outputs": [
    {
     "data": {
      "text/plain": [
       "[99.99, 2, 3]"
      ]
     },
     "execution_count": 22,
     "metadata": {},
     "output_type": "execute_result"
    }
   ],
   "source": [
    "y2"
   ]
  },
  {
   "cell_type": "code",
   "execution_count": 23,
   "id": "b1a28829-fc79-4823-9cb2-8950cc04bd5d",
   "metadata": {},
   "outputs": [],
   "source": [
    "## Now it has changed"
   ]
  },
  {
   "cell_type": "code",
   "execution_count": 24,
   "id": "7e6b6f4b-725e-493f-850e-cdcd2b518ba7",
   "metadata": {},
   "outputs": [
    {
     "data": {
      "text/plain": [
       "61"
      ]
     },
     "execution_count": 24,
     "metadata": {},
     "output_type": "execute_result"
    }
   ],
   "source": [
    "int(float(\"61.256\"))"
   ]
  },
  {
   "cell_type": "code",
   "execution_count": 27,
   "id": "5f41c3ae-13fa-481e-a287-07928ca57a37",
   "metadata": {},
   "outputs": [],
   "source": [
    "x.insert(2,\"ali\")  #Inserting sth into i.index"
   ]
  },
  {
   "cell_type": "code",
   "execution_count": 28,
   "id": "cd2d0e84-82eb-4b93-9f32-882af12dcd14",
   "metadata": {},
   "outputs": [
    {
     "data": {
      "text/plain": [
       "[1, 2, 'ali', 'ali', 3]"
      ]
     },
     "execution_count": 28,
     "metadata": {},
     "output_type": "execute_result"
    }
   ],
   "source": [
    "x"
   ]
  },
  {
   "cell_type": "markdown",
   "id": "6ac4a5e7-34f8-42de-b6f5-2f6e8a38d011",
   "metadata": {},
   "source": [
    "## Timing Efficiency"
   ]
  },
  {
   "cell_type": "code",
   "execution_count": 29,
   "id": "30985f93-a31d-484a-b0c4-8aa7c57851f1",
   "metadata": {},
   "outputs": [
    {
     "name": "stdout",
     "output_type": "stream",
     "text": [
      "50.6 ns ± 7.35 ns per loop (mean ± std. dev. of 7 runs, 10,000,000 loops each)\n"
     ]
    }
   ],
   "source": [
    "%timeit x.append(9)"
   ]
  },
  {
   "cell_type": "code",
   "execution_count": 31,
   "id": "ce38f3ac-83d9-48fe-b0e4-a0e159938bf1",
   "metadata": {},
   "outputs": [
    {
     "name": "stdout",
     "output_type": "stream",
     "text": [
      "1.02 s ± 11 ms per loop (mean ± std. dev. of 7 runs, 1 loop each)\n"
     ]
    }
   ],
   "source": [
    "%timeit [9] + x"
   ]
  },
  {
   "cell_type": "markdown",
   "id": "bf769c86-7fe8-4db0-8d31-12400257b67b",
   "metadata": {},
   "source": [
    "# Practice"
   ]
  },
  {
   "cell_type": "code",
   "execution_count": 32,
   "id": "b185687c-f3e6-4d4e-b76d-f1991261df0f",
   "metadata": {},
   "outputs": [],
   "source": [
    "persian_poets = 'saadi', 'frough', 'hafez', 'parvin', 'saeb'"
   ]
  },
  {
   "cell_type": "code",
   "execution_count": 6,
   "id": "77043112-9127-4c99-a9d5-62ee433132a1",
   "metadata": {},
   "outputs": [
    {
     "data": {
      "text/plain": [
       "5"
      ]
     },
     "execution_count": 6,
     "metadata": {},
     "output_type": "execute_result"
    }
   ],
   "source": [
    "num_tup = (10, 20, 30, 40, 50)\n",
    "len(num_tup)"
   ]
  },
  {
   "cell_type": "code",
   "execution_count": 26,
   "id": "445c58c0-10ad-4580-8619-e990fef03150",
   "metadata": {},
   "outputs": [
    {
     "name": "stdout",
     "output_type": "stream",
     "text": [
      "[50]\n",
      "[50, 40]\n",
      "[50, 40, 30]\n",
      "[50, 40, 30, 20]\n",
      "[50, 40, 30, 20, 10]\n",
      "[50, 40, 30, 20, 10]\n"
     ]
    }
   ],
   "source": [
    "num_tup = (10, 20, 30, 40, 50)\n",
    "k = len(num_tup)\n",
    "nut = list(num_tup)\n",
    "j = 0\n",
    "x = []\n",
    "for i in range(k):\n",
    "    x.append(nut[(k - 1) - j])\n",
    "    j += 1\n",
    "    print(x)\n",
    "print(x)"
   ]
  },
  {
   "cell_type": "code",
   "execution_count": 27,
   "id": "66937238-7188-4e53-b1e9-2db5c45923af",
   "metadata": {},
   "outputs": [
    {
     "data": {
      "text/plain": [
       "(50, 40, 30, 20, 10)"
      ]
     },
     "execution_count": 27,
     "metadata": {},
     "output_type": "execute_result"
    }
   ],
   "source": [
    "reverse_num_tup = num_tup[::-1]\n",
    "reverse_num_tup "
   ]
  },
  {
   "cell_type": "markdown",
   "id": "89c4b68c-8120-490e-ba71-6b8261d60c9e",
   "metadata": {},
   "source": [
    "## Table of i*j in range(9)"
   ]
  },
  {
   "cell_type": "code",
   "execution_count": 2,
   "id": "1b5e2c3a-8b9c-4cd7-b390-2ce666d51928",
   "metadata": {},
   "outputs": [
    {
     "name": "stdout",
     "output_type": "stream",
     "text": [
      " 0  0  0  0  0  0  0  0  0  0  0 \n",
      " 0  1  2  3  4  5  6  7  8  9 10 \n",
      " 0  2  4  6  8 10 12 14 16 18 20 \n",
      " 0  3  6  9 12 15 18 21 24 27 30 \n",
      " 0  4  8 12 16 20 24 28 32 36 40 \n",
      " 0  5 10 15 20 25 30 35 40 45 50 \n",
      " 0  6 12 18 24 30 36 42 48 54 60 \n",
      " 0  7 14 21 28 35 42 49 56 63 70 \n",
      " 0  8 16 24 32 40 48 56 64 72 80 \n",
      " 0  9 18 27 36 45 54 63 72 81 90 \n",
      " 0 10 20 30 40 50 60 70 80 90 100 \n"
     ]
    }
   ],
   "source": [
    "n = 11\n",
    "for i in range(n):\n",
    "    for j in range(n):\n",
    "        print(f'{i*j:2}', end = ' ')\n",
    "    print()"
   ]
  },
  {
   "cell_type": "code",
   "execution_count": 15,
   "id": "2c85815c-980e-4821-9daf-11f812246348",
   "metadata": {},
   "outputs": [],
   "source": [
    "x = [1,2,3,45,43,44,555,678]"
   ]
  },
  {
   "cell_type": "code",
   "execution_count": 16,
   "id": "c00ca448-d5f0-47dc-8054-e84af4beaedc",
   "metadata": {},
   "outputs": [
    {
     "data": {
      "text/plain": [
       "[1, 2, 3, 45, 43, 44, 555, 678]"
      ]
     },
     "execution_count": 16,
     "metadata": {},
     "output_type": "execute_result"
    }
   ],
   "source": [
    "x"
   ]
  },
  {
   "cell_type": "code",
   "execution_count": 17,
   "id": "2a9d7d29-5d66-4a86-978a-f1fb9b88a6a1",
   "metadata": {},
   "outputs": [],
   "source": [
    "x.sort()"
   ]
  },
  {
   "cell_type": "code",
   "execution_count": 18,
   "id": "12718f1d-9833-4fa9-a895-27900a4fa173",
   "metadata": {},
   "outputs": [
    {
     "name": "stdout",
     "output_type": "stream",
     "text": [
      "None\n"
     ]
    }
   ],
   "source": [
    "print(x.sort())"
   ]
  },
  {
   "cell_type": "code",
   "execution_count": 19,
   "id": "ee9c937c-af73-47bc-abe3-33dd21be120f",
   "metadata": {},
   "outputs": [
    {
     "data": {
      "text/plain": [
       "678"
      ]
     },
     "execution_count": 19,
     "metadata": {},
     "output_type": "execute_result"
    }
   ],
   "source": [
    "max(x)"
   ]
  },
  {
   "cell_type": "code",
   "execution_count": 24,
   "id": "b89c6c96-0eae-41f1-9bed-824e563c5f5f",
   "metadata": {},
   "outputs": [
    {
     "data": {
      "text/plain": [
       "1"
      ]
     },
     "execution_count": 24,
     "metadata": {},
     "output_type": "execute_result"
    }
   ],
   "source": [
    "min(x)"
   ]
  },
  {
   "cell_type": "code",
   "execution_count": 21,
   "id": "ee572252-503e-40eb-a74a-d271f9f00765",
   "metadata": {},
   "outputs": [
    {
     "data": {
      "text/plain": [
       "[1, 2, 3, 43, 44, 45, 555, 678]"
      ]
     },
     "execution_count": 21,
     "metadata": {},
     "output_type": "execute_result"
    }
   ],
   "source": [
    "sorted(x)"
   ]
  },
  {
   "cell_type": "code",
   "execution_count": 22,
   "id": "54949a56-d77d-4b7f-813e-8bc47044168d",
   "metadata": {},
   "outputs": [],
   "source": [
    "y = sorted(x)"
   ]
  },
  {
   "cell_type": "code",
   "execution_count": 23,
   "id": "21d0e710-b835-4ebe-952c-cc68c499a8e8",
   "metadata": {},
   "outputs": [
    {
     "data": {
      "text/plain": [
       "[1, 2, 3, 43, 44, 45, 555, 678]"
      ]
     },
     "execution_count": 23,
     "metadata": {},
     "output_type": "execute_result"
    }
   ],
   "source": [
    "y"
   ]
  },
  {
   "cell_type": "markdown",
   "id": "2d838a9b-b810-4e29-8b03-8204189d2f5d",
   "metadata": {},
   "source": [
    "## Dictionary"
   ]
  },
  {
   "cell_type": "code",
   "execution_count": 18,
   "id": "958e17da-bba5-449e-959c-fa9dc7903eeb",
   "metadata": {},
   "outputs": [],
   "source": [
    "d = {\n",
    "    \"Ali\":19,\n",
    "    \"Emad\" : 20,\n",
    "    \"Negar\": 12.3,\n",
    "}"
   ]
  },
  {
   "cell_type": "code",
   "execution_count": 2,
   "id": "48422301-a902-442c-a32d-f04bd142e747",
   "metadata": {},
   "outputs": [
    {
     "data": {
      "text/plain": [
       "{'Ali': 19, 'Emad': 20, 'Negar': 12.3}"
      ]
     },
     "execution_count": 2,
     "metadata": {},
     "output_type": "execute_result"
    }
   ],
   "source": [
    "d"
   ]
  },
  {
   "cell_type": "code",
   "execution_count": 3,
   "id": "304de6bd-f288-467f-85b6-efd6e1d501b6",
   "metadata": {},
   "outputs": [],
   "source": [
    "d2 = dict([\n",
    "  [\"Ali\",20],\n",
    "  [\"Emad\",19],\n",
    "    \n",
    "])"
   ]
  },
  {
   "cell_type": "code",
   "execution_count": 4,
   "id": "b5128c90-d7c1-41d9-a541-91f7e015b62a",
   "metadata": {},
   "outputs": [
    {
     "data": {
      "text/plain": [
       "{'Ali': 20, 'Emad': 19}"
      ]
     },
     "execution_count": 4,
     "metadata": {},
     "output_type": "execute_result"
    }
   ],
   "source": [
    "d2"
   ]
  },
  {
   "cell_type": "code",
   "execution_count": 5,
   "id": "d917c24f-1bf7-4a33-b24b-83c8e6caf97f",
   "metadata": {},
   "outputs": [
    {
     "data": {
      "text/plain": [
       "dict"
      ]
     },
     "execution_count": 5,
     "metadata": {},
     "output_type": "execute_result"
    }
   ],
   "source": [
    "type(d2)"
   ]
  },
  {
   "cell_type": "code",
   "execution_count": 6,
   "id": "4475fa52-b941-435b-a6da-85f753a495a6",
   "metadata": {},
   "outputs": [],
   "source": [
    "import sys"
   ]
  },
  {
   "cell_type": "code",
   "execution_count": 8,
   "id": "62eb3d1d-6ddb-4bba-8622-777f513be8e7",
   "metadata": {},
   "outputs": [
    {
     "data": {
      "text/plain": [
       "232"
      ]
     },
     "execution_count": 8,
     "metadata": {},
     "output_type": "execute_result"
    }
   ],
   "source": [
    "sys.getsizeof(d)"
   ]
  },
  {
   "cell_type": "code",
   "execution_count": 9,
   "id": "578028f6-00a8-4042-abe4-85706e6415b1",
   "metadata": {},
   "outputs": [
    {
     "ename": "KeyError",
     "evalue": "1",
     "output_type": "error",
     "traceback": [
      "\u001b[0;31m---------------------------------------------------------------------------\u001b[0m",
      "\u001b[0;31mKeyError\u001b[0m                                  Traceback (most recent call last)",
      "Cell \u001b[0;32mIn [9], line 1\u001b[0m\n\u001b[0;32m----> 1\u001b[0m \u001b[43md\u001b[49m\u001b[43m[\u001b[49m\u001b[38;5;241;43m1\u001b[39;49m\u001b[43m]\u001b[49m\n",
      "\u001b[0;31mKeyError\u001b[0m: 1"
     ]
    }
   ],
   "source": [
    "d[1]"
   ]
  },
  {
   "cell_type": "code",
   "execution_count": 10,
   "id": "1d9b3b09-a72b-49e5-b9e7-72e48001d720",
   "metadata": {},
   "outputs": [
    {
     "data": {
      "text/plain": [
       "19"
      ]
     },
     "execution_count": 10,
     "metadata": {},
     "output_type": "execute_result"
    }
   ],
   "source": [
    "d[\"Ali\"]"
   ]
  },
  {
   "cell_type": "code",
   "execution_count": 19,
   "id": "e53e4c6f-fc10-41bc-9a9c-5456d298208a",
   "metadata": {},
   "outputs": [],
   "source": [
    "d[\"Emad\"] = 21  #Mutable\n",
    "del d[\"Negar\"]"
   ]
  },
  {
   "cell_type": "code",
   "execution_count": 20,
   "id": "b4b3feef-0987-4b79-8a05-2634202923c4",
   "metadata": {},
   "outputs": [
    {
     "data": {
      "text/plain": [
       "{'Ali': 19, 'Emad': 21}"
      ]
     },
     "execution_count": 20,
     "metadata": {},
     "output_type": "execute_result"
    }
   ],
   "source": [
    "d"
   ]
  },
  {
   "cell_type": "code",
   "execution_count": 22,
   "id": "94111f3c-2a49-41ab-8e7b-207cf946db03",
   "metadata": {},
   "outputs": [
    {
     "name": "stdout",
     "output_type": "stream",
     "text": [
      "20\n",
      "19\n"
     ]
    }
   ],
   "source": [
    "for i in d2.values():\n",
    "    print(i)"
   ]
  },
  {
   "cell_type": "code",
   "execution_count": 23,
   "id": "26e2adca-fc20-45b9-94b3-71886f54b0b4",
   "metadata": {},
   "outputs": [
    {
     "name": "stdout",
     "output_type": "stream",
     "text": [
      "Ali\n",
      "Emad\n"
     ]
    }
   ],
   "source": [
    "for key in d2:\n",
    "    print(key)"
   ]
  },
  {
   "cell_type": "code",
   "execution_count": 4,
   "id": "24042b4a-12e8-4ac7-8d9f-7e697dfb8215",
   "metadata": {},
   "outputs": [],
   "source": [
    "Ed ={}"
   ]
  },
  {
   "cell_type": "code",
   "execution_count": 13,
   "id": "0e757538-eb36-4207-9608-083c32f81dad",
   "metadata": {},
   "outputs": [],
   "source": [
    "Ed[\"Name\"] = \"SeyedAli\"\n",
    "Ed[\"Last Name\"] = \"Seyedhosseini\"\n",
    "Ed[\"Age\"] = 22\n",
    "Ed[\"Language\"] = \"English C1, Deutsch A2\""
   ]
  },
  {
   "cell_type": "code",
   "execution_count": 14,
   "id": "84fa75c5-4a2e-4e0f-aec9-687b0b727a0e",
   "metadata": {},
   "outputs": [
    {
     "data": {
      "text/plain": [
       "{'Name': 'SeyedAli',\n",
       " 'Age': 22,\n",
       " 'Language': 'English C1, Deutsch A2',\n",
       " 'Date of Birth': 6.6,\n",
       " 'Year of Birth': 2000,\n",
       " 'Last Name': 'Seyedhosseini'}"
      ]
     },
     "execution_count": 14,
     "metadata": {},
     "output_type": "execute_result"
    }
   ],
   "source": [
    "Ed"
   ]
  },
  {
   "cell_type": "code",
   "execution_count": 15,
   "id": "7844d522-f835-43e2-9fa4-33cefb7cee63",
   "metadata": {},
   "outputs": [],
   "source": [
    "Ed[\"Date of Birth\"] = 6.6\n",
    "Ed[\"Year of Birth\"] = 2000"
   ]
  },
  {
   "cell_type": "code",
   "execution_count": 16,
   "id": "2cab9f51-60aa-4b1c-8220-31c619f6ae5b",
   "metadata": {},
   "outputs": [
    {
     "data": {
      "text/plain": [
       "{'Name': 'SeyedAli',\n",
       " 'Age': 22,\n",
       " 'Language': 'English C1, Deutsch A2',\n",
       " 'Date of Birth': 6.6,\n",
       " 'Year of Birth': 2000,\n",
       " 'Last Name': 'Seyedhosseini'}"
      ]
     },
     "execution_count": 16,
     "metadata": {},
     "output_type": "execute_result"
    }
   ],
   "source": [
    "Ed"
   ]
  },
  {
   "cell_type": "code",
   "execution_count": 1,
   "id": "2af857fa-2213-43ba-a978-6bcb08555480",
   "metadata": {},
   "outputs": [],
   "source": [
    "d = {\n",
    "    \"Ali\" : 13.45,\n",
    "    int : \"Reza\",\n",
    "    (1, 2, 3, \"mmd\"): \"3.45&\"\n",
    "} #But Lists are Mutable(unhashable*) therefor can not be used as key "
   ]
  },
  {
   "cell_type": "code",
   "execution_count": 2,
   "id": "d339408f-18ff-41d2-b0bc-8a1b042a0535",
   "metadata": {},
   "outputs": [
    {
     "data": {
      "text/plain": [
       "{'Ali': 13.45, int: 'Reza', (1, 2, 3, 'mmd'): '3.45&'}"
      ]
     },
     "execution_count": 2,
     "metadata": {},
     "output_type": "execute_result"
    }
   ],
   "source": [
    "d"
   ]
  },
  {
   "cell_type": "code",
   "execution_count": 3,
   "id": "dfe2471c-302e-4da2-88a0-f0c8c0570864",
   "metadata": {},
   "outputs": [
    {
     "data": {
      "text/plain": [
       "-4181745201131105453"
      ]
     },
     "execution_count": 3,
     "metadata": {},
     "output_type": "execute_result"
    }
   ],
   "source": [
    "hash('Ali')"
   ]
  },
  {
   "cell_type": "code",
   "execution_count": 4,
   "id": "ef4d8ed7-d0d7-49b8-9a09-8d56c98e1b47",
   "metadata": {},
   "outputs": [
    {
     "data": {
      "text/plain": [
       "-8835882096084692247"
      ]
     },
     "execution_count": 4,
     "metadata": {},
     "output_type": "execute_result"
    }
   ],
   "source": [
    "hash(\"reza\")"
   ]
  },
  {
   "cell_type": "code",
   "execution_count": 5,
   "id": "7420ad64-7dd0-43bf-aee9-6ca76fa56864",
   "metadata": {},
   "outputs": [
    {
     "data": {
      "text/plain": [
       "7920955964463675353"
      ]
     },
     "execution_count": 5,
     "metadata": {},
     "output_type": "execute_result"
    }
   ],
   "source": [
    "hash((1,2,3,\"mmd\"))"
   ]
  },
  {
   "cell_type": "code",
   "execution_count": 6,
   "id": "c1b10c0b-0a80-4251-8e81-7350648b92b9",
   "metadata": {},
   "outputs": [],
   "source": [
    "## Sha-256 is being used in Python"
   ]
  },
  {
   "cell_type": "markdown",
   "id": "0661851b-14c7-4977-a249-7e1f280e0d0d",
   "metadata": {},
   "source": [
    "## Sets"
   ]
  },
  {
   "cell_type": "code",
   "execution_count": 7,
   "id": "eb3cef18-37bc-4504-9040-8211fee5a1b3",
   "metadata": {},
   "outputs": [],
   "source": [
    "s = {1,2,3,4,4,5,5,5,5}"
   ]
  },
  {
   "cell_type": "code",
   "execution_count": 8,
   "id": "66a6f9d5-c007-438f-89eb-d4e144c78c84",
   "metadata": {},
   "outputs": [
    {
     "data": {
      "text/plain": [
       "{1, 2, 3, 4, 5}"
      ]
     },
     "execution_count": 8,
     "metadata": {},
     "output_type": "execute_result"
    }
   ],
   "source": [
    "s"
   ]
  },
  {
   "cell_type": "code",
   "execution_count": 9,
   "id": "ee4138f3-6e20-4240-8e19-5b7fdfa57595",
   "metadata": {},
   "outputs": [
    {
     "data": {
      "text/plain": [
       "set"
      ]
     },
     "execution_count": 9,
     "metadata": {},
     "output_type": "execute_result"
    }
   ],
   "source": [
    "type(s)\n"
   ]
  },
  {
   "cell_type": "code",
   "execution_count": 10,
   "id": "ad230089-0545-46ff-a0d3-05bc0cb9be5e",
   "metadata": {},
   "outputs": [
    {
     "data": {
      "text/plain": [
       "472"
      ]
     },
     "execution_count": 10,
     "metadata": {},
     "output_type": "execute_result"
    }
   ],
   "source": [
    "import sys\n",
    "sys.getsizeof(s)"
   ]
  },
  {
   "cell_type": "code",
   "execution_count": 11,
   "id": "7dd940e0-a115-47bc-a331-af3889d724b0",
   "metadata": {},
   "outputs": [
    {
     "data": {
      "text/plain": [
       "5"
      ]
     },
     "execution_count": 11,
     "metadata": {},
     "output_type": "execute_result"
    }
   ],
   "source": [
    "len(s)"
   ]
  },
  {
   "cell_type": "code",
   "execution_count": 12,
   "id": "15897f61-83a9-4f00-ba4d-550cda07644b",
   "metadata": {},
   "outputs": [
    {
     "name": "stdout",
     "output_type": "stream",
     "text": [
      "1\n",
      "2\n",
      "3\n",
      "4\n",
      "5\n"
     ]
    }
   ],
   "source": [
    "for i in s:\n",
    "    print(i)"
   ]
  },
  {
   "cell_type": "code",
   "execution_count": 15,
   "id": "017c46a5-d5f8-4457-bada-9286411d3bfb",
   "metadata": {},
   "outputs": [],
   "source": [
    "# Empty set\n",
    "s1 = set()"
   ]
  },
  {
   "cell_type": "code",
   "execution_count": 16,
   "id": "fa2dde57-7e2c-4d3d-a0e8-4f299bfb8be9",
   "metadata": {},
   "outputs": [
    {
     "data": {
      "text/plain": [
       "set()"
      ]
     },
     "execution_count": 16,
     "metadata": {},
     "output_type": "execute_result"
    }
   ],
   "source": [
    "s1"
   ]
  },
  {
   "cell_type": "code",
   "execution_count": 18,
   "id": "ab4c71d0-f114-4779-a03b-de2fdbc90a45",
   "metadata": {},
   "outputs": [],
   "source": [
    "s1.add(\"ali\")"
   ]
  },
  {
   "cell_type": "code",
   "execution_count": 20,
   "id": "4b8dc390-7013-4554-b302-0c88463168f6",
   "metadata": {},
   "outputs": [
    {
     "data": {
      "text/plain": [
       "{'ali'}"
      ]
     },
     "execution_count": 20,
     "metadata": {},
     "output_type": "execute_result"
    }
   ],
   "source": [
    "s1\n",
    "#Sets are mutable(unhashable)"
   ]
  },
  {
   "cell_type": "code",
   "execution_count": 21,
   "id": "bd29e41f-c4e0-4b5a-a83e-bf051a6a8a8f",
   "metadata": {},
   "outputs": [],
   "source": [
    "s1.update({1,2,3})"
   ]
  },
  {
   "cell_type": "code",
   "execution_count": 22,
   "id": "f8806e22-5a21-4eed-a8d8-c80fab0d9ac9",
   "metadata": {},
   "outputs": [
    {
     "data": {
      "text/plain": [
       "{1, 2, 3, 'ali'}"
      ]
     },
     "execution_count": 22,
     "metadata": {},
     "output_type": "execute_result"
    }
   ],
   "source": [
    "s1"
   ]
  },
  {
   "cell_type": "code",
   "execution_count": 1,
   "id": "b3017e29-a3d6-4b8e-80c9-29ce0514b0c8",
   "metadata": {},
   "outputs": [],
   "source": [
    "s = set(range(10000))"
   ]
  },
  {
   "cell_type": "code",
   "execution_count": 2,
   "id": "f18e1f83-c6b8-4bd4-95b0-dfe9dcc1aec8",
   "metadata": {},
   "outputs": [],
   "source": [
    "l = list(range(10000))"
   ]
  },
  {
   "cell_type": "code",
   "execution_count": 3,
   "id": "26843427-e809-4de8-aaeb-801928af7020",
   "metadata": {},
   "outputs": [
    {
     "name": "stdout",
     "output_type": "stream",
     "text": [
      "32.4 ns ± 0.802 ns per loop (mean ± std. dev. of 7 runs, 10,000,000 loops each)\n"
     ]
    }
   ],
   "source": [
    "%timeit 500 in s   #O(1)"
   ]
  },
  {
   "cell_type": "code",
   "execution_count": 4,
   "id": "be836810-4602-4e38-a5ed-75b55c8c4120",
   "metadata": {},
   "outputs": [
    {
     "name": "stdout",
     "output_type": "stream",
     "text": [
      "2.37 µs ± 67.6 ns per loop (mean ± std. dev. of 7 runs, 100,000 loops each)\n"
     ]
    }
   ],
   "source": [
    "%timeit 500 in l #O(n)"
   ]
  },
  {
   "cell_type": "code",
   "execution_count": 5,
   "id": "00e60ce8-a24d-4a2b-a911-f463cfdbe31c",
   "metadata": {},
   "outputs": [],
   "source": [
    "## Sets are more efficient than lists"
   ]
  },
  {
   "cell_type": "code",
   "execution_count": 10,
   "id": "a9a25986-48f0-4558-9451-4caf9efd03bb",
   "metadata": {},
   "outputs": [],
   "source": [
    "## Sets and Dictionaries are better for look up operations due to hashablity feature"
   ]
  },
  {
   "cell_type": "code",
   "execution_count": 7,
   "id": "ddc776ff-270f-437a-be4e-ec79e7e93ccc",
   "metadata": {},
   "outputs": [],
   "source": [
    "fs = frozenset([2,3,4,44])"
   ]
  },
  {
   "cell_type": "code",
   "execution_count": 8,
   "id": "237bfede-d057-4b82-a643-2e1110bdccf0",
   "metadata": {},
   "outputs": [
    {
     "data": {
      "text/plain": [
       "frozenset({2, 3, 4, 44})"
      ]
     },
     "execution_count": 8,
     "metadata": {},
     "output_type": "execute_result"
    }
   ],
   "source": [
    "fs"
   ]
  },
  {
   "cell_type": "code",
   "execution_count": 11,
   "id": "9d4eac24-217e-4e06-bae5-c9d6035570f7",
   "metadata": {},
   "outputs": [],
   "source": [
    "#fs is immutable(hashable)"
   ]
  },
  {
   "cell_type": "code",
   "execution_count": 12,
   "id": "56d9f231-119d-4f07-997a-99c31d9af599",
   "metadata": {},
   "outputs": [],
   "source": [
    "d = {\n",
    "    frozenset([1,2,3]) : \"ali\",\n",
    "}"
   ]
  },
  {
   "cell_type": "code",
   "execution_count": 13,
   "id": "00633e87-54dd-4789-80fc-80aed7796a71",
   "metadata": {},
   "outputs": [
    {
     "data": {
      "text/plain": [
       "{frozenset({1, 2, 3}): 'ali'}"
      ]
     },
     "execution_count": 13,
     "metadata": {},
     "output_type": "execute_result"
    }
   ],
   "source": [
    "d"
   ]
  }
 ],
 "metadata": {
  "kernelspec": {
   "display_name": "Python 3 (ipykernel)",
   "language": "python",
   "name": "python3"
  },
  "language_info": {
   "codemirror_mode": {
    "name": "ipython",
    "version": 3
   },
   "file_extension": ".py",
   "mimetype": "text/x-python",
   "name": "python",
   "nbconvert_exporter": "python",
   "pygments_lexer": "ipython3",
   "version": "3.10.8"
  }
 },
 "nbformat": 4,
 "nbformat_minor": 5
}
